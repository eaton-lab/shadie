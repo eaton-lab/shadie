{
 "cells": [
  {
   "cell_type": "markdown",
   "metadata": {},
   "source": [
    "# Running a SLiM3 simulation in `shadie`\n",
    "\n",
    "`shadie`provides a standard Wright-Fisher Model, as well as some alternatives (e.g. the Moran model). "
   ]
  },
  {
   "cell_type": "code",
   "execution_count": 2,
   "metadata": {},
   "outputs": [],
   "source": [
    "import shadie"
   ]
  },
  {
   "cell_type": "markdown",
   "metadata": {},
   "source": [
    "## Running the Wright-Fisher\n",
    "`shadie` runs a Wright-Fisher (WF) model by default, so it is very simple to set up a WF simulation. \n",
    "\n",
    "`shadie` uses context manager to check model parameters before running a simulation. The syntax requires the user to define a model, then _____"
   ]
  },
  {
   "cell_type": "code",
   "execution_count": 17,
   "metadata": {},
   "outputs": [],
   "source": [
    "default_chrom = shadie.chromosome.default()\n",
    "\n",
    "with shadie.Model() as WF_model:\n",
    "    WF_model.initialize(\n",
    "        chromosome=default_chrom, \n",
    "        file_out=\"WF.trees\",\n",
    "    )\n",
    "    WF_model.reproduction.wright_fisher(pop_size=1000)"
   ]
  },
  {
   "cell_type": "markdown",
   "metadata": {},
   "source": [
    "Now, your model exists as the model object you defined, in this case `WF_model`. You can print the model script by running:"
   ]
  },
  {
   "cell_type": "code",
   "execution_count": 18,
   "metadata": {},
   "outputs": [
    {
     "name": "stdout",
     "output_type": "stream",
     "text": [
      "\n",
      "initialize() {\n",
      "\n",
      "  // model type\n",
      "  initializeSLiMModelType(\"nonWF\");\n",
      "\n",
      "  // config\n",
      "  initializeRecombinationRate(1e-09, 10000);\n",
      "  initializeMutationRate(1e-08);\n",
      "  initializeTreeSeq(simplificationInterval=NULL);\n",
      "\n",
      "  // MutationType init\n",
      "  initializeMutationType('m1', 0.5, 'f', 0.0);\n",
      "    m1.convertToSubstitution = T;\n",
      "  initializeMutationType('m2', 0.1, 'g', -3.0, 1.5);\n",
      "    m2.convertToSubstitution = T;\n",
      "  initializeMutationType('m3', 0.8, 'e', 0.04);\n",
      "    m3.convertToSubstitution = T;\n",
      "  c(m2, m3, m1).haploidDominanceCoeff = 1.0;\n",
      "\n",
      "  // ElementType init\n",
      "  initializeGenomicElementType('g1', c(m2,m3), c(8,0.1));\n",
      "  initializeGenomicElementType('g2', m2, 1);\n",
      "  initializeGenomicElementType('g3', m1, 1);\n",
      "\n",
      "  // Chromosome (GenomicElement init)\n",
      "  initializeGenomicElement(g3, 0, 2000);\n",
      "  types = rep(g1, asInteger(floor(1999/3)));\n",
      "  starts = 2001 + seqLen(integerDiv(1999, 3)) * 3;\n",
      "  ends = starts + 1;\n",
      "  initializeGenomicElement(types, starts, ends);\n",
      "\n",
      "  types = rep(g2, asInteger(floor(1999/3)));\n",
      "  starts = 4001 + seqLen(integerDiv(1999, 3)) * 3;\n",
      "  ends = starts + 1;\n",
      "  initializeGenomicElement(types, starts, ends);\n",
      "\n",
      "  types = rep(g1, asInteger(floor(1999/3)));\n",
      "  starts = 6001 + seqLen(integerDiv(1999, 3)) * 3;\n",
      "  ends = starts + 1;\n",
      "  initializeGenomicElement(types, starts, ends);\n",
      "\n",
      "  initializeGenomicElement(g3, 8001, 10000);\n",
      "\n",
      "  // constants (Population sizes and others)\n",
      "  defineConstant('K', 1000);\n",
      "\n",
      "  // globals (metadata dictionary)\n",
      "  defineGlobal('METADATA', Dictionary('model', 'shadie WF', 'length', '1000', 'spo_pop_size', '1000', 'gam_pop_size', 'NA', 'spo_mutation_rate', '1e-08', 'recombination_rate', '1e-09'));\n",
      "\n",
      "  // extra scripts (Optional)\n",
      "  \n",
      "}\n",
      "\n",
      "\n",
      "// generates offspring\n",
      "// hermaphroditic random mating.\n",
      "reproduction(p1 ) {\n",
      "    // parents are chosen proportional to fitness\n",
      "    inds = p1.individuals;\n",
      "    fitness = p1.cachedFitness(NULL);\n",
      "    parents1 = sample(inds, K, replace=T, weights=fitness);\n",
      "    parents2 = sample(inds, K, replace=T, weights=fitness);\n",
      "    for (i in seqLen(K))\n",
      "        p1.addCrossed(parents1[i], parents2[i]);\n",
      "    self.active = 0;\n",
      "}\n",
      "\n",
      "\n",
      "// executes after offspring are generated\n",
      "// define starting diploid population.\n",
      "\n",
      "1 early() {\n",
      "    sim.addSubpop('p1', K);\n",
      "}\n",
      "\n",
      "\n",
      "// implements survival adjustments\n",
      "survival() {\n",
      "    return (individual.age == 0);\n",
      "}\n",
      "\n",
      "\n",
      "// executes after selection occurs\n",
      "// end of sim; save .trees file\n",
      "\n",
      "1001 late() {\n",
      "    sim.treeSeqRememberIndividuals(sim.subpopulations.individuals);\n",
      "    sim.treeSeqOutput('WF.trees', metadata = METADATA);\n",
      "}\n",
      "\n"
     ]
    }
   ],
   "source": [
    "print(WF_model.script)"
   ]
  },
  {
   "cell_type": "markdown",
   "metadata": {},
   "source": [
    "If desired, this script can be copied and pasted into the SLiMgui, or saved and run using the SLiM [terminal']. \n",
    "To run the model in shadie, simply call the `run()` function"
   ]
  },
  {
   "cell_type": "code",
   "execution_count": 19,
   "metadata": {},
   "outputs": [],
   "source": [
    "WF_model.run()"
   ]
  },
  {
   "cell_type": "markdown",
   "metadata": {},
   "source": [
    "The output of the SLiM simulations, a `.trees` file with the indicated `file_out` name should now be located in your working directory."
   ]
  },
  {
   "cell_type": "markdown",
   "metadata": {},
   "source": [
    "## Alternative Models in `shadie` based on Wright-Fisher "
   ]
  },
  {
   "cell_type": "markdown",
   "metadata": {},
   "source": [
    "The classic Wright-Fisher Model makes the following assumptions: \n",
    "1. Discrete, non-overlapping generations\n",
    "2. Random mating between hermaphroditic individuals\n",
    "3. Constant population size\n",
    "\n"
   ]
  }
 ],
 "metadata": {
  "kernelspec": {
   "display_name": "Python 3 (ipykernel)",
   "language": "python",
   "name": "python3"
  },
  "language_info": {
   "codemirror_mode": {
    "name": "ipython",
    "version": 3
   },
   "file_extension": ".py",
   "mimetype": "text/x-python",
   "name": "python",
   "nbconvert_exporter": "python",
   "pygments_lexer": "ipython3",
   "version": "3.9.1"
  }
 },
 "nbformat": 4,
 "nbformat_minor": 4
}
