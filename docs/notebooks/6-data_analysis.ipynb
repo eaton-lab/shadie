{
 "cells": [
  {
   "cell_type": "markdown",
   "id": "56145ba0-c80e-431d-a505-69c43e263d1f",
   "metadata": {},
   "source": [
    "# Post-Simulation Analyses"
   ]
  },
  {
   "cell_type": "code",
   "execution_count": null,
   "id": "962d414e-2d2d-4028-9a6b-104383ac62ff",
   "metadata": {},
   "outputs": [],
   "source": []
  }
 ],
 "metadata": {
  "kernelspec": {
   "display_name": "Python 3 (ipykernel)",
   "language": "python",
   "name": "python3"
  },
  "language_info": {
   "codemirror_mode": {
    "name": "ipython",
    "version": 3
   },
   "file_extension": ".py",
   "mimetype": "text/x-python",
   "name": "python",
   "nbconvert_exporter": "python",
   "pygments_lexer": "ipython3",
   "version": "3.12.2"
  }
 },
 "nbformat": 4,
 "nbformat_minor": 5
}
