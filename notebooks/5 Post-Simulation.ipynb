{
 "cells": [
  {
   "cell_type": "markdown",
   "metadata": {},
   "source": [
    "## Running a SliM3 Simulation with `shadie`"
   ]
  },
  {
   "cell_type": "code",
   "execution_count": 2,
   "metadata": {},
   "outputs": [
    {
     "name": "stderr",
     "output_type": "stream",
     "text": [
      "2021-04-12 10:00:13.661 | WARNING  | shadie.mutations:__init__:82 - 'g', 'n', and 'w' distributions take 2 params\n",
      "2021-04-12 10:00:13.663 | WARNING  | shadie.mutations:__init__:82 - 'g', 'n', and 'w' distributions take 2 params\n",
      "2021-04-12 10:00:13.664 | WARNING  | shadie.mutations:__init__:74 - 'e' and 'f' distributions take 1 param\n",
      "2021-04-12 10:00:13.665 | WARNING  | shadie.mutations:__init__:82 - 'g', 'n', and 'w' distributions take 2 params\n",
      "2021-04-12 10:00:13.666 | DEBUG    | shadie.elements:__init__:78 - <MutationType: m3, 0.1,g, (-0.03, 0.2)>\n",
      "2021-04-12 10:00:13.667 | DEBUG    | shadie.elements:__init__:78 - <MutationType: m4, 0.8,e, (0.1,)>\n",
      "2021-04-12 10:00:13.668 | DEBUG    | shadie.elements:__init__:59 - frequencies: [1]\n",
      "2021-04-12 10:00:13.669 | DEBUG    | shadie.elements:__init__:78 - <MutationType: m3, 0.1,g, (-0.03, 0.2)>\n",
      "2021-04-12 10:00:13.671 | DEBUG    | shadie.elements:__init__:59 - frequencies: [1]\n",
      "2021-04-12 10:00:13.672 | DEBUG    | shadie.elements:__init__:68 - mutation types: [<MutationType: m1, 0.5,f, (0.0,)>]\n",
      "2021-04-12 10:00:13.674 | DEBUG    | shadie.elements:__init__:78 - <MutationType: m1, 0.5,f, (0.0,)>\n"
     ]
    }
   ],
   "source": [
    "from shadie import Shadie"
   ]
  },
  {
   "cell_type": "code",
   "execution_count": 2,
   "metadata": {},
   "outputs": [
    {
     "name": "stdout",
     "output_type": "stream",
     "text": [
      "03:20 | WARNING | \u001b[1m\u001b[31m__init__       \u001b[0m\u001b[1m\u001b[0m | \u001b[33m\u001b[1mif no tree is provided, 'generations'argument must be provided (defines length of simulation in generations. Default value = 10000\u001b[0m\n",
      "03:20 | INFO    | \u001b[1m\u001b[31m__init__       \u001b[0m\u001b[1m\u001b[0m | \u001b[1mtesting part of code: p0\u001b[0m\n"
     ]
    }
   ],
   "source": [
    "empty = Shadie()"
   ]
  },
  {
   "cell_type": "code",
   "execution_count": 3,
   "metadata": {},
   "outputs": [
    {
     "data": {
      "text/html": [
       "<div>\n",
       "<style scoped>\n",
       "    .dataframe tbody tr th:only-of-type {\n",
       "        vertical-align: middle;\n",
       "    }\n",
       "\n",
       "    .dataframe tbody tr th {\n",
       "        vertical-align: top;\n",
       "    }\n",
       "\n",
       "    .dataframe thead th {\n",
       "        text-align: right;\n",
       "    }\n",
       "</style>\n",
       "<table border=\"1\" class=\"dataframe\">\n",
       "  <thead>\n",
       "    <tr style=\"text-align: right;\">\n",
       "      <th></th>\n",
       "      <th>type</th>\n",
       "      <th>name</th>\n",
       "      <th>start</th>\n",
       "      <th>finish</th>\n",
       "      <th>eltype</th>\n",
       "      <th>script</th>\n",
       "    </tr>\n",
       "  </thead>\n",
       "  <tbody>\n",
       "    <tr>\n",
       "      <th>0</th>\n",
       "      <td>noncoding</td>\n",
       "      <td>NaN</td>\n",
       "      <td>0</td>\n",
       "      <td>517</td>\n",
       "      <td>g3</td>\n",
       "      <td>&lt;ElementType: 'None', g3, ['m1'], [1], mmJukes...</td>\n",
       "    </tr>\n",
       "    <tr>\n",
       "      <th>518</th>\n",
       "      <td>exon</td>\n",
       "      <td>NaN</td>\n",
       "      <td>518</td>\n",
       "      <td>1792</td>\n",
       "      <td>g1</td>\n",
       "      <td>&lt;ElementType: 'None', g1, ['m3', 'm4'], [8, 0....</td>\n",
       "    </tr>\n",
       "    <tr>\n",
       "      <th>1793</th>\n",
       "      <td>noncoding</td>\n",
       "      <td>NaN</td>\n",
       "      <td>1793</td>\n",
       "      <td>1999</td>\n",
       "      <td>g3</td>\n",
       "      <td>&lt;ElementType: 'None', g3, ['m1'], [1], mmJukes...</td>\n",
       "    </tr>\n",
       "  </tbody>\n",
       "</table>\n",
       "</div>"
      ],
      "text/plain": [
       "           type name start finish eltype  \\\n",
       "0     noncoding  NaN     0    517     g3   \n",
       "518        exon  NaN   518   1792     g1   \n",
       "1793  noncoding  NaN  1793   1999     g3   \n",
       "\n",
       "                                                 script  \n",
       "0     <ElementType: 'None', g3, ['m1'], [1], mmJukes...  \n",
       "518   <ElementType: 'None', g1, ['m3', 'm4'], [8, 0....  \n",
       "1793  <ElementType: 'None', g3, ['m1'], [1], mmJukes...  "
      ]
     },
     "execution_count": 3,
     "metadata": {},
     "output_type": "execute_result"
    }
   ],
   "source": [
    "empty.genome"
   ]
  },
  {
   "cell_type": "code",
   "execution_count": 4,
   "metadata": {},
   "outputs": [],
   "source": [
    "empty.write()"
   ]
  },
  {
   "cell_type": "code",
   "execution_count": 5,
   "metadata": {},
   "outputs": [],
   "source": [
    "##run function\n",
    "empty.run()"
   ]
  },
  {
   "cell_type": "markdown",
   "metadata": {},
   "source": [
    "There is a `postsim()` function within the `Shadie` class to quickly check whether the simulation was successful. It prints out point mutation counts:"
   ]
  },
  {
   "cell_type": "code",
   "execution_count": 6,
   "metadata": {},
   "outputs": [
    {
     "name": "stdout",
     "output_type": "stream",
     "text": [
      "ancestr\tderived\tcount\n",
      "A\tA\t0\n",
      "A\tC\t6\n",
      "A\tG\t9\n",
      "A\tT\t2\n",
      "C\tA\t5\n",
      "C\tC\t0\n",
      "C\tG\t4\n",
      "C\tT\t0\n",
      "G\tA\t1\n",
      "G\tC\t2\n",
      "G\tG\t0\n",
      "G\tT\t1\n",
      "T\tA\t3\n",
      "T\tC\t3\n",
      "T\tG\t2\n",
      "T\tT\t0\n",
      "\n",
      "Number of mutations: 38\n"
     ]
    }
   ],
   "source": [
    "empty.postsim()"
   ]
  },
  {
   "cell_type": "markdown",
   "metadata": {},
   "source": [
    "## Overlaying Neutral Mutations and Post-Sim Calculations"
   ]
  },
  {
   "cell_type": "code",
   "execution_count": 1,
   "metadata": {},
   "outputs": [
    {
     "name": "stderr",
     "output_type": "stream",
     "text": [
      "2021-04-12 10:02:02.181 | WARNING  | shadie.mutations:__init__:82 - 'g', 'n', and 'w' distributions take 2 params\n",
      "2021-04-12 10:02:02.182 | WARNING  | shadie.mutations:__init__:82 - 'g', 'n', and 'w' distributions take 2 params\n",
      "2021-04-12 10:02:02.183 | WARNING  | shadie.mutations:__init__:74 - 'e' and 'f' distributions take 1 param\n",
      "2021-04-12 10:02:02.184 | WARNING  | shadie.mutations:__init__:82 - 'g', 'n', and 'w' distributions take 2 params\n",
      "2021-04-12 10:02:02.189 | DEBUG    | shadie.elements:__init__:78 - <MutationType: m3, 0.1,g, (-0.03, 0.2)>\n",
      "2021-04-12 10:02:02.190 | DEBUG    | shadie.elements:__init__:78 - <MutationType: m4, 0.8,e, (0.1,)>\n",
      "2021-04-12 10:02:02.195 | DEBUG    | shadie.elements:__init__:59 - frequencies: [1]\n",
      "2021-04-12 10:02:02.196 | DEBUG    | shadie.elements:__init__:78 - <MutationType: m3, 0.1,g, (-0.03, 0.2)>\n",
      "2021-04-12 10:02:02.203 | DEBUG    | shadie.elements:__init__:59 - frequencies: [1]\n",
      "2021-04-12 10:02:02.205 | DEBUG    | shadie.elements:__init__:68 - mutation types: [<MutationType: m1, 0.5,f, (0.0,)>]\n",
      "2021-04-12 10:02:02.212 | DEBUG    | shadie.elements:__init__:78 - <MutationType: m1, 0.5,f, (0.0,)>\n"
     ]
    }
   ],
   "source": [
    "from shadie import PostSim"
   ]
  },
  {
   "cell_type": "markdown",
   "metadata": {},
   "source": [
    "When a new `PostSim` class object is created, it takes the tree sequence recording from the `Shadie` class object and overlays neutral mutations using `pyslim` (which uses coalescent in `msprime` under the hood). "
   ]
  },
  {
   "cell_type": "code",
   "execution_count": 8,
   "metadata": {},
   "outputs": [
    {
     "name": "stdout",
     "output_type": "stream",
     "text": [
      "The tree sequence now has 94 mutations, and mean pairwise nucleotide diversity is 0.00683305177588794.\n"
     ]
    },
    {
     "name": "stderr",
     "output_type": "stream",
     "text": [
      "/Users/elissa/miniconda3/lib/python3.8/site-packages/pyslim/slim_tree_sequence.py:895: UserWarning: This is an version 0.5 SLiM tree sequence. When you write this out, it will be converted to version 0.6.\n",
      "  warnings.warn(\"This is an version {} SLiM tree sequence.\".format(file_version) +\n"
     ]
    }
   ],
   "source": [
    "#init new PostSim class object with the Shadie object that is finished running:\n",
    "postslim = PostSim(empty)"
   ]
  },
  {
   "cell_type": "markdown",
   "metadata": {},
   "source": [
    "### Distribution of Mutation Selection Coefficients from the SLiMulation"
   ]
  },
  {
   "cell_type": "code",
   "execution_count": 9,
   "metadata": {},
   "outputs": [
    {
     "name": "stdout",
     "output_type": "stream",
     "text": [
      "Note: this plot does not contain neutral mutations overlaid with `msprime`.\n"
     ]
    },
    {
     "data": {
      "text/html": [
       "\n",
       "<div id=\"altair-viz-18afc6a1dc3f4d45a595f81e283f089c\"></div>\n",
       "<script type=\"text/javascript\">\n",
       "  (function(spec, embedOpt){\n",
       "    let outputDiv = document.currentScript.previousElementSibling;\n",
       "    if (outputDiv.id !== \"altair-viz-18afc6a1dc3f4d45a595f81e283f089c\") {\n",
       "      outputDiv = document.getElementById(\"altair-viz-18afc6a1dc3f4d45a595f81e283f089c\");\n",
       "    }\n",
       "    const paths = {\n",
       "      \"vega\": \"https://cdn.jsdelivr.net/npm//vega@5?noext\",\n",
       "      \"vega-lib\": \"https://cdn.jsdelivr.net/npm//vega-lib?noext\",\n",
       "      \"vega-lite\": \"https://cdn.jsdelivr.net/npm//vega-lite@4.8.1?noext\",\n",
       "      \"vega-embed\": \"https://cdn.jsdelivr.net/npm//vega-embed@6?noext\",\n",
       "    };\n",
       "\n",
       "    function loadScript(lib) {\n",
       "      return new Promise(function(resolve, reject) {\n",
       "        var s = document.createElement('script');\n",
       "        s.src = paths[lib];\n",
       "        s.async = true;\n",
       "        s.onload = () => resolve(paths[lib]);\n",
       "        s.onerror = () => reject(`Error loading script: ${paths[lib]}`);\n",
       "        document.getElementsByTagName(\"head\")[0].appendChild(s);\n",
       "      });\n",
       "    }\n",
       "\n",
       "    function showError(err) {\n",
       "      outputDiv.innerHTML = `<div class=\"error\" style=\"color:red;\">${err}</div>`;\n",
       "      throw err;\n",
       "    }\n",
       "\n",
       "    function displayChart(vegaEmbed) {\n",
       "      vegaEmbed(outputDiv, spec, embedOpt)\n",
       "        .catch(err => showError(`Javascript Error: ${err.message}<br>This usually means there's a typo in your chart specification. See the javascript console for the full traceback.`));\n",
       "    }\n",
       "\n",
       "    if(typeof define === \"function\" && define.amd) {\n",
       "      requirejs.config({paths});\n",
       "      require([\"vega-embed\"], displayChart, err => showError(`Error loading script: ${err.message}`));\n",
       "    } else if (typeof vegaEmbed === \"function\") {\n",
       "      displayChart(vegaEmbed);\n",
       "    } else {\n",
       "      loadScript(\"vega\")\n",
       "        .then(() => loadScript(\"vega-lite\"))\n",
       "        .then(() => loadScript(\"vega-embed\"))\n",
       "        .catch(showError)\n",
       "        .then(() => displayChart(vegaEmbed));\n",
       "    }\n",
       "  })({\"config\": {\"view\": {\"continuousWidth\": 400, \"continuousHeight\": 300}}, \"layer\": [{\"mark\": {\"type\": \"bar\", \"color\": \"cornflowerblue\", \"opacity\": 0.5}, \"encoding\": {\"color\": {\"condition\": {\"value\": \"lightseagreen\", \"test\": \"(datum.values > 0)\"}, \"value\": \"indianred\"}, \"tooltip\": [{\"type\": \"quantitative\", \"field\": \"values\", \"title\": \"Fitness Effect\"}], \"x\": {\"type\": \"quantitative\", \"axis\": {\"title\": \"Fitness Effect\"}, \"field\": \"values\"}, \"y\": {\"type\": \"quantitative\", \"field\": \"counts\"}}}, {\"mark\": {\"type\": \"rule\", \"color\": \"goldenrod\", \"opacity\": 0.4}, \"encoding\": {\"size\": {\"value\": 3}, \"tooltip\": [{\"type\": \"quantitative\", \"aggregate\": \"mean\", \"field\": \"values\", \"title\": \"Mean Fitness Effect\"}], \"x\": {\"type\": \"quantitative\", \"field\": \"mean\"}}}], \"data\": {\"name\": \"data-722afb4e32e4933e480867c696a7efeb\"}, \"$schema\": \"https://vega.github.io/schema/vega-lite/v4.8.1.json\", \"datasets\": {\"data-722afb4e32e4933e480867c696a7efeb\": [{\"values\": -0.20767740905284882, \"counts\": 1, \"mean\": 0.04891090635489879}, {\"values\": -0.19400374859571456, \"counts\": 0, \"mean\": 0.04891090635489879}, {\"values\": -0.1803300881385803, \"counts\": 0, \"mean\": 0.04891090635489879}, {\"values\": -0.16665642768144606, \"counts\": 0, \"mean\": 0.04891090635489879}, {\"values\": -0.15298276722431184, \"counts\": 0, \"mean\": 0.04891090635489879}, {\"values\": -0.1393091067671776, \"counts\": 0, \"mean\": 0.04891090635489879}, {\"values\": -0.12563544631004334, \"counts\": 0, \"mean\": 0.04891090635489879}, {\"values\": -0.1119617858529091, \"counts\": 0, \"mean\": 0.04891090635489879}, {\"values\": -0.09828812539577485, \"counts\": 0, \"mean\": 0.04891090635489879}, {\"values\": -0.0846144649386406, \"counts\": 1, \"mean\": 0.04891090635489879}, {\"values\": -0.07094080448150636, \"counts\": 0, \"mean\": 0.04891090635489879}, {\"values\": -0.05726714402437211, \"counts\": 3, \"mean\": 0.04891090635489879}, {\"values\": -0.043593483567237856, \"counts\": 0, \"mean\": 0.04891090635489879}, {\"values\": -0.029919823110103605, \"counts\": 1, \"mean\": 0.04891090635489879}, {\"values\": -0.01624616265296938, \"counts\": 3, \"mean\": 0.04891090635489879}, {\"values\": -0.00257250219583513, \"counts\": 21, \"mean\": 0.04891090635489879}, {\"values\": 0.011101158261299121, \"counts\": 0, \"mean\": 0.04891090635489879}, {\"values\": 0.024774818718433372, \"counts\": 1, \"mean\": 0.04891090635489879}, {\"values\": 0.038448479175567624, \"counts\": 0, \"mean\": 0.04891090635489879}, {\"values\": 0.05212213963270185, \"counts\": 0, \"mean\": 0.04891090635489879}, {\"values\": 0.0657958000898361, \"counts\": 0, \"mean\": 0.04891090635489879}, {\"values\": 0.07946946054697035, \"counts\": 0, \"mean\": 0.04891090635489879}, {\"values\": 0.0931431210041046, \"counts\": 0, \"mean\": 0.04891090635489879}, {\"values\": 0.10681678146123885, \"counts\": 0, \"mean\": 0.04891090635489879}, {\"values\": 0.1204904419183731, \"counts\": 0, \"mean\": 0.04891090635489879}, {\"values\": 0.13416410237550735, \"counts\": 0, \"mean\": 0.04891090635489879}, {\"values\": 0.1478377628326416, \"counts\": 0, \"mean\": 0.04891090635489879}, {\"values\": 0.1615114232897758, \"counts\": 0, \"mean\": 0.04891090635489879}, {\"values\": 0.17518508374691005, \"counts\": 0, \"mean\": 0.04891090635489879}, {\"values\": 0.1888587442040443, \"counts\": 1, \"mean\": 0.04891090635489879}, {\"values\": 0.20253240466117856, \"counts\": 0, \"mean\": 0.04891090635489879}, {\"values\": 0.2162060651183128, \"counts\": 0, \"mean\": 0.04891090635489879}, {\"values\": 0.22987972557544706, \"counts\": 1, \"mean\": 0.04891090635489879}, {\"values\": 0.2435533860325813, \"counts\": 1, \"mean\": 0.04891090635489879}, {\"values\": 0.25722704648971556, \"counts\": 0, \"mean\": 0.04891090635489879}, {\"values\": 0.2709007069468498, \"counts\": 0, \"mean\": 0.04891090635489879}, {\"values\": 0.28457436740398406, \"counts\": 0, \"mean\": 0.04891090635489879}, {\"values\": 0.29824802786111826, \"counts\": 0, \"mean\": 0.04891090635489879}, {\"values\": 0.3119216883182525, \"counts\": 0, \"mean\": 0.04891090635489879}, {\"values\": 0.32559534877538676, \"counts\": 1, \"mean\": 0.04891090635489879}, {\"values\": 0.339269009232521, \"counts\": 0, \"mean\": 0.04891090635489879}, {\"values\": 0.35294266968965526, \"counts\": 0, \"mean\": 0.04891090635489879}, {\"values\": 0.3666163301467895, \"counts\": 0, \"mean\": 0.04891090635489879}, {\"values\": 0.38028999060392377, \"counts\": 1, \"mean\": 0.04891090635489879}, {\"values\": 0.393963651061058, \"counts\": 0, \"mean\": 0.04891090635489879}, {\"values\": 0.40763731151819227, \"counts\": 0, \"mean\": 0.04891090635489879}, {\"values\": 0.4213109719753265, \"counts\": 0, \"mean\": 0.04891090635489879}, {\"values\": 0.43498463243246077, \"counts\": 1, \"mean\": 0.04891090635489879}, {\"values\": 0.448658292889595, \"counts\": 0, \"mean\": 0.04891090635489879}, {\"values\": 0.4623319533467293, \"counts\": 1, \"mean\": 0.04891090635489879}]}}, {\"mode\": \"vega-lite\"});\n",
       "</script>"
      ]
     },
     "metadata": {},
     "output_type": "display_data"
    },
    {
     "name": "stdout",
     "output_type": "stream",
     "text": [
      "Total mutations: 94\n",
      "Neutral mutations: 56\n",
      "Non-neutral mutations: 38\n",
      "\n"
     ]
    },
    {
     "data": {
      "text/html": [
       "<div class=\"toyplot\" id=\"t82c743dedc2e4ae7b25313c63a046b97\" style=\"text-align:center\"><svg class=\"toyplot-canvas-Canvas\" xmlns:toyplot=\"http://www.sandia.gov/toyplot\" xmlns:xlink=\"http://www.w3.org/1999/xlink\" xmlns=\"http://www.w3.org/2000/svg\" width=\"2500.0px\" height=\"200.0px\" viewBox=\"0 0 2500.0 200.0\" preserveAspectRatio=\"xMidYMid meet\" style=\"background-color:transparent;border-color:#292724;border-style:none;border-width:1.0;fill:rgb(16.1%,15.3%,14.1%);fill-opacity:1.0;font-family:Helvetica;font-size:12px;opacity:1.0;stroke:rgb(16.1%,15.3%,14.1%);stroke-opacity:1.0;stroke-width:1.0\" id=\"t347a17796c6e44e79110aaff81a80c49\"><g class=\"toyplot-coordinates-Cartesian\" id=\"td0b9a4e4084949f48cb2b290ddb22342\"><clipPath id=\"t35d5790cee8e4e4fac2455af950df8aa\"><rect x=\"40.0\" y=\"40.0\" width=\"2420.0\" height=\"120.0\"></rect></clipPath><g clip-path=\"url(#t35d5790cee8e4e4fac2455af950df8aa)\"><g class=\"toyplot-mark-Range\" style=\"opacity:0.6;stroke:none\" id=\"t4400f96a7f03455eb0166e9b031f16aa\"><g class=\"toyplot-Series\"><rect class=\"toyplot-Datum\" x=\"50.0\" y=\"50.0\" width=\"689.1445722861431\" height=\"100.0\" style=\"fill:rgb(69.8%,13.3%,13.3%);fill-opacity:1.0;opacity:0.6;stroke:none\"></rect></g></g><g class=\"toyplot-mark-Range\" style=\"opacity:0.6;stroke:none\" id=\"tcd7c7e82457c480f9b4e548c2346c2ed\"><g class=\"toyplot-Series\"><rect class=\"toyplot-Datum\" x=\"740.3451725862932\" y=\"50.0\" width=\"1622.0110055027512\" height=\"100.0\" style=\"fill:rgb(27.5%,51%,70.6%);fill-opacity:1.0;opacity:0.6;stroke:none\"></rect></g></g><g class=\"toyplot-mark-Range\" style=\"opacity:0.6;stroke:none\" id=\"tbbd426a3069f4d7d93aa9313ffca6668\"><g class=\"toyplot-Series\"><rect class=\"toyplot-Datum\" x=\"2363.5567783891947\" y=\"50.0\" width=\"86.44322161080527\" height=\"100.0\" style=\"fill:rgb(69.8%,13.3%,13.3%);fill-opacity:1.0;opacity:0.6;stroke:none\"></rect></g></g><g class=\"toyplot-mark-AxisLines\" style=\"stroke:rgb(0%,0%,100%);stroke-opacity:1.0;stroke-width:2\" id=\"t358c5682a9f94b7a84a6c0692cffb0b3\"><g class=\"toyplot-Series\"><line class=\"toyplot-Datum\" x1=\"110.68790570952524\" x2=\"110.68790570952524\" y1=\"50.0\" y2=\"150.0\" style=\"opacity:1.0;stroke:rgb(0%,0%,100%);stroke-opacity:1.0;stroke-width:2\"></line><line class=\"toyplot-Datum\" x1=\"131.62428634711776\" x2=\"131.62428634711776\" y1=\"50.0\" y2=\"150.0\" style=\"opacity:1.0;stroke:rgb(0%,0%,100%);stroke-opacity:1.0;stroke-width:2\"></line><line class=\"toyplot-Datum\" x1=\"165.61009240872028\" x2=\"165.61009240872028\" y1=\"50.0\" y2=\"150.0\" style=\"opacity:1.0;stroke:rgb(0%,0%,100%);stroke-opacity:1.0;stroke-width:2\"></line><line class=\"toyplot-Datum\" x1=\"181.44491943882488\" x2=\"181.44491943882488\" y1=\"50.0\" y2=\"150.0\" style=\"opacity:1.0;stroke:rgb(0%,0%,100%);stroke-opacity:1.0;stroke-width:2\"></line><line class=\"toyplot-Datum\" x1=\"213.23876990682786\" x2=\"213.23876990682786\" y1=\"50.0\" y2=\"150.0\" style=\"opacity:1.0;stroke:rgb(0%,0%,100%);stroke-opacity:1.0;stroke-width:2\"></line><line class=\"toyplot-Datum\" x1=\"276.47357888225315\" x2=\"276.47357888225315\" y1=\"50.0\" y2=\"150.0\" style=\"opacity:1.0;stroke:rgb(0%,0%,100%);stroke-opacity:1.0;stroke-width:2\"></line><line class=\"toyplot-Datum\" x1=\"290.1278207470859\" x2=\"290.1278207470859\" y1=\"50.0\" y2=\"150.0\" style=\"opacity:1.0;stroke:rgb(0%,0%,100%);stroke-opacity:1.0;stroke-width:2\"></line><line class=\"toyplot-Datum\" x1=\"387.23831683650735\" x2=\"387.23831683650735\" y1=\"50.0\" y2=\"150.0\" style=\"opacity:1.0;stroke:rgb(0%,0%,100%);stroke-opacity:1.0;stroke-width:2\"></line><line class=\"toyplot-Datum\" x1=\"389.7380231528834\" x2=\"389.7380231528834\" y1=\"50.0\" y2=\"150.0\" style=\"opacity:1.0;stroke:rgb(0%,0%,100%);stroke-opacity:1.0;stroke-width:2\"></line><line class=\"toyplot-Datum\" x1=\"389.7606946844767\" x2=\"389.7606946844767\" y1=\"50.0\" y2=\"150.0\" style=\"opacity:1.0;stroke:rgb(0%,0%,100%);stroke-opacity:1.0;stroke-width:2\"></line><line class=\"toyplot-Datum\" x1=\"394.9274172047605\" x2=\"394.9274172047605\" y1=\"50.0\" y2=\"150.0\" style=\"opacity:1.0;stroke:rgb(0%,0%,100%);stroke-opacity:1.0;stroke-width:2\"></line><line class=\"toyplot-Datum\" x1=\"401.225698609958\" x2=\"401.225698609958\" y1=\"50.0\" y2=\"150.0\" style=\"opacity:1.0;stroke:rgb(0%,0%,100%);stroke-opacity:1.0;stroke-width:2\"></line><line class=\"toyplot-Datum\" x1=\"402.1283813614795\" x2=\"402.1283813614795\" y1=\"50.0\" y2=\"150.0\" style=\"opacity:1.0;stroke:rgb(0%,0%,100%);stroke-opacity:1.0;stroke-width:2\"></line><line class=\"toyplot-Datum\" x1=\"425.8911520481229\" x2=\"425.8911520481229\" y1=\"50.0\" y2=\"150.0\" style=\"opacity:1.0;stroke:rgb(0%,0%,100%);stroke-opacity:1.0;stroke-width:2\"></line><line class=\"toyplot-Datum\" x1=\"705.1968648455751\" x2=\"705.1968648455751\" y1=\"50.0\" y2=\"150.0\" style=\"opacity:1.0;stroke:rgb(0%,0%,100%);stroke-opacity:1.0;stroke-width:2\"></line><line class=\"toyplot-Datum\" x1=\"707.9289644822411\" x2=\"707.9289644822411\" y1=\"50.0\" y2=\"150.0\" style=\"opacity:1.0;stroke:rgb(0%,0%,100%);stroke-opacity:1.0;stroke-width:2\"></line><line class=\"toyplot-Datum\" x1=\"728.3391695847924\" x2=\"728.3391695847924\" y1=\"50.0\" y2=\"150.0\" style=\"opacity:1.0;stroke:rgb(0%,0%,100%);stroke-opacity:1.0;stroke-width:2\"></line><line class=\"toyplot-Datum\" x1=\"765.5577788894448\" x2=\"765.5577788894448\" y1=\"50.0\" y2=\"150.0\" style=\"opacity:1.0;stroke:rgb(0%,0%,100%);stroke-opacity:1.0;stroke-width:2\"></line><line class=\"toyplot-Datum\" x1=\"805.8086466765392\" x2=\"805.8086466765392\" y1=\"50.0\" y2=\"150.0\" style=\"opacity:1.0;stroke:rgb(0%,0%,100%);stroke-opacity:1.0;stroke-width:2\"></line><line class=\"toyplot-Datum\" x1=\"815.3869053031159\" x2=\"815.3869053031159\" y1=\"50.0\" y2=\"150.0\" style=\"opacity:1.0;stroke:rgb(0%,0%,100%);stroke-opacity:1.0;stroke-width:2\"></line><line class=\"toyplot-Datum\" x1=\"823.7655267156679\" x2=\"823.7655267156679\" y1=\"50.0\" y2=\"150.0\" style=\"opacity:1.0;stroke:rgb(0%,0%,100%);stroke-opacity:1.0;stroke-width:2\"></line><line class=\"toyplot-Datum\" x1=\"894.0220110055027\" x2=\"894.0220110055027\" y1=\"50.0\" y2=\"150.0\" style=\"opacity:1.0;stroke:rgb(0%,0%,100%);stroke-opacity:1.0;stroke-width:2\"></line><line class=\"toyplot-Datum\" x1=\"920.6824538140013\" x2=\"920.6824538140013\" y1=\"50.0\" y2=\"150.0\" style=\"opacity:1.0;stroke:rgb(0%,0%,100%);stroke-opacity:1.0;stroke-width:2\"></line><line class=\"toyplot-Datum\" x1=\"946.235526338585\" x2=\"946.235526338585\" y1=\"50.0\" y2=\"150.0\" style=\"opacity:1.0;stroke:rgb(0%,0%,100%);stroke-opacity:1.0;stroke-width:2\"></line><line class=\"toyplot-Datum\" x1=\"956.0369127091317\" x2=\"956.0369127091317\" y1=\"50.0\" y2=\"150.0\" style=\"opacity:1.0;stroke:rgb(0%,0%,100%);stroke-opacity:1.0;stroke-width:2\"></line><line class=\"toyplot-Datum\" x1=\"978.0640320160079\" x2=\"978.0640320160079\" y1=\"50.0\" y2=\"150.0\" style=\"opacity:1.0;stroke:rgb(0%,0%,100%);stroke-opacity:1.0;stroke-width:2\"></line><line class=\"toyplot-Datum\" x1=\"1002.0760380190095\" x2=\"1002.0760380190095\" y1=\"50.0\" y2=\"150.0\" style=\"opacity:1.0;stroke:rgb(0%,0%,100%);stroke-opacity:1.0;stroke-width:2\"></line><line class=\"toyplot-Datum\" x1=\"1010.9653621449836\" x2=\"1010.9653621449836\" y1=\"50.0\" y2=\"150.0\" style=\"opacity:1.0;stroke:rgb(0%,0%,100%);stroke-opacity:1.0;stroke-width:2\"></line><line class=\"toyplot-Datum\" x1=\"1078.9144572286143\" x2=\"1078.9144572286143\" y1=\"50.0\" y2=\"150.0\" style=\"opacity:1.0;stroke:rgb(0%,0%,100%);stroke-opacity:1.0;stroke-width:2\"></line><line class=\"toyplot-Datum\" x1=\"1097.6498262189878\" x2=\"1097.6498262189878\" y1=\"50.0\" y2=\"150.0\" style=\"opacity:1.0;stroke:rgb(0%,0%,100%);stroke-opacity:1.0;stroke-width:2\"></line><line class=\"toyplot-Datum\" x1=\"1098.1240620310155\" x2=\"1098.1240620310155\" y1=\"50.0\" y2=\"150.0\" style=\"opacity:1.0;stroke:rgb(0%,0%,100%);stroke-opacity:1.0;stroke-width:2\"></line><line class=\"toyplot-Datum\" x1=\"1112.486096732076\" x2=\"1112.486096732076\" y1=\"50.0\" y2=\"150.0\" style=\"opacity:1.0;stroke:rgb(0%,0%,100%);stroke-opacity:1.0;stroke-width:2\"></line><line class=\"toyplot-Datum\" x1=\"1132.921746918832\" x2=\"1132.921746918832\" y1=\"50.0\" y2=\"150.0\" style=\"opacity:1.0;stroke:rgb(0%,0%,100%);stroke-opacity:1.0;stroke-width:2\"></line><line class=\"toyplot-Datum\" x1=\"1136.543271635818\" x2=\"1136.543271635818\" y1=\"50.0\" y2=\"150.0\" style=\"opacity:1.0;stroke:rgb(0%,0%,100%);stroke-opacity:1.0;stroke-width:2\"></line><line class=\"toyplot-Datum\" x1=\"1152.395822713827\" x2=\"1152.395822713827\" y1=\"50.0\" y2=\"150.0\" style=\"opacity:1.0;stroke:rgb(0%,0%,100%);stroke-opacity:1.0;stroke-width:2\"></line><line class=\"toyplot-Datum\" x1=\"1158.3991768555143\" x2=\"1158.3991768555143\" y1=\"50.0\" y2=\"150.0\" style=\"opacity:1.0;stroke:rgb(0%,0%,100%);stroke-opacity:1.0;stroke-width:2\"></line><line class=\"toyplot-Datum\" x1=\"1211.0411823153677\" x2=\"1211.0411823153677\" y1=\"50.0\" y2=\"150.0\" style=\"opacity:1.0;stroke:rgb(0%,0%,100%);stroke-opacity:1.0;stroke-width:2\"></line><line class=\"toyplot-Datum\" x1=\"1219.3846923461733\" x2=\"1219.3846923461733\" y1=\"50.0\" y2=\"150.0\" style=\"opacity:1.0;stroke:rgb(0%,0%,100%);stroke-opacity:1.0;stroke-width:2\"></line><line class=\"toyplot-Datum\" x1=\"1227.7888944472236\" x2=\"1227.7888944472236\" y1=\"50.0\" y2=\"150.0\" style=\"opacity:1.0;stroke:rgb(0%,0%,100%);stroke-opacity:1.0;stroke-width:2\"></line><line class=\"toyplot-Datum\" x1=\"1233.791895947974\" x2=\"1233.791895947974\" y1=\"50.0\" y2=\"150.0\" style=\"opacity:1.0;stroke:rgb(0%,0%,100%);stroke-opacity:1.0;stroke-width:2\"></line><line class=\"toyplot-Datum\" x1=\"1282.0496727073714\" x2=\"1282.0496727073714\" y1=\"50.0\" y2=\"150.0\" style=\"opacity:1.0;stroke:rgb(0%,0%,100%);stroke-opacity:1.0;stroke-width:2\"></line><line class=\"toyplot-Datum\" x1=\"1282.6381284335423\" x2=\"1282.6381284335423\" y1=\"50.0\" y2=\"150.0\" style=\"opacity:1.0;stroke:rgb(0%,0%,100%);stroke-opacity:1.0;stroke-width:2\"></line><line class=\"toyplot-Datum\" x1=\"1327.43871935968\" x2=\"1327.43871935968\" y1=\"50.0\" y2=\"150.0\" style=\"opacity:1.0;stroke:rgb(0%,0%,100%);stroke-opacity:1.0;stroke-width:2\"></line><line class=\"toyplot-Datum\" x1=\"1330.2813703444913\" x2=\"1330.2813703444913\" y1=\"50.0\" y2=\"150.0\" style=\"opacity:1.0;stroke:rgb(0%,0%,100%);stroke-opacity:1.0;stroke-width:2\"></line><line class=\"toyplot-Datum\" x1=\"1333.4417208604302\" x2=\"1333.4417208604302\" y1=\"50.0\" y2=\"150.0\" style=\"opacity:1.0;stroke:rgb(0%,0%,100%);stroke-opacity:1.0;stroke-width:2\"></line><line class=\"toyplot-Datum\" x1=\"1374.5226285155263\" x2=\"1374.5226285155263\" y1=\"50.0\" y2=\"150.0\" style=\"opacity:1.0;stroke:rgb(0%,0%,100%);stroke-opacity:1.0;stroke-width:2\"></line><line class=\"toyplot-Datum\" x1=\"1394.672336168084\" x2=\"1394.672336168084\" y1=\"50.0\" y2=\"150.0\" style=\"opacity:1.0;stroke:rgb(0%,0%,100%);stroke-opacity:1.0;stroke-width:2\"></line><line class=\"toyplot-Datum\" x1=\"1398.7584063370505\" x2=\"1398.7584063370505\" y1=\"50.0\" y2=\"150.0\" style=\"opacity:1.0;stroke:rgb(0%,0%,100%);stroke-opacity:1.0;stroke-width:2\"></line><line class=\"toyplot-Datum\" x1=\"1404.2771385692847\" x2=\"1404.2771385692847\" y1=\"50.0\" y2=\"150.0\" style=\"opacity:1.0;stroke:rgb(0%,0%,100%);stroke-opacity:1.0;stroke-width:2\"></line><line class=\"toyplot-Datum\" x1=\"1413.8819409704854\" x2=\"1413.8819409704854\" y1=\"50.0\" y2=\"150.0\" style=\"opacity:1.0;stroke:rgb(0%,0%,100%);stroke-opacity:1.0;stroke-width:2\"></line><line class=\"toyplot-Datum\" x1=\"1418.6843421710855\" x2=\"1418.6843421710855\" y1=\"50.0\" y2=\"150.0\" style=\"opacity:1.0;stroke:rgb(0%,0%,100%);stroke-opacity:1.0;stroke-width:2\"></line><line class=\"toyplot-Datum\" x1=\"1466.7083541770885\" x2=\"1466.7083541770885\" y1=\"50.0\" y2=\"150.0\" style=\"opacity:1.0;stroke:rgb(0%,0%,100%);stroke-opacity:1.0;stroke-width:2\"></line><line class=\"toyplot-Datum\" x1=\"1485.015429968593\" x2=\"1485.015429968593\" y1=\"50.0\" y2=\"150.0\" style=\"opacity:1.0;stroke:rgb(0%,0%,100%);stroke-opacity:1.0;stroke-width:2\"></line><line class=\"toyplot-Datum\" x1=\"1497.9239619809905\" x2=\"1497.9239619809905\" y1=\"50.0\" y2=\"150.0\" style=\"opacity:1.0;stroke:rgb(0%,0%,100%);stroke-opacity:1.0;stroke-width:2\"></line><line class=\"toyplot-Datum\" x1=\"1560.3551775887943\" x2=\"1560.3551775887943\" y1=\"50.0\" y2=\"150.0\" style=\"opacity:1.0;stroke:rgb(0%,0%,100%);stroke-opacity:1.0;stroke-width:2\"></line><line class=\"toyplot-Datum\" x1=\"1596.8220855889767\" x2=\"1596.8220855889767\" y1=\"50.0\" y2=\"150.0\" style=\"opacity:1.0;stroke:rgb(0%,0%,100%);stroke-opacity:1.0;stroke-width:2\"></line><line class=\"toyplot-Datum\" x1=\"1599.9749874937468\" x2=\"1599.9749874937468\" y1=\"50.0\" y2=\"150.0\" style=\"opacity:1.0;stroke:rgb(0%,0%,100%);stroke-opacity:1.0;stroke-width:2\"></line><line class=\"toyplot-Datum\" x1=\"1632.3911955977987\" x2=\"1632.3911955977987\" y1=\"50.0\" y2=\"150.0\" style=\"opacity:1.0;stroke:rgb(0%,0%,100%);stroke-opacity:1.0;stroke-width:2\"></line><line class=\"toyplot-Datum\" x1=\"1635.992996498249\" x2=\"1635.992996498249\" y1=\"50.0\" y2=\"150.0\" style=\"opacity:1.0;stroke:rgb(0%,0%,100%);stroke-opacity:1.0;stroke-width:2\"></line><line class=\"toyplot-Datum\" x1=\"1639.5947973986993\" x2=\"1639.5947973986993\" y1=\"50.0\" y2=\"150.0\" style=\"opacity:1.0;stroke:rgb(0%,0%,100%);stroke-opacity:1.0;stroke-width:2\"></line><line class=\"toyplot-Datum\" x1=\"1658.3370633292877\" x2=\"1658.3370633292877\" y1=\"50.0\" y2=\"150.0\" style=\"opacity:1.0;stroke:rgb(0%,0%,100%);stroke-opacity:1.0;stroke-width:2\"></line><line class=\"toyplot-Datum\" x1=\"1672.0110055027515\" x2=\"1672.0110055027515\" y1=\"50.0\" y2=\"150.0\" style=\"opacity:1.0;stroke:rgb(0%,0%,100%);stroke-opacity:1.0;stroke-width:2\"></line><line class=\"toyplot-Datum\" x1=\"1677.7183581510742\" x2=\"1677.7183581510742\" y1=\"50.0\" y2=\"150.0\" style=\"opacity:1.0;stroke:rgb(0%,0%,100%);stroke-opacity:1.0;stroke-width:2\"></line><line class=\"toyplot-Datum\" x1=\"1698.4242121060531\" x2=\"1698.4242121060531\" y1=\"50.0\" y2=\"150.0\" style=\"opacity:1.0;stroke:rgb(0%,0%,100%);stroke-opacity:1.0;stroke-width:2\"></line><line class=\"toyplot-Datum\" x1=\"1712.8314157078541\" x2=\"1712.8314157078541\" y1=\"50.0\" y2=\"150.0\" style=\"opacity:1.0;stroke:rgb(0%,0%,100%);stroke-opacity:1.0;stroke-width:2\"></line><line class=\"toyplot-Datum\" x1=\"1738.4842075933034\" x2=\"1738.4842075933034\" y1=\"50.0\" y2=\"150.0\" style=\"opacity:1.0;stroke:rgb(0%,0%,100%);stroke-opacity:1.0;stroke-width:2\"></line><line class=\"toyplot-Datum\" x1=\"1750.0500250125062\" x2=\"1750.0500250125062\" y1=\"50.0\" y2=\"150.0\" style=\"opacity:1.0;stroke:rgb(0%,0%,100%);stroke-opacity:1.0;stroke-width:2\"></line><line class=\"toyplot-Datum\" x1=\"1787.2686343171588\" x2=\"1787.2686343171588\" y1=\"50.0\" y2=\"150.0\" style=\"opacity:1.0;stroke:rgb(0%,0%,100%);stroke-opacity:1.0;stroke-width:2\"></line><line class=\"toyplot-Datum\" x1=\"1851.8472952774728\" x2=\"1851.8472952774728\" y1=\"50.0\" y2=\"150.0\" style=\"opacity:1.0;stroke:rgb(0%,0%,100%);stroke-opacity:1.0;stroke-width:2\"></line><line class=\"toyplot-Datum\" x1=\"1860.505252626313\" x2=\"1860.505252626313\" y1=\"50.0\" y2=\"150.0\" style=\"opacity:1.0;stroke:rgb(0%,0%,100%);stroke-opacity:1.0;stroke-width:2\"></line><line class=\"toyplot-Datum\" x1=\"1919.1943741294967\" x2=\"1919.1943741294967\" y1=\"50.0\" y2=\"150.0\" style=\"opacity:1.0;stroke:rgb(0%,0%,100%);stroke-opacity:1.0;stroke-width:2\"></line><line class=\"toyplot-Datum\" x1=\"1964.9574787393697\" x2=\"1964.9574787393697\" y1=\"50.0\" y2=\"150.0\" style=\"opacity:1.0;stroke:rgb(0%,0%,100%);stroke-opacity:1.0;stroke-width:2\"></line><line class=\"toyplot-Datum\" x1=\"1967.5408830145943\" x2=\"1967.5408830145943\" y1=\"50.0\" y2=\"150.0\" style=\"opacity:1.0;stroke:rgb(0%,0%,100%);stroke-opacity:1.0;stroke-width:2\"></line><line class=\"toyplot-Datum\" x1=\"1970.96048024012\" x2=\"1970.96048024012\" y1=\"50.0\" y2=\"150.0\" style=\"opacity:1.0;stroke:rgb(0%,0%,100%);stroke-opacity:1.0;stroke-width:2\"></line><line class=\"toyplot-Datum\" x1=\"1979.3646823411707\" x2=\"1979.3646823411707\" y1=\"50.0\" y2=\"150.0\" style=\"opacity:1.0;stroke:rgb(0%,0%,100%);stroke-opacity:1.0;stroke-width:2\"></line><line class=\"toyplot-Datum\" x1=\"2035.7928964482242\" x2=\"2035.7928964482242\" y1=\"50.0\" y2=\"150.0\" style=\"opacity:1.0;stroke:rgb(0%,0%,100%);stroke-opacity:1.0;stroke-width:2\"></line><line class=\"toyplot-Datum\" x1=\"2042.5879954680495\" x2=\"2042.5879954680495\" y1=\"50.0\" y2=\"150.0\" style=\"opacity:1.0;stroke:rgb(0%,0%,100%);stroke-opacity:1.0;stroke-width:2\"></line><line class=\"toyplot-Datum\" x1=\"2044.2209215880396\" x2=\"2044.2209215880396\" y1=\"50.0\" y2=\"150.0\" style=\"opacity:1.0;stroke:rgb(0%,0%,100%);stroke-opacity:1.0;stroke-width:2\"></line><line class=\"toyplot-Datum\" x1=\"2059.8049024512256\" x2=\"2059.8049024512256\" y1=\"50.0\" y2=\"150.0\" style=\"opacity:1.0;stroke:rgb(0%,0%,100%);stroke-opacity:1.0;stroke-width:2\"></line><line class=\"toyplot-Datum\" x1=\"2097.0361189433133\" x2=\"2097.0361189433133\" y1=\"50.0\" y2=\"150.0\" style=\"opacity:1.0;stroke:rgb(0%,0%,100%);stroke-opacity:1.0;stroke-width:2\"></line><line class=\"toyplot-Datum\" x1=\"2101.6181673077476\" x2=\"2101.6181673077476\" y1=\"50.0\" y2=\"150.0\" style=\"opacity:1.0;stroke:rgb(0%,0%,100%);stroke-opacity:1.0;stroke-width:2\"></line><line class=\"toyplot-Datum\" x1=\"2112.1059796940153\" x2=\"2112.1059796940153\" y1=\"50.0\" y2=\"150.0\" style=\"opacity:1.0;stroke:rgb(0%,0%,100%);stroke-opacity:1.0;stroke-width:2\"></line><line class=\"toyplot-Datum\" x1=\"2119.8349174587293\" x2=\"2119.8349174587293\" y1=\"50.0\" y2=\"150.0\" style=\"opacity:1.0;stroke:rgb(0%,0%,100%);stroke-opacity:1.0;stroke-width:2\"></line><line class=\"toyplot-Datum\" x1=\"2159.4547273636817\" x2=\"2159.4547273636817\" y1=\"50.0\" y2=\"150.0\" style=\"opacity:1.0;stroke:rgb(0%,0%,100%);stroke-opacity:1.0;stroke-width:2\"></line><line class=\"toyplot-Datum\" x1=\"2192.822010449137\" x2=\"2192.822010449137\" y1=\"50.0\" y2=\"150.0\" style=\"opacity:1.0;stroke:rgb(0%,0%,100%);stroke-opacity:1.0;stroke-width:2\"></line><line class=\"toyplot-Datum\" x1=\"2213.365097150855\" x2=\"2213.365097150855\" y1=\"50.0\" y2=\"150.0\" style=\"opacity:1.0;stroke:rgb(0%,0%,100%);stroke-opacity:1.0;stroke-width:2\"></line><line class=\"toyplot-Datum\" x1=\"2214.5302171928397\" x2=\"2214.5302171928397\" y1=\"50.0\" y2=\"150.0\" style=\"opacity:1.0;stroke:rgb(0%,0%,100%);stroke-opacity:1.0;stroke-width:2\"></line><line class=\"toyplot-Datum\" x1=\"2253.9651335880953\" x2=\"2253.9651335880953\" y1=\"50.0\" y2=\"150.0\" style=\"opacity:1.0;stroke:rgb(0%,0%,100%);stroke-opacity:1.0;stroke-width:2\"></line><line class=\"toyplot-Datum\" x1=\"2261.8391009749266\" x2=\"2261.8391009749266\" y1=\"50.0\" y2=\"150.0\" style=\"opacity:1.0;stroke:rgb(0%,0%,100%);stroke-opacity:1.0;stroke-width:2\"></line><line class=\"toyplot-Datum\" x1=\"2262.897609693817\" x2=\"2262.897609693817\" y1=\"50.0\" y2=\"150.0\" style=\"opacity:1.0;stroke:rgb(0%,0%,100%);stroke-opacity:1.0;stroke-width:2\"></line><line class=\"toyplot-Datum\" x1=\"2264.7981462074913\" x2=\"2264.7981462074913\" y1=\"50.0\" y2=\"150.0\" style=\"opacity:1.0;stroke:rgb(0%,0%,100%);stroke-opacity:1.0;stroke-width:2\"></line><line class=\"toyplot-Datum\" x1=\"2266.2625559602393\" x2=\"2266.2625559602393\" y1=\"50.0\" y2=\"150.0\" style=\"opacity:1.0;stroke:rgb(0%,0%,100%);stroke-opacity:1.0;stroke-width:2\"></line><line class=\"toyplot-Datum\" x1=\"2357.3785922016245\" x2=\"2357.3785922016245\" y1=\"50.0\" y2=\"150.0\" style=\"opacity:1.0;stroke:rgb(0%,0%,100%);stroke-opacity:1.0;stroke-width:2\"></line><line class=\"toyplot-Datum\" x1=\"2401.0306192121247\" x2=\"2401.0306192121247\" y1=\"50.0\" y2=\"150.0\" style=\"opacity:1.0;stroke:rgb(0%,0%,100%);stroke-opacity:1.0;stroke-width:2\"></line></g></g></g></g></svg><div class=\"toyplot-behavior\"><script>(function()\n",
       "{\n",
       "var modules={};\n",
       "})();</script></div></div>"
      ]
     },
     "metadata": {},
     "output_type": "display_data"
    }
   ],
   "source": [
    "postslim.summary()"
   ]
  },
  {
   "cell_type": "markdown",
   "metadata": {},
   "source": [
    "If the chromosoome is very large it may be hard to see what's going on in the static plot. An interactive plot does work, but it must be opened in Vega Editor for zoom function to work - not sure why this is. Will have to invetigate later. "
   ]
  },
  {
   "cell_type": "code",
   "execution_count": 11,
   "metadata": {},
   "outputs": [
    {
     "name": "stdout",
     "output_type": "stream",
     "text": [
      "Note: this plot must be opened in the Vega editor for interactive features to work\n"
     ]
    },
    {
     "data": {
      "text/html": [
       "\n",
       "<div id=\"altair-viz-a16aa17620f744a6b91e166950223f84\"></div>\n",
       "<script type=\"text/javascript\">\n",
       "  (function(spec, embedOpt){\n",
       "    let outputDiv = document.currentScript.previousElementSibling;\n",
       "    if (outputDiv.id !== \"altair-viz-a16aa17620f744a6b91e166950223f84\") {\n",
       "      outputDiv = document.getElementById(\"altair-viz-a16aa17620f744a6b91e166950223f84\");\n",
       "    }\n",
       "    const paths = {\n",
       "      \"vega\": \"https://cdn.jsdelivr.net/npm//vega@5?noext\",\n",
       "      \"vega-lib\": \"https://cdn.jsdelivr.net/npm//vega-lib?noext\",\n",
       "      \"vega-lite\": \"https://cdn.jsdelivr.net/npm//vega-lite@4.8.1?noext\",\n",
       "      \"vega-embed\": \"https://cdn.jsdelivr.net/npm//vega-embed@6?noext\",\n",
       "    };\n",
       "\n",
       "    function loadScript(lib) {\n",
       "      return new Promise(function(resolve, reject) {\n",
       "        var s = document.createElement('script');\n",
       "        s.src = paths[lib];\n",
       "        s.async = true;\n",
       "        s.onload = () => resolve(paths[lib]);\n",
       "        s.onerror = () => reject(`Error loading script: ${paths[lib]}`);\n",
       "        document.getElementsByTagName(\"head\")[0].appendChild(s);\n",
       "      });\n",
       "    }\n",
       "\n",
       "    function showError(err) {\n",
       "      outputDiv.innerHTML = `<div class=\"error\" style=\"color:red;\">${err}</div>`;\n",
       "      throw err;\n",
       "    }\n",
       "\n",
       "    function displayChart(vegaEmbed) {\n",
       "      vegaEmbed(outputDiv, spec, embedOpt)\n",
       "        .catch(err => showError(`Javascript Error: ${err.message}<br>This usually means there's a typo in your chart specification. See the javascript console for the full traceback.`));\n",
       "    }\n",
       "\n",
       "    if(typeof define === \"function\" && define.amd) {\n",
       "      requirejs.config({paths});\n",
       "      require([\"vega-embed\"], displayChart, err => showError(`Error loading script: ${err.message}`));\n",
       "    } else if (typeof vegaEmbed === \"function\") {\n",
       "      displayChart(vegaEmbed);\n",
       "    } else {\n",
       "      loadScript(\"vega\")\n",
       "        .then(() => loadScript(\"vega-lite\"))\n",
       "        .then(() => loadScript(\"vega-embed\"))\n",
       "        .catch(showError)\n",
       "        .then(() => displayChart(vegaEmbed));\n",
       "    }\n",
       "  })({\"config\": {\"view\": {\"continuousWidth\": 400, \"continuousHeight\": 300}}, \"vconcat\": [{\"layer\": [{\"data\": {\"name\": \"data-a51439f2f4fc1684841d2e733af4f041\"}, \"mark\": {\"type\": \"rect\", \"opacity\": 0.4}, \"encoding\": {\"color\": {\"type\": \"nominal\", \"field\": \"altname\", \"scale\": {\"domain\": [\"exon\", \"noncoding\"], \"range\": [\"cornflowerblue\", \"mediumvioletred\"]}}, \"tooltip\": [{\"type\": \"nominal\", \"field\": \"type\", \"title\": \"Element Type\"}, {\"type\": \"nominal\", \"field\": \"altname\", \"title\": \"Name\"}, {\"type\": \"quantitative\", \"field\": \"length\", \"title\": \"Length\"}, {\"type\": \"quantitative\", \"field\": \"x1\", \"title\": \"Start\"}, {\"type\": \"quantitative\", \"field\": \"x2\", \"title\": \"Stop\"}], \"x\": {\"type\": \"quantitative\", \"axis\": {\"title\": \"Base Pairs\"}, \"field\": \"x1\"}, \"x2\": {\"field\": \"x2\"}, \"y\": {\"type\": \"quantitative\", \"axis\": null, \"field\": \"y1\"}, \"y2\": {\"field\": \"y2\"}}, \"width\": 850}, {\"data\": {\"name\": \"data-34f9fb5e3fdb2e42e070b33d3ba473b5\"}, \"mark\": {\"type\": \"rule\", \"color\": \"mediumblue\"}, \"encoding\": {\"size\": {\"value\": 1.5}, \"tooltip\": [{\"type\": \"quantitative\", \"field\": \"x\", \"title\": \"Position\"}], \"x\": {\"type\": \"quantitative\", \"field\": \"x\"}}}], \"encoding\": {\"x\": {\"type\": \"quantitative\", \"field\": \"x1\", \"scale\": {\"domain\": {\"selection\": \"selector002\"}}, \"title\": null}}, \"height\": 80}, {\"layer\": [{\"data\": {\"name\": \"data-a51439f2f4fc1684841d2e733af4f041\"}, \"mark\": {\"type\": \"rect\", \"opacity\": 0.4}, \"encoding\": {\"color\": {\"type\": \"nominal\", \"field\": \"altname\", \"scale\": {\"domain\": [\"exon\", \"noncoding\"], \"range\": [\"cornflowerblue\", \"mediumvioletred\"]}}, \"tooltip\": [{\"type\": \"nominal\", \"field\": \"type\", \"title\": \"Element Type\"}, {\"type\": \"nominal\", \"field\": \"altname\", \"title\": \"Name\"}, {\"type\": \"quantitative\", \"field\": \"length\", \"title\": \"Length\"}, {\"type\": \"quantitative\", \"field\": \"x1\", \"title\": \"Start\"}, {\"type\": \"quantitative\", \"field\": \"x2\", \"title\": \"Stop\"}], \"x\": {\"type\": \"quantitative\", \"axis\": {\"title\": \"Base Pairs\"}, \"field\": \"x1\"}, \"x2\": {\"field\": \"x2\"}, \"y\": {\"type\": \"quantitative\", \"axis\": null, \"field\": \"y1\"}, \"y2\": {\"field\": \"y2\"}}, \"selection\": {\"selector002\": {\"type\": \"interval\", \"encodings\": [\"x\"], \"mark\": {\"fill\": \"red\", \"fillOpacity\": 0.7}}}, \"width\": 850}, {\"data\": {\"name\": \"data-34f9fb5e3fdb2e42e070b33d3ba473b5\"}, \"mark\": {\"type\": \"rule\", \"color\": \"mediumblue\"}, \"encoding\": {\"size\": {\"value\": 1.5}, \"tooltip\": [{\"type\": \"quantitative\", \"field\": \"x\", \"title\": \"Position\"}], \"x\": {\"type\": \"quantitative\", \"field\": \"x\"}}}], \"height\": 30}], \"$schema\": \"https://vega.github.io/schema/vega-lite/v4.8.1.json\", \"datasets\": {\"data-a51439f2f4fc1684841d2e733af4f041\": [{\"type\": \"noncoding\", \"altname\": \"noncoding\", \"x1\": 0, \"x2\": 252.0, \"y1\": 0, \"y2\": 1, \"length\": 252.0}, {\"type\": \"exon\", \"altname\": \"exon\", \"x1\": 253, \"x2\": 1776.0, \"y1\": 0, \"y2\": 1, \"length\": 1523.0}, {\"type\": \"noncoding\", \"altname\": \"noncoding\", \"x1\": 1777, \"x2\": 1999.0, \"y1\": 0, \"y2\": 1, \"length\": 222.0}], \"data-34f9fb5e3fdb2e42e070b33d3ba473b5\": [{\"x\": 50.54796813055873}, {\"x\": 67.98622850328684}, {\"x\": 96.2935728020966}, {\"x\": 109.48266414925456}, {\"x\": 135.96429210156202}, {\"x\": 188.63361841067672}, {\"x\": 200.00646403059363}, {\"x\": 280.89141473174095}, {\"x\": 282.9734617844224}, {\"x\": 282.9923452809453}, {\"x\": 287.29579458013177}, {\"x\": 292.5417381338775}, {\"x\": 293.2935976423323}, {\"x\": 313.0860053934157}, {\"x\": 545.7243886776268}, {\"x\": 548.0}, {\"x\": 565.0}, {\"x\": 596.0}, {\"x\": 629.5256186276674}, {\"x\": 637.503509875387}, {\"x\": 644.4822032935917}, {\"x\": 703.0}, {\"x\": 725.2059271559119}, {\"x\": 746.4895071461797}, {\"x\": 754.6532452106476}, {\"x\": 773.0}, {\"x\": 793.0}, {\"x\": 800.4040662199259}, {\"x\": 857.0}, {\"x\": 872.6050010882318}, {\"x\": 873.0}, {\"x\": 884.9623780697584}, {\"x\": 901.9835717044771}, {\"x\": 905.0}, {\"x\": 918.2038540020585}, {\"x\": 923.2041477225721}, {\"x\": 967.0505514368415}, {\"x\": 974.0}, {\"x\": 981.0}, {\"x\": 986.0}, {\"x\": 1026.1947065591812}, {\"x\": 1026.6848411411047}, {\"x\": 1064.0}, {\"x\": 1066.3676913827658}, {\"x\": 1069.0}, {\"x\": 1103.216972667724}, {\"x\": 1120.0}, {\"x\": 1123.4033559449017}, {\"x\": 1128.0}, {\"x\": 1136.0}, {\"x\": 1140.0}, {\"x\": 1180.0}, {\"x\": 1195.248268544674}, {\"x\": 1206.0}, {\"x\": 1258.0}, {\"x\": 1288.3738954551518}, {\"x\": 1291.0}, {\"x\": 1318.0}, {\"x\": 1321.0}, {\"x\": 1324.0}, {\"x\": 1339.610745664686}, {\"x\": 1351.0}, {\"x\": 1355.7537491433322}, {\"x\": 1373.0}, {\"x\": 1385.0}, {\"x\": 1406.3666379079223}, {\"x\": 1416.0}, {\"x\": 1447.0}, {\"x\": 1500.7886430248618}, {\"x\": 1508.0}, {\"x\": 1556.8831474520266}, {\"x\": 1595.0}, {\"x\": 1597.1517604775727}, {\"x\": 1600.0}, {\"x\": 1607.0}, {\"x\": 1654.0}, {\"x\": 1659.6597512252629}, {\"x\": 1661.0198426060379}, {\"x\": 1674.0}, {\"x\": 1705.0105007365346}, {\"x\": 1708.826965186745}, {\"x\": 1717.5624389201403}, {\"x\": 1724.0}, {\"x\": 1757.0}, {\"x\": 1784.7921662032604}, {\"x\": 1801.9028455018997}, {\"x\": 1802.873293403536}, {\"x\": 1835.7192925177515}, {\"x\": 1842.2776511870325}, {\"x\": 1843.1593007408082}, {\"x\": 1844.7422892786562}, {\"x\": 1845.9620205685496}, {\"x\": 1921.8540857546031}, {\"x\": 1958.2125865854323}]}}, {\"mode\": \"vega-lite\"});\n",
       "</script>"
      ]
     },
     "metadata": {},
     "output_type": "display_data"
    }
   ],
   "source": [
    "postslim.zoomplot()"
   ]
  },
  {
   "cell_type": "markdown",
   "metadata": {},
   "source": [
    "### dN/dS\n",
    "Right now, dN/dS is calculated for all mutations that occured in the simulation across all individuals of the population. This calculation needs a lot of work and will depend on changes to simulation design"
   ]
  },
  {
   "cell_type": "code",
   "execution_count": 11,
   "metadata": {},
   "outputs": [
    {
     "name": "stdout",
     "output_type": "stream",
     "text": [
      "dN/dS for the whole genome = 1.393939393939394\n"
     ]
    }
   ],
   "source": [
    "postslim.dNdS()"
   ]
  },
  {
   "cell_type": "markdown",
   "metadata": {},
   "source": [
    "### Mk-Test\n",
    "*to add*"
   ]
  },
  {
   "cell_type": "markdown",
   "metadata": {},
   "source": [
    "## Reading in a .trees file\n",
    "It is optional (and, for new users and/or small simulations, encouraged!) for the user to take the `shadie.slim` file, copy its contents into the SLiMgui, and run the simulation from there. Doing so will provide real-time graphics and lots of information about what is going on while the simulation runs. \n",
    "\n",
    "If you have decided to do this, you will just need to make sure the output `shadie.trees` file (or whatever filename you specified) is saved in the same directory where `shadie` saved the `shadie.slim` file. This will ensure the smoothest transition back to `shadie` for post-sim analysis. \n",
    "\n",
    "If, however, you only have a .trees file and you'd like to read it in, that can also be done. However, if PostSim is missing the Shadie object used to generate the file, it will not be able to do things such as graph mutations onto the chromosome.  "
   ]
  },
  {
   "cell_type": "code",
   "execution_count": 2,
   "metadata": {},
   "outputs": [
    {
     "name": "stdout",
     "output_type": "stream",
     "text": [
      "The tree sequence now has 109 mutations, and mean pairwise nucleotide diversity is 0.0023864982091230847.\n"
     ]
    }
   ],
   "source": [
    "readtest = PostSim(file = \"../../../../../../Desktop/shadie.trees\")"
   ]
  },
  {
   "cell_type": "code",
   "execution_count": 3,
   "metadata": {},
   "outputs": [
    {
     "name": "stdout",
     "output_type": "stream",
     "text": [
      "Note: this plot does not contain neutral mutations overlaid with `msprime`.\n"
     ]
    },
    {
     "data": {
      "text/html": [
       "\n",
       "<div id=\"altair-viz-502b4c7c27b642a4be62a451fdb1b555\"></div>\n",
       "<script type=\"text/javascript\">\n",
       "  (function(spec, embedOpt){\n",
       "    let outputDiv = document.currentScript.previousElementSibling;\n",
       "    if (outputDiv.id !== \"altair-viz-502b4c7c27b642a4be62a451fdb1b555\") {\n",
       "      outputDiv = document.getElementById(\"altair-viz-502b4c7c27b642a4be62a451fdb1b555\");\n",
       "    }\n",
       "    const paths = {\n",
       "      \"vega\": \"https://cdn.jsdelivr.net/npm//vega@5?noext\",\n",
       "      \"vega-lib\": \"https://cdn.jsdelivr.net/npm//vega-lib?noext\",\n",
       "      \"vega-lite\": \"https://cdn.jsdelivr.net/npm//vega-lite@4.8.1?noext\",\n",
       "      \"vega-embed\": \"https://cdn.jsdelivr.net/npm//vega-embed@6?noext\",\n",
       "    };\n",
       "\n",
       "    function loadScript(lib) {\n",
       "      return new Promise(function(resolve, reject) {\n",
       "        var s = document.createElement('script');\n",
       "        s.src = paths[lib];\n",
       "        s.async = true;\n",
       "        s.onload = () => resolve(paths[lib]);\n",
       "        s.onerror = () => reject(`Error loading script: ${paths[lib]}`);\n",
       "        document.getElementsByTagName(\"head\")[0].appendChild(s);\n",
       "      });\n",
       "    }\n",
       "\n",
       "    function showError(err) {\n",
       "      outputDiv.innerHTML = `<div class=\"error\" style=\"color:red;\">${err}</div>`;\n",
       "      throw err;\n",
       "    }\n",
       "\n",
       "    function displayChart(vegaEmbed) {\n",
       "      vegaEmbed(outputDiv, spec, embedOpt)\n",
       "        .catch(err => showError(`Javascript Error: ${err.message}<br>This usually means there's a typo in your chart specification. See the javascript console for the full traceback.`));\n",
       "    }\n",
       "\n",
       "    if(typeof define === \"function\" && define.amd) {\n",
       "      requirejs.config({paths});\n",
       "      require([\"vega-embed\"], displayChart, err => showError(`Error loading script: ${err.message}`));\n",
       "    } else if (typeof vegaEmbed === \"function\") {\n",
       "      displayChart(vegaEmbed);\n",
       "    } else {\n",
       "      loadScript(\"vega\")\n",
       "        .then(() => loadScript(\"vega-lite\"))\n",
       "        .then(() => loadScript(\"vega-embed\"))\n",
       "        .catch(showError)\n",
       "        .then(() => displayChart(vegaEmbed));\n",
       "    }\n",
       "  })({\"config\": {\"view\": {\"continuousWidth\": 400, \"continuousHeight\": 300}}, \"layer\": [{\"mark\": {\"type\": \"bar\", \"color\": \"cornflowerblue\", \"opacity\": 0.5}, \"encoding\": {\"color\": {\"condition\": {\"value\": \"lightseagreen\", \"test\": \"(datum.values > 0)\"}, \"value\": \"indianred\"}, \"tooltip\": [{\"type\": \"quantitative\", \"field\": \"values\", \"title\": \"Fitness Effect\"}], \"x\": {\"type\": \"quantitative\", \"axis\": {\"title\": \"Fitness Effect\"}, \"field\": \"values\"}, \"y\": {\"type\": \"quantitative\", \"field\": \"counts\"}}}, {\"mark\": {\"type\": \"rule\", \"color\": \"goldenrod\", \"opacity\": 0.4}, \"encoding\": {\"size\": {\"value\": 3}, \"tooltip\": [{\"type\": \"quantitative\", \"aggregate\": \"mean\", \"field\": \"values\", \"title\": \"Mean Fitness Effect\"}], \"x\": {\"type\": \"quantitative\", \"field\": \"mean\"}}}], \"data\": {\"name\": \"data-00bca4170fcb362343b2ec489206efad\"}, \"$schema\": \"https://vega.github.io/schema/vega-lite/v4.8.1.json\", \"datasets\": {\"data-00bca4170fcb362343b2ec489206efad\": [{\"values\": -0.21258555352687836, \"counts\": 1, \"mean\": -0.00460540940888434}, {\"values\": -0.20393916696310044, \"counts\": 0, \"mean\": -0.00460540940888434}, {\"values\": -0.19529278039932252, \"counts\": 0, \"mean\": -0.00460540940888434}, {\"values\": -0.1866463938355446, \"counts\": 0, \"mean\": -0.00460540940888434}, {\"values\": -0.17800000727176665, \"counts\": 0, \"mean\": -0.00460540940888434}, {\"values\": -0.16935362070798873, \"counts\": 0, \"mean\": -0.00460540940888434}, {\"values\": -0.16070723414421081, \"counts\": 0, \"mean\": -0.00460540940888434}, {\"values\": -0.1520608475804329, \"counts\": 0, \"mean\": -0.00460540940888434}, {\"values\": -0.14341446101665495, \"counts\": 0, \"mean\": -0.00460540940888434}, {\"values\": -0.13476807445287703, \"counts\": 0, \"mean\": -0.00460540940888434}, {\"values\": -0.1261216878890991, \"counts\": 0, \"mean\": -0.00460540940888434}, {\"values\": -0.11747530132532119, \"counts\": 0, \"mean\": -0.00460540940888434}, {\"values\": -0.10882891476154327, \"counts\": 0, \"mean\": -0.00460540940888434}, {\"values\": -0.10018252819776534, \"counts\": 0, \"mean\": -0.00460540940888434}, {\"values\": -0.09153614163398742, \"counts\": 0, \"mean\": -0.00460540940888434}, {\"values\": -0.08288975507020949, \"counts\": 0, \"mean\": -0.00460540940888434}, {\"values\": -0.07424336850643157, \"counts\": 0, \"mean\": -0.00460540940888434}, {\"values\": -0.06559698194265365, \"counts\": 0, \"mean\": -0.00460540940888434}, {\"values\": -0.05695059537887573, \"counts\": 0, \"mean\": -0.00460540940888434}, {\"values\": -0.04830420881509778, \"counts\": 0, \"mean\": -0.00460540940888434}, {\"values\": -0.03965782225131986, \"counts\": 0, \"mean\": -0.00460540940888434}, {\"values\": -0.031011435687541944, \"counts\": 1, \"mean\": -0.00460540940888434}, {\"values\": -0.022365049123764025, \"counts\": 3, \"mean\": -0.00460540940888434}, {\"values\": -0.013718662559986106, \"counts\": 1, \"mean\": -0.00460540940888434}, {\"values\": -0.0050722759962081865, \"counts\": 11, \"mean\": -0.00460540940888434}, {\"values\": 0.0035741105675697604, \"counts\": 0, \"mean\": -0.00460540940888434}, {\"values\": 0.01222049713134768, \"counts\": 0, \"mean\": -0.00460540940888434}, {\"values\": 0.0208668836951256, \"counts\": 0, \"mean\": -0.00460540940888434}, {\"values\": 0.029513270258903518, \"counts\": 0, \"mean\": -0.00460540940888434}, {\"values\": 0.038159656822681465, \"counts\": 0, \"mean\": -0.00460540940888434}, {\"values\": 0.046806043386459384, \"counts\": 0, \"mean\": -0.00460540940888434}, {\"values\": 0.0554524299502373, \"counts\": 0, \"mean\": -0.00460540940888434}, {\"values\": 0.06409881651401522, \"counts\": 0, \"mean\": -0.00460540940888434}, {\"values\": 0.07274520307779314, \"counts\": 0, \"mean\": -0.00460540940888434}, {\"values\": 0.08139158964157106, \"counts\": 0, \"mean\": -0.00460540940888434}, {\"values\": 0.09003797620534898, \"counts\": 0, \"mean\": -0.00460540940888434}, {\"values\": 0.0986843627691269, \"counts\": 0, \"mean\": -0.00460540940888434}, {\"values\": 0.10733074933290482, \"counts\": 0, \"mean\": -0.00460540940888434}, {\"values\": 0.11597713589668279, \"counts\": 0, \"mean\": -0.00460540940888434}, {\"values\": 0.12462352246046071, \"counts\": 0, \"mean\": -0.00460540940888434}, {\"values\": 0.13326990902423863, \"counts\": 0, \"mean\": -0.00460540940888434}, {\"values\": 0.14191629558801655, \"counts\": 0, \"mean\": -0.00460540940888434}, {\"values\": 0.15056268215179447, \"counts\": 0, \"mean\": -0.00460540940888434}, {\"values\": 0.1592090687155724, \"counts\": 0, \"mean\": -0.00460540940888434}, {\"values\": 0.1678554552793503, \"counts\": 0, \"mean\": -0.00460540940888434}, {\"values\": 0.17650184184312823, \"counts\": 0, \"mean\": -0.00460540940888434}, {\"values\": 0.18514822840690615, \"counts\": 0, \"mean\": -0.00460540940888434}, {\"values\": 0.19379461497068406, \"counts\": 0, \"mean\": -0.00460540940888434}, {\"values\": 0.20244100153446198, \"counts\": 0, \"mean\": -0.00460540940888434}, {\"values\": 0.21108738809823996, \"counts\": 1, \"mean\": -0.00460540940888434}]}}, {\"mode\": \"vega-lite\"});\n",
       "</script>"
      ]
     },
     "metadata": {},
     "output_type": "display_data"
    },
    {
     "name": "stdout",
     "output_type": "stream",
     "text": [
      "Total mutations: 109\n",
      "Neutral mutations: 91\n",
      "Non-neutral mutations: 18\n",
      "\n",
      "Mutation positions along chromosome:\n"
     ]
    },
    {
     "ename": "AttributeError",
     "evalue": "'PostSim' object has no attribute 'genome'",
     "output_type": "error",
     "traceback": [
      "\u001b[0;31m---------------------------------------------------------------------------\u001b[0m",
      "\u001b[0;31mAttributeError\u001b[0m                            Traceback (most recent call last)",
      "\u001b[0;32m<ipython-input-3-58bc7fa905b0>\u001b[0m in \u001b[0;36m<module>\u001b[0;34m\u001b[0m\n\u001b[0;32m----> 1\u001b[0;31m \u001b[0mreadtest\u001b[0m\u001b[0;34m.\u001b[0m\u001b[0msummary\u001b[0m\u001b[0;34m(\u001b[0m\u001b[0;34m)\u001b[0m\u001b[0;34m\u001b[0m\u001b[0;34m\u001b[0m\u001b[0m\n\u001b[0m",
      "\u001b[0;32m~/code/git/hacks/shadie/shadie/postsim.py\u001b[0m in \u001b[0;36msummary\u001b[0;34m(self)\u001b[0m\n\u001b[1;32m    121\u001b[0m         \u001b[0;31m#static toyplot\u001b[0m\u001b[0;34m\u001b[0m\u001b[0;34m\u001b[0m\u001b[0;34m\u001b[0m\u001b[0m\n\u001b[1;32m    122\u001b[0m         \u001b[0mprint\u001b[0m\u001b[0;34m(\u001b[0m\u001b[0;34m\"Mutation positions along chromosome:\"\u001b[0m\u001b[0;34m)\u001b[0m\u001b[0;34m\u001b[0m\u001b[0;34m\u001b[0m\u001b[0m\n\u001b[0;32m--> 123\u001b[0;31m         \u001b[0mchrom\u001b[0m \u001b[0;34m=\u001b[0m \u001b[0mChromosome\u001b[0m\u001b[0;34m(\u001b[0m\u001b[0mself\u001b[0m\u001b[0;34m.\u001b[0m\u001b[0mgenome\u001b[0m\u001b[0;34m)\u001b[0m\u001b[0;34m\u001b[0m\u001b[0;34m\u001b[0m\u001b[0m\n\u001b[0m\u001b[1;32m    124\u001b[0m         \u001b[0mchrom\u001b[0m\u001b[0;34m.\u001b[0m\u001b[0mtoyplot\u001b[0m\u001b[0;34m(\u001b[0m\u001b[0;34m)\u001b[0m\u001b[0;34m\u001b[0m\u001b[0;34m\u001b[0m\u001b[0m\n\u001b[1;32m    125\u001b[0m         \u001b[0mself\u001b[0m\u001b[0;34m.\u001b[0m\u001b[0mrectangles\u001b[0m \u001b[0;34m=\u001b[0m \u001b[0mchrom\u001b[0m\u001b[0;34m.\u001b[0m\u001b[0mrectangles\u001b[0m\u001b[0;34m\u001b[0m\u001b[0;34m\u001b[0m\u001b[0m\n",
      "\u001b[0;31mAttributeError\u001b[0m: 'PostSim' object has no attribute 'genome'"
     ]
    }
   ],
   "source": [
    "readtest.summary()"
   ]
  },
  {
   "cell_type": "code",
   "execution_count": 6,
   "metadata": {},
   "outputs": [
    {
     "ename": "AttributeError",
     "evalue": "'PostSim' object has no attribute 'genemap'",
     "output_type": "error",
     "traceback": [
      "\u001b[0;31m---------------------------------------------------------------------------\u001b[0m",
      "\u001b[0;31mAttributeError\u001b[0m                            Traceback (most recent call last)",
      "\u001b[0;32m<ipython-input-6-36a79ab1077e>\u001b[0m in \u001b[0;36m<module>\u001b[0;34m\u001b[0m\n\u001b[0;32m----> 1\u001b[0;31m \u001b[0mreadtest\u001b[0m\u001b[0;34m.\u001b[0m\u001b[0mdNdS\u001b[0m\u001b[0;34m(\u001b[0m\u001b[0;34m)\u001b[0m\u001b[0;34m\u001b[0m\u001b[0;34m\u001b[0m\u001b[0m\n\u001b[0m",
      "\u001b[0;32m~/code/git/hacks/shadie/shadie/postsim.py\u001b[0m in \u001b[0;36mdNdS\u001b[0;34m(self)\u001b[0m\n\u001b[1;32m    176\u001b[0m         \u001b[0;34m\"calculate dN/dS\"\u001b[0m\u001b[0;34m\u001b[0m\u001b[0;34m\u001b[0m\u001b[0m\n\u001b[1;32m    177\u001b[0m         \u001b[0mranges\u001b[0m \u001b[0;34m=\u001b[0m \u001b[0;34m[\u001b[0m\u001b[0;34m]\u001b[0m\u001b[0;34m\u001b[0m\u001b[0;34m\u001b[0m\u001b[0m\n\u001b[0;32m--> 178\u001b[0;31m         \u001b[0;32mfor\u001b[0m \u001b[0mindex\u001b[0m\u001b[0;34m,\u001b[0m \u001b[0mrow\u001b[0m \u001b[0;32min\u001b[0m \u001b[0mself\u001b[0m\u001b[0;34m.\u001b[0m\u001b[0mgenemap\u001b[0m\u001b[0;34m.\u001b[0m\u001b[0miterrows\u001b[0m\u001b[0;34m(\u001b[0m\u001b[0;34m)\u001b[0m\u001b[0;34m:\u001b[0m\u001b[0;34m\u001b[0m\u001b[0;34m\u001b[0m\u001b[0m\n\u001b[0m\u001b[1;32m    179\u001b[0m             \u001b[0mranges\u001b[0m\u001b[0;34m.\u001b[0m\u001b[0mappend\u001b[0m\u001b[0;34m(\u001b[0m\u001b[0mrange\u001b[0m\u001b[0;34m(\u001b[0m\u001b[0mrow\u001b[0m\u001b[0;34m[\u001b[0m\u001b[0;34m'exonstart'\u001b[0m\u001b[0;34m]\u001b[0m\u001b[0;34m,\u001b[0m \u001b[0mrow\u001b[0m\u001b[0;34m[\u001b[0m\u001b[0;34m'exonstop'\u001b[0m\u001b[0;34m]\u001b[0m\u001b[0;34m)\u001b[0m\u001b[0;34m)\u001b[0m\u001b[0;34m\u001b[0m\u001b[0;34m\u001b[0m\u001b[0m\n\u001b[1;32m    180\u001b[0m \u001b[0;34m\u001b[0m\u001b[0m\n",
      "\u001b[0;31mAttributeError\u001b[0m: 'PostSim' object has no attribute 'genemap'"
     ]
    }
   ],
   "source": []
  },
  {
   "cell_type": "code",
   "execution_count": null,
   "metadata": {},
   "outputs": [],
   "source": []
  }
 ],
 "metadata": {
  "kernelspec": {
   "display_name": "Python 3",
   "language": "python",
   "name": "python3"
  },
  "language_info": {
   "codemirror_mode": {
    "name": "ipython",
    "version": 3
   },
   "file_extension": ".py",
   "mimetype": "text/x-python",
   "name": "python",
   "nbconvert_exporter": "python",
   "pygments_lexer": "ipython3",
   "version": "3.8.6"
  }
 },
 "nbformat": 4,
 "nbformat_minor": 4
}
