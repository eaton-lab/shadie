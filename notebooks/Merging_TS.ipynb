{
 "cells": [
  {
   "cell_type": "code",
   "execution_count": 4,
   "metadata": {},
   "outputs": [],
   "source": [
    "import os\n",
    "import subprocess\n",
    "import tskit\n",
    "import msprime\n",
    "import pyslim"
   ]
  },
  {
   "cell_type": "code",
   "execution_count": 5,
   "metadata": {},
   "outputs": [],
   "source": [
    "SLIM_SCRIPT = \"\"\"\n",
    "    initialize() {{\n",
    "       setSeed({seed});\n",
    "       initializeSLiMModelType(\"nonWF\");\n",
    "       initializeSex(\"A\");\n",
    "       initializeTreeSeq();\n",
    "       initializeMutationRate(1e-8);\n",
    "       initializeMutationType(\"m1\", 0.5, \"f\", 0.0);\n",
    "       initializeGenomicElementType(\"g1\", m1, 1.0);\n",
    "       initializeGenomicElement(g1, 0, 1e8-1);\n",
    "       initializeRecombinationRate(1e-8);    \n",
    "       defineConstant(\"K\", 1000);\n",
    "    }}\n",
    "\n",
    "    reproduction(p1, \"F\") {{\n",
    "       subpop.addCrossed(individual,\n",
    "                         subpop.sampleIndividuals(1, sex=\"M\"));\n",
    "    }}\n",
    "\n",
    "    1 early() {{\n",
    "       sim.addSubpop(\"p1\", K);\n",
    "    }}\n",
    "\n",
    "    early() {{\n",
    "       p1.fitnessScaling = K / p1.individualCount;\n",
    "    }}\n",
    "\n",
    "    1000 late() {{\n",
    "       sim.treeSeqOutput(\"/tmp/{name}.trees\");\n",
    "    }}\n",
    "\"\"\"\n"
   ]
  },
  {
   "cell_type": "code",
   "execution_count": 6,
   "metadata": {},
   "outputs": [],
   "source": [
    "def slim_func(name, seed):\n",
    "    \"\"\"\n",
    "    Runs a simple simulation from a starting seed, \n",
    "    saves a treesequence, loads the finished ts with\n",
    "    pyslim, and returns the SlimTreeSequence object.\n",
    "    \"\"\"\n",
    "    # write slim script to temp file\n",
    "    script_path = os.path.join(\"/tmp\", name + \".slim\")\n",
    "    with open(script_path, 'w') as out:\n",
    "        out.write(SLIM_SCRIPT.format(seed=seed, name=name))\n",
    "        \n",
    "    # run slim\n",
    "    subprocess.run(\n",
    "        ['slim', script_path], \n",
    "        stdout=subprocess.DEVNULL, \n",
    "        stderr=subprocess.STDOUT, \n",
    "        check=True,\n",
    "    )\n",
    "    \n",
    "    # load the tree sequence\n",
    "    mts = pyslim.load(f'/tmp/{name}.trees')\n",
    "    return mts"
   ]
  },
  {
   "cell_type": "code",
   "execution_count": 7,
   "metadata": {},
   "outputs": [],
   "source": [
    "# simulate 100 gens of selection on a large genome\n",
    "ts0 = slim_func('ts0', 123)\n",
    "ts1 = slim_func('ts1', 321)"
   ]
  },
  {
   "cell_type": "code",
   "execution_count": 8,
   "metadata": {},
   "outputs": [
    {
     "data": {
      "text/html": [
       "\n",
       "            <div>\n",
       "              <style>\n",
       "                .tskit-table thead tr th {text-align: left;}\n",
       "                .tskit-table tbody tr td:first-of-type {text-align: left;}\n",
       "                .tskit-details-label {vertical-align: top; padding-right:5px;}\n",
       "                .tskit-table-set {display: inline-flex;flex-wrap: wrap;margin: -12px 0 0 -12px;width: calc(100% + 12px);}\n",
       "                .tskit-table-set-table {margin: 12px 0 0 12px;}\n",
       "                details {display: inline-block;}\n",
       "                summary {cursor: pointer; outline: 0; display: list-item;}\n",
       "              </style>\n",
       "              <div class=\"tskit-table-set\">\n",
       "                <div class=\"tskit-table-set-table\">\n",
       "                  <table class=\"tskit-table\">\n",
       "                    <thead>\n",
       "                      <tr>\n",
       "                        <th style=\"padding:0;line-height:21px;\">\n",
       "                          <img style=\"height: 32px;display: inline-block;padding: 3px 5px 3px 0;\"src=\"https://raw.githubusercontent.com/tskit-dev/administrative/main/tskit_logo.svg\"/>\n",
       "                          <a target=\"_blank\" href=\"https://tskit.readthedocs.io/en/latest/python-api.html#the-treesequence-class\"> Tree Sequence\n",
       "                        </th>\n",
       "                      </tr>\n",
       "                    </thead>\n",
       "                    <tbody>\n",
       "                      <tr><td>Trees</td><td>15040</td></tr>\n",
       "                      <tr><td>Sequence Length</td><td>100000000.0</td></tr>\n",
       "                      <tr><td>Sample Nodes</td><td>1950</td></tr>\n",
       "                      <tr><td>Total Size</td><td>3.1 MiB</td></tr>\n",
       "                      <tr>\n",
       "                        <td>Metadata</td><td style=\"text-align: left;\">\n",
       "                <div>\n",
       "                  <span class=\"tskit-details-label\"></span>\n",
       "                  <details open>\n",
       "                    <summary>dict</summary>\n",
       "                    \n",
       "                <div>\n",
       "                  <span class=\"tskit-details-label\">SLiM:</span>\n",
       "                  <details >\n",
       "                    <summary>dict</summary>\n",
       "                    file_version: 0.6<br/>generation: 1000<br/>model_type: nonWF<br/>nucleotide_based: False<br/>separate_sexes: True<br/>spatial_dimensionality: <br/>spatial_periodicity: <br/>stage: late<br/>\n",
       "                  </details>\n",
       "                </div>\n",
       "                <br/>\n",
       "                  </details>\n",
       "                </div>\n",
       "                </td></tr>\n",
       "                    </tbody>\n",
       "                  </table>\n",
       "                </div>\n",
       "                <div class=\"tskit-table-set-table\">\n",
       "                  <table class=\"tskit-table\">\n",
       "                    <thead>\n",
       "                      <tr>\n",
       "                        <th style=\"line-height:21px;\">Table</th>\n",
       "                        <th>Rows</th>\n",
       "                        <th>Size</th>\n",
       "                        <th>Has Metadata</th>\n",
       "                      </tr>\n",
       "                    </thead>\n",
       "                    <tbody>\n",
       "                    \n",
       "                  <tr>\n",
       "                    <td>Edges</td>\n",
       "                      <td>52210</td>\n",
       "                      <td>1.4 MiB</td>\n",
       "                      <td style=\"text-align: center;\">\n",
       "                        \n",
       "                      </td>\n",
       "                    </tr>\n",
       "                \n",
       "                  <tr>\n",
       "                    <td>Individuals</td>\n",
       "                      <td>975</td>\n",
       "                      <td>58.6 KiB</td>\n",
       "                      <td style=\"text-align: center;\">\n",
       "                        ✅\n",
       "                      </td>\n",
       "                    </tr>\n",
       "                \n",
       "                  <tr>\n",
       "                    <td>Migrations</td>\n",
       "                      <td>0</td>\n",
       "                      <td>4 Bytes</td>\n",
       "                      <td style=\"text-align: center;\">\n",
       "                        \n",
       "                      </td>\n",
       "                    </tr>\n",
       "                \n",
       "                  <tr>\n",
       "                    <td>Mutations</td>\n",
       "                      <td>15025</td>\n",
       "                      <td>749.2 KiB</td>\n",
       "                      <td style=\"text-align: center;\">\n",
       "                        ✅\n",
       "                      </td>\n",
       "                    </tr>\n",
       "                \n",
       "                  <tr>\n",
       "                    <td>Nodes</td>\n",
       "                      <td>9260</td>\n",
       "                      <td>308.1 KiB</td>\n",
       "                      <td style=\"text-align: center;\">\n",
       "                        ✅\n",
       "                      </td>\n",
       "                    </tr>\n",
       "                \n",
       "                  <tr>\n",
       "                    <td>Populations</td>\n",
       "                      <td>2</td>\n",
       "                      <td>2.8 KiB</td>\n",
       "                      <td style=\"text-align: center;\">\n",
       "                        ✅\n",
       "                      </td>\n",
       "                    </tr>\n",
       "                \n",
       "                  <tr>\n",
       "                    <td>Provenances</td>\n",
       "                      <td>1</td>\n",
       "                      <td>2.5 KiB</td>\n",
       "                      <td style=\"text-align: center;\">\n",
       "                        \n",
       "                      </td>\n",
       "                    </tr>\n",
       "                \n",
       "                  <tr>\n",
       "                    <td>Sites</td>\n",
       "                      <td>15024</td>\n",
       "                      <td>234.8 KiB</td>\n",
       "                      <td style=\"text-align: center;\">\n",
       "                        \n",
       "                      </td>\n",
       "                    </tr>\n",
       "                \n",
       "                    </tbody>\n",
       "                  </table>\n",
       "                </div>\n",
       "              </div>\n",
       "            </div>\n",
       "            "
      ],
      "text/plain": [
       "<pyslim.slim_tree_sequence.SlimTreeSequence at 0x7fc1561d56d0>"
      ]
     },
     "execution_count": 8,
     "metadata": {},
     "output_type": "execute_result"
    }
   ],
   "source": [
    "ts1"
   ]
  },
  {
   "cell_type": "code",
   "execution_count": 19,
   "metadata": {},
   "outputs": [],
   "source": [
    "# merge the two ts into one ts with 2 populations\n",
    "merged_ts = pyslim.SlimTreeSequence(\n",
    "    ts0.union(\n",
    "        ts1, \n",
    "        node_mapping=[tskit.NULL for i in range(ts1.num_nodes)],\n",
    "        add_populations=True,\n",
    "    )\n",
    ")"
   ]
  },
  {
   "cell_type": "code",
   "execution_count": 20,
   "metadata": {},
   "outputs": [
    {
     "data": {
      "text/html": [
       "\n",
       "            <div>\n",
       "              <style>\n",
       "                .tskit-table thead tr th {text-align: left;}\n",
       "                .tskit-table tbody tr td:first-of-type {text-align: left;}\n",
       "                .tskit-details-label {vertical-align: top; padding-right:5px;}\n",
       "                .tskit-table-set {display: inline-flex;flex-wrap: wrap;margin: -12px 0 0 -12px;width: calc(100% + 12px);}\n",
       "                .tskit-table-set-table {margin: 12px 0 0 12px;}\n",
       "                details {display: inline-block;}\n",
       "                summary {cursor: pointer; outline: 0; display: list-item;}\n",
       "              </style>\n",
       "              <div class=\"tskit-table-set\">\n",
       "                <div class=\"tskit-table-set-table\">\n",
       "                  <table class=\"tskit-table\">\n",
       "                    <thead>\n",
       "                      <tr>\n",
       "                        <th style=\"padding:0;line-height:21px;\">\n",
       "                          <img style=\"height: 32px;display: inline-block;padding: 3px 5px 3px 0;\"src=\"https://raw.githubusercontent.com/tskit-dev/administrative/main/tskit_logo.svg\"/>\n",
       "                          <a target=\"_blank\" href=\"https://tskit.readthedocs.io/en/latest/python-api.html#the-treesequence-class\"> Tree Sequence\n",
       "                        </th>\n",
       "                      </tr>\n",
       "                    </thead>\n",
       "                    <tbody>\n",
       "                      <tr><td>Trees</td><td>29372</td></tr>\n",
       "                      <tr><td>Sequence Length</td><td>100000000.0</td></tr>\n",
       "                      <tr><td>Sample Nodes</td><td>3956</td></tr>\n",
       "                      <tr><td>Total Size</td><td>6.1 MiB</td></tr>\n",
       "                      <tr>\n",
       "                        <td>Metadata</td><td style=\"text-align: left;\">\n",
       "                <div>\n",
       "                  <span class=\"tskit-details-label\"></span>\n",
       "                  <details open>\n",
       "                    <summary>dict</summary>\n",
       "                    \n",
       "                <div>\n",
       "                  <span class=\"tskit-details-label\">SLiM:</span>\n",
       "                  <details >\n",
       "                    <summary>dict</summary>\n",
       "                    file_version: 0.6<br/>generation: 1000<br/>model_type: nonWF<br/>nucleotide_based: False<br/>separate_sexes: True<br/>spatial_dimensionality: <br/>spatial_periodicity: <br/>stage: late<br/>\n",
       "                  </details>\n",
       "                </div>\n",
       "                <br/>\n",
       "                  </details>\n",
       "                </div>\n",
       "                </td></tr>\n",
       "                    </tbody>\n",
       "                  </table>\n",
       "                </div>\n",
       "                <div class=\"tskit-table-set-table\">\n",
       "                  <table class=\"tskit-table\">\n",
       "                    <thead>\n",
       "                      <tr>\n",
       "                        <th style=\"line-height:21px;\">Table</th>\n",
       "                        <th>Rows</th>\n",
       "                        <th>Size</th>\n",
       "                        <th>Has Metadata</th>\n",
       "                      </tr>\n",
       "                    </thead>\n",
       "                    <tbody>\n",
       "                    \n",
       "                  <tr>\n",
       "                    <td>Edges</td>\n",
       "                      <td>101492</td>\n",
       "                      <td>2.7 MiB</td>\n",
       "                      <td style=\"text-align: center;\">\n",
       "                        \n",
       "                      </td>\n",
       "                    </tr>\n",
       "                \n",
       "                  <tr>\n",
       "                    <td>Individuals</td>\n",
       "                      <td>1978</td>\n",
       "                      <td>117.4 KiB</td>\n",
       "                      <td style=\"text-align: center;\">\n",
       "                        ✅\n",
       "                      </td>\n",
       "                    </tr>\n",
       "                \n",
       "                  <tr>\n",
       "                    <td>Migrations</td>\n",
       "                      <td>0</td>\n",
       "                      <td>4 Bytes</td>\n",
       "                      <td style=\"text-align: center;\">\n",
       "                        \n",
       "                      </td>\n",
       "                    </tr>\n",
       "                \n",
       "                  <tr>\n",
       "                    <td>Mutations</td>\n",
       "                      <td>29755</td>\n",
       "                      <td>1.4 MiB</td>\n",
       "                      <td style=\"text-align: center;\">\n",
       "                        ✅\n",
       "                      </td>\n",
       "                    </tr>\n",
       "                \n",
       "                  <tr>\n",
       "                    <td>Nodes</td>\n",
       "                      <td>18281</td>\n",
       "                      <td>607.7 KiB</td>\n",
       "                      <td style=\"text-align: center;\">\n",
       "                        ✅\n",
       "                      </td>\n",
       "                    </tr>\n",
       "                \n",
       "                  <tr>\n",
       "                    <td>Populations</td>\n",
       "                      <td>3</td>\n",
       "                      <td>2.9 KiB</td>\n",
       "                      <td style=\"text-align: center;\">\n",
       "                        ✅\n",
       "                      </td>\n",
       "                    </tr>\n",
       "                \n",
       "                  <tr>\n",
       "                    <td>Provenances</td>\n",
       "                      <td>2</td>\n",
       "                      <td>41.9 KiB</td>\n",
       "                      <td style=\"text-align: center;\">\n",
       "                        \n",
       "                      </td>\n",
       "                    </tr>\n",
       "                \n",
       "                  <tr>\n",
       "                    <td>Sites</td>\n",
       "                      <td>29749</td>\n",
       "                      <td>464.8 KiB</td>\n",
       "                      <td style=\"text-align: center;\">\n",
       "                        \n",
       "                      </td>\n",
       "                    </tr>\n",
       "                \n",
       "                    </tbody>\n",
       "                  </table>\n",
       "                </div>\n",
       "              </div>\n",
       "            </div>\n",
       "            "
      ],
      "text/plain": [
       "<pyslim.slim_tree_sequence.SlimTreeSequence at 0x7fc156481f10>"
      ]
     },
     "execution_count": 20,
     "metadata": {},
     "output_type": "execute_result"
    }
   ],
   "source": [
    "merged_ts"
   ]
  },
  {
   "cell_type": "code",
   "execution_count": 21,
   "metadata": {},
   "outputs": [
    {
     "name": "stdout",
     "output_type": "stream",
     "text": [
      "Number of individuals in population 0: 0\n",
      "Number of individuals in population 1: 1003\n",
      "Number of individuals in population 2: 975\n"
     ]
    }
   ],
   "source": [
    "alive = merged_ts.individuals_alive_at(0)\n",
    "num_alive = [0 for _ in range(merged_ts.num_populations)]\n",
    "for i in alive:\n",
    "   ind = merged_ts.individual(i)\n",
    "   num_alive[ind.population] += 1\n",
    "\n",
    "for pop, num in enumerate(num_alive):\n",
    "   print(f\"Number of individuals in population {pop}: {num}\")"
   ]
  },
  {
   "cell_type": "code",
   "execution_count": 22,
   "metadata": {},
   "outputs": [],
   "source": [
    "demographic_events = [\n",
    "## merge all individuals into population 1\n",
    "msprime.MassMigration(\n",
    "    time = 1000, source = 2, destination = 1, proportion = 1.0)]"
   ]
  },
  {
   "cell_type": "code",
   "execution_count": 23,
   "metadata": {},
   "outputs": [],
   "source": [
    "# OLD MSPRIME METHOD\n",
    "pop_configs = [\n",
    "    msprime.PopulationConfiguration(initial_size=1000)\n",
    "    for _ in range(merged_ts.num_populations)\n",
    "]\n",
    "\n",
    "rts = merged_ts.recapitate(\n",
    "    population_configurations=pop_configs,\n",
    "    demographic_events = demographic_events,\n",
    "    migration_matrix=[\n",
    "        [0.0, 0.0, 0.0,],\n",
    "        [0.0, 0.0, 0.0,],\n",
    "        [0.0, 0.0, 0.0,],\n",
    "    ],\n",
    "    recombination_rate=1e-8,\n",
    "    random_seed=4,\n",
    ")"
   ]
  },
  {
   "cell_type": "code",
   "execution_count": 24,
   "metadata": {},
   "outputs": [
    {
     "data": {
      "text/html": [
       "\n",
       "            <div>\n",
       "              <style>\n",
       "                .tskit-table thead tr th {text-align: left;}\n",
       "                .tskit-table tbody tr td:first-of-type {text-align: left;}\n",
       "                .tskit-details-label {vertical-align: top; padding-right:5px;}\n",
       "                .tskit-table-set {display: inline-flex;flex-wrap: wrap;margin: -12px 0 0 -12px;width: calc(100% + 12px);}\n",
       "                .tskit-table-set-table {margin: 12px 0 0 12px;}\n",
       "                details {display: inline-block;}\n",
       "                summary {cursor: pointer; outline: 0; display: list-item;}\n",
       "              </style>\n",
       "              <div class=\"tskit-table-set\">\n",
       "                <div class=\"tskit-table-set-table\">\n",
       "                  <table class=\"tskit-table\">\n",
       "                    <thead>\n",
       "                      <tr>\n",
       "                        <th style=\"padding:0;line-height:21px;\">\n",
       "                          <img style=\"height: 32px;display: inline-block;padding: 3px 5px 3px 0;\"src=\"https://raw.githubusercontent.com/tskit-dev/administrative/main/tskit_logo.svg\"/>\n",
       "                          <a target=\"_blank\" href=\"https://tskit.readthedocs.io/en/latest/python-api.html#the-treesequence-class\"> Tree Sequence\n",
       "                        </th>\n",
       "                      </tr>\n",
       "                    </thead>\n",
       "                    <tbody>\n",
       "                      <tr><td>Trees</td><td>40532</td></tr>\n",
       "                      <tr><td>Sequence Length</td><td>100000000.0</td></tr>\n",
       "                      <tr><td>Sample Nodes</td><td>3956</td></tr>\n",
       "                      <tr><td>Total Size</td><td>7.9 MiB</td></tr>\n",
       "                      <tr>\n",
       "                        <td>Metadata</td><td style=\"text-align: left;\">\n",
       "                <div>\n",
       "                  <span class=\"tskit-details-label\"></span>\n",
       "                  <details open>\n",
       "                    <summary>dict</summary>\n",
       "                    \n",
       "                <div>\n",
       "                  <span class=\"tskit-details-label\">SLiM:</span>\n",
       "                  <details >\n",
       "                    <summary>dict</summary>\n",
       "                    file_version: 0.6<br/>generation: 1000<br/>model_type: nonWF<br/>nucleotide_based: False<br/>separate_sexes: True<br/>spatial_dimensionality: <br/>spatial_periodicity: <br/>stage: late<br/>\n",
       "                  </details>\n",
       "                </div>\n",
       "                <br/>\n",
       "                  </details>\n",
       "                </div>\n",
       "                </td></tr>\n",
       "                    </tbody>\n",
       "                  </table>\n",
       "                </div>\n",
       "                <div class=\"tskit-table-set-table\">\n",
       "                  <table class=\"tskit-table\">\n",
       "                    <thead>\n",
       "                      <tr>\n",
       "                        <th style=\"line-height:21px;\">Table</th>\n",
       "                        <th>Rows</th>\n",
       "                        <th>Size</th>\n",
       "                        <th>Has Metadata</th>\n",
       "                      </tr>\n",
       "                    </thead>\n",
       "                    <tbody>\n",
       "                    \n",
       "                  <tr>\n",
       "                    <td>Edges</td>\n",
       "                      <td>148041</td>\n",
       "                      <td>4.0 MiB</td>\n",
       "                      <td style=\"text-align: center;\">\n",
       "                        \n",
       "                      </td>\n",
       "                    </tr>\n",
       "                \n",
       "                  <tr>\n",
       "                    <td>Individuals</td>\n",
       "                      <td>1978</td>\n",
       "                      <td>117.4 KiB</td>\n",
       "                      <td style=\"text-align: center;\">\n",
       "                        ✅\n",
       "                      </td>\n",
       "                    </tr>\n",
       "                \n",
       "                  <tr>\n",
       "                    <td>Migrations</td>\n",
       "                      <td>0</td>\n",
       "                      <td>4 Bytes</td>\n",
       "                      <td style=\"text-align: center;\">\n",
       "                        \n",
       "                      </td>\n",
       "                    </tr>\n",
       "                \n",
       "                  <tr>\n",
       "                    <td>Mutations</td>\n",
       "                      <td>29755</td>\n",
       "                      <td>1.4 MiB</td>\n",
       "                      <td style=\"text-align: center;\">\n",
       "                        ✅\n",
       "                      </td>\n",
       "                    </tr>\n",
       "                \n",
       "                  <tr>\n",
       "                    <td>Nodes</td>\n",
       "                      <td>26468</td>\n",
       "                      <td>799.5 KiB</td>\n",
       "                      <td style=\"text-align: center;\">\n",
       "                        ✅\n",
       "                      </td>\n",
       "                    </tr>\n",
       "                \n",
       "                  <tr>\n",
       "                    <td>Populations</td>\n",
       "                      <td>3</td>\n",
       "                      <td>2.9 KiB</td>\n",
       "                      <td style=\"text-align: center;\">\n",
       "                        ✅\n",
       "                      </td>\n",
       "                    </tr>\n",
       "                \n",
       "                  <tr>\n",
       "                    <td>Provenances</td>\n",
       "                      <td>3</td>\n",
       "                      <td>42.5 KiB</td>\n",
       "                      <td style=\"text-align: center;\">\n",
       "                        \n",
       "                      </td>\n",
       "                    </tr>\n",
       "                \n",
       "                  <tr>\n",
       "                    <td>Sites</td>\n",
       "                      <td>29749</td>\n",
       "                      <td>464.8 KiB</td>\n",
       "                      <td style=\"text-align: center;\">\n",
       "                        \n",
       "                      </td>\n",
       "                    </tr>\n",
       "                \n",
       "                    </tbody>\n",
       "                  </table>\n",
       "                </div>\n",
       "              </div>\n",
       "            </div>\n",
       "            "
      ],
      "text/plain": [
       "<pyslim.slim_tree_sequence.SlimTreeSequence at 0x7fc1573b78b0>"
      ]
     },
     "execution_count": 24,
     "metadata": {},
     "output_type": "execute_result"
    }
   ],
   "source": [
    "rts"
   ]
  },
  {
   "cell_type": "code",
   "execution_count": 25,
   "metadata": {},
   "outputs": [
    {
     "name": "stdout",
     "output_type": "stream",
     "text": [
      "The tree sequence now has 132521 mutations, and mean pairwise nucleotide diversity is 6.108630492050024e-05.\n"
     ]
    }
   ],
   "source": [
    "mts = pyslim.SlimTreeSequence(msprime.mutate(rts, rate=1e-08, keep=True))\n",
    "\n",
    "print(f\"The tree sequence now has {mts.num_mutations} mutations, \"\n",
    "      f\"and mean pairwise nucleotide diversity is {mts.diversity()}.\")"
   ]
  },
  {
   "cell_type": "code",
   "execution_count": 26,
   "metadata": {},
   "outputs": [
    {
     "name": "stdout",
     "output_type": "stream",
     "text": [
      "There are 132521 mutations across 40532 distinct genealogical trees describing relationships among 3956 sampled genomes, with a mean genetic diversity of 5.530153367826999e-05 and 5.481712934179901e-05 within the two populations, and a mean divergence of 6.710578989185738e-05 between them.\n"
     ]
    }
   ],
   "source": [
    "pop_indivs = [[], [], []]\n",
    "pop_nodes = [[], [], []]\n",
    "for i in mts.individuals_alive_at(0):\n",
    "   ind = mts.individual(i)\n",
    "   pop_indivs[ind.population].append(i)\n",
    "   pop_nodes[ind.population].extend(ind.nodes)\n",
    "\n",
    "diversity = mts.diversity(pop_nodes[1:])\n",
    "divergence = mts.divergence(pop_nodes[1:], indexes=[(0,1)])\n",
    "\n",
    "print(f\"There are {mts.num_mutations} mutations across {mts.num_trees} distinct \"\n",
    "      f\"genealogical trees describing relationships among {mts.num_samples} \"\n",
    "      f\"sampled genomes, with a mean genetic diversity of {diversity[0]} and \"\n",
    "      f\"{diversity[1]} within the two populations, and a mean divergence of \"\n",
    "      f\"{divergence[0]} between them.\")"
   ]
  },
  {
   "cell_type": "code",
   "execution_count": null,
   "metadata": {},
   "outputs": [],
   "source": []
  },
  {
   "cell_type": "markdown",
   "metadata": {},
   "source": [
    "## Simplifying Tree Sequence\n",
    "a basic tree sequence output by SLiM only contains the currently alive individuals and the ancestral nodes (genomes) required to reconstruct their genetic relationships"
   ]
  },
  {
   "cell_type": "code",
   "execution_count": 27,
   "metadata": {},
   "outputs": [],
   "source": [
    "pop1 = []\n",
    "pop2 = []\n",
    "inds = mts.individuals()\n",
    "for i in range(1, inds.length):\n",
    "    if inds[i].population == 1:\n",
    "        pop1.append(inds[i].id)\n",
    "    elif inds[i].population == 2:\n",
    "        pop2.append(inds[i].id)"
   ]
  },
  {
   "cell_type": "code",
   "execution_count": 28,
   "metadata": {},
   "outputs": [
    {
     "name": "stdout",
     "output_type": "stream",
     "text": [
      "Before, there were 3956 sample nodes (and 1978 individuals) in the tree sequence, and now there are 20 sample nodes (and 10 individuals) in p1 and 20 sample nodes (and 10 individuals) in p2.\n"
     ]
    }
   ],
   "source": [
    "import numpy as np\n",
    "np.random.seed(3)\n",
    "p1_keep_indivs = np.random.choice(pop1, 10, replace=False)\n",
    "p2_keep_indivs = np.random.choice(pop2, 10, replace=False)\n",
    "keep_nodes1 = []\n",
    "keep_nodes2 = []\n",
    "\n",
    "for i in p1_keep_indivs:\n",
    "   keep_nodes1.extend(mts.individual(i).nodes)\n",
    "sts_p1 = mts.simplify(keep_nodes1, keep_input_roots=True)\n",
    "\n",
    "for i in p2_keep_indivs:\n",
    "   keep_nodes2.extend(mts.individual(i).nodes)\n",
    "sts_p2 = mts.simplify(keep_nodes2, keep_input_roots=True)\n",
    "\n",
    "print(f\"Before, there were {rts.num_samples} sample nodes (and {rts.num_individuals} individuals) \"\n",
    "       f\"in the tree sequence, and now there are {sts_p1.num_samples} sample nodes \"\n",
    "       f\"(and {sts_p1.num_individuals} individuals) in p1 and {sts_p2.num_samples} sample nodes \"\n",
    "       f\"(and {sts_p2.num_individuals} individuals) in p2.\")"
   ]
  },
  {
   "cell_type": "code",
   "execution_count": 29,
   "metadata": {},
   "outputs": [
    {
     "data": {
      "text/html": [
       "\n",
       "            <div>\n",
       "              <style>\n",
       "                .tskit-table thead tr th {text-align: left;}\n",
       "                .tskit-table tbody tr td:first-of-type {text-align: left;}\n",
       "                .tskit-details-label {vertical-align: top; padding-right:5px;}\n",
       "                .tskit-table-set {display: inline-flex;flex-wrap: wrap;margin: -12px 0 0 -12px;width: calc(100% + 12px);}\n",
       "                .tskit-table-set-table {margin: 12px 0 0 12px;}\n",
       "                details {display: inline-block;}\n",
       "                summary {cursor: pointer; outline: 0; display: list-item;}\n",
       "              </style>\n",
       "              <div class=\"tskit-table-set\">\n",
       "                <div class=\"tskit-table-set-table\">\n",
       "                  <table class=\"tskit-table\">\n",
       "                    <thead>\n",
       "                      <tr>\n",
       "                        <th style=\"padding:0;line-height:21px;\">\n",
       "                          <img style=\"height: 32px;display: inline-block;padding: 3px 5px 3px 0;\"src=\"https://raw.githubusercontent.com/tskit-dev/administrative/main/tskit_logo.svg\"/>\n",
       "                          <a target=\"_blank\" href=\"https://tskit.readthedocs.io/en/latest/python-api.html#the-treesequence-class\"> Tree Sequence\n",
       "                        </th>\n",
       "                      </tr>\n",
       "                    </thead>\n",
       "                    <tbody>\n",
       "                      <tr><td>Trees</td><td>11055</td></tr>\n",
       "                      <tr><td>Sequence Length</td><td>100000000.0</td></tr>\n",
       "                      <tr><td>Sample Nodes</td><td>20</td></tr>\n",
       "                      <tr><td>Total Size</td><td>2.5 MiB</td></tr>\n",
       "                      <tr>\n",
       "                        <td>Metadata</td><td style=\"text-align: left;\">\n",
       "                <div>\n",
       "                  <span class=\"tskit-details-label\"></span>\n",
       "                  <details open>\n",
       "                    <summary>dict</summary>\n",
       "                    \n",
       "                <div>\n",
       "                  <span class=\"tskit-details-label\">SLiM:</span>\n",
       "                  <details >\n",
       "                    <summary>dict</summary>\n",
       "                    file_version: 0.6<br/>generation: 1000<br/>model_type: nonWF<br/>nucleotide_based: False<br/>separate_sexes: True<br/>spatial_dimensionality: <br/>spatial_periodicity: <br/>stage: late<br/>\n",
       "                  </details>\n",
       "                </div>\n",
       "                <br/>\n",
       "                  </details>\n",
       "                </div>\n",
       "                </td></tr>\n",
       "                    </tbody>\n",
       "                  </table>\n",
       "                </div>\n",
       "                <div class=\"tskit-table-set-table\">\n",
       "                  <table class=\"tskit-table\">\n",
       "                    <thead>\n",
       "                      <tr>\n",
       "                        <th style=\"line-height:21px;\">Table</th>\n",
       "                        <th>Rows</th>\n",
       "                        <th>Size</th>\n",
       "                        <th>Has Metadata</th>\n",
       "                      </tr>\n",
       "                    </thead>\n",
       "                    <tbody>\n",
       "                    \n",
       "                  <tr>\n",
       "                    <td>Edges</td>\n",
       "                      <td>33595</td>\n",
       "                      <td>918.6 KiB</td>\n",
       "                      <td style=\"text-align: center;\">\n",
       "                        \n",
       "                      </td>\n",
       "                    </tr>\n",
       "                \n",
       "                  <tr>\n",
       "                    <td>Individuals</td>\n",
       "                      <td>10</td>\n",
       "                      <td>2.0 KiB</td>\n",
       "                      <td style=\"text-align: center;\">\n",
       "                        ✅\n",
       "                      </td>\n",
       "                    </tr>\n",
       "                \n",
       "                  <tr>\n",
       "                    <td>Migrations</td>\n",
       "                      <td>0</td>\n",
       "                      <td>4 Bytes</td>\n",
       "                      <td style=\"text-align: center;\">\n",
       "                        \n",
       "                      </td>\n",
       "                    </tr>\n",
       "                \n",
       "                  <tr>\n",
       "                    <td>Mutations</td>\n",
       "                      <td>23029</td>\n",
       "                      <td>724.5 KiB</td>\n",
       "                      <td style=\"text-align: center;\">\n",
       "                        ✅\n",
       "                      </td>\n",
       "                    </tr>\n",
       "                \n",
       "                  <tr>\n",
       "                    <td>Nodes</td>\n",
       "                      <td>6979</td>\n",
       "                      <td>176.9 KiB</td>\n",
       "                      <td style=\"text-align: center;\">\n",
       "                        ✅\n",
       "                      </td>\n",
       "                    </tr>\n",
       "                \n",
       "                  <tr>\n",
       "                    <td>Populations</td>\n",
       "                      <td>1</td>\n",
       "                      <td>2.8 KiB</td>\n",
       "                      <td style=\"text-align: center;\">\n",
       "                        ✅\n",
       "                      </td>\n",
       "                    </tr>\n",
       "                \n",
       "                  <tr>\n",
       "                    <td>Provenances</td>\n",
       "                      <td>5</td>\n",
       "                      <td>43.5 KiB</td>\n",
       "                      <td style=\"text-align: center;\">\n",
       "                        \n",
       "                      </td>\n",
       "                    </tr>\n",
       "                \n",
       "                  <tr>\n",
       "                    <td>Sites</td>\n",
       "                      <td>23029</td>\n",
       "                      <td>379.1 KiB</td>\n",
       "                      <td style=\"text-align: center;\">\n",
       "                        \n",
       "                      </td>\n",
       "                    </tr>\n",
       "                \n",
       "                    </tbody>\n",
       "                  </table>\n",
       "                </div>\n",
       "              </div>\n",
       "            </div>\n",
       "            "
      ],
      "text/plain": [
       "<pyslim.slim_tree_sequence.SlimTreeSequence at 0x7fc156481850>"
      ]
     },
     "execution_count": 29,
     "metadata": {},
     "output_type": "execute_result"
    }
   ],
   "source": [
    "sts_p1\n"
   ]
  },
  {
   "cell_type": "code",
   "execution_count": 30,
   "metadata": {},
   "outputs": [
    {
     "data": {
      "text/html": [
       "\n",
       "            <div>\n",
       "              <style>\n",
       "                .tskit-table thead tr th {text-align: left;}\n",
       "                .tskit-table tbody tr td:first-of-type {text-align: left;}\n",
       "                .tskit-details-label {vertical-align: top; padding-right:5px;}\n",
       "                .tskit-table-set {display: inline-flex;flex-wrap: wrap;margin: -12px 0 0 -12px;width: calc(100% + 12px);}\n",
       "                .tskit-table-set-table {margin: 12px 0 0 12px;}\n",
       "                details {display: inline-block;}\n",
       "                summary {cursor: pointer; outline: 0; display: list-item;}\n",
       "              </style>\n",
       "              <div class=\"tskit-table-set\">\n",
       "                <div class=\"tskit-table-set-table\">\n",
       "                  <table class=\"tskit-table\">\n",
       "                    <thead>\n",
       "                      <tr>\n",
       "                        <th style=\"padding:0;line-height:21px;\">\n",
       "                          <img style=\"height: 32px;display: inline-block;padding: 3px 5px 3px 0;\"src=\"https://raw.githubusercontent.com/tskit-dev/administrative/main/tskit_logo.svg\"/>\n",
       "                          <a target=\"_blank\" href=\"https://tskit.readthedocs.io/en/latest/python-api.html#the-treesequence-class\"> Tree Sequence\n",
       "                        </th>\n",
       "                      </tr>\n",
       "                    </thead>\n",
       "                    <tbody>\n",
       "                      <tr><td>Trees</td><td>11043</td></tr>\n",
       "                      <tr><td>Sequence Length</td><td>100000000.0</td></tr>\n",
       "                      <tr><td>Sample Nodes</td><td>20</td></tr>\n",
       "                      <tr><td>Total Size</td><td>2.4 MiB</td></tr>\n",
       "                      <tr>\n",
       "                        <td>Metadata</td><td style=\"text-align: left;\">\n",
       "                <div>\n",
       "                  <span class=\"tskit-details-label\"></span>\n",
       "                  <details open>\n",
       "                    <summary>dict</summary>\n",
       "                    \n",
       "                <div>\n",
       "                  <span class=\"tskit-details-label\">SLiM:</span>\n",
       "                  <details >\n",
       "                    <summary>dict</summary>\n",
       "                    file_version: 0.6<br/>generation: 1000<br/>model_type: nonWF<br/>nucleotide_based: False<br/>separate_sexes: True<br/>spatial_dimensionality: <br/>spatial_periodicity: <br/>stage: late<br/>\n",
       "                  </details>\n",
       "                </div>\n",
       "                <br/>\n",
       "                  </details>\n",
       "                </div>\n",
       "                </td></tr>\n",
       "                    </tbody>\n",
       "                  </table>\n",
       "                </div>\n",
       "                <div class=\"tskit-table-set-table\">\n",
       "                  <table class=\"tskit-table\">\n",
       "                    <thead>\n",
       "                      <tr>\n",
       "                        <th style=\"line-height:21px;\">Table</th>\n",
       "                        <th>Rows</th>\n",
       "                        <th>Size</th>\n",
       "                        <th>Has Metadata</th>\n",
       "                      </tr>\n",
       "                    </thead>\n",
       "                    <tbody>\n",
       "                    \n",
       "                  <tr>\n",
       "                    <td>Edges</td>\n",
       "                      <td>33362</td>\n",
       "                      <td>912.2 KiB</td>\n",
       "                      <td style=\"text-align: center;\">\n",
       "                        \n",
       "                      </td>\n",
       "                    </tr>\n",
       "                \n",
       "                  <tr>\n",
       "                    <td>Individuals</td>\n",
       "                      <td>10</td>\n",
       "                      <td>2.0 KiB</td>\n",
       "                      <td style=\"text-align: center;\">\n",
       "                        ✅\n",
       "                      </td>\n",
       "                    </tr>\n",
       "                \n",
       "                  <tr>\n",
       "                    <td>Migrations</td>\n",
       "                      <td>0</td>\n",
       "                      <td>4 Bytes</td>\n",
       "                      <td style=\"text-align: center;\">\n",
       "                        \n",
       "                      </td>\n",
       "                    </tr>\n",
       "                \n",
       "                  <tr>\n",
       "                    <td>Mutations</td>\n",
       "                      <td>23003</td>\n",
       "                      <td>723.4 KiB</td>\n",
       "                      <td style=\"text-align: center;\">\n",
       "                        ✅\n",
       "                      </td>\n",
       "                    </tr>\n",
       "                \n",
       "                  <tr>\n",
       "                    <td>Nodes</td>\n",
       "                      <td>6976</td>\n",
       "                      <td>177.9 KiB</td>\n",
       "                      <td style=\"text-align: center;\">\n",
       "                        ✅\n",
       "                      </td>\n",
       "                    </tr>\n",
       "                \n",
       "                  <tr>\n",
       "                    <td>Populations</td>\n",
       "                      <td>2</td>\n",
       "                      <td>2.9 KiB</td>\n",
       "                      <td style=\"text-align: center;\">\n",
       "                        ✅\n",
       "                      </td>\n",
       "                    </tr>\n",
       "                \n",
       "                  <tr>\n",
       "                    <td>Provenances</td>\n",
       "                      <td>5</td>\n",
       "                      <td>43.5 KiB</td>\n",
       "                      <td style=\"text-align: center;\">\n",
       "                        \n",
       "                      </td>\n",
       "                    </tr>\n",
       "                \n",
       "                  <tr>\n",
       "                    <td>Sites</td>\n",
       "                      <td>23003</td>\n",
       "                      <td>378.7 KiB</td>\n",
       "                      <td style=\"text-align: center;\">\n",
       "                        \n",
       "                      </td>\n",
       "                    </tr>\n",
       "                \n",
       "                    </tbody>\n",
       "                  </table>\n",
       "                </div>\n",
       "              </div>\n",
       "            </div>\n",
       "            "
      ],
      "text/plain": [
       "<pyslim.slim_tree_sequence.SlimTreeSequence at 0x7fc15c021ee0>"
      ]
     },
     "execution_count": 30,
     "metadata": {},
     "output_type": "execute_result"
    }
   ],
   "source": [
    "sts_p2"
   ]
  },
  {
   "cell_type": "code",
   "execution_count": 31,
   "metadata": {},
   "outputs": [
    {
     "name": "stdout",
     "output_type": "stream",
     "text": [
      "Before, there were 3956 sample nodes (and 1978 individuals) in the tree sequence, and now there are 20 sample nodes (and 10 individuals).\n"
     ]
    }
   ],
   "source": [
    "np.random.seed(3)\n",
    "p1_keep_indivs = np.random.choice(pop1, 10, replace=False)\n",
    "p2_keep_indivs = np.random.choice(pop2, 10, replace=False)\n",
    "keep_indivs = np.concatenate((p2_keep_indivs, p1_keep_indivs), axis=None)\n",
    "keep_nodes = []\n",
    "\n",
    "for i in keep_indivs:\n",
    "   keep_nodes.extend(mts.individual(i).nodes)\n",
    "sts = mts.simplify(keep_nodes, keep_input_roots=True)\n",
    "\n",
    "print(f\"Before, there were {rts.num_samples} sample nodes (and {rts.num_individuals} individuals) \"\n",
    "       f\"in the tree sequence, and now there are {sts_p1.num_samples} sample nodes \"\n",
    "       f\"(and {sts_p1.num_individuals} individuals).\")"
   ]
  },
  {
   "cell_type": "code",
   "execution_count": 32,
   "metadata": {},
   "outputs": [
    {
     "data": {
      "text/html": [
       "\n",
       "            <div>\n",
       "              <style>\n",
       "                .tskit-table thead tr th {text-align: left;}\n",
       "                .tskit-table tbody tr td:first-of-type {text-align: left;}\n",
       "                .tskit-details-label {vertical-align: top; padding-right:5px;}\n",
       "                .tskit-table-set {display: inline-flex;flex-wrap: wrap;margin: -12px 0 0 -12px;width: calc(100% + 12px);}\n",
       "                .tskit-table-set-table {margin: 12px 0 0 12px;}\n",
       "                details {display: inline-block;}\n",
       "                summary {cursor: pointer; outline: 0; display: list-item;}\n",
       "              </style>\n",
       "              <div class=\"tskit-table-set\">\n",
       "                <div class=\"tskit-table-set-table\">\n",
       "                  <table class=\"tskit-table\">\n",
       "                    <thead>\n",
       "                      <tr>\n",
       "                        <th style=\"padding:0;line-height:21px;\">\n",
       "                          <img style=\"height: 32px;display: inline-block;padding: 3px 5px 3px 0;\"src=\"https://raw.githubusercontent.com/tskit-dev/administrative/main/tskit_logo.svg\"/>\n",
       "                          <a target=\"_blank\" href=\"https://tskit.readthedocs.io/en/latest/python-api.html#the-treesequence-class\"> Tree Sequence\n",
       "                        </th>\n",
       "                      </tr>\n",
       "                    </thead>\n",
       "                    <tbody>\n",
       "                      <tr><td>Trees</td><td>16421</td></tr>\n",
       "                      <tr><td>Sequence Length</td><td>100000000.0</td></tr>\n",
       "                      <tr><td>Sample Nodes</td><td>40</td></tr>\n",
       "                      <tr><td>Total Size</td><td>4.1 MiB</td></tr>\n",
       "                      <tr>\n",
       "                        <td>Metadata</td><td style=\"text-align: left;\">\n",
       "                <div>\n",
       "                  <span class=\"tskit-details-label\"></span>\n",
       "                  <details open>\n",
       "                    <summary>dict</summary>\n",
       "                    \n",
       "                <div>\n",
       "                  <span class=\"tskit-details-label\">SLiM:</span>\n",
       "                  <details >\n",
       "                    <summary>dict</summary>\n",
       "                    file_version: 0.6<br/>generation: 1000<br/>model_type: nonWF<br/>nucleotide_based: False<br/>separate_sexes: True<br/>spatial_dimensionality: <br/>spatial_periodicity: <br/>stage: late<br/>\n",
       "                  </details>\n",
       "                </div>\n",
       "                <br/>\n",
       "                  </details>\n",
       "                </div>\n",
       "                </td></tr>\n",
       "                    </tbody>\n",
       "                  </table>\n",
       "                </div>\n",
       "                <div class=\"tskit-table-set-table\">\n",
       "                  <table class=\"tskit-table\">\n",
       "                    <thead>\n",
       "                      <tr>\n",
       "                        <th style=\"line-height:21px;\">Table</th>\n",
       "                        <th>Rows</th>\n",
       "                        <th>Size</th>\n",
       "                        <th>Has Metadata</th>\n",
       "                      </tr>\n",
       "                    </thead>\n",
       "                    <tbody>\n",
       "                    \n",
       "                  <tr>\n",
       "                    <td>Edges</td>\n",
       "                      <td>56181</td>\n",
       "                      <td>1.5 MiB</td>\n",
       "                      <td style=\"text-align: center;\">\n",
       "                        \n",
       "                      </td>\n",
       "                    </tr>\n",
       "                \n",
       "                  <tr>\n",
       "                    <td>Individuals</td>\n",
       "                      <td>20</td>\n",
       "                      <td>2.6 KiB</td>\n",
       "                      <td style=\"text-align: center;\">\n",
       "                        ✅\n",
       "                      </td>\n",
       "                    </tr>\n",
       "                \n",
       "                  <tr>\n",
       "                    <td>Migrations</td>\n",
       "                      <td>0</td>\n",
       "                      <td>4 Bytes</td>\n",
       "                      <td style=\"text-align: center;\">\n",
       "                        \n",
       "                      </td>\n",
       "                    </tr>\n",
       "                \n",
       "                  <tr>\n",
       "                    <td>Mutations</td>\n",
       "                      <td>39119</td>\n",
       "                      <td>1.2 MiB</td>\n",
       "                      <td style=\"text-align: center;\">\n",
       "                        ✅\n",
       "                      </td>\n",
       "                    </tr>\n",
       "                \n",
       "                  <tr>\n",
       "                    <td>Nodes</td>\n",
       "                      <td>10115</td>\n",
       "                      <td>264.1 KiB</td>\n",
       "                      <td style=\"text-align: center;\">\n",
       "                        ✅\n",
       "                      </td>\n",
       "                    </tr>\n",
       "                \n",
       "                  <tr>\n",
       "                    <td>Populations</td>\n",
       "                      <td>2</td>\n",
       "                      <td>2.9 KiB</td>\n",
       "                      <td style=\"text-align: center;\">\n",
       "                        ✅\n",
       "                      </td>\n",
       "                    </tr>\n",
       "                \n",
       "                  <tr>\n",
       "                    <td>Provenances</td>\n",
       "                      <td>5</td>\n",
       "                      <td>43.5 KiB</td>\n",
       "                      <td style=\"text-align: center;\">\n",
       "                        \n",
       "                      </td>\n",
       "                    </tr>\n",
       "                \n",
       "                  <tr>\n",
       "                    <td>Sites</td>\n",
       "                      <td>39119</td>\n",
       "                      <td>643.0 KiB</td>\n",
       "                      <td style=\"text-align: center;\">\n",
       "                        \n",
       "                      </td>\n",
       "                    </tr>\n",
       "                \n",
       "                    </tbody>\n",
       "                  </table>\n",
       "                </div>\n",
       "              </div>\n",
       "            </div>\n",
       "            "
      ],
      "text/plain": [
       "<pyslim.slim_tree_sequence.SlimTreeSequence at 0x7fc157605640>"
      ]
     },
     "execution_count": 32,
     "metadata": {},
     "output_type": "execute_result"
    }
   ],
   "source": [
    "sts"
   ]
  },
  {
   "cell_type": "code",
   "execution_count": 33,
   "metadata": {},
   "outputs": [
    {
     "data": {
      "text/plain": [
       "array([ 0,  1,  2,  3,  4,  5,  6,  7,  8,  9, 10, 11, 12, 13, 14, 15, 16,\n",
       "       17, 18, 19])"
      ]
     },
     "execution_count": 33,
     "metadata": {},
     "output_type": "execute_result"
    }
   ],
   "source": [
    "sts.individuals_alive_at(0)"
   ]
  },
  {
   "cell_type": "code",
   "execution_count": 34,
   "metadata": {},
   "outputs": [],
   "source": [
    "sts_sample_sets = [[0,  1,  2,  3,  4,  5,  6,  7,  8,  9],[10, 11, 12, 13, 14, 15, 16,\n",
    "       17, 18, 19]]"
   ]
  },
  {
   "cell_type": "code",
   "execution_count": 53,
   "metadata": {},
   "outputs": [
    {
     "data": {
      "text/plain": [
       "0"
      ]
     },
     "execution_count": 53,
     "metadata": {},
     "output_type": "execute_result"
    }
   ],
   "source": [
    "sts.individual(1).population"
   ]
  },
  {
   "cell_type": "code",
   "execution_count": 58,
   "metadata": {},
   "outputs": [
    {
     "data": {
      "text/plain": [
       "[[0, 1, 2, 3, 4, 5, 6, 7, 8, 9], [10, 11, 12, 13, 14, 15, 16, 17, 18, 19]]"
      ]
     },
     "execution_count": 58,
     "metadata": {},
     "output_type": "execute_result"
    }
   ],
   "source": [
    "set1 = []\n",
    "set2 = []\n",
    "for i in sts.individuals_alive_at(0):\n",
    "    if sts.individual(i).population == 0:\n",
    "        set1.append(i)\n",
    "    else:\n",
    "        set2.append(i)\n",
    "sets = [set1, set2]\n",
    "sets"
   ]
  },
  {
   "cell_type": "code",
   "execution_count": 36,
   "metadata": {},
   "outputs": [
    {
     "data": {
      "text/plain": [
       "array([5.45002222e-05, 5.52695556e-05])"
      ]
     },
     "execution_count": 36,
     "metadata": {},
     "output_type": "execute_result"
    }
   ],
   "source": [
    "sts.diversity(sts_sample_sets)"
   ]
  },
  {
   "cell_type": "code",
   "execution_count": 37,
   "metadata": {},
   "outputs": [
    {
     "data": {
      "text/plain": [
       "array(5.44498e-05)"
      ]
     },
     "execution_count": 37,
     "metadata": {},
     "output_type": "execute_result"
    }
   ],
   "source": [
    "sts.divergence(sts_sample_sets)"
   ]
  },
  {
   "cell_type": "code",
   "execution_count": 38,
   "metadata": {},
   "outputs": [
    {
     "data": {
      "text/plain": [
       "array([0.0000e+00, 1.6459e-04, 6.2100e-05, 3.7830e-05, 2.3530e-05,\n",
       "       1.6170e-05, 1.2380e-05, 9.1600e-06, 7.6100e-06, 6.7200e-06,\n",
       "       6.0800e-06, 5.6700e-06, 5.2500e-06, 4.8600e-06, 4.1700e-06,\n",
       "       5.0500e-06, 4.2800e-06, 4.6200e-06, 3.9400e-06, 3.7100e-06,\n",
       "       2.0800e-06, 0.0000e+00, 0.0000e+00, 0.0000e+00, 0.0000e+00,\n",
       "       0.0000e+00, 0.0000e+00, 0.0000e+00, 0.0000e+00, 0.0000e+00,\n",
       "       0.0000e+00, 0.0000e+00, 0.0000e+00, 0.0000e+00, 0.0000e+00,\n",
       "       0.0000e+00, 0.0000e+00, 0.0000e+00, 0.0000e+00, 0.0000e+00,\n",
       "       0.0000e+00])"
      ]
     },
     "execution_count": 38,
     "metadata": {},
     "output_type": "execute_result"
    }
   ],
   "source": [
    "sts.allele_frequency_spectrum()"
   ]
  },
  {
   "cell_type": "code",
   "execution_count": 39,
   "metadata": {},
   "outputs": [
    {
     "data": {
      "text/plain": [
       "array(-0.00397942)"
      ]
     },
     "execution_count": 39,
     "metadata": {},
     "output_type": "execute_result"
    }
   ],
   "source": [
    "sts.Fst(sts_sample_sets)"
   ]
  },
  {
   "cell_type": "code",
   "execution_count": 40,
   "metadata": {},
   "outputs": [
    {
     "data": {
      "text/plain": [
       "array([-0.39928979, -0.46996282])"
      ]
     },
     "execution_count": 40,
     "metadata": {},
     "output_type": "execute_result"
    }
   ],
   "source": [
    "sts.Tajimas_D(sts_sample_sets)"
   ]
  },
  {
   "cell_type": "code",
   "execution_count": 41,
   "metadata": {},
   "outputs": [],
   "source": [
    "#print(sts.draw_text()) # -- Good for <20 nodes"
   ]
  },
  {
   "cell_type": "code",
   "execution_count": 42,
   "metadata": {
    "collapsed": true
   },
   "outputs": [
    {
     "ename": "KeyboardInterrupt",
     "evalue": "",
     "output_type": "error",
     "traceback": [
      "\u001b[0;31m---------------------------------------------------------------------------\u001b[0m",
      "\u001b[0;31mKeyboardInterrupt\u001b[0m                         Traceback (most recent call last)",
      "\u001b[0;32m<ipython-input-42-c3391c858526>\u001b[0m in \u001b[0;36m<module>\u001b[0;34m\u001b[0m\n\u001b[1;32m      1\u001b[0m \u001b[0;32mfrom\u001b[0m \u001b[0mIPython\u001b[0m\u001b[0;34m.\u001b[0m\u001b[0mdisplay\u001b[0m \u001b[0;32mimport\u001b[0m \u001b[0mdisplay\u001b[0m\u001b[0;34m,\u001b[0m \u001b[0mSVG\u001b[0m\u001b[0;34m\u001b[0m\u001b[0;34m\u001b[0m\u001b[0m\n\u001b[1;32m      2\u001b[0m \u001b[0msvg_size\u001b[0m \u001b[0;34m=\u001b[0m \u001b[0;34m(\u001b[0m\u001b[0;36m800\u001b[0m\u001b[0;34m,\u001b[0m \u001b[0;36m250\u001b[0m\u001b[0;34m)\u001b[0m \u001b[0;31m# Height and width for the SVG: optional but useful for this notebook\u001b[0m\u001b[0;34m\u001b[0m\u001b[0;34m\u001b[0m\u001b[0m\n\u001b[0;32m----> 3\u001b[0;31m svg_string = sts.draw_svg(\n\u001b[0m\u001b[1;32m      4\u001b[0m     \u001b[0msize\u001b[0m\u001b[0;34m=\u001b[0m\u001b[0msvg_size\u001b[0m\u001b[0;34m,\u001b[0m\u001b[0;34m\u001b[0m\u001b[0;34m\u001b[0m\u001b[0m\n\u001b[1;32m      5\u001b[0m     \u001b[0mx_scale\u001b[0m\u001b[0;34m=\u001b[0m\u001b[0;34m\"treewise\"\u001b[0m\u001b[0;34m,\u001b[0m  \u001b[0;31m# Match the axis coordinate systems to the text view\u001b[0m\u001b[0;34m\u001b[0m\u001b[0;34m\u001b[0m\u001b[0m\n",
      "\u001b[0;32m~/miniconda3/lib/python3.8/site-packages/tskit/trees.py\u001b[0m in \u001b[0;36mdraw_svg\u001b[0;34m(self, path, size, x_scale, tree_height_scale, node_labels, mutation_labels, root_svg_attributes, style, order, force_root_branch, **kwargs)\u001b[0m\n\u001b[1;32m   5183\u001b[0m         \u001b[0;34m:\u001b[0m\u001b[0mrtype\u001b[0m\u001b[0;34m:\u001b[0m \u001b[0mstr\u001b[0m\u001b[0;34m\u001b[0m\u001b[0;34m\u001b[0m\u001b[0m\n\u001b[1;32m   5184\u001b[0m         \"\"\"\n\u001b[0;32m-> 5185\u001b[0;31m         draw = drawing.SvgTreeSequence(\n\u001b[0m\u001b[1;32m   5186\u001b[0m             \u001b[0mself\u001b[0m\u001b[0;34m,\u001b[0m\u001b[0;34m\u001b[0m\u001b[0;34m\u001b[0m\u001b[0m\n\u001b[1;32m   5187\u001b[0m             \u001b[0msize\u001b[0m\u001b[0;34m,\u001b[0m\u001b[0;34m\u001b[0m\u001b[0;34m\u001b[0m\u001b[0m\n",
      "\u001b[0;32m~/miniconda3/lib/python3.8/site-packages/tskit/drawing.py\u001b[0m in \u001b[0;36m__init__\u001b[0;34m(self, ts, size, x_scale, tree_height_scale, max_tree_height, node_labels, mutation_labels, node_attrs, mutation_attrs, edge_attrs, node_label_attrs, mutation_label_attrs, root_svg_attributes, style, order, force_root_branch, symbol_size)\u001b[0m\n\u001b[1;32m    285\u001b[0m         \u001b[0mtreebox_height\u001b[0m \u001b[0;34m=\u001b[0m \u001b[0msize\u001b[0m\u001b[0;34m[\u001b[0m\u001b[0;36m1\u001b[0m\u001b[0;34m]\u001b[0m \u001b[0;34m-\u001b[0m \u001b[0;36m2\u001b[0m \u001b[0;34m*\u001b[0m \u001b[0mself\u001b[0m\u001b[0;34m.\u001b[0m\u001b[0mtreebox_y_offset\u001b[0m\u001b[0;34m\u001b[0m\u001b[0;34m\u001b[0m\u001b[0m\n\u001b[1;32m    286\u001b[0m         \u001b[0mtree_width\u001b[0m \u001b[0;34m=\u001b[0m \u001b[0mtreebox_width\u001b[0m \u001b[0;34m/\u001b[0m \u001b[0mts\u001b[0m\u001b[0;34m.\u001b[0m\u001b[0mnum_trees\u001b[0m\u001b[0;34m\u001b[0m\u001b[0;34m\u001b[0m\u001b[0m\n\u001b[0;32m--> 287\u001b[0;31m         svg_trees = [\n\u001b[0m\u001b[1;32m    288\u001b[0m             SvgTree(\n\u001b[1;32m    289\u001b[0m                 \u001b[0mtree\u001b[0m\u001b[0;34m,\u001b[0m\u001b[0;34m\u001b[0m\u001b[0;34m\u001b[0m\u001b[0m\n",
      "\u001b[0;32m~/miniconda3/lib/python3.8/site-packages/tskit/drawing.py\u001b[0m in \u001b[0;36m<listcomp>\u001b[0;34m(.0)\u001b[0m\n\u001b[1;32m    286\u001b[0m         \u001b[0mtree_width\u001b[0m \u001b[0;34m=\u001b[0m \u001b[0mtreebox_width\u001b[0m \u001b[0;34m/\u001b[0m \u001b[0mts\u001b[0m\u001b[0;34m.\u001b[0m\u001b[0mnum_trees\u001b[0m\u001b[0;34m\u001b[0m\u001b[0;34m\u001b[0m\u001b[0m\n\u001b[1;32m    287\u001b[0m         svg_trees = [\n\u001b[0;32m--> 288\u001b[0;31m             SvgTree(\n\u001b[0m\u001b[1;32m    289\u001b[0m                 \u001b[0mtree\u001b[0m\u001b[0;34m,\u001b[0m\u001b[0;34m\u001b[0m\u001b[0;34m\u001b[0m\u001b[0m\n\u001b[1;32m    290\u001b[0m                 \u001b[0;34m(\u001b[0m\u001b[0mtree_width\u001b[0m\u001b[0;34m,\u001b[0m \u001b[0mtreebox_height\u001b[0m\u001b[0;34m)\u001b[0m\u001b[0;34m,\u001b[0m\u001b[0;34m\u001b[0m\u001b[0;34m\u001b[0m\u001b[0m\n",
      "\u001b[0;32m~/miniconda3/lib/python3.8/site-packages/tskit/drawing.py\u001b[0m in \u001b[0;36m__init__\u001b[0;34m(self, tree, size, tree_height_scale, max_tree_height, node_labels, mutation_labels, node_attrs, mutation_attrs, edge_attrs, node_label_attrs, mutation_label_attrs, root_svg_attributes, style, order, force_root_branch, symbol_size)\u001b[0m\n\u001b[1;32m    454\u001b[0m         \u001b[0mself\u001b[0m\u001b[0;34m.\u001b[0m\u001b[0mtreebox_y_offset\u001b[0m \u001b[0;34m=\u001b[0m \u001b[0;36m10\u001b[0m\u001b[0;34m\u001b[0m\u001b[0;34m\u001b[0m\u001b[0m\n\u001b[1;32m    455\u001b[0m         \u001b[0mself\u001b[0m\u001b[0;34m.\u001b[0m\u001b[0mtreebox_width\u001b[0m \u001b[0;34m=\u001b[0m \u001b[0msize\u001b[0m\u001b[0;34m[\u001b[0m\u001b[0;36m0\u001b[0m\u001b[0;34m]\u001b[0m \u001b[0;34m-\u001b[0m \u001b[0;36m2\u001b[0m \u001b[0;34m*\u001b[0m \u001b[0mself\u001b[0m\u001b[0;34m.\u001b[0m\u001b[0mtreebox_x_offset\u001b[0m\u001b[0;34m\u001b[0m\u001b[0;34m\u001b[0m\u001b[0m\n\u001b[0;32m--> 456\u001b[0;31m         \u001b[0mself\u001b[0m\u001b[0;34m.\u001b[0m\u001b[0massign_y_coordinates\u001b[0m\u001b[0;34m(\u001b[0m\u001b[0mtree_height_scale\u001b[0m\u001b[0;34m,\u001b[0m \u001b[0mmax_tree_height\u001b[0m\u001b[0;34m,\u001b[0m \u001b[0mforce_root_branch\u001b[0m\u001b[0;34m)\u001b[0m\u001b[0;34m\u001b[0m\u001b[0;34m\u001b[0m\u001b[0m\n\u001b[0m\u001b[1;32m    457\u001b[0m         self.node_x_coord_map = self.assign_x_coordinates(\n\u001b[1;32m    458\u001b[0m             \u001b[0mtree\u001b[0m\u001b[0;34m,\u001b[0m \u001b[0mself\u001b[0m\u001b[0;34m.\u001b[0m\u001b[0mtreebox_x_offset\u001b[0m\u001b[0;34m,\u001b[0m \u001b[0mself\u001b[0m\u001b[0;34m.\u001b[0m\u001b[0mtreebox_width\u001b[0m\u001b[0;34m\u001b[0m\u001b[0;34m\u001b[0m\u001b[0m\n",
      "\u001b[0;32m~/miniconda3/lib/python3.8/site-packages/tskit/drawing.py\u001b[0m in \u001b[0;36massign_y_coordinates\u001b[0;34m(self, tree_height_scale, max_tree_height, force_root_branch)\u001b[0m\n\u001b[1;32m    573\u001b[0m         \u001b[0;32melse\u001b[0m\u001b[0;34m:\u001b[0m\u001b[0;34m\u001b[0m\u001b[0;34m\u001b[0m\u001b[0m\n\u001b[1;32m    574\u001b[0m             \u001b[0my_scale\u001b[0m \u001b[0;34m=\u001b[0m \u001b[0mpadding_numerator\u001b[0m \u001b[0;34m/\u001b[0m \u001b[0mmax_tree_height\u001b[0m\u001b[0;34m\u001b[0m\u001b[0;34m\u001b[0m\u001b[0m\n\u001b[0;32m--> 575\u001b[0;31m         self.node_y_coord_map = [\n\u001b[0m\u001b[1;32m    576\u001b[0m             \u001b[0mheight\u001b[0m \u001b[0;34m-\u001b[0m \u001b[0my_scale\u001b[0m \u001b[0;34m*\u001b[0m \u001b[0mnode_height\u001b[0m\u001b[0;34m[\u001b[0m\u001b[0mu\u001b[0m\u001b[0;34m]\u001b[0m \u001b[0;34m-\u001b[0m \u001b[0my_padding\u001b[0m \u001b[0;32mfor\u001b[0m \u001b[0mu\u001b[0m \u001b[0;32min\u001b[0m \u001b[0mrange\u001b[0m\u001b[0;34m(\u001b[0m\u001b[0mts\u001b[0m\u001b[0;34m.\u001b[0m\u001b[0mnum_nodes\u001b[0m\u001b[0;34m)\u001b[0m\u001b[0;34m\u001b[0m\u001b[0;34m\u001b[0m\u001b[0m\n\u001b[1;32m    577\u001b[0m         ]\n",
      "\u001b[0;32m~/miniconda3/lib/python3.8/site-packages/tskit/drawing.py\u001b[0m in \u001b[0;36m<listcomp>\u001b[0;34m(.0)\u001b[0m\n\u001b[1;32m    574\u001b[0m             \u001b[0my_scale\u001b[0m \u001b[0;34m=\u001b[0m \u001b[0mpadding_numerator\u001b[0m \u001b[0;34m/\u001b[0m \u001b[0mmax_tree_height\u001b[0m\u001b[0;34m\u001b[0m\u001b[0;34m\u001b[0m\u001b[0m\n\u001b[1;32m    575\u001b[0m         self.node_y_coord_map = [\n\u001b[0;32m--> 576\u001b[0;31m             \u001b[0mheight\u001b[0m \u001b[0;34m-\u001b[0m \u001b[0my_scale\u001b[0m \u001b[0;34m*\u001b[0m \u001b[0mnode_height\u001b[0m\u001b[0;34m[\u001b[0m\u001b[0mu\u001b[0m\u001b[0;34m]\u001b[0m \u001b[0;34m-\u001b[0m \u001b[0my_padding\u001b[0m \u001b[0;32mfor\u001b[0m \u001b[0mu\u001b[0m \u001b[0;32min\u001b[0m \u001b[0mrange\u001b[0m\u001b[0;34m(\u001b[0m\u001b[0mts\u001b[0m\u001b[0;34m.\u001b[0m\u001b[0mnum_nodes\u001b[0m\u001b[0;34m)\u001b[0m\u001b[0;34m\u001b[0m\u001b[0;34m\u001b[0m\u001b[0m\n\u001b[0m\u001b[1;32m    577\u001b[0m         ]\n\u001b[1;32m    578\u001b[0m \u001b[0;34m\u001b[0m\u001b[0m\n",
      "\u001b[0;31mKeyboardInterrupt\u001b[0m: "
     ]
    }
   ],
   "source": [
    "from IPython.display import display, SVG\n",
    "svg_size = (800, 250) # Height and width for the SVG: optional but useful for this notebook\n",
    "svg_string = sts.draw_svg(\n",
    "    size=svg_size,\n",
    "    x_scale=\"treewise\",  # Match the axis coordinate systems to the text view\n",
    ")\n",
    "display(SVG(svg_string))  # If the last line in a cell, wrapping this in display() is not needed"
   ]
  },
  {
   "cell_type": "code",
   "execution_count": 43,
   "metadata": {},
   "outputs": [
    {
     "data": {
      "image/svg+xml": [
       "<svg xmlns=\"http://www.w3.org/2000/svg\" xmlns:ev=\"http://www.w3.org/2001/xml-events\" xmlns:xlink=\"http://www.w3.org/1999/xlink\" baseProfile=\"full\" height=\"400\" version=\"1.1\" width=\"900\"><defs><style type=\"text/css\"><![CDATA[.axis {font-weight: bold}.tree, .axis {font-size: 14px; text-anchor:middle}.edge {stroke: black; fill: none}.node > .sym {fill: black; stroke: none}.tree text {dominant-baseline: middle}.tree .lab.lft {text-anchor: end}.tree .lab.rgt {text-anchor: start}.mut {fill: red; font-style: italic}]]></style></defs><g class=\"tree t2\"><g class=\"node n9245 p0 root\" transform=\"translate(555.682 30.0)\"><g class=\"a9245 node n6147 p0\" transform=\"translate(-196.482 231.44)\"><g class=\"a6147 node n3316 p0\" transform=\"translate(77.3857 53.3382)\"><g class=\"a3316 i4 leaf node n36 p0 sample\" transform=\"translate(24.1463 55.2216)\"><path class=\"edge\" d=\"M 0 0 V -55.2216 H -24.1463\"/><circle class=\"sym\" cx=\"0\" cy=\"0\" r=\"3\"/><text class=\"lab\" transform=\"translate(0 12)\">36</text></g><g class=\"a3316 node n3046 p0\" transform=\"translate(-24.1463 2.34843)\"><g class=\"a3046 i15 leaf node n8 p1 sample\" transform=\"translate(-16.0976 52.8732)\"><path class=\"edge\" d=\"M 0 0 V -52.8732 H 16.0976\"/><circle class=\"sym\" cx=\"0\" cy=\"0\" r=\"3\"/><text class=\"lab\" transform=\"translate(0 12)\">8</text></g><g class=\"a3046 node n2032 p0\" transform=\"translate(16.0976 18.4107)\"><g class=\"a2032 i6 leaf node n25 p0 sample\" transform=\"translate(-10.7317 34.3617)\"><path class=\"edge\" d=\"M 0 0 V -34.3617 H 10.7317\"/><circle class=\"sym\" cx=\"0\" cy=\"0\" r=\"3\"/><text class=\"lab\" transform=\"translate(0 12)\">25</text></g><g class=\"a2032 i9 leaf node n30 p0 sample\" transform=\"translate(10.7317 34.4624)\"><path class=\"edge\" d=\"M 0 0 V -34.4624 H -10.7317\"/><circle class=\"sym\" cx=\"0\" cy=\"0\" r=\"3\"/><text class=\"lab\" transform=\"translate(0 12)\">30</text></g><path class=\"edge\" d=\"M 0 0 V -18.4107 H -16.0976\"/><circle class=\"sym\" cx=\"0\" cy=\"0\" r=\"3\"/><text class=\"lab rgt\" transform=\"translate(3 -6)\">2032</text></g><path class=\"edge\" d=\"M 0 0 V -2.34843 H 24.1463\"/><circle class=\"sym\" cx=\"0\" cy=\"0\" r=\"3\"/><text class=\"lab lft\" transform=\"translate(-3 -6)\">3046</text></g><path class=\"edge\" d=\"M 0 0 V -53.3382 H -77.3857\"/><circle class=\"sym\" cx=\"0\" cy=\"0\" r=\"3\"/><text class=\"lab rgt\" transform=\"translate(3 -6)\">3316</text></g><g class=\"a6147 node n4682 p0\" transform=\"translate(-77.3857 35.1431)\"><g class=\"a4682 m0 node n2148 p1 s0\" transform=\"translate(71.6006 36.8382)\"><g class=\"a2148 i17 leaf node n15 p1 sample\" transform=\"translate(21.4634 36.2763)\"><path class=\"edge\" d=\"M 0 0 V -36.2763 H -21.4634\"/><circle class=\"sym\" cx=\"0\" cy=\"0\" r=\"3\"/><text class=\"lab\" transform=\"translate(0 12)\">15</text></g><g class=\"a2148 node n83 p1\" transform=\"translate(-21.4634 34.5632)\"><g class=\"a83 i18 leaf node n2 p1 sample\" transform=\"translate(-21.4634 2.01535)\"><path class=\"edge\" d=\"M 0 0 V -2.01535 H 21.4634\"/><circle class=\"sym\" cx=\"0\" cy=\"0\" r=\"3\"/><text class=\"lab\" transform=\"translate(0 12)\">2</text></g><g class=\"a83 i12 leaf node n10 p1 sample\" transform=\"translate(0.0 1.91458)\"><path class=\"edge\" d=\"M 0 0 V -1.91458 H 0.0\"/><circle class=\"sym\" cx=\"0\" cy=\"0\" r=\"3\"/><text class=\"lab\" transform=\"translate(0 12)\">10</text></g><g class=\"a83 i13 leaf node n18 p1 sample\" transform=\"translate(21.4634 1.91458)\"><path class=\"edge\" d=\"M 0 0 V -1.91458 H -21.4634\"/><circle class=\"sym\" cx=\"0\" cy=\"0\" r=\"3\"/><text class=\"lab\" transform=\"translate(0 12)\">18</text></g><path class=\"edge\" d=\"M 0 0 V -34.5632 H 21.4634\"/><circle class=\"sym\" cx=\"0\" cy=\"0\" r=\"3\"/><text class=\"lab lft\" transform=\"translate(-3 -6)\">83</text></g><path class=\"edge\" d=\"M 0 0 V -36.8382 H -71.6006\"/><circle class=\"sym\" cx=\"0\" cy=\"0\" r=\"3\"/><text class=\"lab rgt\" transform=\"translate(3 -6)\">2148</text><g class=\"mut m0 s0\" transform=\"translate(0 -18.4191)\"><rect class=\"sym\" height=\"6\" transform=\"translate(-3 -3)\" width=\"6\" x=\"0\" y=\"0\"/><text class=\"lab rgt\" transform=\"translate(5 0)\">0</text></g></g><g class=\"a4682 node n3466 p0\" transform=\"translate(-71.6006 16.5362)\"><g class=\"a3466 node n1931 p0\" transform=\"translate(51.9817 24.8365)\"><g class=\"a1931 i5 leaf node n35 p0 sample\" transform=\"translate(-16.0976 31.8425)\"><path class=\"edge\" d=\"M 0 0 V -31.8425 H 16.0976\"/><circle class=\"sym\" cx=\"0\" cy=\"0\" r=\"3\"/><text class=\"lab\" transform=\"translate(0 12)\">35</text></g><g class=\"a1931 node n148 p0\" transform=\"translate(16.0976 28.5675)\"><g class=\"a148 i4 leaf node n37 p0 sample\" transform=\"translate(-10.7317 3.47647)\"><path class=\"edge\" d=\"M 0 0 V -3.47647 H 10.7317\"/><circle class=\"sym\" cx=\"0\" cy=\"0\" r=\"3\"/><text class=\"lab\" transform=\"translate(0 12)\">37</text></g><g class=\"a148 i2 leaf node n39 p0 sample\" transform=\"translate(10.7317 3.47647)\"><path class=\"edge\" d=\"M 0 0 V -3.47647 H -10.7317\"/><circle class=\"sym\" cx=\"0\" cy=\"0\" r=\"3\"/><text class=\"lab\" transform=\"translate(0 12)\">39</text></g><path class=\"edge\" d=\"M 0 0 V -28.5675 H -16.0976\"/><circle class=\"sym\" cx=\"0\" cy=\"0\" r=\"3\"/><text class=\"lab rgt\" transform=\"translate(3 -6)\">148</text></g><path class=\"edge\" d=\"M 0 0 V -24.8365 H -51.9817\"/><circle class=\"sym\" cx=\"0\" cy=\"0\" r=\"3\"/><text class=\"lab rgt\" transform=\"translate(3 -6)\">1931</text></g><g class=\"a3466 node n3265 p0\" transform=\"translate(-51.9817 2.10438)\"><g class=\"a3265 node n2506 p1\" transform=\"translate(-55.6707 9.27971)\"><g class=\"a2506 node n1031 p1\" transform=\"translate(46.9512 28.6683)\"><g class=\"a1031 node n75 p1\" transform=\"translate(-21.4634 15.1655)\"><g class=\"a75 i10 leaf node n1 p1 sample\" transform=\"translate(-10.7317 1.36036)\"><path class=\"edge\" d=\"M 0 0 V -1.36036 H 10.7317\"/><circle class=\"sym\" cx=\"0\" cy=\"0\" r=\"3\"/><text class=\"lab\" transform=\"translate(0 12)\">1</text></g><g class=\"a75 i18 leaf node n3 p1 sample\" transform=\"translate(10.7317 1.66266)\"><path class=\"edge\" d=\"M 0 0 V -1.66266 H -10.7317\"/><circle class=\"sym\" cx=\"0\" cy=\"0\" r=\"3\"/><text class=\"lab\" transform=\"translate(0 12)\">3</text></g><path class=\"edge\" d=\"M 0 0 V -15.1655 H 21.4634\"/><circle class=\"sym\" cx=\"0\" cy=\"0\" r=\"3\"/><text class=\"lab lft\" transform=\"translate(-3 -6)\">75</text></g><g class=\"a1031 node n136 p1\" transform=\"translate(21.4634 13.6036)\"><g class=\"a136 i11 leaf node n4 p1 sample\" transform=\"translate(-10.7317 3.0734)\"><path class=\"edge\" d=\"M 0 0 V -3.0734 H 10.7317\"/><circle class=\"sym\" cx=\"0\" cy=\"0\" r=\"3\"/><text class=\"lab\" transform=\"translate(0 12)\">4</text></g><g class=\"a136 i16 leaf node n13 p1 sample\" transform=\"translate(10.7317 2.87187)\"><path class=\"edge\" d=\"M 0 0 V -2.87187 H -10.7317\"/><circle class=\"sym\" cx=\"0\" cy=\"0\" r=\"3\"/><text class=\"lab\" transform=\"translate(0 12)\">13</text></g><path class=\"edge\" d=\"M 0 0 V -13.6036 H -21.4634\"/><circle class=\"sym\" cx=\"0\" cy=\"0\" r=\"3\"/><text class=\"lab rgt\" transform=\"translate(3 -6)\">136</text></g><path class=\"edge\" d=\"M 0 0 V -28.6683 H -46.9512\"/><circle class=\"sym\" cx=\"0\" cy=\"0\" r=\"3\"/><text class=\"lab rgt\" transform=\"translate(3 -6)\">1031</text></g><g class=\"a2506 node n2042 p1\" transform=\"translate(-46.9512 10.8829)\"><g class=\"a2042 i10 leaf node n0 p1 sample\" transform=\"translate(-24.1463 34.3113)\"><path class=\"edge\" d=\"M 0 0 V -34.3113 H 24.1463\"/><circle class=\"sym\" cx=\"0\" cy=\"0\" r=\"3\"/><text class=\"lab\" transform=\"translate(0 12)\">0</text></g><g class=\"a2042 node n703 p1\" transform=\"translate(24.1463 22.8238)\"><g class=\"a703 i14 leaf node n17 p1 sample\" transform=\"translate(16.0976 11.689)\"><path class=\"edge\" d=\"M 0 0 V -11.689 H -16.0976\"/><circle class=\"sym\" cx=\"0\" cy=\"0\" r=\"3\"/><text class=\"lab\" transform=\"translate(0 12)\">17</text></g><g class=\"a703 node n180 p1\" transform=\"translate(-16.0976 7.60794)\"><g class=\"a180 i19 leaf node n7 p1 sample\" transform=\"translate(-10.7317 4.18185)\"><path class=\"edge\" d=\"M 0 0 V -4.18185 H 10.7317\"/><circle class=\"sym\" cx=\"0\" cy=\"0\" r=\"3\"/><text class=\"lab\" transform=\"translate(0 12)\">7</text></g><g class=\"a180 i16 leaf node n12 p1 sample\" transform=\"translate(10.7317 3.82916)\"><path class=\"edge\" d=\"M 0 0 V -3.82916 H -10.7317\"/><circle class=\"sym\" cx=\"0\" cy=\"0\" r=\"3\"/><text class=\"lab\" transform=\"translate(0 12)\">12</text></g><path class=\"edge\" d=\"M 0 0 V -7.60794 H 16.0976\"/><circle class=\"sym\" cx=\"0\" cy=\"0\" r=\"3\"/><text class=\"lab lft\" transform=\"translate(-3 -6)\">180</text></g><path class=\"edge\" d=\"M 0 0 V -22.8238 H -24.1463\"/><circle class=\"sym\" cx=\"0\" cy=\"0\" r=\"3\"/><text class=\"lab rgt\" transform=\"translate(3 -6)\">703</text></g><path class=\"edge\" d=\"M 0 0 V -10.8829 H 46.9512\"/><circle class=\"sym\" cx=\"0\" cy=\"0\" r=\"3\"/><text class=\"lab lft\" transform=\"translate(-3 -6)\">2042</text></g><path class=\"edge\" d=\"M 0 0 V -9.27971 H 55.6707\"/><circle class=\"sym\" cx=\"0\" cy=\"0\" r=\"3\"/><text class=\"lab lft\" transform=\"translate(-3 -6)\">2506</text></g><g class=\"a3265 node n2685 p1\" transform=\"translate(55.6707 4.79556)\"><g class=\"a2685 i13 leaf node n19 p1 sample\" transform=\"translate(10.7317 49.8798)\"><path class=\"edge\" d=\"M 0 0 V -49.8798 H -10.7317\"/><circle class=\"sym\" cx=\"0\" cy=\"0\" r=\"3\"/><text class=\"lab\" transform=\"translate(0 12)\">19</text></g><g class=\"a2685 i14 leaf node n16 p1 sample\" transform=\"translate(-10.7317 49.8798)\"><path class=\"edge\" d=\"M 0 0 V -49.8798 H 10.7317\"/><circle class=\"sym\" cx=\"0\" cy=\"0\" r=\"3\"/><text class=\"lab\" transform=\"translate(0 12)\">16</text></g><path class=\"edge\" d=\"M 0 0 V -4.79556 H -55.6707\"/><circle class=\"sym\" cx=\"0\" cy=\"0\" r=\"3\"/><text class=\"lab rgt\" transform=\"translate(3 -6)\">2685</text></g><path class=\"edge\" d=\"M 0 0 V -2.10438 H 51.9817\"/><circle class=\"sym\" cx=\"0\" cy=\"0\" r=\"3\"/><text class=\"lab lft\" transform=\"translate(-3 -6)\">3265</text></g><path class=\"edge\" d=\"M 0 0 V -16.5362 H 71.6006\"/><circle class=\"sym\" cx=\"0\" cy=\"0\" r=\"3\"/><text class=\"lab lft\" transform=\"translate(-3 -6)\">3466</text></g><path class=\"edge\" d=\"M 0 0 V -35.1431 H 77.3857\"/><circle class=\"sym\" cx=\"0\" cy=\"0\" r=\"3\"/><text class=\"lab lft\" transform=\"translate(-3 -6)\">4682</text></g><path class=\"edge\" d=\"M 0 0 V -231.44 H 196.482\"/><circle class=\"sym\" cx=\"0\" cy=\"0\" r=\"3\"/><text class=\"lab lft\" transform=\"translate(-3 -6)\">6147</text></g><g class=\"a9245 node n7430 p0\" transform=\"translate(196.482 176.232)\"><g class=\"a7430 node n4306 p0\" transform=\"translate(89.5427 96.6105)\"><g class=\"a4306 i3 leaf node n29 p0 sample\" transform=\"translate(26.8293 67.1572)\"><path class=\"edge\" d=\"M 0 0 V -67.1572 H -26.8293\"/><circle class=\"sym\" cx=\"0\" cy=\"0\" r=\"3\"/><text class=\"lab\" transform=\"translate(0 12)\">29</text></g><g class=\"a4306 node n2635 p0\" transform=\"translate(-26.8293 18.6881)\"><g class=\"a2635 node n97 p0\" transform=\"translate(21.4634 46.1515)\"><g class=\"a97 i6 leaf node n24 p0 sample\" transform=\"translate(-10.7317 2.21688)\"><path class=\"edge\" d=\"M 0 0 V -2.21688 H 10.7317\"/><circle class=\"sym\" cx=\"0\" cy=\"0\" r=\"3\"/><text class=\"lab\" transform=\"translate(0 12)\">24</text></g><g class=\"a97 i3 leaf node n28 p0 sample\" transform=\"translate(10.7317 2.31765)\"><path class=\"edge\" d=\"M 0 0 V -2.31765 H -10.7317\"/><circle class=\"sym\" cx=\"0\" cy=\"0\" r=\"3\"/><text class=\"lab\" transform=\"translate(0 12)\">28</text></g><path class=\"edge\" d=\"M 0 0 V -46.1515 H -21.4634\"/><circle class=\"sym\" cx=\"0\" cy=\"0\" r=\"3\"/><text class=\"lab rgt\" transform=\"translate(3 -6)\">97</text></g><g class=\"a2635 node n790 p0\" transform=\"translate(-21.4634 35.2686)\"><g class=\"a790 i7 leaf node n20 p0 sample\" transform=\"translate(-10.7317 13.1501)\"><path class=\"edge\" d=\"M 0 0 V -13.1501 H 10.7317\"/><circle class=\"sym\" cx=\"0\" cy=\"0\" r=\"3\"/><text class=\"lab\" transform=\"translate(0 12)\">20</text></g><g class=\"a790 i1 leaf node n26 p0 sample\" transform=\"translate(10.7317 13.1501)\"><path class=\"edge\" d=\"M 0 0 V -13.1501 H -10.7317\"/><circle class=\"sym\" cx=\"0\" cy=\"0\" r=\"3\"/><text class=\"lab\" transform=\"translate(0 12)\">26</text></g><path class=\"edge\" d=\"M 0 0 V -35.2686 H 21.4634\"/><circle class=\"sym\" cx=\"0\" cy=\"0\" r=\"3\"/><text class=\"lab lft\" transform=\"translate(-3 -6)\">790</text></g><path class=\"edge\" d=\"M 0 0 V -18.6881 H 26.8293\"/><circle class=\"sym\" cx=\"0\" cy=\"0\" r=\"3\"/><text class=\"lab lft\" transform=\"translate(-3 -6)\">2635</text></g><path class=\"edge\" d=\"M 0 0 V -96.6105 H -89.5427\"/><circle class=\"sym\" cx=\"0\" cy=\"0\" r=\"3\"/><text class=\"lab rgt\" transform=\"translate(3 -6)\">4306</text></g><g class=\"a7430 node n6749 p0\" transform=\"translate(-89.5427 34.0306)\"><g class=\"a6749 node n3124 p0\" transform=\"translate(-87.8659 76.2363)\"><g class=\"a3124 node n1357 p0\" transform=\"translate(68.4146 31.3824)\"><g class=\"a1357 node n1137 p0\" transform=\"translate(-48.2927 3.62763)\"><g class=\"a1137 i1 leaf node n27 p0 sample\" transform=\"translate(16.0976 18.4404)\"><path class=\"edge\" d=\"M 0 0 V -18.4404 H -16.0976\"/><circle class=\"sym\" cx=\"0\" cy=\"0\" r=\"3\"/><text class=\"lab\" transform=\"translate(0 12)\">27</text></g><g class=\"a1137 node n284 p0\" transform=\"translate(-16.0976 12.4448)\"><g class=\"a284 i7 leaf node n21 p0 sample\" transform=\"translate(-10.7317 5.99566)\"><path class=\"edge\" d=\"M 0 0 V -5.99566 H 10.7317\"/><circle class=\"sym\" cx=\"0\" cy=\"0\" r=\"3\"/><text class=\"lab\" transform=\"translate(0 12)\">21</text></g><g class=\"a284 i5 leaf node n34 p0 sample\" transform=\"translate(10.7317 5.84451)\"><path class=\"edge\" d=\"M 0 0 V -5.84451 H -10.7317\"/><circle class=\"sym\" cx=\"0\" cy=\"0\" r=\"3\"/><text class=\"lab\" transform=\"translate(0 12)\">34</text></g><path class=\"edge\" d=\"M 0 0 V -12.4448 H 16.0976\"/><circle class=\"sym\" cx=\"0\" cy=\"0\" r=\"3\"/><text class=\"lab lft\" transform=\"translate(-3 -6)\">284</text></g><path class=\"edge\" d=\"M 0 0 V -3.62763 H 48.2927\"/><circle class=\"sym\" cx=\"0\" cy=\"0\" r=\"3\"/><text class=\"lab lft\" transform=\"translate(-3 -6)\">1137</text></g><g class=\"a1357 node n1296 p0\" transform=\"translate(48.2927 1.00767)\"><g class=\"a1296 i2 leaf node n38 p0 sample\" transform=\"translate(26.8293 21.1108)\"><path class=\"edge\" d=\"M 0 0 V -21.1108 H -26.8293\"/><circle class=\"sym\" cx=\"0\" cy=\"0\" r=\"3\"/><text class=\"lab\" transform=\"translate(0 12)\">38</text></g><g class=\"a1296 node n493 p0\" transform=\"translate(-26.8293 12.0417)\"><g class=\"a493 node n437 p0\" transform=\"translate(-21.4634 0.654988)\"><g class=\"a437 i8 leaf node n22 p0 sample\" transform=\"translate(-10.7317 8.41408)\"><path class=\"edge\" d=\"M 0 0 V -8.41408 H 10.7317\"/><circle class=\"sym\" cx=\"0\" cy=\"0\" r=\"3\"/><text class=\"lab\" transform=\"translate(0 12)\">22</text></g><g class=\"a437 i0 leaf node n32 p0 sample\" transform=\"translate(10.7317 8.31331)\"><path class=\"edge\" d=\"M 0 0 V -8.31331 H -10.7317\"/><circle class=\"sym\" cx=\"0\" cy=\"0\" r=\"3\"/><text class=\"lab\" transform=\"translate(0 12)\">32</text></g><path class=\"edge\" d=\"M 0 0 V -0.654988 H 21.4634\"/><circle class=\"sym\" cx=\"0\" cy=\"0\" r=\"3\"/><text class=\"lab lft\" transform=\"translate(-3 -6)\">437</text></g><g class=\"a493 node n159 p0\" transform=\"translate(21.4634 5.34067)\"><g class=\"a159 i9 leaf node n31 p0 sample\" transform=\"translate(-10.7317 3.72839)\"><path class=\"edge\" d=\"M 0 0 V -3.72839 H 10.7317\"/><circle class=\"sym\" cx=\"0\" cy=\"0\" r=\"3\"/><text class=\"lab\" transform=\"translate(0 12)\">31</text></g><g class=\"a159 i0 leaf node n33 p0 sample\" transform=\"translate(10.7317 3.62763)\"><path class=\"edge\" d=\"M 0 0 V -3.62763 H -10.7317\"/><circle class=\"sym\" cx=\"0\" cy=\"0\" r=\"3\"/><text class=\"lab\" transform=\"translate(0 12)\">33</text></g><path class=\"edge\" d=\"M 0 0 V -5.34067 H -21.4634\"/><circle class=\"sym\" cx=\"0\" cy=\"0\" r=\"3\"/><text class=\"lab rgt\" transform=\"translate(3 -6)\">159</text></g><path class=\"edge\" d=\"M 0 0 V -12.0417 H 26.8293\"/><circle class=\"sym\" cx=\"0\" cy=\"0\" r=\"3\"/><text class=\"lab lft\" transform=\"translate(-3 -6)\">493</text></g><path class=\"edge\" d=\"M 0 0 V -1.00767 H -48.2927\"/><circle class=\"sym\" cx=\"0\" cy=\"0\" r=\"3\"/><text class=\"lab rgt\" transform=\"translate(3 -6)\">1296</text></g><path class=\"edge\" d=\"M 0 0 V -31.3824 H -68.4146\"/><circle class=\"sym\" cx=\"0\" cy=\"0\" r=\"3\"/><text class=\"lab rgt\" transform=\"translate(3 -6)\">1357</text></g><g class=\"a3124 node n1930 p1\" transform=\"translate(-68.4146 21.5072)\"><g class=\"a1930 i11 leaf node n5 p1 sample\" transform=\"translate(-24.1463 31.8425)\"><path class=\"edge\" d=\"M 0 0 V -31.8425 H 24.1463\"/><circle class=\"sym\" cx=\"0\" cy=\"0\" r=\"3\"/><text class=\"lab\" transform=\"translate(0 12)\">5</text></g><g class=\"a1930 node n1559 p1\" transform=\"translate(24.1463 6.8018)\"><g class=\"a1559 i15 leaf node n9 p1 sample\" transform=\"translate(16.0976 25.1918)\"><path class=\"edge\" d=\"M 0 0 V -25.1918 H -16.0976\"/><circle class=\"sym\" cx=\"0\" cy=\"0\" r=\"3\"/><text class=\"lab\" transform=\"translate(0 12)\">9</text></g><g class=\"a1559 node n124 p1\" transform=\"translate(-16.0976 22.2192)\"><g class=\"a124 i19 leaf node n6 p1 sample\" transform=\"translate(-10.7317 2.97264)\"><path class=\"edge\" d=\"M 0 0 V -2.97264 H 10.7317\"/><circle class=\"sym\" cx=\"0\" cy=\"0\" r=\"3\"/><text class=\"lab\" transform=\"translate(0 12)\">6</text></g><g class=\"a124 i17 leaf node n14 p1 sample\" transform=\"translate(10.7317 2.67034)\"><path class=\"edge\" d=\"M 0 0 V -2.67034 H -10.7317\"/><circle class=\"sym\" cx=\"0\" cy=\"0\" r=\"3\"/><text class=\"lab\" transform=\"translate(0 12)\">14</text></g><path class=\"edge\" d=\"M 0 0 V -22.2192 H 16.0976\"/><circle class=\"sym\" cx=\"0\" cy=\"0\" r=\"3\"/><text class=\"lab lft\" transform=\"translate(-3 -6)\">124</text></g><path class=\"edge\" d=\"M 0 0 V -6.8018 H -24.1463\"/><circle class=\"sym\" cx=\"0\" cy=\"0\" r=\"3\"/><text class=\"lab rgt\" transform=\"translate(3 -6)\">1559</text></g><path class=\"edge\" d=\"M 0 0 V -21.5072 H 68.4146\"/><circle class=\"sym\" cx=\"0\" cy=\"0\" r=\"3\"/><text class=\"lab lft\" transform=\"translate(-3 -6)\">1930</text></g><path class=\"edge\" d=\"M 0 0 V -76.2363 H 87.8659\"/><circle class=\"sym\" cx=\"0\" cy=\"0\" r=\"3\"/><text class=\"lab lft\" transform=\"translate(-3 -6)\">3124</text></g><g class=\"a6749 node n4154 p0\" transform=\"translate(87.8659 64.5891)\"><g class=\"a4154 i12 leaf node n11 p1 sample\" transform=\"translate(-10.7317 65.0473)\"><path class=\"edge\" d=\"M 0 0 V -65.0473 H 10.7317\"/><circle class=\"sym\" cx=\"0\" cy=\"0\" r=\"3\"/><text class=\"lab\" transform=\"translate(0 12)\">11</text></g><g class=\"a4154 i8 leaf node n23 p0 sample\" transform=\"translate(10.7317 65.148)\"><path class=\"edge\" d=\"M 0 0 V -65.148 H -10.7317\"/><circle class=\"sym\" cx=\"0\" cy=\"0\" r=\"3\"/><text class=\"lab\" transform=\"translate(0 12)\">23</text></g><path class=\"edge\" d=\"M 0 0 V -64.5891 H -87.8659\"/><circle class=\"sym\" cx=\"0\" cy=\"0\" r=\"3\"/><text class=\"lab rgt\" transform=\"translate(3 -6)\">4154</text></g><path class=\"edge\" d=\"M 0 0 V -34.0306 H 89.5427\"/><circle class=\"sym\" cx=\"0\" cy=\"0\" r=\"3\"/><text class=\"lab lft\" transform=\"translate(-3 -6)\">6749</text></g><path class=\"edge\" d=\"M 0 0 V -176.232 H -196.482\"/><circle class=\"sym\" cx=\"0\" cy=\"0\" r=\"3\"/><text class=\"lab rgt\" transform=\"translate(3 -6)\">7430</text></g><circle class=\"sym\" cx=\"0\" cy=\"0\" r=\"3\"/><text class=\"lab\" transform=\"translate(0 -10)\">9245</text></g></g></svg>"
      ],
      "text/plain": [
       "<IPython.core.display.SVG object>"
      ]
     },
     "metadata": {},
     "output_type": "display_data"
    }
   ],
   "source": [
    "display(SVG(sts.at_index(2).draw_svg(size = (900,400))))"
   ]
  },
  {
   "cell_type": "code",
   "execution_count": null,
   "metadata": {},
   "outputs": [],
   "source": [
    "display(SVG(sts.at_index(2).draw_svg(size = (900,400), all_edge_mutations=True)))"
   ]
  },
  {
   "cell_type": "code",
   "execution_count": null,
   "metadata": {},
   "outputs": [],
   "source": []
  },
  {
   "cell_type": "code",
   "execution_count": 1,
   "metadata": {},
   "outputs": [],
   "source": [
    "species = [1, 2, 3]"
   ]
  },
  {
   "cell_type": "code",
   "execution_count": 14,
   "metadata": {},
   "outputs": [],
   "source": [
    "msprime.mutate??"
   ]
  },
  {
   "cell_type": "code",
   "execution_count": 59,
   "metadata": {},
   "outputs": [],
   "source": [
    "files = [\"1\", \"2\"]"
   ]
  },
  {
   "cell_type": "code",
   "execution_count": 62,
   "metadata": {},
   "outputs": [
    {
     "data": {
      "text/plain": [
       "<function list.count(value, /)>"
      ]
     },
     "execution_count": 62,
     "metadata": {},
     "output_type": "execute_result"
    }
   ],
   "source": [
    "files."
   ]
  },
  {
   "cell_type": "code",
   "execution_count": null,
   "metadata": {},
   "outputs": [],
   "source": []
  }
 ],
 "metadata": {
  "kernelspec": {
   "display_name": "Python 3",
   "language": "python",
   "name": "python3"
  },
  "language_info": {
   "codemirror_mode": {
    "name": "ipython",
    "version": 3
   },
   "file_extension": ".py",
   "mimetype": "text/x-python",
   "name": "python",
   "nbconvert_exporter": "python",
   "pygments_lexer": "ipython3",
   "version": "3.8.6"
  }
 },
 "nbformat": 4,
 "nbformat_minor": 4
}
