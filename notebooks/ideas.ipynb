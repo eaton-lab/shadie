{
 "cells": [
  {
   "cell_type": "markdown",
   "metadata": {},
   "source": [
    "## Model context class\n",
    "\n",
    "Wraps shadie simulation code within a `Model` class context wrapper so that it can be formatted and checked on exit. We can subclass the `Model` class to provide different defaults, for example, `ModelNucleotide` or `ModelTreeseq`. The main `Model` class should be generic with the expectation that the user will specify more in this script."
   ]
  },
  {
   "cell_type": "code",
   "execution_count": 1,
   "metadata": {},
   "outputs": [],
   "source": [
    "import shadie\n",
    "shadie.set_loglevel(\"DEBUG\")"
   ]
  },
  {
   "cell_type": "markdown",
   "metadata": {},
   "source": [
    "### Simple example"
   ]
  },
  {
   "cell_type": "code",
   "execution_count": 2,
   "metadata": {},
   "outputs": [
    {
     "name": "stdout",
     "output_type": "stream",
     "text": [
      "11:55 | DEBUG   | \u001b[1m\u001b[31minitialize     \u001b[0m\u001b[1m\u001b[0m | \u001b[34m\u001b[1minitializing Model\u001b[0m\n",
      "11:55 | DEBUG   | \u001b[1m\u001b[31m__exit__       \u001b[0m\u001b[1m\u001b[0m | \u001b[34m\u001b[1mexiting Model\u001b[0m\n"
     ]
    }
   ],
   "source": [
    "with shadie.Model() as model:\n",
    "    \n",
    "    # define a simple chromosome of Elements\n",
    "    chrom = shadie.chromosome.default()\n",
    "    \n",
    "    # create init block\n",
    "    model.initialize(chrom)\n",
    "    \n",
    "    # create simulation\n",
    "    model.early(time=1, scripts=\"sim.addSubpop('p1', 10);\")\n",
    "    model.late(time=1000, scripts=\"sim.outputFull();\")"
   ]
  },
  {
   "cell_type": "code",
   "execution_count": 3,
   "metadata": {},
   "outputs": [],
   "source": [
    "# print(model.script)"
   ]
  },
  {
   "cell_type": "code",
   "execution_count": 4,
   "metadata": {},
   "outputs": [],
   "source": [
    "model.run()"
   ]
  },
  {
   "cell_type": "code",
   "execution_count": 5,
   "metadata": {},
   "outputs": [],
   "source": [
    "# print(model.stdout)"
   ]
  },
  {
   "cell_type": "markdown",
   "metadata": {},
   "source": [
    "### A more complex example"
   ]
  },
  {
   "cell_type": "code",
   "execution_count": 6,
   "metadata": {},
   "outputs": [
    {
     "name": "stdout",
     "output_type": "stream",
     "text": [
      "11:55 | DEBUG   | \u001b[1m\u001b[31minitialize     \u001b[0m\u001b[1m\u001b[0m | \u001b[34m\u001b[1minitializing Model\u001b[0m\n",
      "11:55 | DEBUG   | \u001b[1m\u001b[31m__exit__       \u001b[0m\u001b[1m\u001b[0m | \u001b[34m\u001b[1mexiting Model\u001b[0m\n"
     ]
    }
   ],
   "source": [
    "with shadie.Model() as model:\n",
    "    \n",
    "    # define mutation types\n",
    "    m0 = shadie.mtype(0.5, 'n', 2.0, 1.0)\n",
    "    m1 = shadie.mtype(0.5, 'g', 3.0, 1.0)\n",
    "    \n",
    "    # define elements types\n",
    "    e0 = shadie.etype([m0, m1], [1, 2])\n",
    "    e1 = shadie.etype([m1], [1])\n",
    "    \n",
    "    # design chromosome of elements\n",
    "    chrom = shadie.chromosome.explicit({\n",
    "        (500, 1000): e0,\n",
    "        (1500, 2000): e1,\n",
    "    })\n",
    "    \n",
    "    # create the init block\n",
    "    model.initialize(chromosome=chrom, constants={\"K\": 500})\n",
    "\n",
    "    # create simulation using custom shadie elements\n",
    "    # that append to early, late, and repro code blocks\n",
    "    #model.complex.alternation_of_generations()\n",
    "    \n",
    "    # create simulation manually\n",
    "    model.early(time=1, scripts=\"sim.addSubpop('p1', 10);\")\n",
    "    model.early(time=None, scripts=\"p1.fitnessScaling = K / p1.individualCount;\")\n",
    "    model.late(time=2000, scripts=\"sim.outputFull();\")\n",
    "    model.late(\n",
    "        time=None,\n",
    "        scripts=[\n",
    "            \"inds = p1.individuals;\",\n",
    "            \"catn(sim.generation + ': ' + size(inds) + ' (' + max(inds.age) + ')');\"\n",
    "        ]\n",
    "    )"
   ]
  },
  {
   "cell_type": "code",
   "execution_count": 7,
   "metadata": {},
   "outputs": [],
   "source": [
    "# print(model.script)"
   ]
  },
  {
   "cell_type": "code",
   "execution_count": 8,
   "metadata": {},
   "outputs": [],
   "source": [
    "model.run()"
   ]
  },
  {
   "cell_type": "code",
   "execution_count": 9,
   "metadata": {
    "scrolled": false
   },
   "outputs": [],
   "source": [
    "# print(model.stdout)"
   ]
  },
  {
   "cell_type": "markdown",
   "metadata": {},
   "source": [
    "### Alternation of generations (manually)"
   ]
  },
  {
   "cell_type": "code",
   "execution_count": 21,
   "metadata": {},
   "outputs": [],
   "source": [
    "# to add arbitrary SLIM code we would need to expand curly\n",
    "# brackets to be double-curly-brackets.\n",
    "repro = \"\"\"\n",
    "{\n",
    "\tg_1 = genome1; //defined here to simply code downstream\n",
    "\tg_2 = genome2;\n",
    "\t\n",
    "\tfor (meiosisCount in 1:5) //each diploid individual undergoes meiosis 5x\n",
    "\t{\n",
    "\t\tif (individual.sex == \"M\")\n",
    "\t\t{\n",
    "\t\t\t// drawBreakpoints generates the same breakpoints that internal SLiM would generate\n",
    "\t\t\t//uses recomobination rate set for the moodel\n",
    "\t\t\tbreaks = sim.chromosome.drawBreakpoints(individual);\n",
    "\t\t\t//resulting haploids are added to p2:\n",
    "\t\t\ts_1 = p2.addRecombinant(g_1, g_2, breaks, NULL, NULL, NULL, \"M\");\n",
    "\t\t\t//addRecombinant(leaves genomes and breakpoints NULL to avoid making second chromosome copy)\n",
    "\t\t\ts_2 = p2.addRecombinant(g_2, g_1, breaks, NULL, NULL, NULL, \"M\");\n",
    "\t\t\t\n",
    "\t\t\tbreaks = sim.chromosome.drawBreakpoints(individual);\n",
    "\t\t\ts_3 = p2.addRecombinant(g_1, g_2, breaks, NULL, NULL, NULL, \"M\");\n",
    "\t\t\ts_4 = p2.addRecombinant(g_2, g_1, breaks, NULL, NULL, NULL, \"M\");\n",
    "\t\t}\n",
    "\t\telse if (individual.sex == \"F\")\n",
    "\t\t{\n",
    "\t\t\tbreaks = sim.chromosome.drawBreakpoints(individual);\n",
    "\t\t\tif (runif(1) <= 0.5)\n",
    "\t\t\t\te = p2.addRecombinant(g_1, g_2, breaks, NULL, NULL, NULL, \"F\");\n",
    "\t\t\telse\n",
    "\t\t\t\te = p2.addRecombinant(g_2, g_1, breaks, NULL, NULL, NULL, \"F\");\n",
    "\t\t}\n",
    "\t}\n",
    "}\n",
    "\"\"\""
   ]
  },
  {
   "cell_type": "code",
   "execution_count": 22,
   "metadata": {},
   "outputs": [
    {
     "name": "stdout",
     "output_type": "stream",
     "text": [
      "11:58 | DEBUG   | \u001b[1m\u001b[31minitialize     \u001b[0m\u001b[1m\u001b[0m | \u001b[34m\u001b[1minitializing Model\u001b[0m\n",
      "11:58 | DEBUG   | \u001b[1m\u001b[31m__exit__       \u001b[0m\u001b[1m\u001b[0m | \u001b[34m\u001b[1mexiting Model\u001b[0m\n"
     ]
    }
   ],
   "source": [
    "with shadie.Model() as model:\n",
    "    \n",
    "    # define mutation types\n",
    "    m0 = shadie.mtype(0.5, 'n', 2.0, 1.0)\n",
    "    m1 = shadie.mtype(0.5, 'g', 3.0, 1.0)\n",
    "    \n",
    "    # define elements types\n",
    "    e0 = shadie.etype([m0, m1], [1, 2])\n",
    "    e1 = shadie.etype([m1], [1])\n",
    "    \n",
    "    # design chromosome of elements\n",
    "    chrom = shadie.chromosome.explicit({\n",
    "        (500, 1000): e0,\n",
    "        (1500, 2000): e1,\n",
    "    })\n",
    "    \n",
    "    # create the init block\n",
    "    model.initialize(\n",
    "        chromosome=chrom, \n",
    "        constants={\"K\": 500},\n",
    "        scripts=[\"initializeSex('A');\"]\n",
    "    )\n",
    "\n",
    "    # create simulation manually\n",
    "    model.early(\n",
    "        time=1,\n",
    "        scripts=[\n",
    "            \"sim.addSubpop('p1', K);\"\n",
    "            \"sim.addSubpop('p2', 0);\"\n",
    "        ],\n",
    "    )\n",
    "    \n",
    "    model.reproduction(\n",
    "        population='p1',\n",
    "        scripts=repro,\n",
    "    )\n",
    "    \n",
    "    model.reproduction(\n",
    "        population='p2',\n",
    "        scripts=[],\n",
    "    )\n",
    "    \n",
    "    # ..."
   ]
  },
  {
   "cell_type": "code",
   "execution_count": 19,
   "metadata": {},
   "outputs": [],
   "source": [
    "# model.script"
   ]
  },
  {
   "cell_type": "code",
   "execution_count": null,
   "metadata": {},
   "outputs": [],
   "source": []
  }
 ],
 "metadata": {
  "kernelspec": {
   "display_name": "Python 3",
   "language": "python",
   "name": "python3"
  },
  "language_info": {
   "codemirror_mode": {
    "name": "ipython",
    "version": 3
   },
   "file_extension": ".py",
   "mimetype": "text/x-python",
   "name": "python",
   "nbconvert_exporter": "python",
   "pygments_lexer": "ipython3",
   "version": "3.8.6"
  }
 },
 "nbformat": 4,
 "nbformat_minor": 5
}
