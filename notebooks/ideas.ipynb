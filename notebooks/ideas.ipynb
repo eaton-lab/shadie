{
 "cells": [
  {
   "cell_type": "markdown",
   "id": "significant-foundation",
   "metadata": {},
   "source": [
    "## Model context class\n",
    "\n",
    "Wraps shadie simulation code within a `Model` class context wrapper so that it can be formatted and checked on exit. We can subclass the `Model` class to provide different defaults, for example, `ModelNucleotide` or `ModelTreeseq`. The main `Model` class should be generic with the expectation that the user will specify more in this script."
   ]
  },
  {
   "cell_type": "code",
   "execution_count": 1,
   "id": "qualified-pantyhose",
   "metadata": {},
   "outputs": [
    {
     "name": "stderr",
     "output_type": "stream",
     "text": [
      "2021-08-24 14:22:52.426 | WARNING  | shadie.base.mutations:__init__:73 - shadie workflow strongly advises against the use of neutral mutations in SLiM simulation unless Chromosome parameter NSsites = False (default = True)\n"
     ]
    }
   ],
   "source": [
    "import shadie\n",
    "shadie.set_loglevel(\"DEBUG\")"
   ]
  },
  {
   "cell_type": "markdown",
   "id": "owned-collaboration",
   "metadata": {},
   "source": [
    "### Simple example"
   ]
  },
  {
   "cell_type": "code",
   "execution_count": 4,
   "id": "dressed-being",
   "metadata": {},
   "outputs": [
    {
     "name": "stdout",
     "output_type": "stream",
     "text": [
      "02:23 | DEBUG   | \u001b[1m\u001b[31minitialize     \u001b[0m\u001b[1m\u001b[0m | \u001b[34m\u001b[1minitializing Model\u001b[0m\n"
     ]
    },
    {
     "ename": "AssertionError",
     "evalue": "You must call initialize() from within Model context",
     "output_type": "error",
     "traceback": [
      "\u001b[0;31m---------------------------------------------------------------------------\u001b[0m",
      "\u001b[0;31mAttributeError\u001b[0m                            Traceback (most recent call last)",
      "\u001b[0;32m<ipython-input-4-6e0015714b5c>\u001b[0m in \u001b[0;36m<module>\u001b[0;34m\u001b[0m\n\u001b[1;32m      6\u001b[0m     \u001b[0;31m# create init block\u001b[0m\u001b[0;34m\u001b[0m\u001b[0;34m\u001b[0m\u001b[0;34m\u001b[0m\u001b[0m\n\u001b[0;32m----> 7\u001b[0;31m     \u001b[0mmodel\u001b[0m\u001b[0;34m.\u001b[0m\u001b[0minitialize\u001b[0m\u001b[0;34m(\u001b[0m\u001b[0mchrom\u001b[0m\u001b[0;34m)\u001b[0m\u001b[0;34m\u001b[0m\u001b[0;34m\u001b[0m\u001b[0m\n\u001b[0m\u001b[1;32m      8\u001b[0m \u001b[0;34m\u001b[0m\u001b[0m\n",
      "\u001b[0;32m~/Documents/shadie/shadie/sims/model.py\u001b[0m in \u001b[0;36minitialize\u001b[0;34m(self, chromosome, length, mut, recomb, constants, scripts, fileout, startfile)\u001b[0m\n\u001b[1;32m    208\u001b[0m             \u001b[0;34m'elements'\u001b[0m\u001b[0;34m:\u001b[0m \u001b[0mchromosome\u001b[0m\u001b[0;34m.\u001b[0m\u001b[0mto_slim_element_types\u001b[0m\u001b[0;34m(\u001b[0m\u001b[0;34m)\u001b[0m\u001b[0;34m,\u001b[0m\u001b[0;34m\u001b[0m\u001b[0;34m\u001b[0m\u001b[0m\n\u001b[0;32m--> 209\u001b[0;31m             \u001b[0;34m'chromosome'\u001b[0m\u001b[0;34m:\u001b[0m \u001b[0mchromosome\u001b[0m\u001b[0;34m.\u001b[0m\u001b[0mto_slim_elements\u001b[0m\u001b[0;34m(\u001b[0m\u001b[0;34m)\u001b[0m\u001b[0;34m,\u001b[0m\u001b[0;34m\u001b[0m\u001b[0;34m\u001b[0m\u001b[0m\n\u001b[0m\u001b[1;32m    210\u001b[0m             \u001b[0;34m'constants'\u001b[0m\u001b[0;34m:\u001b[0m \u001b[0mconstants\u001b[0m\u001b[0;34m,\u001b[0m\u001b[0;34m\u001b[0m\u001b[0;34m\u001b[0m\u001b[0m\n",
      "\u001b[0;32m~/Documents/shadie/shadie/chromosome/build.py\u001b[0m in \u001b[0;36mto_slim_elements\u001b[0;34m(self)\u001b[0m\n\u001b[1;32m    326\u001b[0m \u001b[0;34m\u001b[0m\u001b[0m\n\u001b[0;32m--> 327\u001b[0;31m             \u001b[0;32mif\u001b[0m \u001b[0mself\u001b[0m\u001b[0;34m.\u001b[0m\u001b[0msites\u001b[0m\u001b[0;34m:\u001b[0m\u001b[0;34m\u001b[0m\u001b[0;34m\u001b[0m\u001b[0m\n\u001b[0m\u001b[1;32m    328\u001b[0m                 \u001b[0;31m# skip non-coding regions\u001b[0m\u001b[0;34m\u001b[0m\u001b[0;34m\u001b[0m\u001b[0;34m\u001b[0m\u001b[0m\n",
      "\u001b[0;31mAttributeError\u001b[0m: 'Chromosome' object has no attribute 'sites'",
      "\nDuring handling of the above exception, another exception occurred:\n",
      "\u001b[0;31mAssertionError\u001b[0m                            Traceback (most recent call last)",
      "\u001b[0;32m<ipython-input-4-6e0015714b5c>\u001b[0m in \u001b[0;36m<module>\u001b[0;34m\u001b[0m\n\u001b[1;32m      5\u001b[0m \u001b[0;34m\u001b[0m\u001b[0m\n\u001b[1;32m      6\u001b[0m     \u001b[0;31m# create init block\u001b[0m\u001b[0;34m\u001b[0m\u001b[0;34m\u001b[0m\u001b[0;34m\u001b[0m\u001b[0m\n\u001b[0;32m----> 7\u001b[0;31m     \u001b[0mmodel\u001b[0m\u001b[0;34m.\u001b[0m\u001b[0minitialize\u001b[0m\u001b[0;34m(\u001b[0m\u001b[0mchrom\u001b[0m\u001b[0;34m)\u001b[0m\u001b[0;34m\u001b[0m\u001b[0;34m\u001b[0m\u001b[0m\n\u001b[0m\u001b[1;32m      8\u001b[0m \u001b[0;34m\u001b[0m\u001b[0m\n\u001b[1;32m      9\u001b[0m     \u001b[0;31m# create simulation\u001b[0m\u001b[0;34m\u001b[0m\u001b[0;34m\u001b[0m\u001b[0;34m\u001b[0m\u001b[0m\n",
      "\u001b[0;32m~/Documents/shadie/shadie/sims/model.py\u001b[0m in \u001b[0;36m__exit__\u001b[0;34m(self, exc_type, exc_value, exc_traceback)\u001b[0m\n\u001b[1;32m    172\u001b[0m \u001b[0;34m\u001b[0m\u001b[0m\n\u001b[1;32m    173\u001b[0m         \u001b[0;31m# attempt to validate script\u001b[0m\u001b[0;34m\u001b[0m\u001b[0;34m\u001b[0m\u001b[0;34m\u001b[0m\u001b[0m\n\u001b[0;32m--> 174\u001b[0;31m         \u001b[0mself\u001b[0m\u001b[0;34m.\u001b[0m\u001b[0m_check_script\u001b[0m\u001b[0;34m(\u001b[0m\u001b[0;34m)\u001b[0m\u001b[0;34m\u001b[0m\u001b[0;34m\u001b[0m\u001b[0m\n\u001b[0m\u001b[1;32m    175\u001b[0m         \u001b[0mlogger\u001b[0m\u001b[0;34m.\u001b[0m\u001b[0mdebug\u001b[0m\u001b[0;34m(\u001b[0m\u001b[0;34m\"exiting Model\"\u001b[0m\u001b[0;34m)\u001b[0m\u001b[0;34m\u001b[0m\u001b[0;34m\u001b[0m\u001b[0m\n\u001b[1;32m    176\u001b[0m \u001b[0;34m\u001b[0m\u001b[0m\n",
      "\u001b[0;32m~/Documents/shadie/shadie/sims/model.py\u001b[0m in \u001b[0;36m_check_script\u001b[0;34m(self)\u001b[0m\n\u001b[1;32m    358\u001b[0m         \u001b[0mTODO\u001b[0m\u001b[0;34m.\u001b[0m\u001b[0;34m\u001b[0m\u001b[0;34m\u001b[0m\u001b[0m\n\u001b[1;32m    359\u001b[0m         \"\"\"\n\u001b[0;32m--> 360\u001b[0;31m         assert \"initialize\" in self.script, (\n\u001b[0m\u001b[1;32m    361\u001b[0m             \"You must call initialize() from within Model context\")\n\u001b[1;32m    362\u001b[0m         \u001b[0;31m# assert \"late\" in self.script, (\u001b[0m\u001b[0;34m\u001b[0m\u001b[0;34m\u001b[0m\u001b[0;34m\u001b[0m\u001b[0m\n",
      "\u001b[0;31mAssertionError\u001b[0m: You must call initialize() from within Model context"
     ]
    }
   ],
   "source": [
    "with shadie.Model() as model:\n",
    "    \n",
    "    # define a simple chromosome of Elements\n",
    "    chrom = shadie.chromosome.default()\n",
    "    \n",
    "    # create init block\n",
    "    model.initialize(chrom)\n",
    "    \n",
    "    # create simulation\n",
    "    #model.early(time=1, scripts=\"sim.addSubpop('p1', 10);\")\n",
    "    #model.late(time=1000, scripts=\"sim.outputFull();\")"
   ]
  },
  {
   "cell_type": "code",
   "execution_count": 3,
   "id": "crazy-diversity",
   "metadata": {},
   "outputs": [],
   "source": [
    "# print(model.script)"
   ]
  },
  {
   "cell_type": "code",
   "execution_count": 4,
   "id": "wrapped-berlin",
   "metadata": {},
   "outputs": [],
   "source": [
    "model.run()"
   ]
  },
  {
   "cell_type": "code",
   "execution_count": 5,
   "id": "dominant-record",
   "metadata": {},
   "outputs": [],
   "source": [
    "# print(model.stdout)"
   ]
  },
  {
   "cell_type": "markdown",
   "id": "fifty-fleet",
   "metadata": {},
   "source": [
    "### A more complex example"
   ]
  },
  {
   "cell_type": "code",
   "execution_count": 6,
   "id": "dangerous-indonesia",
   "metadata": {},
   "outputs": [
    {
     "name": "stdout",
     "output_type": "stream",
     "text": [
      "11:55 | DEBUG   | \u001b[1m\u001b[31minitialize     \u001b[0m\u001b[1m\u001b[0m | \u001b[34m\u001b[1minitializing Model\u001b[0m\n",
      "11:55 | DEBUG   | \u001b[1m\u001b[31m__exit__       \u001b[0m\u001b[1m\u001b[0m | \u001b[34m\u001b[1mexiting Model\u001b[0m\n"
     ]
    }
   ],
   "source": [
    "with shadie.Model() as model:\n",
    "    \n",
    "    # define mutation types\n",
    "    m0 = shadie.mtype(0.5, 'n', 2.0, 1.0)\n",
    "    m1 = shadie.mtype(0.5, 'g', 3.0, 1.0)\n",
    "    \n",
    "    # define elements types\n",
    "    e0 = shadie.etype([m0, m1], [1, 2])\n",
    "    e1 = shadie.etype([m1], [1])\n",
    "    \n",
    "    # design chromosome of elements\n",
    "    chrom = shadie.chromosome.explicit({\n",
    "        (500, 1000): e0,\n",
    "        (1500, 2000): e1,\n",
    "    })\n",
    "    \n",
    "    # create the init block\n",
    "    model.initialize(chromosome=chrom, constants={\"K\": 500})\n",
    "\n",
    "    # create simulation using custom shadie elements\n",
    "    # that append to early, late, and repro code blocks\n",
    "    #model.complex.alternation_of_generations()\n",
    "    \n",
    "    # create simulation manually\n",
    "    model.early(time=1, scripts=\"sim.addSubpop('p1', 10);\")\n",
    "    model.early(time=None, scripts=\"p1.fitnessScaling = K / p1.individualCount;\")\n",
    "    model.late(time=2000, scripts=\"sim.outputFull();\")\n",
    "    model.late(\n",
    "        time=None,\n",
    "        scripts=[\n",
    "            \"inds = p1.individuals;\",\n",
    "            \"catn(sim.generation + ': ' + size(inds) + ' (' + max(inds.age) + ')');\"\n",
    "        ]\n",
    "    )"
   ]
  },
  {
   "cell_type": "code",
   "execution_count": 7,
   "id": "technological-filename",
   "metadata": {},
   "outputs": [],
   "source": [
    "# print(model.script)"
   ]
  },
  {
   "cell_type": "code",
   "execution_count": 8,
   "id": "periodic-brick",
   "metadata": {},
   "outputs": [],
   "source": [
    "model.run()"
   ]
  },
  {
   "cell_type": "code",
   "execution_count": 9,
   "id": "tired-mining",
   "metadata": {
    "scrolled": false
   },
   "outputs": [],
   "source": [
    "# print(model.stdout)"
   ]
  },
  {
   "cell_type": "markdown",
   "id": "official-ocean",
   "metadata": {},
   "source": [
    "### Alternation of generations (manually)"
   ]
  },
  {
   "cell_type": "code",
   "execution_count": 21,
   "id": "weird-garden",
   "metadata": {},
   "outputs": [],
   "source": [
    "# to add arbitrary SLIM code we would need to expand curly\n",
    "# brackets to be double-curly-brackets.\n",
    "repro = \"\"\"\n",
    "{\n",
    "\tg_1 = genome1; //defined here to simply code downstream\n",
    "\tg_2 = genome2;\n",
    "\t\n",
    "\tfor (meiosisCount in 1:5) //each diploid individual undergoes meiosis 5x\n",
    "\t{\n",
    "\t\tif (individual.sex == \"M\")\n",
    "\t\t{\n",
    "\t\t\t// drawBreakpoints generates the same breakpoints that internal SLiM would generate\n",
    "\t\t\t//uses recomobination rate set for the moodel\n",
    "\t\t\tbreaks = sim.chromosome.drawBreakpoints(individual);\n",
    "\t\t\t//resulting haploids are added to p2:\n",
    "\t\t\ts_1 = p2.addRecombinant(g_1, g_2, breaks, NULL, NULL, NULL, \"M\");\n",
    "\t\t\t//addRecombinant(leaves genomes and breakpoints NULL to avoid making second chromosome copy)\n",
    "\t\t\ts_2 = p2.addRecombinant(g_2, g_1, breaks, NULL, NULL, NULL, \"M\");\n",
    "\t\t\t\n",
    "\t\t\tbreaks = sim.chromosome.drawBreakpoints(individual);\n",
    "\t\t\ts_3 = p2.addRecombinant(g_1, g_2, breaks, NULL, NULL, NULL, \"M\");\n",
    "\t\t\ts_4 = p2.addRecombinant(g_2, g_1, breaks, NULL, NULL, NULL, \"M\");\n",
    "\t\t}\n",
    "\t\telse if (individual.sex == \"F\")\n",
    "\t\t{\n",
    "\t\t\tbreaks = sim.chromosome.drawBreakpoints(individual);\n",
    "\t\t\tif (runif(1) <= 0.5)\n",
    "\t\t\t\te = p2.addRecombinant(g_1, g_2, breaks, NULL, NULL, NULL, \"F\");\n",
    "\t\t\telse\n",
    "\t\t\t\te = p2.addRecombinant(g_2, g_1, breaks, NULL, NULL, NULL, \"F\");\n",
    "\t\t}\n",
    "\t}\n",
    "}\n",
    "\"\"\""
   ]
  },
  {
   "cell_type": "code",
   "execution_count": 22,
   "id": "demonstrated-rolling",
   "metadata": {},
   "outputs": [
    {
     "name": "stdout",
     "output_type": "stream",
     "text": [
      "11:58 | DEBUG   | \u001b[1m\u001b[31minitialize     \u001b[0m\u001b[1m\u001b[0m | \u001b[34m\u001b[1minitializing Model\u001b[0m\n",
      "11:58 | DEBUG   | \u001b[1m\u001b[31m__exit__       \u001b[0m\u001b[1m\u001b[0m | \u001b[34m\u001b[1mexiting Model\u001b[0m\n"
     ]
    }
   ],
   "source": [
    "with shadie.Model() as model:\n",
    "    \n",
    "    # define mutation types\n",
    "    m0 = shadie.mtype(0.5, 'n', 2.0, 1.0)\n",
    "    m1 = shadie.mtype(0.5, 'g', 3.0, 1.0)\n",
    "    \n",
    "    # define elements types\n",
    "    e0 = shadie.etype([m0, m1], [1, 2])\n",
    "    e1 = shadie.etype([m1], [1])\n",
    "    \n",
    "    # design chromosome of elements\n",
    "    chrom = shadie.chromosome.explicit({\n",
    "        (500, 1000): e0,\n",
    "        (1500, 2000): e1,\n",
    "    })\n",
    "    \n",
    "    # create the init block\n",
    "    model.initialize(\n",
    "        chromosome=chrom, \n",
    "        constants={\"K\": 500},\n",
    "        scripts=[\"initializeSex('A');\"]\n",
    "    )\n",
    "\n",
    "    # create simulation manually\n",
    "    model.early(\n",
    "        time=1,\n",
    "        scripts=[\n",
    "            \"sim.addSubpop('p1', K);\"\n",
    "            \"sim.addSubpop('p2', 0);\"\n",
    "        ],\n",
    "    )\n",
    "    \n",
    "    model.reproduction(\n",
    "        population='p1',\n",
    "        scripts=repro,\n",
    "    )\n",
    "    \n",
    "    model.reproduction(\n",
    "        population='p2',\n",
    "        scripts=[],\n",
    "    )\n",
    "    \n",
    "    # ..."
   ]
  },
  {
   "cell_type": "code",
   "execution_count": 19,
   "id": "generic-maryland",
   "metadata": {},
   "outputs": [],
   "source": [
    "# model.script"
   ]
  },
  {
   "cell_type": "code",
   "execution_count": null,
   "id": "junior-accommodation",
   "metadata": {},
   "outputs": [],
   "source": []
  }
 ],
 "metadata": {
  "kernelspec": {
   "display_name": "Python 3",
   "language": "python",
   "name": "python3"
  },
  "language_info": {
   "codemirror_mode": {
    "name": "ipython",
    "version": 3
   },
   "file_extension": ".py",
   "mimetype": "text/x-python",
   "name": "python",
   "nbconvert_exporter": "python",
   "pygments_lexer": "ipython3",
   "version": "3.8.8"
  }
 },
 "nbformat": 4,
 "nbformat_minor": 5
}
