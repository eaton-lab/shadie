{
 "cells": [
  {
   "cell_type": "markdown",
   "id": "human-pavilion",
   "metadata": {},
   "source": [
    "# Ideas\n"
   ]
  },
  {
   "cell_type": "code",
   "execution_count": 3,
   "id": "continuing-satellite",
   "metadata": {},
   "outputs": [],
   "source": [
    "import shadie\n",
    "import ipcoal\n",
    "import toytree"
   ]
  },
  {
   "cell_type": "markdown",
   "id": "victorian-mapping",
   "metadata": {},
   "source": [
    "### Create a tree with `toytree`"
   ]
  },
  {
   "cell_type": "code",
   "execution_count": 10,
   "id": "contrary-gender",
   "metadata": {},
   "outputs": [],
   "source": [
    "tre = toytree.rtree.bdtree(ntips=10, seed=123).mod.node_scale_root_height(1e6)"
   ]
  },
  {
   "cell_type": "markdown",
   "id": "auburn-spell",
   "metadata": {},
   "source": [
    "### Describe a demographic model with `toytree+ipcoal`"
   ]
  },
  {
   "cell_type": "code",
   "execution_count": 11,
   "id": "judicial-color",
   "metadata": {},
   "outputs": [],
   "source": [
    "mod = ipcoal.Model(tree=tre, Ne=1000)"
   ]
  },
  {
   "cell_type": "markdown",
   "id": "honey-postage",
   "metadata": {},
   "source": [
    "### Describe a WF process with `shadie`"
   ]
  },
  {
   "cell_type": "code",
   "execution_count": null,
   "id": "ordered-evolution",
   "metadata": {},
   "outputs": [],
   "source": [
    "shadie.Model(\n",
    "    chromosome=shadie.chromosome.random(ngenes=10),\n",
    "    reproduction=shadie.organisms.fern,\n",
    "    \n",
    ")"
   ]
  },
  {
   "cell_type": "markdown",
   "id": "monetary-permit",
   "metadata": {},
   "source": [
    "### Distribute forward/backward sims with `slimtree`"
   ]
  },
  {
   "cell_type": "code",
   "execution_count": null,
   "id": "incorporated-mathematics",
   "metadata": {},
   "outputs": [],
   "source": [
    "slimtree.run(\n",
    "    tree=tree,\n",
    "    slim=\"script.slim\",\n",
    "    cores=20,\n",
    ")"
   ]
  }
 ],
 "metadata": {
  "kernelspec": {
   "display_name": "Python 3",
   "language": "python",
   "name": "python3"
  },
  "language_info": {
   "codemirror_mode": {
    "name": "ipython",
    "version": 3
   },
   "file_extension": ".py",
   "mimetype": "text/x-python",
   "name": "python",
   "nbconvert_exporter": "python",
   "pygments_lexer": "ipython3",
   "version": "3.8.8"
  }
 },
 "nbformat": 4,
 "nbformat_minor": 5
}
