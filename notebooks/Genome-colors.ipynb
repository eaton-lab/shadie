{
 "cells": [
  {
   "cell_type": "code",
   "execution_count": 1,
   "id": "tracked-affiliation",
   "metadata": {
    "scrolled": true
   },
   "outputs": [],
   "source": [
    "import toyplot\n",
    "import sveg"
   ]
  },
  {
   "cell_type": "markdown",
   "id": "rough-huntington",
   "metadata": {},
   "source": [
    "# intended usage"
   ]
  },
  {
   "cell_type": "code",
   "execution_count": 2,
   "id": "gothic-nelson",
   "metadata": {},
   "outputs": [
    {
     "data": {
      "image/png": "[encoded data removed]",
      "text/html": [
       "<div class=\"toyplot\" id=\"t18fb061a02834508b30134213e49d7a3\" style=\"text-align:center\"><svg class=\"toyplot-canvas-Canvas\" xmlns:toyplot=\"http://www.sandia.gov/toyplot\" xmlns:xlink=\"http://www.w3.org/1999/xlink\" xmlns=\"http://www.w3.org/2000/svg\" width=\"400.0px\" height=\"400.0px\" viewBox=\"0 0 400.0 400.0\" preserveAspectRatio=\"xMidYMid meet\" style=\"background-color:pink;border-color:#292724;border-style:none;border-width:1.0;fill:rgb(16.1%,15.3%,14.1%);fill-opacity:1.0;font-family:Helvetica;font-size:12px;opacity:1.0;stroke:rgb(16.1%,15.3%,14.1%);stroke-opacity:1.0;stroke-width:1.0\" id=\"t466566fad8f44ce5993d65e14a28c68a\"></svg><div class=\"toyplot-behavior\"><script>(function()\n",
       "{\n",
       "var modules={};\n",
       "})();</script></div></div>"
      ],
      "text/plain": [
       "<toyplot.canvas.Canvas at 0x7f81ea9e8610>"
      ]
     },
     "execution_count": 2,
     "metadata": {},
     "output_type": "execute_result"
    }
   ],
   "source": [
    "toyplot.Canvas(width=400, height=400, style={\"background-color\": \"pink\"})"
   ]
  },
  {
   "cell_type": "code",
   "execution_count": 3,
   "id": "tropical-assault",
   "metadata": {},
   "outputs": [],
   "source": [
    "import IPython"
   ]
  },
  {
   "cell_type": "code",
   "execution_count": 4,
   "id": "accepted-english",
   "metadata": {},
   "outputs": [
    {
     "data": {
      "text/plain": [
       "<bound method EventManager.register of <IPython.core.events.EventManager object at 0x7f8244fe8fa0>>"
      ]
     },
     "execution_count": 4,
     "metadata": {},
     "output_type": "execute_result"
    }
   ],
   "source": [
    "IPython.get_ipython().events.register"
   ]
  },
  {
   "cell_type": "code",
   "execution_count": null,
   "id": "interim-hollow",
   "metadata": {},
   "outputs": [],
   "source": [
    "IPython.get_ipython().events.register"
   ]
  },
  {
   "cell_type": "code",
   "execution_count": null,
   "id": "favorite-puzzle",
   "metadata": {},
   "outputs": [],
   "source": [
    "IPython.get_ipython().events.register"
   ]
  },
  {
   "cell_type": "code",
   "execution_count": null,
   "id": "rising-insertion",
   "metadata": {},
   "outputs": [],
   "source": [
    "# draws a rectangle of size 500, 400 with upper-left corner at 20,20\n",
    "# meaning it must make a viewbox of at least 420,520.\n",
    "sveg.rect(x=20, y=20, width=500, height=400)"
   ]
  },
  {
   "cell_type": "code",
   "execution_count": 105,
   "id": "photographic-equivalent",
   "metadata": {},
   "outputs": [
    {
     "data": {
      "text/html": [
       "\n",
       "<svg xmlns=http://www.w3.org/2000/svg xmlns:xlink=http://www.w3.org/1999/xlink width=400px height=400px viewBox=0 0 400 400 preserveAspectRatio=xMidYMid meet>\n",
       "    <rect x=20 y=20 width=100 height=200 style=\"fill:red; stroke:black; =50\"></rect>\n",
       "</svg>\n"
      ],
      "text/plain": [
       "<IPython.core.display.HTML object>"
      ]
     },
     "metadata": {},
     "output_type": "display_data"
    }
   ],
   "source": [
    "%%HTML\n",
    "\n",
    "<svg xmlns=http://www.w3.org/2000/svg xmlns:xlink=http://www.w3.org/1999/xlink width=400px height=400px viewBox=0 0 400 400 preserveAspectRatio=xMidYMid meet>\n",
    "    <rect x=20 y=20 width=100 height=200 style=\"fill:red; stroke:black; =50\"></rect>\n",
    "</svg>\n"
   ]
  },
  {
   "cell_type": "code",
   "execution_count": null,
   "id": "pediatric-helmet",
   "metadata": {},
   "outputs": [],
   "source": []
  },
  {
   "cell_type": "code",
   "execution_count": 2,
   "id": "diagnostic-worse",
   "metadata": {},
   "outputs": [],
   "source": [
    "root = sveg.components.Root(width=400, height=250)"
   ]
  },
  {
   "cell_type": "code",
   "execution_count": 3,
   "id": "chief-commander",
   "metadata": {},
   "outputs": [],
   "source": [
    "root.add_mark(\n",
    "    sveg.marks.Group(cls=\"genome\"),\n",
    "    parent=\"sveg-canvas\",\n",
    "    class_style={\"background-color\": \"pink\"},\n",
    ")"
   ]
  },
  {
   "cell_type": "code",
   "execution_count": 4,
   "id": "possible-agriculture",
   "metadata": {},
   "outputs": [],
   "source": [
    "root.add_mark(\n",
    "    sveg.marks.Rect(5, 10, 10, 10, cls=\"segment1\"),\n",
    "    parent=\"genome\",\n",
    "    id_style={\"fill\": \"red\"},\n",
    ")"
   ]
  },
  {
   "cell_type": "code",
   "execution_count": 5,
   "id": "fourth-provincial",
   "metadata": {},
   "outputs": [],
   "source": [
    "root.add_mark(\n",
    "    sveg.marks.Rect(20, 10, '30', 10, cls=\"segment2\"),\n",
    "    parent=\"genome\",\n",
    "    id_style={\"fill\": \"green\"}\n",
    ")"
   ]
  },
  {
   "cell_type": "code",
   "execution_count": 53,
   "id": "nuclear-undergraduate",
   "metadata": {},
   "outputs": [
    {
     "data": {
      "image/svg+xml": [
       "<rect id=t4a29b777b85c49e9a09ad32106774d40 x=50 y=50 width=50 height=50 rx=0.0 ry=0.0>"
      ],
      "text/plain": [
       "<rect id=t4a29b777b85c49e9a09ad32106774d40 x=50 y=50 width=50 height=50 rx=0.0 ry=0.0>"
      ]
     },
     "execution_count": 53,
     "metadata": {},
     "output_type": "execute_result"
    }
   ],
   "source": [
    "sveg.marks.Rect(x=50, y=50, height=50, width=50, attrib={\"fill\": \"green\"})"
   ]
  },
  {
   "cell_type": "code",
   "execution_count": 58,
   "id": "academic-alexandria",
   "metadata": {},
   "outputs": [
    {
     "data": {
      "text/plain": [
       "'<div class=sveg-plot id=t4ff8dfa91a834e7ba89b1035da96e24f>'"
      ]
     },
     "execution_count": 58,
     "metadata": {},
     "output_type": "execute_result"
    }
   ],
   "source": [
    "root.__repr__()"
   ]
  },
  {
   "cell_type": "code",
   "execution_count": null,
   "id": "pressed-louisiana",
   "metadata": {},
   "outputs": [],
   "source": []
  },
  {
   "cell_type": "code",
   "execution_count": null,
   "id": "defensive-spokesman",
   "metadata": {},
   "outputs": [],
   "source": []
  },
  {
   "cell_type": "code",
   "execution_count": 49,
   "id": "independent-cooper",
   "metadata": {},
   "outputs": [
    {
     "data": {
      "text/plain": [
       "{'t5fecdbaeed0d4a2690a03dc6d3d4591d': {'fill': 'red'},\n",
       " 't2a38d1accf55495fb6e0c6136252a47d': {'fill': 'green'}}"
      ]
     },
     "execution_count": 49,
     "metadata": {},
     "output_type": "execute_result"
    }
   ],
   "source": [
    "root.id_styles"
   ]
  },
  {
   "cell_type": "code",
   "execution_count": 26,
   "id": "accessible-ridge",
   "metadata": {},
   "outputs": [
    {
     "data": {
      "text/plain": [
       "'<html><style>.sveg-canvas{background-color=transparent;border-color=#292724;border-style=none;border-width=1.0;fill=rgb(16.1%,15.3%,14.1%);fill-opacity=1.0;font-family=Helvetica;font-size=12px;opacity=1.0;stroke=rgb(16.1%,15.3%,14.1%);stroke-opacity=1.0;stroke-width=1.0} .genome{width=250px}</style><body><div class=sveg-plot id=t09b6d72a2cef47bd96a5023b36d00b1c> <svg class=sveg-canvas id=tf27e6039bd4a45158766073663560805 xmlns=http://www.w3.org/2000/svg xmlns:xlink=http://www.w3.org/1999/xlink width=400px height=250px viewBox=0 0 400 250 preserveAspectRatio=xMidYMid meet> <g class=genome id=t86a8470dd9ae4f01b081d29d8f309ff3> <rect class=segment1 id=t1c3b7dfb2b6740dc868c5e0217e514ee x=5 y=10 width=10 height=10 rx=0.0 ry=0.0> </rect> <rect class=segment2 id=t062151d27577435f9859551cb5da8376 x=20 y=10 width=30 height=10 rx=0.0 ry=0.0> </rect> </g> </svg> </div></body></html>'"
      ]
     },
     "execution_count": 26,
     "metadata": {},
     "output_type": "execute_result"
    }
   ],
   "source": [
    "\"\".join(root.build())"
   ]
  },
  {
   "cell_type": "code",
   "execution_count": 32,
   "id": "amended-trunk",
   "metadata": {},
   "outputs": [
    {
     "data": {
      "text/html": [
       "\n",
       "<html><style>.sveg-canvas{background-color=transparent;border-color=#292724;border-style=solid;border-width=1.0;fill=rgb(16.1%,15.3%,14.1%);fill-opacity=1.0;font-family=Helvetica;font-size=12px;opacity=1.0;stroke=rgb(16.1%,15.3%,14.1%);stroke-opacity=1.0;stroke-width=1.0} .genome{width=250px}</style><body><div class=sveg-plot id=t09b6d72a2cef47bd96a5023b36d00b1c> <svg class=sveg-canvas id=tf27e6039bd4a45158766073663560805 xmlns=http://www.w3.org/2000/svg xmlns:xlink=http://www.w3.org/1999/xlink width=400px height=250px viewBox=0 0 400 250 preserveAspectRatio=xMidYMid meet> <g class=genome id=t86a8470dd9ae4f01b081d29d8f309ff3> <rect class=segment1 id=t1c3b7dfb2b6740dc868c5e0217e514ee x=5 y=10 width=10 height=10 rx=0.0 ry=0.0> </rect> <rect class=segment2 id=t062151d27577435f9859551cb5da8376 x=20 y=10 width=30 height=10 rx=0.0 ry=0.0> </rect> </g> </svg> </div></body></html>\n"
      ],
      "text/plain": [
       "<IPython.core.display.HTML object>"
      ]
     },
     "metadata": {},
     "output_type": "display_data"
    }
   ],
   "source": [
    "%%HTML\n",
    "\n",
    "<html><style>.sveg-canvas{background-color=transparent;border-color=#292724;border-style=solid;border-width=1.0;fill=rgb(16.1%,15.3%,14.1%);fill-opacity=1.0;font-family=Helvetica;font-size=12px;opacity=1.0;stroke=rgb(16.1%,15.3%,14.1%);stroke-opacity=1.0;stroke-width=1.0} .genome{width=250px}</style><body><div class=sveg-plot id=t09b6d72a2cef47bd96a5023b36d00b1c> <svg class=sveg-canvas id=tf27e6039bd4a45158766073663560805 xmlns=http://www.w3.org/2000/svg xmlns:xlink=http://www.w3.org/1999/xlink width=400px height=250px viewBox=0 0 400 250 preserveAspectRatio=xMidYMid meet> <g class=genome id=t86a8470dd9ae4f01b081d29d8f309ff3> <rect class=segment1 id=t1c3b7dfb2b6740dc868c5e0217e514ee x=5 y=10 width=10 height=10 rx=0.0 ry=0.0> </rect> <rect class=segment2 id=t062151d27577435f9859551cb5da8376 x=20 y=10 width=30 height=10 rx=0.0 ry=0.0> </rect> </g> </svg> </div></body></html>"
   ]
  },
  {
   "cell_type": "code",
   "execution_count": null,
   "id": "dated-cabinet",
   "metadata": {},
   "outputs": [],
   "source": []
  },
  {
   "cell_type": "code",
   "execution_count": 25,
   "id": "acting-perry",
   "metadata": {},
   "outputs": [
    {
     "data": {
      "text/html": [
       "\n",
       "<html>\n",
       "<style>\n",
       ".sveg-canvas{background-color=transparent;border-color=#292724;border-style=none;border-width=1.0;fill=rgb(16.1%,15.3%,14.1%);fill-opacity=1.0;font-family=Helvetica;font-size=12px;opacity=1.0;stroke=rgb(16.1%,15.3%,14.1%);stroke-opacity=1.0;stroke-width=1.0} .genome{width=250px}\n",
       "</style>\n",
       "<body>\n",
       "<div class=sveg-plot id=t2340e09b5c5c477baa81fae9828f7f61> \n",
       "    <svg class=sveg-canvas id=t2a9c13f306d94a06b30522a272a823b9 xmlns=http://www.w3.org/2000/svg xmlns:xlink=http://www.w3.org/1999/xlink width=400px height=400px viewBox=0 0 400 400 preserveAspectRatio=xMidYMid meet>\n",
       "    <g class=genome id=t6a9595acaf704ca7b4ff73d5f22f626c>\n",
       "        <rect class=segment1 id=ta7c08a3707a94270ad2210ad086d95be x=5 y=10 width=10 height=10 rx=0.0 ry=0.0></rect>\n",
       "        <rect class=segment2 id=tdf932694077c4e5bb622189ac716dc74 x=20 y=10 width=30 height=10 rx=0.0 ry=0.0></rect>\n",
       "    </g> \n",
       "    </svg> \n",
       "</div>\n",
       "</body>\n",
       "</html>\n"
      ],
      "text/plain": [
       "<IPython.core.display.HTML object>"
      ]
     },
     "metadata": {},
     "output_type": "display_data"
    }
   ],
   "source": [
    "%%HTML\n",
    "\n",
    "<html>\n",
    "<style>\n",
    ".sveg-canvas{background-color=transparent;border-color=#292724;border-style=none;border-width=1.0;fill=rgb(16.1%,15.3%,14.1%);fill-opacity=1.0;font-family=Helvetica;font-size=12px;opacity=1.0;stroke=rgb(16.1%,15.3%,14.1%);stroke-opacity=1.0;stroke-width=1.0} .genome{width=250px}\n",
    "</style>\n",
    "<body>\n",
    "<div class=sveg-plot id=t2340e09b5c5c477baa81fae9828f7f61> \n",
    "    <svg class=sveg-canvas id=t2a9c13f306d94a06b30522a272a823b9 xmlns=http://www.w3.org/2000/svg xmlns:xlink=http://www.w3.org/1999/xlink width=400px height=400px viewBox=0 0 400 400 preserveAspectRatio=xMidYMid meet>\n",
    "    <g class=genome id=t6a9595acaf704ca7b4ff73d5f22f626c>\n",
    "        <rect class=segment1 id=ta7c08a3707a94270ad2210ad086d95be x=5 y=10 width=10 height=10 rx=0.0 ry=0.0></rect>\n",
    "        <rect class=segment2 id=tdf932694077c4e5bb622189ac716dc74 x=20 y=10 width=30 height=10 rx=0.0 ry=0.0></rect>\n",
    "    </g> \n",
    "    </svg> \n",
    "</div>\n",
    "</body>\n",
    "</html>\n"
   ]
  },
  {
   "cell_type": "code",
   "execution_count": 71,
   "id": "honey-jewelry",
   "metadata": {},
   "outputs": [],
   "source": [
    "from xml.dom import minidom"
   ]
  },
  {
   "cell_type": "code",
   "execution_count": 74,
   "id": "promising-liberty",
   "metadata": {},
   "outputs": [
    {
     "data": {
      "text/plain": [
       "<module 'xml.dom.minidom' from '/home/deren/miniconda3/lib/python3.8/xml/dom/minidom.py'>"
      ]
     },
     "execution_count": 74,
     "metadata": {},
     "output_type": "execute_result"
    }
   ],
   "source": [
    "minidom"
   ]
  },
  {
   "cell_type": "code",
   "execution_count": null,
   "id": "changing-honduras",
   "metadata": {},
   "outputs": [],
   "source": []
  },
  {
   "cell_type": "code",
   "execution_count": 75,
   "id": "quality-slovak",
   "metadata": {},
   "outputs": [
    {
     "ename": "SyntaxError",
     "evalue": "invalid syntax (<ipython-input-75-e0be57d05f99>, line 3)",
     "output_type": "error",
     "traceback": [
      "\u001b[0;36m  File \u001b[0;32m\"<ipython-input-75-e0be57d05f99>\"\u001b[0;36m, line \u001b[0;32m3\u001b[0m\n\u001b[0;31m    <html>\u001b[0m\n\u001b[0m    ^\u001b[0m\n\u001b[0;31mSyntaxError\u001b[0m\u001b[0;31m:\u001b[0m invalid syntax\n"
     ]
    }
   ],
   "source": [
    "%%HTML\n",
    "\n",
    "<html>\n",
    "# <style>\n",
    "#     .sveg-canvas {box-shadow: 2px 2px 15px #888888;}\n",
    "#     #line-3 {stroke: red; stroke-width: 5; stroke-linecap: round; fill: none}\n",
    "#     .genome:hover {fill: green; fill-opacity: 1.0}\n",
    "# </style>\n",
    "\n",
    "<body>\n",
    "<div class='sveg-plot'> \n",
    "    <svg class='sveg-canvas' xmlns='http://www.w3.org/2000/svg' xmlns:xlink='http://www.w3.org/1999/xlink' height='200px' width='400px' viewBox='0 0 400 200' preserveAspectRatio='xMidYMid meet'>\n",
    "    <g class=\"score\">\n",
    "        <path id=\"line-3\" d=\"M17.5,15 37.5,40 57.5,20 75,35\"></path>\n",
    "    </g>\n",
    "    <g class='genome' style=\"stroke: black; stroke-width: 2\" id='def'> \n",
    "        <rect class='segment1' id='box1' x=10 y=50 width=15 height=50 rx=0.0 ry=0.0></rect>\n",
    "        <rect class='segment2' style=\"fill-opacity:0.25\" id='box2' x=30 y=50 width=15 height=60 rx='0.0' ry='0.0'></rect>\n",
    "        <rect class='segment3' x=50 y=50 width=15 height=90 rx='0.0' ry='0.0'></rect>\n",
    "    </g> \n",
    "    </svg> \n",
    "</div>\n",
    "</body>\n",
    "</html>"
   ]
  },
  {
   "cell_type": "code",
   "execution_count": 14,
   "id": "cheap-knitting",
   "metadata": {},
   "outputs": [
    {
     "data": {
      "text/html": [
       "\n",
       "\n",
       "<html>\n",
       "# <style>\n",
       "#     #box1 {fill: pink; stroke: black}\n",
       "#     #box2 {fill: blue; fill-opacity: 0.2; stroke: black}\n",
       "#     #abc {border: dotted black; margin: 10px; padding: 10px}\n",
       "# </style>\n",
       "\n",
       "\n",
       "<div class=sveg-plot>\n",
       "    <svg class=sveg-canvas id=abc  xmlns=http://www.w3.org/2000/svg xmlns:xlink=http://www.w3.org/1999/xlink height=400px width=400px viewBox=0 0 400 400 preserveAspectRatio=xMidYMid meet>\n",
       "        <g class=genome id=def>\n",
       "            <rect class=segment1 id=box1 x='0%' y='10' width=50% height=25% rx=10 ry=10 />\n",
       "            <rect class=segment2 id=box2 x='50%' y='10' width=50% height=25% rx=10 ry=10 />\n",
       "        </g>\n",
       "    </svg>\n",
       "</div>\n",
       "\n",
       "\n",
       "</html>\n"
      ],
      "text/plain": [
       "<IPython.core.display.HTML object>"
      ]
     },
     "metadata": {},
     "output_type": "display_data"
    }
   ],
   "source": [
    "%%HTML\n",
    "\n",
    "\n",
    "<html>\n",
    "# <style>\n",
    "#     #box1 {fill: pink; stroke: black}\n",
    "#     #box2 {fill: blue; fill-opacity: 0.2; stroke: black}\n",
    "#     #abc {border: dotted black; margin: 10px; padding: 10px}\n",
    "# </style>\n",
    "\n",
    "\n",
    "<div class=sveg-plot>\n",
    "    <svg class=sveg-canvas id=abc  xmlns=http://www.w3.org/2000/svg xmlns:xlink=http://www.w3.org/1999/xlink height=400px width=400px viewBox=0 0 400 400 preserveAspectRatio=xMidYMid meet>\n",
    "        <g class=genome id=def>\n",
    "            <rect class=segment1 id=box1 x='0%' y='10' width=50% height=25% rx=10 ry=10 />\n",
    "            <rect class=segment2 id=box2 x='50%' y='10' width=50% height=25% rx=10 ry=10 />\n",
    "        </g>\n",
    "    </svg>\n",
    "</div>\n",
    "\n",
    "\n",
    "</html>"
   ]
  },
  {
   "cell_type": "code",
   "execution_count": null,
   "id": "future-history",
   "metadata": {},
   "outputs": [],
   "source": []
  },
  {
   "cell_type": "code",
   "execution_count": null,
   "id": "applicable-fitness",
   "metadata": {},
   "outputs": [],
   "source": []
  },
  {
   "cell_type": "code",
   "execution_count": 6,
   "id": "least-italy",
   "metadata": {},
   "outputs": [
    {
     "data": {
      "text/plain": [
       "['<div class=sveg-plot>',\n",
       " '<svg class=sveg-canvas id=abc xmlns=http://www.w3.org/2000/svg xmlns:xlink=http://www.w3.org/1999/xlink height=400px width=400px viewBox=0 0 400 400 preserveAspectRatio=xMidYMid meet>',\n",
       " '<g class=genome id=def>',\n",
       " '<rect class=segment1 id=box1 x=5 y=10 width=10 height=10 rx=0.0 ry=0.0>',\n",
       " '<rect class=segment2 id=box2 x=20 y=10 width=10 height=10 rx=0.0 ry=0.0>',\n",
       " '</g>',\n",
       " '</svg>',\n",
       " '</div>']"
      ]
     },
     "execution_count": 6,
     "metadata": {},
     "output_type": "execute_result"
    }
   ],
   "source": [
    "sveg.utils.build_dom(root)"
   ]
  },
  {
   "cell_type": "code",
   "execution_count": 19,
   "id": "twelve-quarter",
   "metadata": {},
   "outputs": [
    {
     "data": {
      "text/plain": [
       "'<svg class=sveg-canvas id=abc xmlns=http://www.w3.org/2000/svg xmlns:xlink=http://www.w3.org/1999/xlink height=400px width=400px viewBox=0 0 400 400 preserveAspectRatio=xMidYMid meet> < g   c l a s s = g e n o m e   i d = d e f >   < r e c t   c l a s s = s e g m e n t 1   i d = b o x 1   x = 5   y = 1 0   w i d t h = 1 0   h e i g h t = 1 0   r x = 0 . 0   r y = 0 . 0 >   < r e c t   c l a s s = s e g m e n t 2   i d = b o x 2   x = 2 0   y = 1 0   w i d t h = 1 0   h e i g h t = 1 0   r x = 0 . 0   r y = 0 . 0 >   < / g > </svg>'"
      ]
     },
     "execution_count": 19,
     "metadata": {},
     "output_type": "execute_result"
    }
   ],
   "source": [
    "sveg.utils.build_dom(root.children[0])"
   ]
  },
  {
   "cell_type": "code",
   "execution_count": 40,
   "id": "romantic-salem",
   "metadata": {},
   "outputs": [],
   "source": [
    "def build(node, store=None):\n",
    "    \"\"\"\n",
    "    \"\"\"\n",
    "    store = [node.__repr__()]\n",
    "    for child in node.children:       \n",
    "        if child.children:\n",
    "            store.extend(build(child, store))\n",
    "        else:\n",
    "            store.append(child.__repr__())\n",
    "            store.append(child.close())\n",
    "    store.append(node.close())\n",
    "    return store"
   ]
  },
  {
   "cell_type": "code",
   "execution_count": 41,
   "id": "pacific-state",
   "metadata": {},
   "outputs": [
    {
     "data": {
      "text/plain": [
       "['<div class=sveg-plot>',\n",
       " '<svg class=sveg-canvas id=abc xmlns=http://www.w3.org/2000/svg xmlns:xlink=http://www.w3.org/1999/xlink height=400px width=400px viewBox=0 0 400 400 preserveAspectRatio=xMidYMid meet>',\n",
       " '<g class=genome id=def>',\n",
       " '<rect class=segment1 id=box1 x=5 y=10 width=10 height=10 rx=0.0 ry=0.0>',\n",
       " '</rect>',\n",
       " '<rect class=segment2 id=box2 x=20 y=10 width=10 height=10 rx=0.0 ry=0.0>',\n",
       " '</rect>',\n",
       " '</g>',\n",
       " '</svg>',\n",
       " '</div>']"
      ]
     },
     "execution_count": 41,
     "metadata": {},
     "output_type": "execute_result"
    }
   ],
   "source": [
    "build(root)"
   ]
  },
  {
   "cell_type": "code",
   "execution_count": 23,
   "id": "turned-amendment",
   "metadata": {},
   "outputs": [
    {
     "name": "stdout",
     "output_type": "stream",
     "text": [
      "<div class=sveg-plot> <svg class=sveg-canvas id=abc xmlns=http://www.w3.org/2000/svg xmlns:xlink=http://www.w3.org/1999/xlink height=400px width=400px viewBox=0 0 400 400 preserveAspectRatio=xMidYMid meet> <g class=genome id=def> <rect class=segment1 id=box1 x=5 y=10 width=10 height=10 rx=0.0 ry=0.0> <rect class=segment2 id=box2 x=20 y=10 width=10 height=10 rx=0.0 ry=0.0> </g> </svg> </div>\n"
     ]
    }
   ],
   "source": [
    "print(\" \".join(build(root)))"
   ]
  },
  {
   "cell_type": "code",
   "execution_count": 6,
   "id": "manual-directive",
   "metadata": {},
   "outputs": [
    {
     "data": {
      "text/html": [
       "\n",
       "<html>\n",
       "<style>\n",
       ".sveg-canvas{background-color=transparent;border-color=#292724;border-style=none;border-width=1.0;fill=rgb(16.1%,15.3%,14.1%);fill-opacity=1.0;font-family=Helvetica;font-size=12px;opacity=1.0;stroke=rgb(16.1%,15.3%,14.1%);stroke-opacity=1.0;stroke-width=1.0} .genome{width=250px} .segment1{width=50px;height=50px;fill=red} .segment2{width=50px;height=50px;fill=red}\n",
       "</style>\n",
       "<body>\n",
       "<div class=sveg-plot> <svg class=sveg-canvas id=abc xmlns=http://www.w3.org/2000/svg xmlns:xlink=http://www.w3.org/1999/xlink height=400px width=400px viewBox=0 0 400 400 preserveAspectRatio=xMidYMid meet> <g class=genome id=def> <rect class=segment1 id=box1 x=5 y=10 width=10 height=10 rx=0.0 ry=0.0> </rect> <rect class=segment2 id=box2 x=20 y=10 width=10 height=10 rx=0.0 ry=0.0> </rect> </g> </svg> </div>\n",
       "</body>\n",
       "</html>\n"
      ],
      "text/plain": [
       "<IPython.core.display.HTML object>"
      ]
     },
     "metadata": {},
     "output_type": "display_data"
    }
   ],
   "source": [
    "\n"
   ]
  },
  {
   "cell_type": "code",
   "execution_count": 15,
   "id": "sealed-filter",
   "metadata": {},
   "outputs": [
    {
     "data": {
      "text/html": [
       "\n",
       "\n",
       "<html>\n",
       "# <style>\n",
       "#     #box1 {fill: pink; stroke: black}\n",
       "#     #box2 {fill: blue; fill-opacity: 0.2; stroke: black}\n",
       "#     #abc {border: dotted black; margin: 10px; padding: 10px}\n",
       "# </style>\n",
       "\n",
       "\n",
       "<div class=sveg-plot>\n",
       "    <svg class=sveg-canvas id=abc  xmlns=http://www.w3.org/2000/svg xmlns:xlink=http://www.w3.org/1999/xlink height=400px width=400px viewBox=0 0 400 400 preserveAspectRatio=xMidYMid meet>\n",
       "        <g class=genome id=def>\n",
       "            <rect class=segment1 id=box1 x='0%' y='10' width=50% height=25% rx=10 ry=10 />\n",
       "            <rect class=segment2 id=box2 x='50%' y='10' width=50% height=25% rx=10 ry=10 />\n",
       "        </g>\n",
       "    </svg>\n",
       "</div>\n",
       "\n",
       "\n",
       "</html>\n"
      ],
      "text/plain": [
       "<IPython.core.display.HTML object>"
      ]
     },
     "metadata": {},
     "output_type": "display_data"
    }
   ],
   "source": [
    "%%HTML\n",
    "\n",
    "\n",
    "<html>\n",
    "# <style>\n",
    "#     #box1 {fill: pink; stroke: black}\n",
    "#     #box2 {fill: blue; fill-opacity: 0.2; stroke: black}\n",
    "#     #abc {border: dotted black; margin: 10px; padding: 10px}\n",
    "# </style>\n",
    "\n",
    "\n",
    "<div class=sveg-plot>\n",
    "    <svg class=sveg-canvas id=abc  xmlns=http://www.w3.org/2000/svg xmlns:xlink=http://www.w3.org/1999/xlink height=400px width=400px viewBox=0 0 400 400 preserveAspectRatio=xMidYMid meet>\n",
    "        <g class=genome id=def>\n",
    "            <rect class=segment1 id=box1 x='0%' y='10' width=50% height=25% rx=10 ry=10 />\n",
    "            <rect class=segment2 id=box2 x='50%' y='10' width=50% height=25% rx=10 ry=10 />\n",
    "        </g>\n",
    "    </svg>\n",
    "</div>\n",
    "\n",
    "\n",
    "</html>"
   ]
  },
  {
   "cell_type": "code",
   "execution_count": 104,
   "id": "viral-produce",
   "metadata": {},
   "outputs": [
    {
     "data": {
      "text/plain": [
       "'a=3 b=4'"
      ]
     },
     "execution_count": 104,
     "metadata": {},
     "output_type": "execute_result"
    }
   ],
   "source": [
    "x = dict(a=3, b=4)\n",
    "\" \".join([\"{}={}\".format(*pair) for pair in x.items()])"
   ]
  },
  {
   "cell_type": "code",
   "execution_count": 86,
   "id": "floppy-settle",
   "metadata": {},
   "outputs": [
    {
     "data": {
      "text/plain": [
       "{'x': 5, 'y': 5, 'width': 5, 'height': 5, 'rx': 0.0, 'ry': 0.0}"
      ]
     },
     "execution_count": 86,
     "metadata": {},
     "output_type": "execute_result"
    }
   ],
   "source": [
    "sveg.marks.Rect(5, 5, 5, 5, cls=\"yoyo\").attrib\n"
   ]
  },
  {
   "cell_type": "code",
   "execution_count": 16,
   "id": "vital-illustration",
   "metadata": {},
   "outputs": [
    {
     "data": {
      "text/html": [
       "\n",
       "<html>\n",
       "# <style>\n",
       "#     #box2 {fill: red}\n",
       "#     #box1 {fill: blue}\n",
       "# </style>\n",
       "<svg class=sveg-canvas id=abc>\n",
       "    <g class=genome id=def>\n",
       "        <rect class=segment1 id=box1 x='5' y='10' width='10' height='100'/>,\n",
       "        <rect class=segment2 id=box2 x='20' y='10' width='10' height='30'/>\n",
       "    </g>\n",
       "</svg>\n",
       "\n",
       "</html>\n"
      ],
      "text/plain": [
       "<IPython.core.display.HTML object>"
      ]
     },
     "metadata": {},
     "output_type": "display_data"
    }
   ],
   "source": [
    "%%HTML\n",
    "\n",
    "<html>\n",
    "# <style>\n",
    "#     #box2 {fill: red}\n",
    "#     #box1 {fill: blue}\n",
    "# </style>\n",
    "<svg class=sveg-canvas id=abc>\n",
    "    <g class=genome id=def>\n",
    "        <rect class=segment1 id=box1 x='5' y='10' width='10' height='100'/>,\n",
    "        <rect class=segment2 id=box2 x='20' y='10' width='10' height='30'/>\n",
    "    </g>\n",
    "</svg>\n",
    "\n",
    "</html>\n"
   ]
  },
  {
   "cell_type": "code",
   "execution_count": null,
   "id": "vietnamese-mustang",
   "metadata": {},
   "outputs": [],
   "source": []
  },
  {
   "cell_type": "code",
   "execution_count": 11,
   "id": "electrical-payday",
   "metadata": {},
   "outputs": [
    {
     "data": {
      "text/plain": [
       "['<html>',\n",
       " '<style>',\n",
       " '.sveg-canvas{background-color=transparent;border-color=#292724;border-style=none;border-width=1.0;fill=rgb(16.1%,15.3%,14.1%);fill-opacity=1.0;font-family=Helvetica;font-size=12px;opacity=1.0;stroke=rgb(16.1%,15.3%,14.1%);stroke-opacity=1.0;stroke-width=1.0} .genome{width=250px} .segment1{width=50px;height=50px;fill=red} .segment2{width=50px;height=50px;fill=red}',\n",
       " '</style>',\n",
       " '<body>',\n",
       " '<div>',\n",
       " [<svg class=sveg-canvas id=abc>],\n",
       " '</div>',\n",
       " '</body>',\n",
       " '</html>']"
      ]
     },
     "execution_count": 11,
     "metadata": {},
     "output_type": "execute_result"
    }
   ],
   "source": [
    "root.build()"
   ]
  },
  {
   "cell_type": "code",
   "execution_count": 3,
   "id": "settled-tactics",
   "metadata": {},
   "outputs": [
    {
     "data": {
      "text/plain": [
       "{'sveg-canvas': {'background-color': 'transparent',\n",
       "  'border-color': '#292724',\n",
       "  'border-style': 'none',\n",
       "  'border-width': '1.0',\n",
       "  'fill': 'rgb(16.1%,15.3%,14.1%)',\n",
       "  'fill-opacity': '1.0',\n",
       "  'font-family': 'Helvetica',\n",
       "  'font-size': '12px',\n",
       "  'opacity': '1.0',\n",
       "  'stroke': 'rgb(16.1%,15.3%,14.1%)',\n",
       "  'stroke-opacity': '1.0',\n",
       "  'stroke-width': '1.0'}}"
      ]
     },
     "execution_count": 3,
     "metadata": {},
     "output_type": "execute_result"
    }
   ],
   "source": [
    "root.styles"
   ]
  },
  {
   "cell_type": "code",
   "execution_count": 24,
   "id": "structured-series",
   "metadata": {},
   "outputs": [
    {
     "data": {
      "text/plain": [
       "[\".sveg-canvas{'background-color': 'transparent', 'border-color': '#292724', 'border-style': 'none', 'border-width': '1.0', 'fill': 'rgb(16.1%,15.3%,14.1%)', 'fill-opacity': '1.0', 'font-family': 'Helvetica', 'font-size': '12px', 'opacity': '1.0', 'stroke': 'rgb(16.1%,15.3%,14.1%)', 'stroke-opacity': '1.0', 'stroke-width': '1.0'}\"]"
      ]
     },
     "execution_count": 24,
     "metadata": {},
     "output_type": "execute_result"
    }
   ],
   "source": [
    "[f\".{key}{val}\" for (key, val) in root.styles.items()]"
   ]
  },
  {
   "cell_type": "code",
   "execution_count": 26,
   "id": "naughty-brown",
   "metadata": {},
   "outputs": [],
   "source": [
    "self = root"
   ]
  },
  {
   "cell_type": "code",
   "execution_count": 49,
   "id": "sacred-nursing",
   "metadata": {},
   "outputs": [
    {
     "name": "stdout",
     "output_type": "stream",
     "text": [
      ".sveg-canvas{background-color=transparent;border-color=#292724;border-style=none;border-width=1.0;fill=rgb(16.1%,15.3%,14.1%);fill-opacity=1.0;font-family=Helvetica;font-size=12px;opacity=1.0;stroke=rgb(16.1%,15.3%,14.1%);stroke-opacity=1.0;stroke-width=1.0}\n"
     ]
    }
   ],
   "source": [
    "styles = []\n",
    "for key, val in self.styles.items():\n",
    "    concise = []\n",
    "    for skey, sval in val.items():\n",
    "        concise.append(f\"{skey.strip()}={sval}\")\n",
    "    cstring = \";\".join(concise)\n",
    "    print(\".{key}{{{cstring}}}\".format(key=key, cstring=cstring))"
   ]
  },
  {
   "cell_type": "code",
   "execution_count": 2,
   "id": "dated-elevation",
   "metadata": {},
   "outputs": [
    {
     "data": {
      "text/plain": [
       "<div class=sveg-plot>"
      ]
     },
     "execution_count": 2,
     "metadata": {},
     "output_type": "execute_result"
    }
   ],
   "source": [
    "root = sveg.marks.Div(cls=\"sveg-plot\")\n",
    "root"
   ]
  },
  {
   "cell_type": "code",
   "execution_count": 3,
   "id": "native-beverage",
   "metadata": {},
   "outputs": [
    {
     "ename": "SyntaxError",
     "evalue": "positional argument follows keyword argument (<ipython-input-3-b4cf3a1ea35f>, line 3)",
     "output_type": "error",
     "traceback": [
      "\u001b[0;36m  File \u001b[0;32m\"<ipython-input-3-b4cf3a1ea35f>\"\u001b[0;36m, line \u001b[0;32m3\u001b[0m\n\u001b[0;31m    sveg.marks.Div(\u001b[0m\n\u001b[0m    ^\u001b[0m\n\u001b[0;31mSyntaxError\u001b[0m\u001b[0;31m:\u001b[0m positional argument follows keyword argument\n"
     ]
    }
   ],
   "source": [
    "sveg.add_mark(\n",
    "    parent=None,  # new root returned\n",
    "    sveg.marks.Div(\n",
    "        cls=\"sveg-plot\",\n",
    "    )\n",
    ")\n"
   ]
  },
  {
   "cell_type": "code",
   "execution_count": 6,
   "id": "wired-comedy",
   "metadata": {},
   "outputs": [
    {
     "data": {
      "text/plain": [
       "<div class=sveg-plot />"
      ]
     },
     "execution_count": 6,
     "metadata": {},
     "output_type": "execute_result"
    }
   ],
   "source": [
    "root = sveg.marks.Div(cls=\"sveg-plot\")\n",
    "root"
   ]
  },
  {
   "cell_type": "code",
   "execution_count": null,
   "id": "moral-calculator",
   "metadata": {},
   "outputs": [],
   "source": []
  },
  {
   "cell_type": "code",
   "execution_count": 2,
   "id": "circular-humidity",
   "metadata": {},
   "outputs": [
    {
     "ename": "TypeError",
     "evalue": "__init__() got an unexpected keyword argument 'class_'",
     "output_type": "error",
     "traceback": [
      "\u001b[0;31m---------------------------------------------------------------------------\u001b[0m",
      "\u001b[0;31mTypeError\u001b[0m                                 Traceback (most recent call last)",
      "\u001b[0;32m<ipython-input-2-ff4f4da94b3f>\u001b[0m in \u001b[0;36m<module>\u001b[0;34m\u001b[0m\n\u001b[0;32m----> 1\u001b[0;31m \u001b[0mroot\u001b[0m \u001b[0;34m=\u001b[0m \u001b[0msveg\u001b[0m\u001b[0;34m.\u001b[0m\u001b[0mSveg\u001b[0m\u001b[0;34m.\u001b[0m\u001b[0mRoot\u001b[0m\u001b[0;34m(\u001b[0m\u001b[0;34m)\u001b[0m\u001b[0;34m\u001b[0m\u001b[0;34m\u001b[0m\u001b[0m\n\u001b[0m\u001b[1;32m      2\u001b[0m \u001b[0mroot\u001b[0m\u001b[0;34m.\u001b[0m\u001b[0mchildren\u001b[0m\u001b[0;34m[\u001b[0m\u001b[0;36m0\u001b[0m\u001b[0;34m]\u001b[0m\u001b[0;34m\u001b[0m\u001b[0;34m\u001b[0m\u001b[0m\n",
      "\u001b[0;32m~/Documents/sveg/sveg/Sveg.py\u001b[0m in \u001b[0;36m__init__\u001b[0;34m(self, height, width)\u001b[0m\n\u001b[1;32m     62\u001b[0m \u001b[0;34m\u001b[0m\u001b[0m\n\u001b[1;32m     63\u001b[0m         \u001b[0;31m# root inherits from Tag\u001b[0m\u001b[0;34m\u001b[0m\u001b[0;34m\u001b[0m\u001b[0;34m\u001b[0m\u001b[0m\n\u001b[0;32m---> 64\u001b[0;31m         \u001b[0msuper\u001b[0m\u001b[0;34m(\u001b[0m\u001b[0;34m)\u001b[0m\u001b[0;34m.\u001b[0m\u001b[0m__init__\u001b[0m\u001b[0;34m(\u001b[0m\u001b[0;34m\"div\"\u001b[0m\u001b[0;34m,\u001b[0m \u001b[0mclass_\u001b[0m\u001b[0;34m=\u001b[0m\u001b[0;34m\"sveg-plot\"\u001b[0m\u001b[0;34m)\u001b[0m\u001b[0;34m\u001b[0m\u001b[0;34m\u001b[0m\u001b[0m\n\u001b[0m\u001b[1;32m     65\u001b[0m \u001b[0;34m\u001b[0m\u001b[0m\n\u001b[1;32m     66\u001b[0m         \u001b[0;31m# add style of sveg-canvas.\u001b[0m\u001b[0;34m\u001b[0m\u001b[0;34m\u001b[0m\u001b[0;34m\u001b[0m\u001b[0m\n",
      "\u001b[0;31mTypeError\u001b[0m: __init__() got an unexpected keyword argument 'class_'"
     ]
    }
   ],
   "source": [
    "root.children[0]"
   ]
  },
  {
   "cell_type": "code",
   "execution_count": 2,
   "id": "smooth-amateur",
   "metadata": {},
   "outputs": [
    {
     "ename": "TypeError",
     "evalue": "add_mark() got an unexpected keyword argument 'cls'",
     "output_type": "error",
     "traceback": [
      "\u001b[0;31m---------------------------------------------------------------------------\u001b[0m",
      "\u001b[0;31mTypeError\u001b[0m                                 Traceback (most recent call last)",
      "\u001b[0;32m<ipython-input-2-cd21935391ff>\u001b[0m in \u001b[0;36m<module>\u001b[0;34m\u001b[0m\n\u001b[1;32m      3\u001b[0m \u001b[0;31m#\u001b[0m\u001b[0;34m\u001b[0m\u001b[0;34m\u001b[0m\u001b[0;34m\u001b[0m\u001b[0m\n\u001b[1;32m      4\u001b[0m \u001b[0mroot\u001b[0m\u001b[0;34m.\u001b[0m\u001b[0mstyles\u001b[0m\u001b[0;34m[\u001b[0m\u001b[0;34m\"genome\"\u001b[0m\u001b[0;34m]\u001b[0m \u001b[0;34m=\u001b[0m \u001b[0;34m{\u001b[0m\u001b[0;34m\"width\"\u001b[0m\u001b[0;34m:\u001b[0m \u001b[0;34m\"100%\"\u001b[0m\u001b[0;34m,\u001b[0m \u001b[0;34m\"margin\"\u001b[0m\u001b[0;34m:\u001b[0m \u001b[0;34m\"auto\"\u001b[0m\u001b[0;34m}\u001b[0m\u001b[0;34m\u001b[0m\u001b[0;34m\u001b[0m\u001b[0m\n\u001b[0;32m----> 5\u001b[0;31m root.add_mark(\n\u001b[0m\u001b[1;32m      6\u001b[0m     \u001b[0mmark\u001b[0m\u001b[0;34m=\u001b[0m\u001b[0msveg\u001b[0m\u001b[0;34m.\u001b[0m\u001b[0mmarks\u001b[0m\u001b[0;34m.\u001b[0m\u001b[0mDiv\u001b[0m\u001b[0;34m(\u001b[0m\u001b[0;34m)\u001b[0m\u001b[0;34m,\u001b[0m\u001b[0;34m\u001b[0m\u001b[0;34m\u001b[0m\u001b[0m\n\u001b[1;32m      7\u001b[0m     \u001b[0mcls\u001b[0m\u001b[0;34m=\u001b[0m\u001b[0;34m\"Canvas\"\u001b[0m\u001b[0;34m\u001b[0m\u001b[0;34m\u001b[0m\u001b[0m\n",
      "\u001b[0;31mTypeError\u001b[0m: add_mark() got an unexpected keyword argument 'cls'"
     ]
    }
   ],
   "source": [
    "# \n",
    "root.styles[\"genome\"] = {\"width\": \"100%\", \"margin\": \"auto\"}\n",
    "root.add_mark(\n",
    "    mark=sveg.marks.Div(),\n",
    "    cls=\"Canvas\"\n",
    ")\n",
    "\n",
    "root.styles[\"segment\"] = {\"width\": \"45%\", \"height\": \"25px\"}"
   ]
  },
  {
   "cell_type": "code",
   "execution_count": 3,
   "id": "empty-thickness",
   "metadata": {
    "scrolled": true
   },
   "outputs": [],
   "source": [
    "genome = root.children[0].add_child(\"div\", cls=\"genome\")"
   ]
  },
  {
   "cell_type": "code",
   "execution_count": 6,
   "id": "external-scholar",
   "metadata": {},
   "outputs": [],
   "source": [
    "genome.add_mark(\n",
    "    sveg.Shapes.Rect(5, 5, 10, 10),\n",
    "    class_=\"segment\",\n",
    ")"
   ]
  },
  {
   "cell_type": "code",
   "execution_count": 8,
   "id": "crude-chancellor",
   "metadata": {},
   "outputs": [
    {
     "data": {
      "text/plain": [
       "[]"
      ]
     },
     "execution_count": 8,
     "metadata": {},
     "output_type": "execute_result"
    }
   ],
   "source": [
    "genome.children"
   ]
  },
  {
   "cell_type": "code",
   "execution_count": 9,
   "id": "silent-scotland",
   "metadata": {},
   "outputs": [
    {
     "ename": "NameError",
     "evalue": "name 'cls' is not defined",
     "output_type": "error",
     "traceback": [
      "\u001b[0;31m---------------------------------------------------------------------------\u001b[0m",
      "\u001b[0;31mNameError\u001b[0m                                 Traceback (most recent call last)",
      "\u001b[0;32m<ipython-input-9-4b94d9d35cf3>\u001b[0m in \u001b[0;36m<module>\u001b[0;34m\u001b[0m\n\u001b[0;32m----> 1\u001b[0;31m \u001b[0mcls\u001b[0m\u001b[0;34m\u001b[0m\u001b[0;34m\u001b[0m\u001b[0m\n\u001b[0m",
      "\u001b[0;31mNameError\u001b[0m: name 'cls' is not defined"
     ]
    }
   ],
   "source": [
    "cls"
   ]
  },
  {
   "cell_type": "code",
   "execution_count": null,
   "id": "christian-verification",
   "metadata": {},
   "outputs": [],
   "source": []
  },
  {
   "cell_type": "code",
   "execution_count": 14,
   "id": "trained-polish",
   "metadata": {},
   "outputs": [
    {
     "data": {
      "text/plain": [
       "<sveg.Sveg.Tag at 0x7f12272d9f70>"
      ]
     },
     "execution_count": 14,
     "metadata": {},
     "output_type": "execute_result"
    }
   ],
   "source": [
    "sveg.Sveg.Tag(\n",
    "    tag=\"svg\", \n",
    "    class_=\"Canvas\",\n",
    "    id_=\"abcdef\",\n",
    "    attrib={\n",
    "        \"xmlns:\": \n",
    "        \"xmlns:xlink\": \"http://www.w3.org/1999/xlink\", \n",
    "        \"xmlns:svg\": \n",
    "    }\n",
    ")"
   ]
  },
  {
   "cell_type": "code",
   "execution_count": null,
   "id": "nearby-wednesday",
   "metadata": {},
   "outputs": [],
   "source": []
  },
  {
   "cell_type": "code",
   "execution_count": 7,
   "id": "advance-yorkshire",
   "metadata": {},
   "outputs": [
    {
     "ename": "AttributeError",
     "evalue": "module 'sveg.Sveg' has no attribute 'Sveg'",
     "output_type": "error",
     "traceback": [
      "\u001b[0;31m---------------------------------------------------------------------------\u001b[0m",
      "\u001b[0;31mAttributeError\u001b[0m                            Traceback (most recent call last)",
      "\u001b[0;32m<ipython-input-7-a362766892bd>\u001b[0m in \u001b[0;36m<module>\u001b[0;34m\u001b[0m\n\u001b[1;32m      1\u001b[0m \u001b[0;31m# top-level div that holds the style dict.\u001b[0m\u001b[0;34m\u001b[0m\u001b[0;34m\u001b[0m\u001b[0;34m\u001b[0m\u001b[0m\n\u001b[0;32m----> 2\u001b[0;31m \u001b[0mroot\u001b[0m \u001b[0;34m=\u001b[0m \u001b[0msveg\u001b[0m\u001b[0;34m.\u001b[0m\u001b[0mSveg\u001b[0m\u001b[0;34m.\u001b[0m\u001b[0mSveg\u001b[0m\u001b[0;34m(\u001b[0m\u001b[0;34m)\u001b[0m\u001b[0;34m\u001b[0m\u001b[0;34m\u001b[0m\u001b[0m\n\u001b[0m\u001b[1;32m      3\u001b[0m \u001b[0mprint\u001b[0m\u001b[0;34m(\u001b[0m\u001b[0mroot\u001b[0m\u001b[0;34m.\u001b[0m\u001b[0mstyle\u001b[0m\u001b[0;34m)\u001b[0m\u001b[0;34m\u001b[0m\u001b[0;34m\u001b[0m\u001b[0m\n\u001b[1;32m      4\u001b[0m \u001b[0;34m\u001b[0m\u001b[0m\n\u001b[1;32m      5\u001b[0m \u001b[0;31m# the top level svg element\u001b[0m\u001b[0;34m\u001b[0m\u001b[0;34m\u001b[0m\u001b[0;34m\u001b[0m\u001b[0m\n",
      "\u001b[0;31mAttributeError\u001b[0m: module 'sveg.Sveg' has no attribute 'Sveg'"
     ]
    }
   ],
   "source": [
    "# top-level div that holds the style dict.\n",
    "root = sveg.Sveg.Sveg()\n",
    "print(root.style)\n",
    "aa\n",
    "# the top level svg element\n",
    "plot = root.add_child(\"div\", class_=\"Plot\")\n",
    "canvas = plot.add_child(\"svg\", class_=\"Canvas\")\n"
   ]
  },
  {
   "cell_type": "code",
   "execution_count": 36,
   "id": "inclusive-rebecca",
   "metadata": {},
   "outputs": [
    {
     "data": {
      "text/plain": [
       "<circle cx='1' cy='1' r='1' />"
      ]
     },
     "execution_count": 36,
     "metadata": {},
     "output_type": "execute_result"
    }
   ],
   "source": [
    "sveg.Shapes.Circle(1, 1, 1)"
   ]
  },
  {
   "cell_type": "code",
   "execution_count": 37,
   "id": "recognized-petroleum",
   "metadata": {},
   "outputs": [
    {
     "data": {
      "text/plain": [
       "<rect x='5' y='5' width='5' height='5' />"
      ]
     },
     "execution_count": 37,
     "metadata": {},
     "output_type": "execute_result"
    }
   ],
   "source": [
    "sveg.Shapes.Rect(5, 5, 5, 5)"
   ]
  },
  {
   "cell_type": "code",
   "execution_count": null,
   "id": "adolescent-framework",
   "metadata": {},
   "outputs": [],
   "source": []
  },
  {
   "cell_type": "code",
   "execution_count": null,
   "id": "plain-development",
   "metadata": {},
   "outputs": [],
   "source": []
  },
  {
   "cell_type": "code",
   "execution_count": null,
   "id": "bridal-profile",
   "metadata": {},
   "outputs": [],
   "source": []
  },
  {
   "cell_type": "code",
   "execution_count": 3,
   "id": "taken-tract",
   "metadata": {},
   "outputs": [],
   "source": [
    "# best option \n",
    "import xml.etree.ElementTree as xml"
   ]
  },
  {
   "cell_type": "code",
   "execution_count": null,
   "id": "alternative-clause",
   "metadata": {},
   "outputs": [],
   "source": []
  },
  {
   "cell_type": "code",
   "execution_count": null,
   "id": "marine-bonus",
   "metadata": {},
   "outputs": [],
   "source": [
    "jdata = {\n",
    "    \"tag\": \"svg\",\n",
    "    \"text\": \"\",\n",
    "    \"style\": {},\n",
    "    \"cls\": \"\",\n",
    "    \"id\": \"\",\n",
    "    \"children\": {\n",
    "        \n",
    "    }\n",
    "}"
   ]
  },
  {
   "cell_type": "code",
   "execution_count": 17,
   "id": "decreased-rochester",
   "metadata": {},
   "outputs": [
    {
     "data": {
      "text/html": [
       "\n",
       "<html>\n",
       "\n",
       "#     <style>\n",
       "#     .hi {fill: white; stroke: black; stroke-width: 2}\n",
       "#     .container-me {width: 100%; margin: auto}\n",
       "#     .segment {width: 50%; height:25px; display: inline-block; background-color: blue; padding:5px; border: solid white}\n",
       "#     </style>\n",
       "\n",
       "    <body>\n",
       "        <div class=container-me>\n",
       "            <div class=segment></div><!--\n",
       "            --><div class=segment></div>\n",
       "        </div>\n",
       "        \n",
       "        <svg><rect x='20px', y='5' class='hi' width='50%' height='25%'>Bello</rect></svg>\n",
       "    </body>\n",
       "</html>\n"
      ],
      "text/plain": [
       "<IPython.core.display.HTML object>"
      ]
     },
     "metadata": {},
     "output_type": "display_data"
    }
   ],
   "source": [
    "%%HTML\n",
    "\n",
    "<html>\n",
    "\n",
    "#     <style>\n",
    "#     .hi {fill: white; stroke: black; stroke-width: 2}\n",
    "#     .container-me {width: 100%; margin: auto}\n",
    "#     .segment {width: 50%; height:25px; display: inline-block; background-color: blue; padding:5px; border: solid white}\n",
    "#     </style>\n",
    "\n",
    "    <body>\n",
    "        <div class=container-me>\n",
    "            <div class=segment></div><!--\n",
    "            --><div class=segment></div>\n",
    "        </div>\n",
    "        \n",
    "        <svg><rect x='20px', y='5' class='hi' width='50%' height='25%'>Bello</rect></svg>\n",
    "    </body>\n",
    "</html>"
   ]
  },
  {
   "cell_type": "code",
   "execution_count": 358,
   "id": "contrary-poster",
   "metadata": {},
   "outputs": [],
   "source": [
    "from dataclasses import dataclass, field\n",
    "from typing import Dict, Union, List, ClassVar"
   ]
  },
  {
   "cell_type": "code",
   "execution_count": null,
   "id": "young-burlington",
   "metadata": {},
   "outputs": [],
   "source": [
    "# top-"
   ]
  },
  {
   "cell_type": "code",
   "execution_count": 362,
   "id": "sunrise-sellers",
   "metadata": {},
   "outputs": [],
   "source": [
    "@dataclass\n",
    "class Unit:\n",
    "    tag: str = \"div\"\n",
    "    text: str = \"\"\n",
    "    style: Union[dict, None] = None\n",
    "    cls: Union[str, None] = None\n",
    "    id: Union[str, None] = None\n",
    "    children: List = field(default_factory=list)\n",
    "\n",
    "    def _style_as_string(self):\n",
    "        pairs = [\":\".join(pair) for pair in self.style.items()]\n",
    "        return \";\".join(pairs)\n",
    "        \n",
    "    def _repr_html_(self):\n",
    "        tag_open = [\n",
    "            \"<\",\n",
    "            self.tag,\n",
    "            f\" class={self.cls}\" if self.cls else \"\",\n",
    "            f\" id={self.id}\" if self.id else \"\",\n",
    "            f\" style='{self._style_as_string()}'\" if self.style else \"\",\n",
    "            \">\",\n",
    "            self.text,\n",
    "            \"</\",\n",
    "            self.tag,\n",
    "            \">\"\n",
    "        ]\n",
    "        return \"\".join(tag_open)"
   ]
  },
  {
   "cell_type": "code",
   "execution_count": 365,
   "id": "subjective-edition",
   "metadata": {},
   "outputs": [
    {
     "data": {
      "text/plain": [
       "\"<div class=container style='height:auto;width:100%;margin:auto;display:block'></div>\""
      ]
     },
     "execution_count": 365,
     "metadata": {},
     "output_type": "execute_result"
    }
   ],
   "source": [
    "container = Unit(\n",
    "    cls=\"container\", \n",
    "    style={\n",
    "        \"height\": \"auto\",\n",
    "        \"width\": \"100%\", \n",
    "        \"margin\": \"auto\",\n",
    "        \"display\": \"block\",\n",
    "    },\n",
    ")\n",
    "\n",
    "child = Unit(\n",
    "    cls=\"segment\",\n",
    "    id=0,\n",
    "    style={\n",
    "        \"float\": \"left\",\n",
    "        \"width\": \"20%\",\n",
    "        \"height\": \"20px\",\n",
    "        \"margin-right\": \"1%\",\n",
    "        \"background-color\": \"blue\",\n",
    "    }\n",
    ")\n",
    "\n",
    "container.children.append(child)\n",
    "container._repr_html_()\n"
   ]
  },
  {
   "cell_type": "code",
   "execution_count": 281,
   "id": "convinced-report",
   "metadata": {},
   "outputs": [
    {
     "data": {
      "text/html": [
       "\n",
       "<div class=\"hi\" style=\"color:red\" > 3 </div>\n"
      ],
      "text/plain": [
       "<IPython.core.display.HTML object>"
      ]
     },
     "metadata": {},
     "output_type": "display_data"
    }
   ],
   "source": [
    "%%HTML\n",
    "\n",
    "<div class=\"hi\" style=\"color:red\" > 3 </div>"
   ]
  },
  {
   "cell_type": "code",
   "execution_count": 237,
   "id": "indoor-treaty",
   "metadata": {},
   "outputs": [],
   "source": [
    "class SVG:\n",
    "    def __init__(self, text=None, style=None):\n",
    "        self.text = text\n",
    "        self.children = []\n",
    "        self.up = None\n",
    "        self.cls = None\n",
    "        self.id = None\n",
    "        \n",
    "    def render(self):\n",
    "        \"render just this element\"\n",
    "        _class = f'class={self.cls} ' if self.cls else ''\n",
    "        _id = f'id={self.id} ' if self.id else ''\n",
    "        _text = f'text={self.text} ' if self.text else ''\n",
    "        return f\"<{_class}{_id}{_text}/>\"\n",
    "    \n",
    "    def add_child(self, text=None, style=None):\n",
    "        \"add a child node\"\n",
    "        child = SVG(text, style)\n",
    "        child.up = self\n",
    "        self.children.append(child)\n",
    "        \n",
    "    def build(self):\n",
    "        \"recursively build child strings\"\n",
    "        for child in self.children:\n",
    "            if child.children:\n",
    "                child.build()\n",
    "        \n",
    "    def __repr__(self):\n",
    "        return f\"<svg>{self.build()}</svg>\""
   ]
  },
  {
   "cell_type": "code",
   "execution_count": 238,
   "id": "powered-madrid",
   "metadata": {},
   "outputs": [
    {
     "data": {
      "text/plain": [
       "'<text=root />'"
      ]
     },
     "execution_count": 238,
     "metadata": {},
     "output_type": "execute_result"
    }
   ],
   "source": [
    "root = SVG('root')\n",
    "root.add_child(\"child\")\n",
    "root.render()"
   ]
  },
  {
   "cell_type": "code",
   "execution_count": 230,
   "id": "controlled-preparation",
   "metadata": {},
   "outputs": [],
   "source": [
    "class Genome:\n",
    "    def __init__(self, segments):\n",
    "        self.segments = segments     \n",
    "        \n",
    "    \n",
    "    def _repr_html_(self):\n",
    "        root = xml.Element(\n",
    "            \"div\", \n",
    "            style=\"height:auto; width:100%; display:block; margin:auto\",\n",
    "            attrib={\"class\": \"Genome-segment\"},\n",
    "        )\n",
    "        for seg in self.segments:\n",
    "            xml.SubElement(\n",
    "                root,\n",
    "                \"div\",\n",
    "                style=\"float:left; width:20%; height:20px; margin-right:1%; background-color:blue\"\n",
    "            )\n",
    "        return xml.tostring(root, encoding=\"unicode\", method=\"html\")"
   ]
  },
  {
   "cell_type": "code",
   "execution_count": 231,
   "id": "social-criminal",
   "metadata": {},
   "outputs": [
    {
     "data": {
      "text/html": [
       "<div class=\"Genome-segment\" style=\"height:auto; width:100%; display:block; margin:auto\"><div style=\"float:left; width:20%; height:20px; margin-right:1%; background-color:blue\"></div><div style=\"float:left; width:20%; height:20px; margin-right:1%; background-color:blue\"></div></div>"
      ],
      "text/plain": [
       "<__main__.Genome at 0x7f5f905fd6d0>"
      ]
     },
     "execution_count": 231,
     "metadata": {},
     "output_type": "execute_result"
    }
   ],
   "source": [
    "Genome(['a', 'b'])"
   ]
  }
 ],
 "metadata": {
  "kernelspec": {
   "display_name": "Python 3",
   "language": "python",
   "name": "python3"
  },
  "language_info": {
   "codemirror_mode": {
    "name": "ipython",
    "version": 3
   },
   "file_extension": ".py",
   "mimetype": "text/x-python",
   "name": "python",
   "nbconvert_exporter": "python",
   "pygments_lexer": "ipython3",
   "version": "3.8.8"
  }
 },
 "nbformat": 4,
 "nbformat_minor": 5
}
