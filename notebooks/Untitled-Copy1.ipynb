{
 "cells": [
  {
   "cell_type": "markdown",
   "id": "express-trick",
   "metadata": {},
   "source": [
    "## Sub and Super Classes "
   ]
  },
  {
   "cell_type": "code",
   "execution_count": 1,
   "id": "boolean-caution",
   "metadata": {},
   "outputs": [],
   "source": [
    "\n",
    "# initializeMutationType(1, 0.5, \"f\", 0);\n",
    "# initializeMutationType(2, 0.5, \"f\", 0);\n",
    "# initializeMutationType(3, 0.1, \"g\", -0.03, 0.2);\n",
    "# initializeMutationType(4, 0.8, \"e\", 0.1);\n",
    "\n",
    "# initializeGenomicElementType(1, c(m2, m3, m4), c(2, 8, 0.1));\n",
    "# initializeGenomicElementType(2, c(m1, m3), c(9, 1));\n",
    "# initializeGenomicElementType(3, m1, 1);\n",
    "\n",
    "# initializeGenomicElement(g3, 0, 4684);\n",
    "# initializeGenomicElement(g1, 4685, 4708);\n",
    "# initializeGenomicElement(g2, 4709, 4830);\n",
    "# initializeGenomicElement(g1, 4831, 4958);\n",
    "# initializeGenomicElement(g3, 4959, 9094);\n",
    "# initializeGenomicElement(g1, 9095, 9208);\n",
    "# initializeGenomicElement(g2, 9209, 9267);\n",
    "# initializeGenomicElement(g1, 9268, 9331);\n",
    "# initializeGenomicElement(g3, 9332, 12775);\n"
   ]
  },
  {
   "cell_type": "code",
   "execution_count": null,
   "id": "suffering-blowing",
   "metadata": {},
   "outputs": [],
   "source": []
  },
  {
   "cell_type": "code",
   "execution_count": 84,
   "id": "simple-front",
   "metadata": {},
   "outputs": [],
   "source": [
    "class MutationType:\n",
    "    idx = 0\n",
    "    \n",
    "    def __init__(self, dominance):\n",
    "        \n",
    "        # increase unique MutationType instance counter\n",
    "        MutationType.idx += 1\n",
    "        self.idx = MutationType.idx\n",
    "        self.dominance = dominance\n",
    "\n",
    "    def get_idx(self):\n",
    "        return f\"m{self.idx}\""
   ]
  },
  {
   "cell_type": "code",
   "execution_count": 85,
   "id": "enhanced-badge",
   "metadata": {},
   "outputs": [],
   "source": [
    "class NeutralType(MutationType):\n",
    "    def __init__(self, dominance):\n",
    "        super().__init__(dominance)\n",
    "        \n",
    "    def __repr__(self):\n",
    "        return f\"initializeMutationType({self.idx}, {self.dominance}, 'f', 0);\""
   ]
  },
  {
   "cell_type": "code",
   "execution_count": 86,
   "id": "flush-syndicate",
   "metadata": {},
   "outputs": [],
   "source": [
    "class NormalDistType(MutationType):\n",
    "    def __init__(self, dominance, mean, std):\n",
    "        self.mean = mean\n",
    "        self.std = std\n",
    "        super().__init__(dominance)\n",
    "        \n",
    "    def __repr__(self):\n",
    "        return f\"initializeMutationType({self.idx}, {self.dominance}, 'n', {self.mean}, {self.std})\""
   ]
  },
  {
   "cell_type": "code",
   "execution_count": 87,
   "id": "average-inquiry",
   "metadata": {},
   "outputs": [
    {
     "name": "stdout",
     "output_type": "stream",
     "text": [
      "initializeMutationType(1, 0.5, 'f', 0);\n",
      "initializeMutationType(2, 0.5, 'n', 0.0, 1.0)\n",
      "initializeGenomicElementType(21, c(m1, m2), c(1, 2));\n"
     ]
    }
   ],
   "source": [
    "\n",
    "simulation = []\n",
    "simulation.append(NeutralType(0.5))\n",
    "simulation.append(NormalDistType(0.5, 0.0, 1.0))\n",
    "simulation.append(GenomicElementType((simulation[0], simulation[1]), (1, 2)))\n",
    "print(\"\\n\".join([str(i) for i in simulation]))\n",
    "\n"
   ]
  },
  {
   "cell_type": "code",
   "execution_count": 60,
   "id": "weekly-feeling",
   "metadata": {},
   "outputs": [],
   "source": [
    "class GenomicElementType:\n",
    "    idx = 0\n",
    "    \n",
    "    def __init__(self, mutation_types, proportions):\n",
    "        GenomicElementType.idx += 1\n",
    "        self.idx = GenomicElementType.idx\n",
    "        \n",
    "        # store user input\n",
    "        self.mutation_types = mutation_types\n",
    "        self.proportions = proportions\n",
    "        \n",
    "    def get_idx(self):\n",
    "        return f\"g{self.idx}\"\n",
    "    \n",
    "    def __repr__(self):\n",
    "        muts = \", \".join([i.get_idx() for i in self.mutation_types])\n",
    "        props = \", \".join([str(i) for i in self.proportions])\n",
    "        return f\"initializeGenomicElementType({self.idx}, c({muts}), c({props}));\""
   ]
  },
  {
   "cell_type": "code",
   "execution_count": null,
   "id": "mathematical-boring",
   "metadata": {},
   "outputs": [],
   "source": [
    "def sample_genomic_elements(\n",
    "    ngenes=10, \n",
    "    length=10000, \n",
    "    min_introns_per_gene=0,\n",
    "    max_introns_per_gene=5,\n",
    "    min_exons_per_gene=3,\n",
    "    max_exons_per_gene=10,\n",
    ")"
   ]
  },
  {
   "cell_type": "code",
   "execution_count": 93,
   "id": "behind-salmon",
   "metadata": {},
   "outputs": [
    {
     "name": "stdout",
     "output_type": "stream",
     "text": [
      "initializeMutationType(1, 0.0, 'f', 0.0);\n",
      "initializeMutationType(2, 0.5, 'n', 0.0, 2.0);\n",
      "initializeMutationType(3, 0.1, 'g', -0.03, 0.2);\n",
      "initializeGenomicElementType(1, c(m1, m2), c(1, 2));\n",
      "initializeGenomicElementType(2, c(m1, m3), c(9, 1));\n"
     ]
    }
   ],
   "source": [
    "\n",
    "m1 = MutationType(0.0, 'f', 0.1)\n",
    "m2 = MutationType(0.5, 'n', 0.0, 2.0)\n",
    "m3 = MutationType(0.1, 'g', -0.03, 0.2)\n",
    "\n",
    "g1 = GenomicElementType((m1, m2), (1, 2))\n",
    "g2 = GenomicElementType((m1, m3), (9, 1))\n",
    "\n",
    "\n",
    "for element in (m1, m2, m3, g1, g2):\n",
    "    print(element)"
   ]
  },
  {
   "cell_type": "code",
   "execution_count": null,
   "id": "sticky-finding",
   "metadata": {},
   "outputs": [],
   "source": []
  }
 ],
 "metadata": {
  "kernelspec": {
   "display_name": "Python 3",
   "language": "python",
   "name": "python3"
  },
  "language_info": {
   "codemirror_mode": {
    "name": "ipython",
    "version": 3
   },
   "file_extension": ".py",
   "mimetype": "text/x-python",
   "name": "python",
   "nbconvert_exporter": "python",
   "pygments_lexer": "ipython3",
   "version": "3.8.6"
  }
 },
 "nbformat": 4,
 "nbformat_minor": 5
}
