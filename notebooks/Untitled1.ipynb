{
 "cells": [
  {
   "cell_type": "markdown",
   "id": "typical-belgium",
   "metadata": {},
   "source": [
    "## Large data hacks"
   ]
  },
  {
   "cell_type": "code",
   "execution_count": null,
   "id": "animated-allocation",
   "metadata": {},
   "outputs": [],
   "source": []
  },
  {
   "cell_type": "markdown",
   "id": "weekly-latex",
   "metadata": {},
   "source": [
    "### Reading large text files that are \"out-of-memory\"\n",
    "\n",
    "Instead of using `.read()` to load the entire file, you can instead use `.readline()` to read one line at a time."
   ]
  },
  {
   "cell_type": "code",
   "execution_count": 1,
   "id": "differential-style",
   "metadata": {},
   "outputs": [],
   "source": [
    "BIGFILE = \"/home/deren/Documents/kmerkit/data/amaranths/hybridus_SLH_AL_1060_R1_concat.fastq.gz\""
   ]
  },
  {
   "cell_type": "code",
   "execution_count": 6,
   "id": "individual-narrative",
   "metadata": {},
   "outputs": [],
   "source": [
    "import gzip"
   ]
  },
  {
   "cell_type": "markdown",
   "id": "level-caribbean",
   "metadata": {},
   "source": [
    "### how many lines are in this file?"
   ]
  },
  {
   "cell_type": "code",
   "execution_count": 32,
   "id": "theoretical-mexican",
   "metadata": {},
   "outputs": [
    {
     "name": "stdout",
     "output_type": "stream",
     "text": [
      "3979812\n"
     ]
    }
   ],
   "source": [
    "# you can iterate over the lines in a file from the open file object\n",
    "nlines = 0\n",
    "openfile = gzip.open(BIGFILE, 'r')\n",
    "for line in openfile:\n",
    "    nlines += 1\n",
    "openfile.close()\n",
    "print(nlines)"
   ]
  },
  {
   "cell_type": "code",
   "execution_count": 33,
   "id": "controlled-chicago",
   "metadata": {},
   "outputs": [
    {
     "name": "stdout",
     "output_type": "stream",
     "text": [
      "3979812\n"
     ]
    }
   ],
   "source": [
    "# by contrast, reading the entire file into memory can be wasteful\n",
    "# if you only need one line at a time.\n",
    "with gzip.open(BIGFILE, 'r') as indata:\n",
    "    nlines1 = indata.readlines()\n",
    "    print(len(nlines1))"
   ]
  },
  {
   "cell_type": "code",
   "execution_count": 34,
   "id": "seven-exhibit",
   "metadata": {},
   "outputs": [
    {
     "name": "stdout",
     "output_type": "stream",
     "text": [
      "3979812\n"
     ]
    }
   ],
   "source": [
    "# only checks that there IS data on each line\n",
    "with gzip.open(BIGFILE, 'r') as indata:\n",
    "    nlines2 = sum(1 for i in indata)\n",
    "    print(nlines2)"
   ]
  },
  {
   "cell_type": "code",
   "execution_count": 35,
   "id": "mathematical-operation",
   "metadata": {},
   "outputs": [
    {
     "name": "stdout",
     "output_type": "stream",
     "text": [
      "b'@NB551405:60:H7T2GAFXY:1:11101:3993:1049 1:N:0:CATTCGGT+NNNNNTAA\\n'\n",
      "b'ATCGGCTAATAGTAGAGGTGTTGTGCCCTAACCGAAATATTCAAGTGAGATCACCCAAGTAAGAAAGATATTTATTCTTTCATTTGCCAATTAATTCATAATATTTTTCTTATGCAATATCTTAGTTTTTATCCATTCT\\n'\n",
      "b'+\\n'\n",
      "b'EEEEEEEEEEEEEEEEEEEEEEEEEEEEEEEEEEEEEEEEEEEEEEEEEEEEEEAAEEEEEEEEEEEEEEEEEEEEEEEEEEEEEEEEEEEEEEEEAEEEEEEEEEEEEEEEEEAEEEEEEEEEEEEEEAAAA6A<A<A\\n'\n",
      "b'@NB551405:60:H7T2GAFXY:1:11101:11941:1058 1:N:0:AAGTCGAG+NNNNAACC\\n'\n",
      "b'ATCGGATGCCATATATTCATAAACCAGTAGCCTATGCTCATCTTCACAACAGTATCCAATCAGCTTTACAAGGTTCGGGTGGCTAAGTTGTCCTAAGTAGCTAACTTCAGTCTGTATTATGAAACATATAAGCATTGTAAGC\\n'\n",
      "b'+\\n'\n",
      "b'EEEEEEEEEEEEEEEEEEEEEEEEEEEEEEEEEEEEEEEEEEEEEEEEEEEEEEEEEEEEEEEEEEEEEEEEEEEEEEEEEEEEEEEEEEEEEEEEEEEEEEEEEEEEEEEAAEEEEEEEAAA<EEEEEEEEAAAAAEEEAA\\n'\n",
      "b'@NB551405:60:H7T2GAFXY:1:11101:10608:1061 1:N:0:TATCGGTC+NNNNTAAA\\n'\n",
      "b'ATCGGTTTCTGGGTGGGTTAGGATGGTAAGGGTGCGGTTTTGGGTTTAGGTTAGGGTGGGATGGATTATTGGATCTGGTATATTGGGGGTTTGAAGTAATTTGGGATTTAGGGTTAGGGTTAGGGCGCCAGAATTGGGGATT\\n'\n"
     ]
    }
   ],
   "source": [
    "# process each line\n",
    "with gzip.open(BIGFILE, 'r') as indata:\n",
    "    for i in range(10):\n",
    "        print(indata.readline())"
   ]
  },
  {
   "cell_type": "markdown",
   "id": "brilliant-window",
   "metadata": {},
   "source": [
    "### Generators\n",
    "Python generators are a complex topic. They can be extremely useful, but it can be hard to recognize their benefit until you reach a fairly high level of coding, or encounter an important use case. These use cases tend to involve very large data files, where you want to process only a proportion of the data at a time without having to read the entire data into memory. Generators make this possible by turning the \"reading\" process into a step-by-step approach, where it reads a chunk of data, and then waits at the point in the file where it left off until you request additional lines of data from the file. The `.readline()` function above is an example, which \n",
    "\n",
    "https://wiki.python.org/moin/Generators"
   ]
  },
  {
   "cell_type": "markdown",
   "id": "focal-vatican",
   "metadata": {},
   "source": [
    "### Reading chunks of a file using generators"
   ]
  },
  {
   "cell_type": "code",
   "execution_count": 36,
   "id": "biblical-cursor",
   "metadata": {},
   "outputs": [],
   "source": [
    "import itertools"
   ]
  },
  {
   "cell_type": "code",
   "execution_count": null,
   "id": "varying-payroll",
   "metadata": {},
   "outputs": [],
   "source": [
    "itertools.izip(4 * )"
   ]
  },
  {
   "cell_type": "code",
   "execution_count": null,
   "id": "large-october",
   "metadata": {},
   "outputs": [],
   "source": []
  },
  {
   "cell_type": "code",
   "execution_count": null,
   "id": "everyday-routine",
   "metadata": {},
   "outputs": [],
   "source": []
  },
  {
   "cell_type": "markdown",
   "id": "binary-ribbon",
   "metadata": {},
   "source": [
    "### Reading large tabular data files that \"out-of-memory\""
   ]
  },
  {
   "cell_type": "code",
   "execution_count": null,
   "id": "certified-brook",
   "metadata": {},
   "outputs": [],
   "source": []
  }
 ],
 "metadata": {
  "kernelspec": {
   "display_name": "Python 3",
   "language": "python",
   "name": "python3"
  },
  "language_info": {
   "codemirror_mode": {
    "name": "ipython",
    "version": 3
   },
   "file_extension": ".py",
   "mimetype": "text/x-python",
   "name": "python",
   "nbconvert_exporter": "python",
   "pygments_lexer": "ipython3",
   "version": "3.8.6"
  }
 },
 "nbformat": 4,
 "nbformat_minor": 5
}
