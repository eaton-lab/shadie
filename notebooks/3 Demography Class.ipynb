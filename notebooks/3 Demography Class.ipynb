{
 "cells": [
  {
   "cell_type": "markdown",
   "metadata": {},
   "source": [
    "# `Demography` Class\n",
    "This class object simply saves the demography of a tree to be used by the `Shadie` class. `Shadie` calls `Demography().get_demog()` directly, so the user does not need to interface with `Demography`, unless they want to look at the tree. "
   ]
  },
  {
   "cell_type": "code",
   "execution_count": 1,
   "metadata": {
    "scrolled": true
   },
   "outputs": [
    {
     "name": "stderr",
     "output_type": "stream",
     "text": [
      "2021-04-03 20:46:42.921 | WARNING  | shadie.mutations:__init__:82 - 'g', 'n', and 'w' distributions take 2 params\n",
      "2021-04-03 20:46:42.921 | WARNING  | shadie.mutations:__init__:82 - 'g', 'n', and 'w' distributions take 2 params\n",
      "2021-04-03 20:46:42.922 | WARNING  | shadie.mutations:__init__:74 - 'e' and 'f' distributions take 1 param\n",
      "2021-04-03 20:46:42.922 | WARNING  | shadie.mutations:__init__:82 - 'g', 'n', and 'w' distributions take 2 params\n",
      "2021-04-03 20:46:42.922 | DEBUG    | shadie.elements:__init__:78 - <MutationType: m2, 0.5,f, (0.0,)>\n",
      "2021-04-03 20:46:42.923 | DEBUG    | shadie.elements:__init__:78 - <MutationType: m3, 0.1,g, (-0.03, 0.2)>\n",
      "2021-04-03 20:46:42.923 | DEBUG    | shadie.elements:__init__:78 - <MutationType: m4, 0.8,e, (0.1,)>\n",
      "2021-04-03 20:46:42.924 | DEBUG    | shadie.elements:__init__:78 - <MutationType: m2, 0.5,f, (0.0,)>\n",
      "2021-04-03 20:46:42.924 | DEBUG    | shadie.elements:__init__:78 - <MutationType: m3, 0.1,g, (-0.03, 0.2)>\n",
      "2021-04-03 20:46:42.925 | DEBUG    | shadie.elements:__init__:59 - frequencies: [1]\n",
      "2021-04-03 20:46:42.925 | DEBUG    | shadie.elements:__init__:68 - mutation types: [<MutationType: m1, 0.5,f, (0.0,)>]\n",
      "2021-04-03 20:46:42.925 | DEBUG    | shadie.elements:__init__:78 - <MutationType: m1, 0.5,f, (0.0,)>\n",
      "2021-04-03 20:46:42.926 | DEBUG    | shadie.elements:__init__:78 - <MutationType: m2, 0.5,f, (0.0,)>\n",
      "2021-04-03 20:46:42.926 | DEBUG    | shadie.elements:__init__:78 - <MutationType: m3, 0.1,g, (-0.03, 0.2)>\n",
      "2021-04-03 20:46:42.927 | DEBUG    | shadie.elements:__init__:78 - <MutationType: m4, 0.8,e, (0.1,)>\n"
     ]
    }
   ],
   "source": [
    "from shadie import Demography\n",
    "import toytree\n",
    "import numpy as np"
   ]
  },
  {
   "cell_type": "code",
   "execution_count": 2,
   "metadata": {},
   "outputs": [
    {
     "data": {
      "text/html": [
       "<div class=\"toyplot\" id=\"t7716f2682c4144dea4bd37425382ec47\" style=\"text-align:center\"><svg class=\"toyplot-canvas-Canvas\" xmlns:toyplot=\"http://www.sandia.gov/toyplot\" xmlns:xlink=\"http://www.w3.org/1999/xlink\" xmlns=\"http://www.w3.org/2000/svg\" width=\"260.0px\" height=\"275.0px\" viewBox=\"0 0 260.0 275.0\" preserveAspectRatio=\"xMidYMid meet\" style=\"background-color:transparent;border-color:#292724;border-style:none;border-width:1.0;fill:rgb(16.1%,15.3%,14.1%);fill-opacity:1.0;font-family:Helvetica;font-size:12px;opacity:1.0;stroke:rgb(16.1%,15.3%,14.1%);stroke-opacity:1.0;stroke-width:1.0\" id=\"t5b45dc3a917d45e48d4f6b3ab3bcfdf3\"><g class=\"toyplot-coordinates-Cartesian\" id=\"t7325cdbd10bd4ad781795e1728b705b4\"><clipPath id=\"t3553f8d08f3144b3bed12ef070e534d1\"><rect x=\"30.0\" y=\"30.0\" width=\"200.0\" height=\"215.0\"></rect></clipPath><g clip-path=\"url(#t3553f8d08f3144b3bed12ef070e534d1)\"><g class=\"toytree-mark-Toytree\" id=\"t4570fcc05eec412b8296005a7ab51394\"><g class=\"toytree-Edges\" style=\"fill:none;stroke:rgb(14.9%,14.9%,14.9%);stroke-linecap:round;stroke-opacity:1;stroke-width:2\"><path d=\"M 51.8 116.8 L 51.8 75.9 L 80.1 75.9\" id=\"18,17\"></path><path d=\"M 51.8 116.8 L 51.8 157.7 L 80.1 157.7\" id=\"18,16\"></path><path d=\"M 80.1 75.9 L 80.1 90.8 L 108.4 90.8\" id=\"17,15\"></path><path d=\"M 80.1 157.7 L 80.1 137.5 L 108.4 137.5\" id=\"16,14\"></path><path d=\"M 80.1 157.7 L 80.1 177.9 L 108.4 177.9\" id=\"16,13\"></path><path d=\"M 108.4 90.8 L 108.4 103.5 L 136.8 103.5\" id=\"15,12\"></path><path d=\"M 108.4 177.9 L 108.4 192.7 L 136.8 192.7\" id=\"13,11\"></path><path d=\"M 136.8 192.7 L 136.8 205.5 L 165.1 205.5\" id=\"11,10\"></path><path d=\"M 80.1 75.9 L 80.1 61.0 L 193.5 61.0\" id=\"17,9\"></path><path d=\"M 108.4 90.8 L 108.4 78.0 L 193.5 78.0\" id=\"15,8\"></path><path d=\"M 136.8 103.5 L 136.8 95.0 L 193.5 95.0\" id=\"12,7\"></path><path d=\"M 136.8 103.5 L 136.8 112.0 L 193.5 112.0\" id=\"12,6\"></path><path d=\"M 108.4 137.5 L 108.4 129.0 L 193.5 129.0\" id=\"14,5\"></path><path d=\"M 108.4 137.5 L 108.4 146.0 L 193.5 146.0\" id=\"14,4\"></path><path d=\"M 108.4 177.9 L 108.4 163.0 L 193.5 163.0\" id=\"13,3\"></path><path d=\"M 136.8 192.7 L 136.8 180.0 L 193.5 180.0\" id=\"11,2\"></path><path d=\"M 165.1 205.5 L 165.1 197.0 L 193.5 197.0\" id=\"10,1\"></path><path d=\"M 165.1 205.5 L 165.1 214.0 L 193.5 214.0\" id=\"10,0\"></path></g><g class=\"toytree-TipLabels\" style=\"fill:rgb(14.9%,14.9%,14.9%);fill-opacity:1.0;font-family:helvetica;font-size:11px;font-weight:normal;stroke:none;white-space:pre\"><g transform=\"translate(193.47,213.99)rotate(0)\"><text x=\"15.00\" y=\"2.81\" style=\"\">r0</text></g><g transform=\"translate(193.47,196.99)rotate(0)\"><text x=\"15.00\" y=\"2.81\" style=\"\">r1</text></g><g transform=\"translate(193.47,179.99)rotate(0)\"><text x=\"15.00\" y=\"2.81\" style=\"\">r2</text></g><g transform=\"translate(193.47,163.00)rotate(0)\"><text x=\"15.00\" y=\"2.81\" style=\"\">r3</text></g><g transform=\"translate(193.47,146.00)rotate(0)\"><text x=\"15.00\" y=\"2.81\" style=\"\">r4</text></g><g transform=\"translate(193.47,129.00)rotate(0)\"><text x=\"15.00\" y=\"2.81\" style=\"\">r5</text></g><g transform=\"translate(193.47,112.00)rotate(0)\"><text x=\"15.00\" y=\"2.81\" style=\"\">r6</text></g><g transform=\"translate(193.47,95.01)rotate(0)\"><text x=\"15.00\" y=\"2.81\" style=\"\">r7</text></g><g transform=\"translate(193.47,78.01)rotate(0)\"><text x=\"15.00\" y=\"2.81\" style=\"\">r8</text></g><g transform=\"translate(193.47,61.01)rotate(0)\"><text x=\"15.00\" y=\"2.81\" style=\"\">r9</text></g></g></g></g></g></svg><div class=\"toyplot-behavior\"><script>(function()\n",
       "{\n",
       "var modules={};\n",
       "})();</script></div></div>"
      ]
     },
     "metadata": {},
     "output_type": "display_data"
    }
   ],
   "source": [
    "tree = toytree.rtree.unittree(ntips=10, treeheight=1e6, seed=123)\n",
    "\n",
    "# set Ne values on the nodes of hte tree\n",
    "tree = tree.set_node_values(\n",
    "    feature=\"Ne\", \n",
    "    values={i: np.random.randint(10000, 100000) for i in tree.idx_dict},\n",
    ")\n",
    "tree.draw();"
   ]
  },
  {
   "cell_type": "code",
   "execution_count": 16,
   "metadata": {},
   "outputs": [
    {
     "data": {
      "text/plain": [
       "'p1000'"
      ]
     },
     "execution_count": 16,
     "metadata": {},
     "output_type": "execute_result"
    }
   ],
   "source": [
    "test = Demography(tree)\n",
    "test.get_demog()\n",
    "test.rpdndict['p0']"
   ]
  },
  {
   "cell_type": "code",
   "execution_count": 17,
   "metadata": {},
   "outputs": [],
   "source": [
    "dem = Demography(tree)\n",
    "Demography.get_demog(dem)"
   ]
  },
  {
   "cell_type": "code",
   "execution_count": null,
   "metadata": {},
   "outputs": [],
   "source": []
  }
 ],
 "metadata": {
  "kernelspec": {
   "display_name": "Python 3",
   "language": "python",
   "name": "python3"
  },
  "language_info": {
   "codemirror_mode": {
    "name": "ipython",
    "version": 3
   },
   "file_extension": ".py",
   "mimetype": "text/x-python",
   "name": "python",
   "nbconvert_exporter": "python",
   "pygments_lexer": "ipython3",
   "version": "3.8.6"
  }
 },
 "nbformat": 4,
 "nbformat_minor": 4
}
