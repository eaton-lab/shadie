{
 "cells": [
  {
   "cell_type": "code",
   "execution_count": null,
   "id": "apparent-cherry",
   "metadata": {},
   "outputs": [],
   "source": [
    "myprogram --option --option --option "
   ]
  },
  {
   "cell_type": "code",
   "execution_count": null,
   "id": "english-uganda",
   "metadata": {},
   "outputs": [],
   "source": [
    "\n",
    "\n",
    "initializeMutationType(1, 0.5, \"f\", 0);\n",
    "initializeMutationType(2, 0.5, \"f\", 0);\n",
    "initializeMutationType(3, 0.1, \"g\", -0.03, 0.2);\n",
    "initializeMutationType(4, 0.8, \"e\", 0.1);\n",
    "\n",
    "initializeGenomicElementType(1, c(m2, m3, m4), c(2, 8, 0.1));\n",
    "initializeGenomicElementType(2, c(m1, m3), c(9, 1));\n",
    "initializeGenomicElementType(3, m1, 1);\n",
    "\n",
    "initializeGenomicElement(g3, 0, 4684);\n",
    "initializeGenomicElement(g1, 4685, 4708);\n",
    "initializeGenomicElement(g2, 4709, 4830);\n",
    "initializeGenomicElement(g1, 4831, 4958);\n",
    "initializeGenomicElement(g3, 4959, 9094);\n",
    "initializeGenomicElement(g1, 9095, 9208);\n",
    "initializeGenomicElement(g2, 9209, 9267);\n",
    "initializeGenomicElement(g1, 9268, 9331);\n",
    "initializeGenomicElement(g3, 9332, 12775);\n",
    "\n"
   ]
  },
  {
   "cell_type": "code",
   "execution_count": 62,
   "id": "round-crime",
   "metadata": {},
   "outputs": [],
   "source": [
    "from typing import List, Union"
   ]
  },
  {
   "cell_type": "code",
   "execution_count": 78,
   "id": "floating-blade",
   "metadata": {},
   "outputs": [],
   "source": [
    "class MutationType:\n",
    "    idx = 0\n",
    "\n",
    "    def __init__(self, dominance):\n",
    "        \n",
    "        # advance global class counter\n",
    "        MutationType.idx += 1\n",
    "        \n",
    "        # store user inputs\n",
    "        self.idx = MutationType.idx\n",
    "        self.dominance = dominance            \n",
    "        \n",
    "    def __repr__(self):\n",
    "        return f\"<MutationType idx={self.idx}>\"\n",
    "        \n",
    "    "
   ]
  },
  {
   "cell_type": "code",
   "execution_count": 80,
   "id": "negative-porter",
   "metadata": {},
   "outputs": [
    {
     "data": {
      "text/plain": [
       "<MutationType idx=2>"
      ]
     },
     "execution_count": 80,
     "metadata": {},
     "output_type": "execute_result"
    }
   ],
   "source": [
    "m0 = MutationType(0.5)\n",
    "m0"
   ]
  },
  {
   "cell_type": "code",
   "execution_count": 83,
   "id": "satellite-designation",
   "metadata": {},
   "outputs": [],
   "source": [
    "class MutationTypeExponential(MutationType):\n",
    "    def __init__(self, dominance, lamb):\n",
    "        self.lamb = lamb\n",
    "        super().__init__(dominance)\n",
    "        \n",
    "    def __repr__(self):\n",
    "        return f\"<MutationTypeExponential idx={self.idx} lambda={self.lamb}>\""
   ]
  },
  {
   "cell_type": "code",
   "execution_count": 84,
   "id": "frozen-remove",
   "metadata": {},
   "outputs": [
    {
     "data": {
      "text/plain": [
       "<MutationTypeExponential idx=4 lambda=1.0>"
      ]
     },
     "execution_count": 84,
     "metadata": {},
     "output_type": "execute_result"
    }
   ],
   "source": [
    "MutationTypeExponential(0.5, 1.0)"
   ]
  },
  {
   "cell_type": "code",
   "execution_count": 87,
   "id": "spare-person",
   "metadata": {},
   "outputs": [],
   "source": [
    "from datetime import datetime\n",
    "from typing import List, Optional\n",
    "from pydantic import BaseModel\n",
    "\n",
    "from pydantic import BaseModel\n",
    "\n",
    "class User(BaseModel):\n",
    "    id: int\n",
    "    name = 'Jane Doe'\n"
   ]
  },
  {
   "cell_type": "code",
   "execution_count": 90,
   "id": "mental-order",
   "metadata": {},
   "outputs": [
    {
     "data": {
      "text/plain": [
       "User(id=1, name='Jane Doe')"
      ]
     },
     "execution_count": 90,
     "metadata": {},
     "output_type": "execute_result"
    }
   ],
   "source": [
    "User(id=1)"
   ]
  },
  {
   "cell_type": "code",
   "execution_count": null,
   "id": "australian-contest",
   "metadata": {},
   "outputs": [],
   "source": []
  },
  {
   "cell_type": "code",
   "execution_count": null,
   "id": "checked-import",
   "metadata": {},
   "outputs": [],
   "source": []
  }
 ],
 "metadata": {
  "kernelspec": {
   "display_name": "Python 3",
   "language": "python",
   "name": "python3"
  },
  "language_info": {
   "codemirror_mode": {
    "name": "ipython",
    "version": 3
   },
   "file_extension": ".py",
   "mimetype": "text/x-python",
   "name": "python",
   "nbconvert_exporter": "python",
   "pygments_lexer": "ipython3",
   "version": "3.8.6"
  }
 },
 "nbformat": 4,
 "nbformat_minor": 5
}
