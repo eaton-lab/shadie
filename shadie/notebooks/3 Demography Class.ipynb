{
 "cells": [
  {
   "cell_type": "markdown",
   "metadata": {},
   "source": [
    "# `Demography` Class"
   ]
  },
  {
   "cell_type": "code",
   "execution_count": 1,
   "metadata": {},
   "outputs": [
    {
     "name": "stderr",
     "output_type": "stream",
     "text": [
      "2021-03-31 13:41:46.477 | WARNING  | shadie.mutations:__init__:82 - 'g', 'n', and 'w' distributions take 2 params\n",
      "2021-03-31 13:41:46.478 | WARNING  | shadie.mutations:__init__:82 - 'g', 'n', and 'w' distributions take 2 params\n",
      "2021-03-31 13:41:46.478 | WARNING  | shadie.mutations:__init__:74 - 'e' and 'f' distributions take 1 param\n",
      "2021-03-31 13:41:46.479 | WARNING  | shadie.mutations:__init__:82 - 'g', 'n', and 'w' distributions take 2 params\n",
      "2021-03-31 13:41:46.479 | DEBUG    | shadie.elements:__init__:76 - <MutationType: m2, 0.5, f, (0.0,)>\n",
      "2021-03-31 13:41:46.480 | DEBUG    | shadie.elements:__init__:76 - <MutationType: m3, 0.1, g, (-0.03, 0.2)>\n",
      "2021-03-31 13:41:46.480 | DEBUG    | shadie.elements:__init__:76 - <MutationType: m4, 0.8, e, (0.1,)>\n",
      "2021-03-31 13:41:46.481 | DEBUG    | shadie.elements:__init__:76 - <MutationType: m2, 0.5, f, (0.0,)>\n",
      "2021-03-31 13:41:46.481 | DEBUG    | shadie.elements:__init__:76 - <MutationType: m3, 0.1, g, (-0.03, 0.2)>\n",
      "2021-03-31 13:41:46.482 | DEBUG    | shadie.elements:__init__:57 - frequencies: [1]\n",
      "2021-03-31 13:41:46.482 | DEBUG    | shadie.elements:__init__:66 - mutation types: [<MutationType: m1, 0.5, f, (0.0,)>]\n",
      "2021-03-31 13:41:46.482 | DEBUG    | shadie.elements:__init__:76 - <MutationType: m1, 0.5, f, (0.0,)>\n",
      "2021-03-31 13:41:46.483 | DEBUG    | shadie.elements:__init__:76 - <MutationType: m2, 0.5, f, (0.0,)>\n",
      "2021-03-31 13:41:46.483 | DEBUG    | shadie.elements:__init__:76 - <MutationType: m3, 0.1, g, (-0.03, 0.2)>\n",
      "2021-03-31 13:41:46.484 | DEBUG    | shadie.elements:__init__:76 - <MutationType: m4, 0.8, e, (0.1,)>\n"
     ]
    }
   ],
   "source": [
    "from shadie import Demography\n",
    "import toytree\n",
    "import numpy as np"
   ]
  },
  {
   "cell_type": "code",
   "execution_count": 2,
   "metadata": {},
   "outputs": [],
   "source": [
    "tree = toytree.rtree.unittree(ntips=10, treeheight=1e6, seed=123)\n",
    "\n",
    "# set Ne values on the nodes of hte tree\n",
    "tree = tree.set_node_values(\n",
    "    feature=\"Ne\", \n",
    "    values={i: np.random.randint(10000, 100000) for i in tree.idx_dict},\n",
    ")"
   ]
  },
  {
   "cell_type": "code",
   "execution_count": 3,
   "metadata": {},
   "outputs": [
    {
     "name": "stderr",
     "output_type": "stream",
     "text": [
      "2021-03-31 13:41:47.854 | DEBUG    | shadie.demography:get_demog:68 -        gen  src child0 child1     Ne\n",
      "0        1  p18    p17    p16  10000\n",
      "1   200001  p17     p9    p15  10000\n",
      "3   400001  p15     p8    p12  10000\n",
      "5   600001  p12     p7     p6  10000\n",
      "8   200001  p16    p14    p13  10000\n",
      "9   400001  p14     p5     p4  10000\n",
      "12  400001  p13     p3    p11  10000\n",
      "14  600001  p11     p2    p10  10000\n",
      "16  800001  p10     p1     p0  10000\n"
     ]
    }
   ],
   "source": [
    "dem = Demography(tree, Ne=10000)\n",
    "Demography.get_demog(dem)"
   ]
  },
  {
   "cell_type": "code",
   "execution_count": null,
   "metadata": {},
   "outputs": [],
   "source": []
  }
 ],
 "metadata": {
  "kernelspec": {
   "display_name": "Python 3",
   "language": "python",
   "name": "python3"
  },
  "language_info": {
   "codemirror_mode": {
    "name": "ipython",
    "version": 3
   },
   "file_extension": ".py",
   "mimetype": "text/x-python",
   "name": "python",
   "nbconvert_exporter": "python",
   "pygments_lexer": "ipython3",
   "version": "3.8.6"
  }
 },
 "nbformat": 4,
 "nbformat_minor": 4
}
