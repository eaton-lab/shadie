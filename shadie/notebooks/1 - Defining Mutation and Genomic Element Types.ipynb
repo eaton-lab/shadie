{
 "cells": [
  {
   "cell_type": "markdown",
   "metadata": {},
   "source": [
    "# Mutation Types and Genomic Element Types in `shadie`"
   ]
  },
  {
   "cell_type": "markdown",
   "metadata": {},
   "source": [
    "## Mutation Types\n",
    "Mutation types must be defined first in `shadie` using the `MutationType` class. `MutationType` requires a minimum of 3 arguments:\n",
    "* dominance (float): dominance coefficient of the mutation for diploid\n",
    "* distribution (str): distribution that the fitness effect will be selected from **to add: how to access a list and explanation of distributions**\n",
    "* params (float): additional arguments that define the distribution - number of arguments will vary based on the distribution \n",
    "\n",
    "`shadie` defaults:\n",
    "```python\n",
    "NEUT = MutationType(0.5, \"f\", 0.0)\t\t#neutral mutation\n",
    "SYN = MutationType(0.5, \"f\", 0.0)         #synonymous\n",
    "DEL = MutationType(0.1, \"g\", -0.03, 0.2)  #deleterious\n",
    "BEN = MutationType(0.8, \"e\", 0.1)         #beneficial\n",
    "```"
   ]
  },
  {
   "cell_type": "code",
   "execution_count": 2,
   "metadata": {},
   "outputs": [],
   "source": [
    "from shadie import MutationType"
   ]
  },
  {
   "cell_type": "code",
   "execution_count": 3,
   "metadata": {},
   "outputs": [
    {
     "name": "stdout",
     "output_type": "stream",
     "text": [
      "01:42 | WARNING | \u001b[1m\u001b[31m__init__       \u001b[0m\u001b[1m\u001b[0m | \u001b[33m\u001b[1m'g', 'n', and 'w' distributions take 2 params\u001b[0m\n",
      "01:42 | WARNING | \u001b[1m\u001b[31m__init__       \u001b[0m\u001b[1m\u001b[0m | \u001b[33m\u001b[1m'e' and 'f' distributions take 1 param\u001b[0m\n",
      "01:42 | WARNING | \u001b[1m\u001b[31m__init__       \u001b[0m\u001b[1m\u001b[0m | \u001b[33m\u001b[1m'e' and 'f' distributions take 1 param\u001b[0m\n",
      "01:42 | WARNING | \u001b[1m\u001b[31m__init__       \u001b[0m\u001b[1m\u001b[0m | \u001b[33m\u001b[1m'e' and 'f' distributions take 1 param\u001b[0m\n"
     ]
    }
   ],
   "source": [
    "#\"f\" is fixed fitness effect (no distribution), so takes a single argument\n",
    "mut1 = MutationType(0.5, \"f\", 0.1)\n",
    "\n",
    "#\"g\" is a gamma distribution and takes 2 arguments: alpha, beta\n",
    "mut2 = MutationType(0.1, \"g\", -0.03, 0.2)\n",
    "mut3 = MutationType(0.5, \"n\", 0.05, 0.1)\n",
    "mut4 = MutationType(0.5, \"w\", 5.5, 2.4)"
   ]
  },
  {
   "cell_type": "markdown",
   "metadata": {},
   "source": [
    "You must assign each created mutation type to an object in order to save them to a `MutationList`, which is needed for your simulation. The object name you assign will be saved as a \"name\" ___ in the `MutationList` and you will be able to refer to each mutation by this name *or* the `shadie`-assigned `idx` when creating your genomic element types. \n",
    "\n",
    "The repr lists the mutation settings:"
   ]
  },
  {
   "cell_type": "code",
   "execution_count": 4,
   "metadata": {},
   "outputs": [
    {
     "data": {
      "text/plain": [
       "<MutationType: m8, 0.5,w, (5.5, 2.4)>"
      ]
     },
     "execution_count": 4,
     "metadata": {},
     "output_type": "execute_result"
    }
   ],
   "source": [
    "mut4"
   ]
  },
  {
   "cell_type": "markdown",
   "metadata": {},
   "source": [
    "Notice that your mutation type now has an `idx` (in the format m#). This is a unique id that `shadie` uses to keep track of mutations. It may not start at `m1`, as some default mutation types have already been defined by `shadie`. \n",
    "\n",
    "If you'd like more information about your mutation, you can use the `inspect()` function to visualize your mutation distribution and see the parameters listed explicitly:"
   ]
  },
  {
   "cell_type": "code",
   "execution_count": 5,
   "metadata": {},
   "outputs": [
    {
     "name": "stdout",
     "output_type": "stream",
     "text": [
      "\u001b[1mMutation Type\u001b[0m\n",
      "idx: m6\n",
      "dominance coefficient: 0.1\n",
      "distribution: g\n",
      "distribution parameters: (-0.03, 0.2)\n",
      "Distribution plot:\n"
     ]
    },
    {
     "data": {
      "text/html": [
       "\n",
       "<div id=\"altair-viz-960bc0cf5efc45f1ac27d90986ef984c\"></div>\n",
       "<script type=\"text/javascript\">\n",
       "  (function(spec, embedOpt){\n",
       "    let outputDiv = document.currentScript.previousElementSibling;\n",
       "    if (outputDiv.id !== \"altair-viz-960bc0cf5efc45f1ac27d90986ef984c\") {\n",
       "      outputDiv = document.getElementById(\"altair-viz-960bc0cf5efc45f1ac27d90986ef984c\");\n",
       "    }\n",
       "    const paths = {\n",
       "      \"vega\": \"https://cdn.jsdelivr.net/npm//vega@5?noext\",\n",
       "      \"vega-lib\": \"https://cdn.jsdelivr.net/npm//vega-lib?noext\",\n",
       "      \"vega-lite\": \"https://cdn.jsdelivr.net/npm//vega-lite@4.8.1?noext\",\n",
       "      \"vega-embed\": \"https://cdn.jsdelivr.net/npm//vega-embed@6?noext\",\n",
       "    };\n",
       "\n",
       "    function loadScript(lib) {\n",
       "      return new Promise(function(resolve, reject) {\n",
       "        var s = document.createElement('script');\n",
       "        s.src = paths[lib];\n",
       "        s.async = true;\n",
       "        s.onload = () => resolve(paths[lib]);\n",
       "        s.onerror = () => reject(`Error loading script: ${paths[lib]}`);\n",
       "        document.getElementsByTagName(\"head\")[0].appendChild(s);\n",
       "      });\n",
       "    }\n",
       "\n",
       "    function showError(err) {\n",
       "      outputDiv.innerHTML = `<div class=\"error\" style=\"color:red;\">${err}</div>`;\n",
       "      throw err;\n",
       "    }\n",
       "\n",
       "    function displayChart(vegaEmbed) {\n",
       "      vegaEmbed(outputDiv, spec, embedOpt)\n",
       "        .catch(err => showError(`Javascript Error: ${err.message}<br>This usually means there's a typo in your chart specification. See the javascript console for the full traceback.`));\n",
       "    }\n",
       "\n",
       "    if(typeof define === \"function\" && define.amd) {\n",
       "      requirejs.config({paths});\n",
       "      require([\"vega-embed\"], displayChart, err => showError(`Error loading script: ${err.message}`));\n",
       "    } else if (typeof vegaEmbed === \"function\") {\n",
       "      displayChart(vegaEmbed);\n",
       "    } else {\n",
       "      loadScript(\"vega\")\n",
       "        .then(() => loadScript(\"vega-lite\"))\n",
       "        .then(() => loadScript(\"vega-embed\"))\n",
       "        .catch(showError)\n",
       "        .then(() => displayChart(vegaEmbed));\n",
       "    }\n",
       "  })({\"config\": {\"view\": {\"continuousWidth\": 400, \"continuousHeight\": 300}}, \"layer\": [{\"mark\": {\"type\": \"bar\", \"color\": \"cornflowerblue\", \"opacity\": 0.4}, \"encoding\": {\"x\": {\"type\": \"quantitative\", \"axis\": {\"title\": \"Fitness Effect\"}, \"field\": \"values\"}, \"y\": {\"type\": \"quantitative\", \"field\": \"counts\"}}}, {\"mark\": {\"type\": \"rule\", \"color\": \"mediumvioletred\"}, \"encoding\": {\"size\": {\"value\": 3}, \"tooltip\": [{\"type\": \"quantitative\", \"field\": \"mean\"}], \"x\": {\"type\": \"quantitative\", \"field\": \"mean\"}}}], \"data\": {\"name\": \"data-692d77bfac60fe27130d8bb9f4f5e44c\"}, \"$schema\": \"https://vega.github.io/schema/vega-lite/v4.8.1.json\", \"datasets\": {\"data-692d77bfac60fe27130d8bb9f4f5e44c\": [{\"values\": -1.2879971652876747, \"counts\": 1, \"mean\": -0.03}, {\"values\": -1.264579035009717, \"counts\": 0, \"mean\": -0.03}, {\"values\": -1.2411609047317593, \"counts\": 0, \"mean\": -0.03}, {\"values\": -1.2177427744538016, \"counts\": 0, \"mean\": -0.03}, {\"values\": -1.1943246441758437, \"counts\": 0, \"mean\": -0.03}, {\"values\": -1.170906513897886, \"counts\": 0, \"mean\": -0.03}, {\"values\": -1.1474883836199283, \"counts\": 0, \"mean\": -0.03}, {\"values\": -1.1240702533419706, \"counts\": 0, \"mean\": -0.03}, {\"values\": -1.100652123064013, \"counts\": 0, \"mean\": -0.03}, {\"values\": -1.0772339927860552, \"counts\": 0, \"mean\": -0.03}, {\"values\": -1.0538158625080976, \"counts\": 0, \"mean\": -0.03}, {\"values\": -1.0303977322301399, \"counts\": 0, \"mean\": -0.03}, {\"values\": -1.0069796019521822, \"counts\": 0, \"mean\": -0.03}, {\"values\": -0.9835614716742244, \"counts\": 0, \"mean\": -0.03}, {\"values\": -0.9601433413962666, \"counts\": 0, \"mean\": -0.03}, {\"values\": -0.9367252111183089, \"counts\": 0, \"mean\": -0.03}, {\"values\": -0.9133070808403512, \"counts\": 1, \"mean\": -0.03}, {\"values\": -0.8898889505623935, \"counts\": 0, \"mean\": -0.03}, {\"values\": -0.8664708202844358, \"counts\": 0, \"mean\": -0.03}, {\"values\": -0.843052690006478, \"counts\": 0, \"mean\": -0.03}, {\"values\": -0.8196345597285203, \"counts\": 0, \"mean\": -0.03}, {\"values\": -0.7962164294505626, \"counts\": 0, \"mean\": -0.03}, {\"values\": -0.7727982991726048, \"counts\": 0, \"mean\": -0.03}, {\"values\": -0.7493801688946471, \"counts\": 0, \"mean\": -0.03}, {\"values\": -0.7259620386166894, \"counts\": 1, \"mean\": -0.03}, {\"values\": -0.7025439083387317, \"counts\": 2, \"mean\": -0.03}, {\"values\": -0.679125778060774, \"counts\": 0, \"mean\": -0.03}, {\"values\": -0.6557076477828162, \"counts\": 0, \"mean\": -0.03}, {\"values\": -0.6322895175048585, \"counts\": 1, \"mean\": -0.03}, {\"values\": -0.6088713872269008, \"counts\": 1, \"mean\": -0.03}, {\"values\": -0.585453256948943, \"counts\": 2, \"mean\": -0.03}, {\"values\": -0.5620351266709853, \"counts\": 0, \"mean\": -0.03}, {\"values\": -0.5386169963930276, \"counts\": 3, \"mean\": -0.03}, {\"values\": -0.5151988661150699, \"counts\": 3, \"mean\": -0.03}, {\"values\": -0.49178073583711224, \"counts\": 6, \"mean\": -0.03}, {\"values\": -0.46836260555915443, \"counts\": 5, \"mean\": -0.03}, {\"values\": -0.44494447528119674, \"counts\": 15, \"mean\": -0.03}, {\"values\": -0.42152634500323904, \"counts\": 8, \"mean\": -0.03}, {\"values\": -0.39810821472528124, \"counts\": 12, \"mean\": -0.03}, {\"values\": -0.37469008444732355, \"counts\": 17, \"mean\": -0.03}, {\"values\": -0.35127195416936585, \"counts\": 14, \"mean\": -0.03}, {\"values\": -0.32785382389140816, \"counts\": 17, \"mean\": -0.03}, {\"values\": -0.30443569361345046, \"counts\": 32, \"mean\": -0.03}, {\"values\": -0.28101756333549277, \"counts\": 35, \"mean\": -0.03}, {\"values\": -0.25759943305753485, \"counts\": 54, \"mean\": -0.03}, {\"values\": -0.23418130277957716, \"counts\": 63, \"mean\": -0.03}, {\"values\": -0.21076317250161947, \"counts\": 82, \"mean\": -0.03}, {\"values\": -0.18734504222366177, \"counts\": 93, \"mean\": -0.03}, {\"values\": -0.16392691194570408, \"counts\": 129, \"mean\": -0.03}, {\"values\": -0.14050878166774639, \"counts\": 147, \"mean\": -0.03}, {\"values\": -0.11709065138978869, \"counts\": 215, \"mean\": -0.03}, {\"values\": -0.093672521111831, \"counts\": 334, \"mean\": -0.03}, {\"values\": -0.0702543908338733, \"counts\": 499, \"mean\": -0.03}, {\"values\": -0.04683626055591539, \"counts\": 809, \"mean\": -0.03}, {\"values\": -0.023418130277957694, \"counts\": 7399, \"mean\": -0.03}]}}, {\"mode\": \"vega-lite\"});\n",
       "</script>"
      ]
     },
     "metadata": {},
     "output_type": "display_data"
    },
    {
     "name": "stdout",
     "output_type": "stream",
     "text": [
      "mean: -0.03\n",
      "standard deviation: 0.0670820393249937\n",
      "\n",
      "\n",
      "\n"
     ]
    }
   ],
   "source": [
    "mut2.inspect()"
   ]
  },
  {
   "cell_type": "markdown",
   "metadata": {},
   "source": [
    "## Save your custom mutations to a list\n",
    "Create a `MutationList` class object that contains all the mutations you would like to use in your simulation. You will need to call this list when you initiate the script. If you are using custom mutations in adding to defaults, you will have to include those defaults in your new list."
   ]
  },
  {
   "cell_type": "code",
   "execution_count": 9,
   "metadata": {},
   "outputs": [],
   "source": [
    "from shadie import MutationList"
   ]
  },
  {
   "cell_type": "code",
   "execution_count": 10,
   "metadata": {},
   "outputs": [
    {
     "data": {
      "text/plain": [
       "<MutationList: ['m5', 'm6', 'm7', 'm8']>"
      ]
     },
     "execution_count": 10,
     "metadata": {},
     "output_type": "execute_result"
    }
   ],
   "source": [
    "#list containing custom mutations\n",
    "mylist = MutationList(mut1,  mut2, mut3, mut4)\n",
    "mylist"
   ]
  },
  {
   "cell_type": "code",
   "execution_count": 11,
   "metadata": {},
   "outputs": [
    {
     "ename": "NameError",
     "evalue": "name 'BEN' is not defined",
     "output_type": "error",
     "traceback": [
      "\u001b[0;31m---------------------------------------------------------------------------\u001b[0m",
      "\u001b[0;31mNameError\u001b[0m                                 Traceback (most recent call last)",
      "\u001b[0;32m<ipython-input-11-5ffd43693e4e>\u001b[0m in \u001b[0;36m<module>\u001b[0;34m\u001b[0m\n\u001b[0;32m----> 1\u001b[0;31m \u001b[0mmymixedlist\u001b[0m \u001b[0;34m=\u001b[0m \u001b[0mMutationList\u001b[0m\u001b[0;34m(\u001b[0m\u001b[0mmut1\u001b[0m\u001b[0;34m,\u001b[0m  \u001b[0mmut2\u001b[0m\u001b[0;34m,\u001b[0m \u001b[0mmut3\u001b[0m\u001b[0;34m,\u001b[0m \u001b[0mmut4\u001b[0m\u001b[0;34m,\u001b[0m \u001b[0mBEN\u001b[0m\u001b[0;34m,\u001b[0m \u001b[0mNEUT\u001b[0m\u001b[0;34m,\u001b[0m \u001b[0mDEL\u001b[0m\u001b[0;34m)\u001b[0m\u001b[0;34m\u001b[0m\u001b[0;34m\u001b[0m\u001b[0m\n\u001b[0m",
      "\u001b[0;31mNameError\u001b[0m: name 'BEN' is not defined"
     ]
    }
   ],
   "source": [
    "mymixedlist = MutationList(mut1,  mut2, mut3, mut4, BEN, NEUT, DEL)"
   ]
  },
  {
   "cell_type": "markdown",
   "metadata": {},
   "source": [
    "## Genomic Element Types\n",
    "Each genomic element type describes a region of chromosome. It is helpful to think of these regions as \"non=coding\", \"exon\", \"intron\", etc. \n",
    "Each type requires 2 lists of equal length:\n",
    "1. A list of mutations that can occur in that kind of region (e.g. only neutral mutations can occur in non-coding regions)\n",
    "2. A list of relative frequencies \n",
    "\n",
    "`shadie` defaults:\n",
    "```python\n",
    "EXON = ElementType([SYN, DEL, BEN], (2,8,0.1))  #exon\n",
    "INTRON = ElementType([SYN,DEL], (9,1))          #intron\n",
    "NONCOD = ElementType(NEUT, 1)              \t #non-coding\n",
    "```"
   ]
  },
  {
   "cell_type": "code",
   "execution_count": null,
   "metadata": {},
   "outputs": [],
   "source": []
  },
  {
   "cell_type": "code",
   "execution_count": null,
   "metadata": {},
   "outputs": [],
   "source": []
  },
  {
   "cell_type": "code",
   "execution_count": null,
   "metadata": {},
   "outputs": [],
   "source": []
  },
  {
   "cell_type": "code",
   "execution_count": null,
   "metadata": {},
   "outputs": [],
   "source": []
  },
  {
   "cell_type": "code",
   "execution_count": null,
   "metadata": {},
   "outputs": [],
   "source": []
  }
 ],
 "metadata": {
  "kernelspec": {
   "display_name": "Python 3",
   "language": "python",
   "name": "python3"
  },
  "language_info": {
   "codemirror_mode": {
    "name": "ipython",
    "version": 3
   },
   "file_extension": ".py",
   "mimetype": "text/x-python",
   "name": "python",
   "nbconvert_exporter": "python",
   "pygments_lexer": "ipython3",
   "version": "3.8.6"
  }
 },
 "nbformat": 4,
 "nbformat_minor": 4
}
