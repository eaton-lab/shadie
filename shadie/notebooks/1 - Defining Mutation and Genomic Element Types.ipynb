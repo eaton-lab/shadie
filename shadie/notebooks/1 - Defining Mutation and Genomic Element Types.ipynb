{
 "cells": [
  {
   "cell_type": "markdown",
   "metadata": {},
   "source": [
    "# Mutation Types and Genomic Element Types in `shadie`"
   ]
  },
  {
   "cell_type": "markdown",
   "metadata": {},
   "source": [
    "## Mutation Types\n",
    "Mutation types must be defined first in `shadie` using the `MutationType` class. `MutationType` requires a minimum of 3 arguments:\n",
    "* dominance (float): dominance coefficient of the mutation for diploid\n",
    "* distribution (str): distribution that the fitness effect will be selected from **to add: how to access a list and explanation of distributions**\n",
    "* params (float): additional arguments that define the distribution - number of arguments will vary based on the distribution \n",
    "\n",
    "`shadie` defaults:\n",
    "```python\n",
    "NEUT = MutationType(0.5, \"f\", 0.0)\t\t#neutral mutation\n",
    "SYN = MutationType(0.5, \"f\", 0.0)         #synonymous\n",
    "DEL = MutationType(0.1, \"g\", -0.03, 0.2)  #deleterious\n",
    "BEN = MutationType(0.8, \"e\", 0.1)         #beneficial\n",
    "```"
   ]
  },
  {
   "cell_type": "code",
   "execution_count": 1,
   "metadata": {},
   "outputs": [
    {
     "name": "stderr",
     "output_type": "stream",
     "text": [
      "2021-04-01 14:16:01.215 | WARNING  | shadie.mutations:__init__:82 - 'g', 'n', and 'w' distributions take 2 params\n",
      "2021-04-01 14:16:01.216 | WARNING  | shadie.mutations:__init__:82 - 'g', 'n', and 'w' distributions take 2 params\n",
      "2021-04-01 14:16:01.217 | WARNING  | shadie.mutations:__init__:74 - 'e' and 'f' distributions take 1 param\n",
      "2021-04-01 14:16:01.217 | WARNING  | shadie.mutations:__init__:82 - 'g', 'n', and 'w' distributions take 2 params\n",
      "2021-04-01 14:16:01.218 | DEBUG    | shadie.elements:__init__:76 - <MutationType: m2, 0.5, f, (0.0,)>\n",
      "2021-04-01 14:16:01.219 | DEBUG    | shadie.elements:__init__:76 - <MutationType: m3, 0.1, g, (-0.03, 0.2)>\n",
      "2021-04-01 14:16:01.219 | DEBUG    | shadie.elements:__init__:76 - <MutationType: m4, 0.8, e, (0.1,)>\n",
      "2021-04-01 14:16:01.220 | DEBUG    | shadie.elements:__init__:76 - <MutationType: m2, 0.5, f, (0.0,)>\n",
      "2021-04-01 14:16:01.221 | DEBUG    | shadie.elements:__init__:76 - <MutationType: m3, 0.1, g, (-0.03, 0.2)>\n",
      "2021-04-01 14:16:01.222 | DEBUG    | shadie.elements:__init__:57 - frequencies: [1]\n",
      "2021-04-01 14:16:01.222 | DEBUG    | shadie.elements:__init__:66 - mutation types: [<MutationType: m1, 0.5, f, (0.0,)>]\n",
      "2021-04-01 14:16:01.223 | DEBUG    | shadie.elements:__init__:76 - <MutationType: m1, 0.5, f, (0.0,)>\n",
      "2021-04-01 14:16:01.224 | DEBUG    | shadie.elements:__init__:76 - <MutationType: m2, 0.5, f, (0.0,)>\n",
      "2021-04-01 14:16:01.225 | DEBUG    | shadie.elements:__init__:76 - <MutationType: m3, 0.1, g, (-0.03, 0.2)>\n",
      "2021-04-01 14:16:01.225 | DEBUG    | shadie.elements:__init__:76 - <MutationType: m4, 0.8, e, (0.1,)>\n"
     ]
    }
   ],
   "source": [
    "from shadie import MutationType"
   ]
  },
  {
   "cell_type": "code",
   "execution_count": 2,
   "metadata": {},
   "outputs": [
    {
     "name": "stderr",
     "output_type": "stream",
     "text": [
      "2021-04-01 14:16:01.864 | WARNING  | shadie.mutations:__init__:82 - 'g', 'n', and 'w' distributions take 2 params\n",
      "2021-04-01 14:16:01.869 | WARNING  | shadie.mutations:__init__:74 - 'e' and 'f' distributions take 1 param\n",
      "2021-04-01 14:16:01.872 | WARNING  | shadie.mutations:__init__:74 - 'e' and 'f' distributions take 1 param\n",
      "2021-04-01 14:16:01.873 | WARNING  | shadie.mutations:__init__:74 - 'e' and 'f' distributions take 1 param\n"
     ]
    }
   ],
   "source": [
    "#\"f\" is fixed fitness effect (no distribution), so takes a single argument\n",
    "mut1 = MutationType(0.5, \"f\", 0.1)\n",
    "\n",
    "#\"g\" is a gamma distribution and takes 2 arguments: alpha, beta\n",
    "mut2 = MutationType(0.1, \"g\", -0.03, 0.2)\n",
    "mut3 = MutationType(0.5, \"n\", 0.05, 0.1)\n",
    "mut4 = MutationType(0.5, \"w\", 5.5, 2.4)"
   ]
  },
  {
   "cell_type": "markdown",
   "metadata": {},
   "source": [
    "You must assign each created mutation type to an object in order to save them to a `MutationList`, which is needed for your simulation. The object name you assign will be saved as a \"name\" ___ in the `MutationList` and you will be able to refer to each mutation by this name *or* the `shadie`-assigned `idx` when creating your genomic element types. \n",
    "\n",
    "The repr lists the mutation settings:"
   ]
  },
  {
   "cell_type": "code",
   "execution_count": 3,
   "metadata": {},
   "outputs": [
    {
     "data": {
      "text/plain": [
       "<MutationType: m8, 0.5, w, (5.5, 2.4)>"
      ]
     },
     "execution_count": 3,
     "metadata": {},
     "output_type": "execute_result"
    }
   ],
   "source": [
    "mut4"
   ]
  },
  {
   "cell_type": "markdown",
   "metadata": {},
   "source": [
    "Notice that your mutation type now has an `idx` (in the format m#). This is a unique id that `shadie` uses to keep track of mutations. It may not start at `m1`, as some default mutation types have already been defined by `shadie`. \n",
    "\n",
    "If you'd like more information about your mutation, you can use the `inspect()` function to visualize your mutation distribution and see the parameters listed explicitly:"
   ]
  },
  {
   "cell_type": "code",
   "execution_count": 7,
   "metadata": {},
   "outputs": [
    {
     "name": "stdout",
     "output_type": "stream",
     "text": [
      "idx: m6\n",
      "dominance coefficient: 0.1\n",
      "distribution: g\n",
      "distribution parameters: (-0.03, 0.2)\n",
      "Distribution plot:\n"
     ]
    },
    {
     "data": {
      "text/html": [
       "\n",
       "<div id=\"altair-viz-36c2acf409cb4e92bb2be34da35db579\"></div>\n",
       "<script type=\"text/javascript\">\n",
       "  (function(spec, embedOpt){\n",
       "    let outputDiv = document.currentScript.previousElementSibling;\n",
       "    if (outputDiv.id !== \"altair-viz-36c2acf409cb4e92bb2be34da35db579\") {\n",
       "      outputDiv = document.getElementById(\"altair-viz-36c2acf409cb4e92bb2be34da35db579\");\n",
       "    }\n",
       "    const paths = {\n",
       "      \"vega\": \"https://cdn.jsdelivr.net/npm//vega@5?noext\",\n",
       "      \"vega-lib\": \"https://cdn.jsdelivr.net/npm//vega-lib?noext\",\n",
       "      \"vega-lite\": \"https://cdn.jsdelivr.net/npm//vega-lite@4.8.1?noext\",\n",
       "      \"vega-embed\": \"https://cdn.jsdelivr.net/npm//vega-embed@6?noext\",\n",
       "    };\n",
       "\n",
       "    function loadScript(lib) {\n",
       "      return new Promise(function(resolve, reject) {\n",
       "        var s = document.createElement('script');\n",
       "        s.src = paths[lib];\n",
       "        s.async = true;\n",
       "        s.onload = () => resolve(paths[lib]);\n",
       "        s.onerror = () => reject(`Error loading script: ${paths[lib]}`);\n",
       "        document.getElementsByTagName(\"head\")[0].appendChild(s);\n",
       "      });\n",
       "    }\n",
       "\n",
       "    function showError(err) {\n",
       "      outputDiv.innerHTML = `<div class=\"error\" style=\"color:red;\">${err}</div>`;\n",
       "      throw err;\n",
       "    }\n",
       "\n",
       "    function displayChart(vegaEmbed) {\n",
       "      vegaEmbed(outputDiv, spec, embedOpt)\n",
       "        .catch(err => showError(`Javascript Error: ${err.message}<br>This usually means there's a typo in your chart specification. See the javascript console for the full traceback.`));\n",
       "    }\n",
       "\n",
       "    if(typeof define === \"function\" && define.amd) {\n",
       "      requirejs.config({paths});\n",
       "      require([\"vega-embed\"], displayChart, err => showError(`Error loading script: ${err.message}`));\n",
       "    } else if (typeof vegaEmbed === \"function\") {\n",
       "      displayChart(vegaEmbed);\n",
       "    } else {\n",
       "      loadScript(\"vega\")\n",
       "        .then(() => loadScript(\"vega-lite\"))\n",
       "        .then(() => loadScript(\"vega-embed\"))\n",
       "        .catch(showError)\n",
       "        .then(() => displayChart(vegaEmbed));\n",
       "    }\n",
       "  })({\"config\": {\"view\": {\"continuousWidth\": 400, \"continuousHeight\": 300}}, \"layer\": [{\"mark\": {\"type\": \"bar\", \"color\": \"cornflowerblue\", \"opacity\": 0.4}, \"encoding\": {\"x\": {\"type\": \"quantitative\", \"axis\": {\"title\": \"Fitness Effect\"}, \"field\": \"values\"}, \"y\": {\"type\": \"quantitative\", \"field\": \"counts\"}}}, {\"mark\": {\"type\": \"rule\", \"color\": \"mediumvioletred\"}, \"encoding\": {\"size\": {\"value\": 3}, \"tooltip\": [{\"type\": \"quantitative\", \"field\": \"mean\"}], \"x\": {\"type\": \"quantitative\", \"field\": \"mean\"}}}], \"data\": {\"name\": \"data-a6346052e2f40e4c1c391f055c79c46e\"}, \"$schema\": \"https://vega.github.io/schema/vega-lite/v4.8.1.json\", \"datasets\": {\"data-a6346052e2f40e4c1c391f055c79c46e\": [{\"values\": -1.1450386354278033, \"counts\": 1, \"mean\": -0.03}, {\"values\": -1.122137862719247, \"counts\": 0, \"mean\": -0.03}, {\"values\": -1.0992370900106911, \"counts\": 0, \"mean\": -0.03}, {\"values\": -1.076336317302135, \"counts\": 0, \"mean\": -0.03}, {\"values\": -1.053435544593579, \"counts\": 0, \"mean\": -0.03}, {\"values\": -1.0305347718850228, \"counts\": 0, \"mean\": -0.03}, {\"values\": -1.007633999176467, \"counts\": 1, \"mean\": -0.03}, {\"values\": -0.9847332264679108, \"counts\": 0, \"mean\": -0.03}, {\"values\": -0.9618324537593548, \"counts\": 0, \"mean\": -0.03}, {\"values\": -0.9389316810507987, \"counts\": 0, \"mean\": -0.03}, {\"values\": -0.9160309083422427, \"counts\": 0, \"mean\": -0.03}, {\"values\": -0.8931301356336865, \"counts\": 0, \"mean\": -0.03}, {\"values\": -0.8702293629251305, \"counts\": 0, \"mean\": -0.03}, {\"values\": -0.8473285902165744, \"counts\": 2, \"mean\": -0.03}, {\"values\": -0.8244278175080184, \"counts\": 0, \"mean\": -0.03}, {\"values\": -0.8015270447994622, \"counts\": 0, \"mean\": -0.03}, {\"values\": -0.7786262720909063, \"counts\": 0, \"mean\": -0.03}, {\"values\": -0.7557254993823501, \"counts\": 1, \"mean\": -0.03}, {\"values\": -0.7328247266737942, \"counts\": 0, \"mean\": -0.03}, {\"values\": -0.709923953965238, \"counts\": 0, \"mean\": -0.03}, {\"values\": -0.687023181256682, \"counts\": 4, \"mean\": -0.03}, {\"values\": -0.6641224085481259, \"counts\": 2, \"mean\": -0.03}, {\"values\": -0.6412216358395698, \"counts\": 1, \"mean\": -0.03}, {\"values\": -0.6183208631310138, \"counts\": 1, \"mean\": -0.03}, {\"values\": -0.5954200904224577, \"counts\": 4, \"mean\": -0.03}, {\"values\": -0.5725193177139016, \"counts\": 3, \"mean\": -0.03}, {\"values\": -0.5496185450053456, \"counts\": 6, \"mean\": -0.03}, {\"values\": -0.5267177722967895, \"counts\": 0, \"mean\": -0.03}, {\"values\": -0.5038169995882334, \"counts\": 4, \"mean\": -0.03}, {\"values\": -0.4809162268796774, \"counts\": 7, \"mean\": -0.03}, {\"values\": -0.45801545417112133, \"counts\": 2, \"mean\": -0.03}, {\"values\": -0.43511468146256527, \"counts\": 8, \"mean\": -0.03}, {\"values\": -0.4122139087540092, \"counts\": 8, \"mean\": -0.03}, {\"values\": -0.38931313604545315, \"counts\": 10, \"mean\": -0.03}, {\"values\": -0.3664123633368971, \"counts\": 17, \"mean\": -0.03}, {\"values\": -0.343511590628341, \"counts\": 20, \"mean\": -0.03}, {\"values\": -0.32061081791978496, \"counts\": 21, \"mean\": -0.03}, {\"values\": -0.2977100452112289, \"counts\": 33, \"mean\": -0.03}, {\"values\": -0.27480927250267284, \"counts\": 34, \"mean\": -0.03}, {\"values\": -0.2519084997941168, \"counts\": 45, \"mean\": -0.03}, {\"values\": -0.22900772708556072, \"counts\": 62, \"mean\": -0.03}, {\"values\": -0.20610695437700466, \"counts\": 75, \"mean\": -0.03}, {\"values\": -0.1832061816684486, \"counts\": 80, \"mean\": -0.03}, {\"values\": -0.16030540895989254, \"counts\": 119, \"mean\": -0.03}, {\"values\": -0.13740463625133637, \"counts\": 158, \"mean\": -0.03}, {\"values\": -0.11450386354278042, \"counts\": 231, \"mean\": -0.03}, {\"values\": -0.09160309083422424, \"counts\": 332, \"mean\": -0.03}, {\"values\": -0.0687023181256683, \"counts\": 519, \"mean\": -0.03}, {\"values\": -0.04580154541711212, \"counts\": 885, \"mean\": -0.03}, {\"values\": -0.022900772708556172, \"counts\": 7304, \"mean\": -0.03}]}}, {\"mode\": \"vega-lite\"});\n",
       "</script>"
      ]
     },
     "metadata": {},
     "output_type": "display_data"
    },
    {
     "name": "stdout",
     "output_type": "stream",
     "text": [
      "mean: alt.Chart(...)\n",
      "standard deviation: 0.0670820393249937\n"
     ]
    }
   ],
   "source": [
    "mut2.inspect()"
   ]
  },
  {
   "cell_type": "markdown",
   "metadata": {},
   "source": [
    "## Save your custom mutations to a list\n",
    "Create a `MutationList` class object that contains all the mutations you would like to use in your simulation. You will need to call this list when you initiate the script. If you are using custom mutations in adding to defaults, you will have to include those defaults in your new list."
   ]
  },
  {
   "cell_type": "code",
   "execution_count": 9,
   "metadata": {},
   "outputs": [],
   "source": [
    "from shadie import MutationList"
   ]
  },
  {
   "cell_type": "code",
   "execution_count": 10,
   "metadata": {},
   "outputs": [
    {
     "data": {
      "text/plain": [
       "<MutationList: ['m5', 'm6', 'm7', 'm8']>"
      ]
     },
     "execution_count": 10,
     "metadata": {},
     "output_type": "execute_result"
    }
   ],
   "source": [
    "#list containing custom mutations\n",
    "mylist = MutationList(mut1,  mut2, mut3, mut4)\n",
    "mylist"
   ]
  },
  {
   "cell_type": "code",
   "execution_count": 11,
   "metadata": {},
   "outputs": [
    {
     "ename": "NameError",
     "evalue": "name 'BEN' is not defined",
     "output_type": "error",
     "traceback": [
      "\u001b[0;31m---------------------------------------------------------------------------\u001b[0m",
      "\u001b[0;31mNameError\u001b[0m                                 Traceback (most recent call last)",
      "\u001b[0;32m<ipython-input-11-5ffd43693e4e>\u001b[0m in \u001b[0;36m<module>\u001b[0;34m\u001b[0m\n\u001b[0;32m----> 1\u001b[0;31m \u001b[0mmymixedlist\u001b[0m \u001b[0;34m=\u001b[0m \u001b[0mMutationList\u001b[0m\u001b[0;34m(\u001b[0m\u001b[0mmut1\u001b[0m\u001b[0;34m,\u001b[0m  \u001b[0mmut2\u001b[0m\u001b[0;34m,\u001b[0m \u001b[0mmut3\u001b[0m\u001b[0;34m,\u001b[0m \u001b[0mmut4\u001b[0m\u001b[0;34m,\u001b[0m \u001b[0mBEN\u001b[0m\u001b[0;34m,\u001b[0m \u001b[0mNEUT\u001b[0m\u001b[0;34m,\u001b[0m \u001b[0mDEL\u001b[0m\u001b[0;34m)\u001b[0m\u001b[0;34m\u001b[0m\u001b[0;34m\u001b[0m\u001b[0m\n\u001b[0m",
      "\u001b[0;31mNameError\u001b[0m: name 'BEN' is not defined"
     ]
    }
   ],
   "source": [
    "mymixedlist = MutationList(mut1,  mut2, mut3, mut4, BEN, NEUT, DEL)"
   ]
  },
  {
   "cell_type": "markdown",
   "metadata": {},
   "source": [
    "## Genomic Element Types\n",
    "Each genomic element type describes a region of chromosome. It is helpful to think of these regions as \"non=coding\", \"exon\", \"intron\", etc. \n",
    "Each type requires 2 lists of equal length:\n",
    "1. A list of mutations that can occur in that kind of region (e.g. only neutral mutations can occur in non-coding regions)\n",
    "2. A list of relative frequencies \n",
    "\n",
    "`shadie` defaults:\n",
    "```python\n",
    "EXON = ElementType([SYN, DEL, BEN], (2,8,0.1))  #exon\n",
    "INTRON = ElementType([SYN,DEL], (9,1))          #intron\n",
    "NONCOD = ElementType(NEUT, 1)              \t #non-coding\n",
    "```"
   ]
  },
  {
   "cell_type": "code",
   "execution_count": null,
   "metadata": {},
   "outputs": [],
   "source": []
  },
  {
   "cell_type": "code",
   "execution_count": null,
   "metadata": {},
   "outputs": [],
   "source": []
  },
  {
   "cell_type": "code",
   "execution_count": null,
   "metadata": {},
   "outputs": [],
   "source": []
  },
  {
   "cell_type": "code",
   "execution_count": null,
   "metadata": {},
   "outputs": [],
   "source": []
  },
  {
   "cell_type": "code",
   "execution_count": null,
   "metadata": {},
   "outputs": [],
   "source": []
  }
 ],
 "metadata": {
  "kernelspec": {
   "display_name": "Python 3",
   "language": "python",
   "name": "python3"
  },
  "language_info": {
   "codemirror_mode": {
    "name": "ipython",
    "version": 3
   },
   "file_extension": ".py",
   "mimetype": "text/x-python",
   "name": "python",
   "nbconvert_exporter": "python",
   "pygments_lexer": "ipython3",
   "version": "3.8.6"
  }
 },
 "nbformat": 4,
 "nbformat_minor": 4
}
