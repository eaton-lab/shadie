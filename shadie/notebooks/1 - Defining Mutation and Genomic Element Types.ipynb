{
 "cells": [
  {
   "cell_type": "markdown",
   "metadata": {},
   "source": [
    "# Mutation Types and Genomic Element Types in `shadie`"
   ]
  },
  {
   "cell_type": "markdown",
   "metadata": {},
   "source": [
    "## Mutation Types\n",
    "Mutation types must be defined first in `shadie` using the `MutationType` class. `MutationType` requires a minimum of 3 arguments:\n",
    "* dominance (float): dominance coefficient of the mutation for diploid\n",
    "* distribution (str): distribution that the fitness effect will be selected from **to add: how to access a list and explanation of distributions**\n",
    "* params (float): additional arguments that define the distribution - number of arguments will vary based on the distribution \n",
    "\n",
    "`shadie` defaults:\n",
    "```python\n",
    "NEUT = MutationType(0.5, \"f\", 0.0)\t\t#neutral mutation\n",
    "SYN = MutationType(0.5, \"f\", 0.0)         #synonymous\n",
    "DEL = MutationType(0.1, \"g\", -0.03, 0.2)  #deleterious\n",
    "BEN = MutationType(0.8, \"e\", 0.1)         #beneficial\n",
    "```"
   ]
  },
  {
   "cell_type": "code",
   "execution_count": 3,
   "metadata": {},
   "outputs": [],
   "source": [
    "from shadie import MutationType"
   ]
  },
  {
   "cell_type": "code",
   "execution_count": 27,
   "metadata": {},
   "outputs": [
    {
     "name": "stdout",
     "output_type": "stream",
     "text": [
      "09:55 | WARNING | \u001b[1m\u001b[31m__init__       \u001b[0m\u001b[1m\u001b[0m | \u001b[33m\u001b[1m'g', 'n', and 'w' distributions take 2 params\u001b[0m\n",
      "09:55 | WARNING | \u001b[1m\u001b[31m__init__       \u001b[0m\u001b[1m\u001b[0m | \u001b[33m\u001b[1m'g', 'n', and 'w' distributions take 2 params\u001b[0m\n",
      "09:55 | WARNING | \u001b[1m\u001b[31m__init__       \u001b[0m\u001b[1m\u001b[0m | \u001b[33m\u001b[1m'e' and 'f' distributions take 1 param\u001b[0m\n",
      "09:55 | WARNING | \u001b[1m\u001b[31m__init__       \u001b[0m\u001b[1m\u001b[0m | \u001b[33m\u001b[1m'e' and 'f' distributions take 1 param\u001b[0m\n",
      "09:55 | WARNING | \u001b[1m\u001b[31m__init__       \u001b[0m\u001b[1m\u001b[0m | \u001b[33m\u001b[1m'e' and 'f' distributions take 1 param\u001b[0m\n"
     ]
    }
   ],
   "source": [
    "#\"f\" is fixed fitness effect (no distribution), so takes a single argument\n",
    "mut1 = MutationType(0.5, \"f\", 0.1)\n",
    "\n",
    "#\"e\" is an exponential distribution that takes a single argument\n",
    "mut5 = MutationType(0.5, \"e\", 0.02)\n",
    "\n",
    "#\"g\", \"n\", and \"w\" take 2 arguments: \n",
    "mut2 = MutationType(0.1, \"g\", -0.03, 0.2)  #gamma\n",
    "mut3 = MutationType(0.5, \"n\", 0.05, 0.1)   #normal\n",
    "mut4 = MutationType(0.5, \"w\", -.01, 1.5)    #weibull"
   ]
  },
  {
   "cell_type": "markdown",
   "metadata": {},
   "source": [
    "You must assign each created mutation type to an object in order to save them to a `MutationList`, which is needed for your simulation. The object name you assign will be saved as a \"name\" ___ in the `MutationList` and you will be able to refer to each mutation by this name *or* the `shadie`-assigned `idx` when creating your genomic element types. \n",
    "\n",
    "The repr lists the mutation settings:"
   ]
  },
  {
   "cell_type": "code",
   "execution_count": 4,
   "metadata": {},
   "outputs": [
    {
     "data": {
      "text/plain": [
       "<MutationType: m8, 0.5,w, (5.5, 2.4)>"
      ]
     },
     "execution_count": 4,
     "metadata": {},
     "output_type": "execute_result"
    }
   ],
   "source": [
    "mut4"
   ]
  },
  {
   "cell_type": "markdown",
   "metadata": {},
   "source": [
    "Notice that your mutation type now has an `idx` (in the format m#). This is a unique id that `shadie` uses to keep track of mutations. It may not start at `m1`, as some default mutation types have already been defined by `shadie`. \n",
    "\n",
    "If you'd like more information about your mutation, you can use the `inspect()` function to visualize your mutation distribution and see the parameters listed explicitly:"
   ]
  },
  {
   "cell_type": "code",
   "execution_count": 29,
   "metadata": {},
   "outputs": [
    {
     "name": "stdout",
     "output_type": "stream",
     "text": [
      "\u001b[1mMutation Type\u001b[0m\n",
      "idx: m45\n",
      "dominance coefficient: 0.5\n",
      "distribution: e\n",
      "distribution parameters: (0.02,)\n",
      "Distribution plot:\n"
     ]
    },
    {
     "data": {
      "text/html": [
       "\n",
       "<div id=\"altair-viz-1919486d0ff0474c9f214cf7aac7361f\"></div>\n",
       "<script type=\"text/javascript\">\n",
       "  (function(spec, embedOpt){\n",
       "    let outputDiv = document.currentScript.previousElementSibling;\n",
       "    if (outputDiv.id !== \"altair-viz-1919486d0ff0474c9f214cf7aac7361f\") {\n",
       "      outputDiv = document.getElementById(\"altair-viz-1919486d0ff0474c9f214cf7aac7361f\");\n",
       "    }\n",
       "    const paths = {\n",
       "      \"vega\": \"https://cdn.jsdelivr.net/npm//vega@5?noext\",\n",
       "      \"vega-lib\": \"https://cdn.jsdelivr.net/npm//vega-lib?noext\",\n",
       "      \"vega-lite\": \"https://cdn.jsdelivr.net/npm//vega-lite@4.8.1?noext\",\n",
       "      \"vega-embed\": \"https://cdn.jsdelivr.net/npm//vega-embed@6?noext\",\n",
       "    };\n",
       "\n",
       "    function loadScript(lib) {\n",
       "      return new Promise(function(resolve, reject) {\n",
       "        var s = document.createElement('script');\n",
       "        s.src = paths[lib];\n",
       "        s.async = true;\n",
       "        s.onload = () => resolve(paths[lib]);\n",
       "        s.onerror = () => reject(`Error loading script: ${paths[lib]}`);\n",
       "        document.getElementsByTagName(\"head\")[0].appendChild(s);\n",
       "      });\n",
       "    }\n",
       "\n",
       "    function showError(err) {\n",
       "      outputDiv.innerHTML = `<div class=\"error\" style=\"color:red;\">${err}</div>`;\n",
       "      throw err;\n",
       "    }\n",
       "\n",
       "    function displayChart(vegaEmbed) {\n",
       "      vegaEmbed(outputDiv, spec, embedOpt)\n",
       "        .catch(err => showError(`Javascript Error: ${err.message}<br>This usually means there's a typo in your chart specification. See the javascript console for the full traceback.`));\n",
       "    }\n",
       "\n",
       "    if(typeof define === \"function\" && define.amd) {\n",
       "      requirejs.config({paths});\n",
       "      require([\"vega-embed\"], displayChart, err => showError(`Error loading script: ${err.message}`));\n",
       "    } else if (typeof vegaEmbed === \"function\") {\n",
       "      displayChart(vegaEmbed);\n",
       "    } else {\n",
       "      loadScript(\"vega\")\n",
       "        .then(() => loadScript(\"vega-lite\"))\n",
       "        .then(() => loadScript(\"vega-embed\"))\n",
       "        .catch(showError)\n",
       "        .then(() => displayChart(vegaEmbed));\n",
       "    }\n",
       "  })({\"config\": {\"view\": {\"continuousWidth\": 400, \"continuousHeight\": 300}}, \"layer\": [{\"mark\": {\"type\": \"bar\", \"color\": \"cornflowerblue\", \"opacity\": 0.4}, \"encoding\": {\"x\": {\"type\": \"quantitative\", \"axis\": {\"title\": \"Fitness Effect\"}, \"field\": \"values\"}, \"y\": {\"type\": \"quantitative\", \"field\": \"counts\"}}}, {\"mark\": {\"type\": \"rule\", \"color\": \"mediumvioletred\"}, \"encoding\": {\"size\": {\"value\": 3}, \"tooltip\": [{\"type\": \"quantitative\", \"field\": \"mean\"}], \"x\": {\"type\": \"quantitative\", \"field\": \"mean\"}}}], \"data\": {\"name\": \"data-53f1d0e479b03f862b121ef70c43fe75\"}, \"$schema\": \"https://vega.github.io/schema/vega-lite/v4.8.1.json\", \"datasets\": {\"data-53f1d0e479b03f862b121ef70c43fe75\": [{\"values\": 3.257975981254859e-06, \"counts\": 1583, \"mean\": 0.02}, {\"values\": 0.0036504181573789206, \"counts\": 1414, \"mean\": 0.02}, {\"values\": 0.007297578338776586, \"counts\": 1123, \"mean\": 0.02}, {\"values\": 0.010944738520174252, \"counts\": 990, \"mean\": 0.02}, {\"values\": 0.014591898701571918, \"counts\": 807, \"mean\": 0.02}, {\"values\": 0.018239058882969582, \"counts\": 676, \"mean\": 0.02}, {\"values\": 0.021886219064367246, \"counts\": 567, \"mean\": 0.02}, {\"values\": 0.025533379245764914, \"counts\": 482, \"mean\": 0.02}, {\"values\": 0.029180539427162578, \"counts\": 402, \"mean\": 0.02}, {\"values\": 0.032827699608560246, \"counts\": 340, \"mean\": 0.02}, {\"values\": 0.03647485978995791, \"counts\": 260, \"mean\": 0.02}, {\"values\": 0.040122019971355574, \"counts\": 223, \"mean\": 0.02}, {\"values\": 0.04376918015275324, \"counts\": 193, \"mean\": 0.02}, {\"values\": 0.0474163403341509, \"counts\": 153, \"mean\": 0.02}, {\"values\": 0.051063500515548574, \"counts\": 115, \"mean\": 0.02}, {\"values\": 0.05471066069694624, \"counts\": 117, \"mean\": 0.02}, {\"values\": 0.0583578208783439, \"counts\": 104, \"mean\": 0.02}, {\"values\": 0.06200498105974157, \"counts\": 71, \"mean\": 0.02}, {\"values\": 0.06565214124113924, \"counts\": 51, \"mean\": 0.02}, {\"values\": 0.0692993014225369, \"counts\": 62, \"mean\": 0.02}, {\"values\": 0.07294646160393457, \"counts\": 53, \"mean\": 0.02}, {\"values\": 0.07659362178533223, \"counts\": 40, \"mean\": 0.02}, {\"values\": 0.0802407819667299, \"counts\": 32, \"mean\": 0.02}, {\"values\": 0.08388794214812757, \"counts\": 23, \"mean\": 0.02}, {\"values\": 0.08753510232952523, \"counts\": 25, \"mean\": 0.02}, {\"values\": 0.0911822625109229, \"counts\": 22, \"mean\": 0.02}, {\"values\": 0.09482942269232056, \"counts\": 13, \"mean\": 0.02}, {\"values\": 0.09847658287371823, \"counts\": 12, \"mean\": 0.02}, {\"values\": 0.1021237430551159, \"counts\": 9, \"mean\": 0.02}, {\"values\": 0.10577090323651356, \"counts\": 7, \"mean\": 0.02}, {\"values\": 0.10941806341791123, \"counts\": 6, \"mean\": 0.02}, {\"values\": 0.11306522359930889, \"counts\": 4, \"mean\": 0.02}, {\"values\": 0.11671238378070656, \"counts\": 4, \"mean\": 0.02}, {\"values\": 0.12035954396210423, \"counts\": 2, \"mean\": 0.02}, {\"values\": 0.12400670414350189, \"counts\": 3, \"mean\": 0.02}, {\"values\": 0.12765386432489953, \"counts\": 0, \"mean\": 0.02}, {\"values\": 0.13130102450629721, \"counts\": 3, \"mean\": 0.02}, {\"values\": 0.13494818468769487, \"counts\": 1, \"mean\": 0.02}, {\"values\": 0.13859534486909253, \"counts\": 1, \"mean\": 0.02}, {\"values\": 0.14224250505049021, \"counts\": 2, \"mean\": 0.02}, {\"values\": 0.14588966523188787, \"counts\": 0, \"mean\": 0.02}, {\"values\": 0.14953682541328553, \"counts\": 1, \"mean\": 0.02}, {\"values\": 0.1531839855946832, \"counts\": 1, \"mean\": 0.02}, {\"values\": 0.15683114577608087, \"counts\": 1, \"mean\": 0.02}, {\"values\": 0.16047830595747853, \"counts\": 0, \"mean\": 0.02}, {\"values\": 0.16412546613887619, \"counts\": 0, \"mean\": 0.02}, {\"values\": 0.16777262632027387, \"counts\": 0, \"mean\": 0.02}, {\"values\": 0.17141978650167153, \"counts\": 0, \"mean\": 0.02}, {\"values\": 0.17506694668306919, \"counts\": 0, \"mean\": 0.02}, {\"values\": 0.17871410686446687, \"counts\": 0, \"mean\": 0.02}, {\"values\": 0.18236126704586453, \"counts\": 1, \"mean\": 0.02}, {\"values\": 0.18600842722726219, \"counts\": 0, \"mean\": 0.02}, {\"values\": 0.18965558740865984, \"counts\": 0, \"mean\": 0.02}, {\"values\": 0.19330274759005753, \"counts\": 0, \"mean\": 0.02}, {\"values\": 0.19694990777145518, \"counts\": 1, \"mean\": 0.02}]}}, {\"mode\": \"vega-lite\"});\n",
       "</script>"
      ]
     },
     "metadata": {},
     "output_type": "display_data"
    },
    {
     "name": "stdout",
     "output_type": "stream",
     "text": [
      "mean: 0.02\n",
      "standard deviation: 0.0004\n",
      "\n",
      "\n",
      "\n"
     ]
    }
   ],
   "source": [
    "mut5.inspect()"
   ]
  },
  {
   "cell_type": "markdown",
   "metadata": {},
   "source": [
    "## Save your custom mutations to a list\n",
    "Create a `MutationList` class object that contains all the mutations you would like to use in your simulation. You will need to call this list when you initiate the script. If you are using custom mutations in adding to defaults, you will have to include those defaults in your new list."
   ]
  },
  {
   "cell_type": "code",
   "execution_count": 6,
   "metadata": {},
   "outputs": [],
   "source": [
    "from shadie import MutationList"
   ]
  },
  {
   "cell_type": "code",
   "execution_count": 7,
   "metadata": {},
   "outputs": [
    {
     "data": {
      "text/plain": [
       "<MutationList: ['m5', 'm6', 'm7', 'm8']>"
      ]
     },
     "execution_count": 7,
     "metadata": {},
     "output_type": "execute_result"
    }
   ],
   "source": [
    "#list containing custom mutations\n",
    "mylist = MutationList(mut1,  mut2, mut3, mut4)\n",
    "mylist"
   ]
  },
  {
   "cell_type": "code",
   "execution_count": 33,
   "metadata": {},
   "outputs": [
    {
     "data": {
      "text/plain": [
       "<MutationList: ['m44', 'm46', 'm47', 'm48', 'm45', 'm4', 'm1', 'm3']>"
      ]
     },
     "execution_count": 33,
     "metadata": {},
     "output_type": "execute_result"
    }
   ],
   "source": [
    "from shadie import globals\n",
    "mymixedlist = MutationList(mut1,  mut2, mut3, mut4, mut5, globals.BEN, globals.NEUT, globals.DEL)\n",
    "mymixedlist"
   ]
  },
  {
   "cell_type": "markdown",
   "metadata": {},
   "source": [
    "**Note:** all neutral mutations in `shadie` are overlaid *after* the SLiM simulation has run. For this reason, you should not create any custom neutral mutations.\n",
    "\n",
    "However, all genomic elements need at least one mutation type - so your non-coding regions will need a neutral mutation type. It is highly recommended you use the `shadie` default NONCOD, which sets the mutation rate to 0. Otherwise if you create your own, make sure you set the mutation rate to 0 (see how to do this below)."
   ]
  },
  {
   "cell_type": "markdown",
   "metadata": {},
   "source": [
    "## Genomic Element Types\n",
    "Each genomic element type describes a region of chromosome. It is helpful to think of these regions as \"non=coding\", \"exon\", \"intron\", etc. \n",
    "Each type requires 2 lists of equal length:\n",
    "1. A list of mutations that can occur in that kind of region (e.g. only neutral mutations can occur in non-coding regions)\n",
    "2. A list of relative frequencies \n",
    "\n",
    "`shadie` defaults:\n",
    "```python\n",
    "EXON = ElementType([SYN, DEL, BEN], (2,8,0.1))  #exon\n",
    "INTRON = ElementType([SYN,DEL], (9,1))          #intron\n",
    "NONCOD = ElementType(NEUT, 1)              \t #non-coding\n",
    "```"
   ]
  },
  {
   "cell_type": "code",
   "execution_count": 35,
   "metadata": {},
   "outputs": [],
   "source": [
    "from shadie import ElementType"
   ]
  },
  {
   "cell_type": "code",
   "execution_count": 50,
   "metadata": {},
   "outputs": [
    {
     "data": {
      "text/plain": [
       "(<ElementType: 'None', g14, ['m44', 'm46', 'm45'], [0.1, 9, 1], mmJukesCantor(1e-06/3),\n",
       " <ElementType: 'None', g15, ['m47', 'm48'], [1, 9], mmJukesCantor(1e-06/3))"
      ]
     },
     "execution_count": 50,
     "metadata": {},
     "output_type": "execute_result"
    }
   ],
   "source": [
    "#ElementType accepts two lists or tuples - or any\n",
    "ex1 = ElementType([mut1, mut2, mut5], (.1, 9, 1))\n",
    "ex2 = ElementType([mut3, mut4], [1, 9])\n",
    "ex1, ex2"
   ]
  },
  {
   "cell_type": "markdown",
   "metadata": {},
   "source": [
    "You can also access `shadie` `ElementType` globals. It is highly recommended you use the `NONCOD` default for your non-coding regions. "
   ]
  },
  {
   "cell_type": "code",
   "execution_count": 39,
   "metadata": {},
   "outputs": [
    {
     "data": {
      "text/plain": [
       "<ElementType: 'None', g3, ['m1'], [1], mmJukesCantor(0/3)"
      ]
     },
     "execution_count": 39,
     "metadata": {},
     "output_type": "execute_result"
    }
   ],
   "source": [
    "ncdef = globals.NONCOD\n",
    "ncdef"
   ]
  },
  {
   "cell_type": "markdown",
   "metadata": {},
   "source": [
    "However, if you want to create your own, make sure to provide a mutation rate argument = 0:"
   ]
  },
  {
   "cell_type": "code",
   "execution_count": 42,
   "metadata": {},
   "outputs": [
    {
     "data": {
      "text/plain": [
       "<ElementType: 'None', g8, ['m1'], [1], mmJukesCantor(0/3)"
      ]
     },
     "execution_count": 42,
     "metadata": {},
     "output_type": "execute_result"
    }
   ],
   "source": [
    "nc1 = ElementType(globals.NEUT, 1, mutationrate = 0)\n",
    "nc1"
   ]
  },
  {
   "cell_type": "markdown",
   "metadata": {},
   "source": [
    "Same goes for introns - if you want them to be neutral, set the mutation rate to 0. However, you may way a slightly deleterious mutation to occur in introns. If this is the case, there is no need to add a neutral mutation to your intron because it will be overlaid after the simulation"
   ]
  },
  {
   "cell_type": "code",
   "execution_count": 45,
   "metadata": {},
   "outputs": [
    {
     "data": {
      "text/plain": [
       "(<ElementType: 'None', g12, ['m1'], [1], mmJukesCantor(0/3),\n",
       " <ElementType: 'None', g13, ['m48'], [1], mmJukesCantor(1e-06/3))"
      ]
     },
     "execution_count": 45,
     "metadata": {},
     "output_type": "execute_result"
    }
   ],
   "source": [
    "in1 = ElementType(globals.NEUT, 1, mutationrate = 0) #neutral intron\n",
    "in2 = ElementType([mut4], [1]) #intron in which deleterious mutations can occur. \n",
    "                               #Neutral mutations will also occur here\n",
    "in1, in2"
   ]
  },
  {
   "cell_type": "markdown",
   "metadata": {},
   "source": [
    "Once you have created all the genomic elements you want in your chromosome, add them all to a `ElementList`. The first argument of your `ElementList` is the `MutationList` you made above. This saves both lists so `shadie` can use them to write the SLiM script. `shadie` will also double-check that all the mutations in your `ElementList` are on your `MutationList`"
   ]
  },
  {
   "cell_type": "code",
   "execution_count": 46,
   "metadata": {},
   "outputs": [],
   "source": [
    "from shadie import ElementList"
   ]
  },
  {
   "cell_type": "code",
   "execution_count": 49,
   "metadata": {},
   "outputs": [
    {
     "data": {
      "text/plain": [
       "<ElementList: ['g5', 'g6', 'g12', 'g13', 'g8']>"
      ]
     },
     "execution_count": 49,
     "metadata": {},
     "output_type": "execute_result"
    }
   ],
   "source": [
    "myellist = ElementList(mymixedlist, ex1, ex2, in1, in2, nc1)\n",
    "myellist"
   ]
  },
  {
   "cell_type": "markdown",
   "metadata": {},
   "source": [
    "You can double-check that everything looks good using the `inspect()` function:"
   ]
  },
  {
   "cell_type": "code",
   "execution_count": 53,
   "metadata": {
    "scrolled": false
   },
   "outputs": [
    {
     "name": "stdout",
     "output_type": "stream",
     "text": [
      "\u001b[1mGenomic Element List\u001b[0m\n",
      "Element types: (<ElementType: 'None', g5, ['m44', 'm46', 'm45'], [0.1, 9, 1], mmJukesCantor(1e-06/3), <ElementType: 'None', g6, ['m47', 'm48'], [1, 9], mmJukesCantor(1e-06/3), <ElementType: 'None', g12, ['m1'], [1], mmJukesCantor(0/3), <ElementType: 'None', g13, ['m48'], [1], mmJukesCantor(1e-06/3), <ElementType: 'None', g8, ['m1'], [1], mmJukesCantor(0/3))\n",
      "Mutation types: <MutationList: ['m44', 'm46', 'm47', 'm48', 'm45', 'm4', 'm1', 'm3']>\n",
      "\n",
      "\u001b[1mGenomic Element Type\u001b[0m\n",
      "name: g5\n",
      "alternate name: None\n",
      "mutations: ['m44', 'm46', 'm45']\n",
      "frequencies: [0.1, 9, 1]\n",
      "\n",
      "\u001b[1mMutation Type\u001b[0m\n",
      "idx: m44\n",
      "dominance coefficient: 0.5\n",
      "distribution: f\n",
      "distribution parameters: (0.1,)\n",
      "Distribution plot:\n",
      "\u001b[1mNONE: fixed fitness effect = 0.1\n",
      "\u001b[0m\n",
      "\u001b[1mMutation Type\u001b[0m\n",
      "idx: m46\n",
      "dominance coefficient: 0.1\n",
      "distribution: g\n",
      "distribution parameters: (-0.03, 0.2)\n",
      "Distribution plot:\n"
     ]
    },
    {
     "data": {
      "text/html": [
       "\n",
       "<div id=\"altair-viz-4858260262a8498cb56f7c33548ede9a\"></div>\n",
       "<script type=\"text/javascript\">\n",
       "  (function(spec, embedOpt){\n",
       "    let outputDiv = document.currentScript.previousElementSibling;\n",
       "    if (outputDiv.id !== \"altair-viz-4858260262a8498cb56f7c33548ede9a\") {\n",
       "      outputDiv = document.getElementById(\"altair-viz-4858260262a8498cb56f7c33548ede9a\");\n",
       "    }\n",
       "    const paths = {\n",
       "      \"vega\": \"https://cdn.jsdelivr.net/npm//vega@5?noext\",\n",
       "      \"vega-lib\": \"https://cdn.jsdelivr.net/npm//vega-lib?noext\",\n",
       "      \"vega-lite\": \"https://cdn.jsdelivr.net/npm//vega-lite@4.8.1?noext\",\n",
       "      \"vega-embed\": \"https://cdn.jsdelivr.net/npm//vega-embed@6?noext\",\n",
       "    };\n",
       "\n",
       "    function loadScript(lib) {\n",
       "      return new Promise(function(resolve, reject) {\n",
       "        var s = document.createElement('script');\n",
       "        s.src = paths[lib];\n",
       "        s.async = true;\n",
       "        s.onload = () => resolve(paths[lib]);\n",
       "        s.onerror = () => reject(`Error loading script: ${paths[lib]}`);\n",
       "        document.getElementsByTagName(\"head\")[0].appendChild(s);\n",
       "      });\n",
       "    }\n",
       "\n",
       "    function showError(err) {\n",
       "      outputDiv.innerHTML = `<div class=\"error\" style=\"color:red;\">${err}</div>`;\n",
       "      throw err;\n",
       "    }\n",
       "\n",
       "    function displayChart(vegaEmbed) {\n",
       "      vegaEmbed(outputDiv, spec, embedOpt)\n",
       "        .catch(err => showError(`Javascript Error: ${err.message}<br>This usually means there's a typo in your chart specification. See the javascript console for the full traceback.`));\n",
       "    }\n",
       "\n",
       "    if(typeof define === \"function\" && define.amd) {\n",
       "      requirejs.config({paths});\n",
       "      require([\"vega-embed\"], displayChart, err => showError(`Error loading script: ${err.message}`));\n",
       "    } else if (typeof vegaEmbed === \"function\") {\n",
       "      displayChart(vegaEmbed);\n",
       "    } else {\n",
       "      loadScript(\"vega\")\n",
       "        .then(() => loadScript(\"vega-lite\"))\n",
       "        .then(() => loadScript(\"vega-embed\"))\n",
       "        .catch(showError)\n",
       "        .then(() => displayChart(vegaEmbed));\n",
       "    }\n",
       "  })({\"config\": {\"view\": {\"continuousWidth\": 400, \"continuousHeight\": 300}}, \"layer\": [{\"mark\": {\"type\": \"bar\", \"color\": \"cornflowerblue\", \"opacity\": 0.4}, \"encoding\": {\"x\": {\"type\": \"quantitative\", \"axis\": {\"title\": \"Fitness Effect\"}, \"field\": \"values\"}, \"y\": {\"type\": \"quantitative\", \"field\": \"counts\"}}}, {\"mark\": {\"type\": \"rule\", \"color\": \"mediumvioletred\"}, \"encoding\": {\"size\": {\"value\": 3}, \"tooltip\": [{\"type\": \"quantitative\", \"field\": \"mean\"}], \"x\": {\"type\": \"quantitative\", \"field\": \"mean\"}}}], \"data\": {\"name\": \"data-5ef7dd1f8546a4e953662af8575ebc87\"}, \"$schema\": \"https://vega.github.io/schema/vega-lite/v4.8.1.json\", \"datasets\": {\"data-5ef7dd1f8546a4e953662af8575ebc87\": [{\"values\": -0.9108921057812892, \"counts\": 1, \"mean\": -0.03}, {\"values\": -0.8943304311307203, \"counts\": 2, \"mean\": -0.03}, {\"values\": -0.8777687564801514, \"counts\": 0, \"mean\": -0.03}, {\"values\": -0.8612070818295825, \"counts\": 0, \"mean\": -0.03}, {\"values\": -0.8446454071790136, \"counts\": 0, \"mean\": -0.03}, {\"values\": -0.8280837325284447, \"counts\": 0, \"mean\": -0.03}, {\"values\": -0.8115220578778758, \"counts\": 0, \"mean\": -0.03}, {\"values\": -0.7949603832273069, \"counts\": 1, \"mean\": -0.03}, {\"values\": -0.7783987085767381, \"counts\": 0, \"mean\": -0.03}, {\"values\": -0.7618370339261691, \"counts\": 0, \"mean\": -0.03}, {\"values\": -0.7452753592756003, \"counts\": 0, \"mean\": -0.03}, {\"values\": -0.7287136846250314, \"counts\": 0, \"mean\": -0.03}, {\"values\": -0.7121520099744625, \"counts\": 0, \"mean\": -0.03}, {\"values\": -0.6955903353238936, \"counts\": 0, \"mean\": -0.03}, {\"values\": -0.6790286606733247, \"counts\": 2, \"mean\": -0.03}, {\"values\": -0.6624669860227558, \"counts\": 1, \"mean\": -0.03}, {\"values\": -0.6459053113721869, \"counts\": 2, \"mean\": -0.03}, {\"values\": -0.629343636721618, \"counts\": 1, \"mean\": -0.03}, {\"values\": -0.6127819620710491, \"counts\": 2, \"mean\": -0.03}, {\"values\": -0.5962202874204802, \"counts\": 4, \"mean\": -0.03}, {\"values\": -0.5796586127699113, \"counts\": 2, \"mean\": -0.03}, {\"values\": -0.5630969381193425, \"counts\": 3, \"mean\": -0.03}, {\"values\": -0.5465352634687735, \"counts\": 3, \"mean\": -0.03}, {\"values\": -0.5299735888182047, \"counts\": 2, \"mean\": -0.03}, {\"values\": -0.5134119141676357, \"counts\": 2, \"mean\": -0.03}, {\"values\": -0.4968502395170668, \"counts\": 3, \"mean\": -0.03}, {\"values\": -0.4802885648664979, \"counts\": 7, \"mean\": -0.03}, {\"values\": -0.463726890215929, \"counts\": 9, \"mean\": -0.03}, {\"values\": -0.44716521556536015, \"counts\": 6, \"mean\": -0.03}, {\"values\": -0.43060354091479125, \"counts\": 6, \"mean\": -0.03}, {\"values\": -0.41404186626422235, \"counts\": 7, \"mean\": -0.03}, {\"values\": -0.39748019161365344, \"counts\": 12, \"mean\": -0.03}, {\"values\": -0.38091851696308454, \"counts\": 12, \"mean\": -0.03}, {\"values\": -0.36435684231251564, \"counts\": 12, \"mean\": -0.03}, {\"values\": -0.34779516766194674, \"counts\": 14, \"mean\": -0.03}, {\"values\": -0.33123349301137783, \"counts\": 20, \"mean\": -0.03}, {\"values\": -0.31467181836080893, \"counts\": 13, \"mean\": -0.03}, {\"values\": -0.29811014371024, \"counts\": 16, \"mean\": -0.03}, {\"values\": -0.2815484690596711, \"counts\": 23, \"mean\": -0.03}, {\"values\": -0.2649867944091022, \"counts\": 27, \"mean\": -0.03}, {\"values\": -0.24842511975853332, \"counts\": 40, \"mean\": -0.03}, {\"values\": -0.23186344510796453, \"counts\": 59, \"mean\": -0.03}, {\"values\": -0.21530177045739562, \"counts\": 49, \"mean\": -0.03}, {\"values\": -0.19874009580682672, \"counts\": 40, \"mean\": -0.03}, {\"values\": -0.18217842115625782, \"counts\": 59, \"mean\": -0.03}, {\"values\": -0.16561674650568892, \"counts\": 83, \"mean\": -0.03}, {\"values\": -0.14905507185512, \"counts\": 84, \"mean\": -0.03}, {\"values\": -0.1324933972045511, \"counts\": 136, \"mean\": -0.03}, {\"values\": -0.11593172255398221, \"counts\": 149, \"mean\": -0.03}, {\"values\": -0.0993700479034133, \"counts\": 185, \"mean\": -0.03}, {\"values\": -0.0828083732528444, \"counts\": 251, \"mean\": -0.03}, {\"values\": -0.0662466986022755, \"counts\": 347, \"mean\": -0.03}, {\"values\": -0.0496850239517066, \"counts\": 558, \"mean\": -0.03}, {\"values\": -0.033123349301137694, \"counts\": 830, \"mean\": -0.03}, {\"values\": -0.01656167465056879, \"counts\": 6915, \"mean\": -0.03}]}}, {\"mode\": \"vega-lite\"});\n",
       "</script>"
      ]
     },
     "metadata": {},
     "output_type": "display_data"
    },
    {
     "name": "stdout",
     "output_type": "stream",
     "text": [
      "mean: -0.03\n",
      "standard deviation: 0.0670820393249937\n",
      "\n",
      "\n",
      "\n",
      "\u001b[1mMutation Type\u001b[0m\n",
      "idx: m45\n",
      "dominance coefficient: 0.5\n",
      "distribution: e\n",
      "distribution parameters: (0.02,)\n",
      "Distribution plot:\n"
     ]
    },
    {
     "data": {
      "text/html": [
       "\n",
       "<div id=\"altair-viz-abfc8837c50249e38bcb3bac13ecf3a5\"></div>\n",
       "<script type=\"text/javascript\">\n",
       "  (function(spec, embedOpt){\n",
       "    let outputDiv = document.currentScript.previousElementSibling;\n",
       "    if (outputDiv.id !== \"altair-viz-abfc8837c50249e38bcb3bac13ecf3a5\") {\n",
       "      outputDiv = document.getElementById(\"altair-viz-abfc8837c50249e38bcb3bac13ecf3a5\");\n",
       "    }\n",
       "    const paths = {\n",
       "      \"vega\": \"https://cdn.jsdelivr.net/npm//vega@5?noext\",\n",
       "      \"vega-lib\": \"https://cdn.jsdelivr.net/npm//vega-lib?noext\",\n",
       "      \"vega-lite\": \"https://cdn.jsdelivr.net/npm//vega-lite@4.8.1?noext\",\n",
       "      \"vega-embed\": \"https://cdn.jsdelivr.net/npm//vega-embed@6?noext\",\n",
       "    };\n",
       "\n",
       "    function loadScript(lib) {\n",
       "      return new Promise(function(resolve, reject) {\n",
       "        var s = document.createElement('script');\n",
       "        s.src = paths[lib];\n",
       "        s.async = true;\n",
       "        s.onload = () => resolve(paths[lib]);\n",
       "        s.onerror = () => reject(`Error loading script: ${paths[lib]}`);\n",
       "        document.getElementsByTagName(\"head\")[0].appendChild(s);\n",
       "      });\n",
       "    }\n",
       "\n",
       "    function showError(err) {\n",
       "      outputDiv.innerHTML = `<div class=\"error\" style=\"color:red;\">${err}</div>`;\n",
       "      throw err;\n",
       "    }\n",
       "\n",
       "    function displayChart(vegaEmbed) {\n",
       "      vegaEmbed(outputDiv, spec, embedOpt)\n",
       "        .catch(err => showError(`Javascript Error: ${err.message}<br>This usually means there's a typo in your chart specification. See the javascript console for the full traceback.`));\n",
       "    }\n",
       "\n",
       "    if(typeof define === \"function\" && define.amd) {\n",
       "      requirejs.config({paths});\n",
       "      require([\"vega-embed\"], displayChart, err => showError(`Error loading script: ${err.message}`));\n",
       "    } else if (typeof vegaEmbed === \"function\") {\n",
       "      displayChart(vegaEmbed);\n",
       "    } else {\n",
       "      loadScript(\"vega\")\n",
       "        .then(() => loadScript(\"vega-lite\"))\n",
       "        .then(() => loadScript(\"vega-embed\"))\n",
       "        .catch(showError)\n",
       "        .then(() => displayChart(vegaEmbed));\n",
       "    }\n",
       "  })({\"config\": {\"view\": {\"continuousWidth\": 400, \"continuousHeight\": 300}}, \"layer\": [{\"mark\": {\"type\": \"bar\", \"color\": \"cornflowerblue\", \"opacity\": 0.4}, \"encoding\": {\"x\": {\"type\": \"quantitative\", \"axis\": {\"title\": \"Fitness Effect\"}, \"field\": \"values\"}, \"y\": {\"type\": \"quantitative\", \"field\": \"counts\"}}}, {\"mark\": {\"type\": \"rule\", \"color\": \"mediumvioletred\"}, \"encoding\": {\"size\": {\"value\": 3}, \"tooltip\": [{\"type\": \"quantitative\", \"field\": \"mean\"}], \"x\": {\"type\": \"quantitative\", \"field\": \"mean\"}}}], \"data\": {\"name\": \"data-51886fdd8856ab7e263b671f8b8b6824\"}, \"$schema\": \"https://vega.github.io/schema/vega-lite/v4.8.1.json\", \"datasets\": {\"data-51886fdd8856ab7e263b671f8b8b6824\": [{\"values\": 1.2445260138209623e-06, \"counts\": 1289, \"mean\": 0.02}, {\"values\": 0.002851855539828388, \"counts\": 1166, \"mean\": 0.02}, {\"values\": 0.005702466553642955, \"counts\": 987, \"mean\": 0.02}, {\"values\": 0.008553077567457521, \"counts\": 877, \"mean\": 0.02}, {\"values\": 0.011403688581272088, \"counts\": 748, \"mean\": 0.02}, {\"values\": 0.014254299595086655, \"counts\": 690, \"mean\": 0.02}, {\"values\": 0.017104910608901222, \"counts\": 535, \"mean\": 0.02}, {\"values\": 0.01995552162271579, \"counts\": 496, \"mean\": 0.02}, {\"values\": 0.022806132636530356, \"counts\": 400, \"mean\": 0.02}, {\"values\": 0.025656743650344923, \"counts\": 378, \"mean\": 0.02}, {\"values\": 0.02850735466415949, \"counts\": 314, \"mean\": 0.02}, {\"values\": 0.03135796567797406, \"counts\": 288, \"mean\": 0.02}, {\"values\": 0.034208576691788624, \"counts\": 243, \"mean\": 0.02}, {\"values\": 0.03705918770560319, \"counts\": 204, \"mean\": 0.02}, {\"values\": 0.03990979871941776, \"counts\": 187, \"mean\": 0.02}, {\"values\": 0.04276040973323233, \"counts\": 160, \"mean\": 0.02}, {\"values\": 0.04561102074704689, \"counts\": 130, \"mean\": 0.02}, {\"values\": 0.048461631760861455, \"counts\": 124, \"mean\": 0.02}, {\"values\": 0.051312242774676026, \"counts\": 111, \"mean\": 0.02}, {\"values\": 0.054162853788490596, \"counts\": 105, \"mean\": 0.02}, {\"values\": 0.05701346480230516, \"counts\": 69, \"mean\": 0.02}, {\"values\": 0.05986407581611972, \"counts\": 64, \"mean\": 0.02}, {\"values\": 0.06271468682993431, \"counts\": 55, \"mean\": 0.02}, {\"values\": 0.06556529784374887, \"counts\": 39, \"mean\": 0.02}, {\"values\": 0.06841590885756343, \"counts\": 45, \"mean\": 0.02}, {\"values\": 0.071266519871378, \"counts\": 43, \"mean\": 0.02}, {\"values\": 0.07411713088519256, \"counts\": 23, \"mean\": 0.02}, {\"values\": 0.07696774189900714, \"counts\": 38, \"mean\": 0.02}, {\"values\": 0.0798183529128217, \"counts\": 18, \"mean\": 0.02}, {\"values\": 0.08266896392663627, \"counts\": 20, \"mean\": 0.02}, {\"values\": 0.08551957494045084, \"counts\": 20, \"mean\": 0.02}, {\"values\": 0.0883701859542654, \"counts\": 15, \"mean\": 0.02}, {\"values\": 0.09122079696807997, \"counts\": 17, \"mean\": 0.02}, {\"values\": 0.09407140798189453, \"counts\": 11, \"mean\": 0.02}, {\"values\": 0.0969220189957091, \"counts\": 11, \"mean\": 0.02}, {\"values\": 0.09977263000952367, \"counts\": 8, \"mean\": 0.02}, {\"values\": 0.10262324102333824, \"counts\": 17, \"mean\": 0.02}, {\"values\": 0.1054738520371528, \"counts\": 10, \"mean\": 0.02}, {\"values\": 0.10832446305096738, \"counts\": 9, \"mean\": 0.02}, {\"values\": 0.11117507406478194, \"counts\": 3, \"mean\": 0.02}, {\"values\": 0.1140256850785965, \"counts\": 5, \"mean\": 0.02}, {\"values\": 0.11687629609241107, \"counts\": 1, \"mean\": 0.02}, {\"values\": 0.11972690710622563, \"counts\": 7, \"mean\": 0.02}, {\"values\": 0.12257751812004021, \"counts\": 1, \"mean\": 0.02}, {\"values\": 0.1254281291338548, \"counts\": 2, \"mean\": 0.02}, {\"values\": 0.12827874014766935, \"counts\": 4, \"mean\": 0.02}, {\"values\": 0.13112935116148391, \"counts\": 2, \"mean\": 0.02}, {\"values\": 0.13397996217529848, \"counts\": 1, \"mean\": 0.02}, {\"values\": 0.13683057318911304, \"counts\": 1, \"mean\": 0.02}, {\"values\": 0.1396811842029276, \"counts\": 0, \"mean\": 0.02}, {\"values\": 0.14253179521674217, \"counts\": 2, \"mean\": 0.02}, {\"values\": 0.14538240623055673, \"counts\": 3, \"mean\": 0.02}, {\"values\": 0.1482330172443713, \"counts\": 0, \"mean\": 0.02}, {\"values\": 0.1510836282581859, \"counts\": 3, \"mean\": 0.02}, {\"values\": 0.15393423927200045, \"counts\": 1, \"mean\": 0.02}]}}, {\"mode\": \"vega-lite\"});\n",
       "</script>"
      ]
     },
     "metadata": {},
     "output_type": "display_data"
    },
    {
     "name": "stdout",
     "output_type": "stream",
     "text": [
      "mean: 0.02\n",
      "standard deviation: 0.0004\n",
      "\n",
      "\n",
      "\n",
      "\u001b[1mGenomic Element Type\u001b[0m\n",
      "name: g6\n",
      "alternate name: None\n",
      "mutations: ['m47', 'm48']\n",
      "frequencies: [1, 9]\n",
      "\n",
      "\u001b[1mMutation Type\u001b[0m\n",
      "idx: m47\n",
      "dominance coefficient: 0.5\n",
      "distribution: n\n",
      "distribution parameters: (0.05, 0.1)\n",
      "Distribution plot:\n"
     ]
    },
    {
     "data": {
      "text/html": [
       "\n",
       "<div id=\"altair-viz-9f9b8a14e0924d77af7e82b56fcf66de\"></div>\n",
       "<script type=\"text/javascript\">\n",
       "  (function(spec, embedOpt){\n",
       "    let outputDiv = document.currentScript.previousElementSibling;\n",
       "    if (outputDiv.id !== \"altair-viz-9f9b8a14e0924d77af7e82b56fcf66de\") {\n",
       "      outputDiv = document.getElementById(\"altair-viz-9f9b8a14e0924d77af7e82b56fcf66de\");\n",
       "    }\n",
       "    const paths = {\n",
       "      \"vega\": \"https://cdn.jsdelivr.net/npm//vega@5?noext\",\n",
       "      \"vega-lib\": \"https://cdn.jsdelivr.net/npm//vega-lib?noext\",\n",
       "      \"vega-lite\": \"https://cdn.jsdelivr.net/npm//vega-lite@4.8.1?noext\",\n",
       "      \"vega-embed\": \"https://cdn.jsdelivr.net/npm//vega-embed@6?noext\",\n",
       "    };\n",
       "\n",
       "    function loadScript(lib) {\n",
       "      return new Promise(function(resolve, reject) {\n",
       "        var s = document.createElement('script');\n",
       "        s.src = paths[lib];\n",
       "        s.async = true;\n",
       "        s.onload = () => resolve(paths[lib]);\n",
       "        s.onerror = () => reject(`Error loading script: ${paths[lib]}`);\n",
       "        document.getElementsByTagName(\"head\")[0].appendChild(s);\n",
       "      });\n",
       "    }\n",
       "\n",
       "    function showError(err) {\n",
       "      outputDiv.innerHTML = `<div class=\"error\" style=\"color:red;\">${err}</div>`;\n",
       "      throw err;\n",
       "    }\n",
       "\n",
       "    function displayChart(vegaEmbed) {\n",
       "      vegaEmbed(outputDiv, spec, embedOpt)\n",
       "        .catch(err => showError(`Javascript Error: ${err.message}<br>This usually means there's a typo in your chart specification. See the javascript console for the full traceback.`));\n",
       "    }\n",
       "\n",
       "    if(typeof define === \"function\" && define.amd) {\n",
       "      requirejs.config({paths});\n",
       "      require([\"vega-embed\"], displayChart, err => showError(`Error loading script: ${err.message}`));\n",
       "    } else if (typeof vegaEmbed === \"function\") {\n",
       "      displayChart(vegaEmbed);\n",
       "    } else {\n",
       "      loadScript(\"vega\")\n",
       "        .then(() => loadScript(\"vega-lite\"))\n",
       "        .then(() => loadScript(\"vega-embed\"))\n",
       "        .catch(showError)\n",
       "        .then(() => displayChart(vegaEmbed));\n",
       "    }\n",
       "  })({\"config\": {\"view\": {\"continuousWidth\": 400, \"continuousHeight\": 300}}, \"layer\": [{\"mark\": {\"type\": \"bar\", \"color\": \"cornflowerblue\", \"opacity\": 0.4}, \"encoding\": {\"x\": {\"type\": \"quantitative\", \"axis\": {\"title\": \"Fitness Effect\"}, \"field\": \"values\"}, \"y\": {\"type\": \"quantitative\", \"field\": \"counts\"}}}, {\"mark\": {\"type\": \"rule\", \"color\": \"mediumvioletred\"}, \"encoding\": {\"size\": {\"value\": 3}, \"tooltip\": [{\"type\": \"quantitative\", \"field\": \"mean\"}], \"x\": {\"type\": \"quantitative\", \"field\": \"mean\"}}}], \"data\": {\"name\": \"data-1eacd140ce2fa802facb6746f7ef0f70\"}, \"$schema\": \"https://vega.github.io/schema/vega-lite/v4.8.1.json\", \"datasets\": {\"data-1eacd140ce2fa802facb6746f7ef0f70\": [{\"values\": -0.3352016688088364, \"counts\": 1, \"mean\": 0.05}, {\"values\": -0.3220234370568355, \"counts\": 0, \"mean\": 0.05}, {\"values\": -0.3088452053048346, \"counts\": 2, \"mean\": 0.05}, {\"values\": -0.2956669735528337, \"counts\": 0, \"mean\": 0.05}, {\"values\": -0.28248874180083283, \"counts\": 6, \"mean\": 0.05}, {\"values\": -0.26931051004883194, \"counts\": 2, \"mean\": 0.05}, {\"values\": -0.25613227829683105, \"counts\": 4, \"mean\": 0.05}, {\"values\": -0.2429540465448302, \"counts\": 8, \"mean\": 0.05}, {\"values\": -0.2297758147928293, \"counts\": 12, \"mean\": 0.05}, {\"values\": -0.2165975830408284, \"counts\": 21, \"mean\": 0.05}, {\"values\": -0.20341935128882752, \"counts\": 19, \"mean\": 0.05}, {\"values\": -0.19024111953682663, \"counts\": 32, \"mean\": 0.05}, {\"values\": -0.17706288778482576, \"counts\": 47, \"mean\": 0.05}, {\"values\": -0.16388465603282487, \"counts\": 90, \"mean\": 0.05}, {\"values\": -0.15070642428082398, \"counts\": 75, \"mean\": 0.05}, {\"values\": -0.1375281925288231, \"counts\": 91, \"mean\": 0.05}, {\"values\": -0.1243499607768222, \"counts\": 117, \"mean\": 0.05}, {\"values\": -0.11117172902482131, \"counts\": 176, \"mean\": 0.05}, {\"values\": -0.09799349727282042, \"counts\": 192, \"mean\": 0.05}, {\"values\": -0.08481526552081953, \"counts\": 212, \"mean\": 0.05}, {\"values\": -0.07163703376881864, \"counts\": 261, \"mean\": 0.05}, {\"values\": -0.058458802016817746, \"counts\": 319, \"mean\": 0.05}, {\"values\": -0.045280570264816855, \"counts\": 372, \"mean\": 0.05}, {\"values\": -0.032102338512815964, \"counts\": 437, \"mean\": 0.05}, {\"values\": -0.01892410676081513, \"counts\": 407, \"mean\": 0.05}, {\"values\": -0.0057458750088142385, \"counts\": 464, \"mean\": 0.05}, {\"values\": 0.007432356743186652, \"counts\": 473, \"mean\": 0.05}, {\"values\": 0.020610588495187543, \"counts\": 508, \"mean\": 0.05}, {\"values\": 0.033788820247188434, \"counts\": 552, \"mean\": 0.05}, {\"values\": 0.046967051999189324, \"counts\": 532, \"mean\": 0.05}, {\"values\": 0.060145283751190215, \"counts\": 517, \"mean\": 0.05}, {\"values\": 0.0733235155031911, \"counts\": 519, \"mean\": 0.05}, {\"values\": 0.086501747255192, \"counts\": 507, \"mean\": 0.05}, {\"values\": 0.09967997900719289, \"counts\": 438, \"mean\": 0.05}, {\"values\": 0.11285821075919378, \"counts\": 404, \"mean\": 0.05}, {\"values\": 0.12603644251119467, \"counts\": 368, \"mean\": 0.05}, {\"values\": 0.13921467426319556, \"counts\": 311, \"mean\": 0.05}, {\"values\": 0.15239290601519645, \"counts\": 304, \"mean\": 0.05}, {\"values\": 0.16557113776719734, \"counts\": 241, \"mean\": 0.05}, {\"values\": 0.17874936951919818, \"counts\": 206, \"mean\": 0.05}, {\"values\": 0.19192760127119912, \"counts\": 170, \"mean\": 0.05}, {\"values\": 0.20510583302319996, \"counts\": 133, \"mean\": 0.05}, {\"values\": 0.2182840647752009, \"counts\": 118, \"mean\": 0.05}, {\"values\": 0.23146229652720174, \"counts\": 92, \"mean\": 0.05}, {\"values\": 0.24464052827920268, \"counts\": 61, \"mean\": 0.05}, {\"values\": 0.2578187600312035, \"counts\": 56, \"mean\": 0.05}, {\"values\": 0.27099699178320447, \"counts\": 25, \"mean\": 0.05}, {\"values\": 0.2841752235352053, \"counts\": 32, \"mean\": 0.05}, {\"values\": 0.29735345528720614, \"counts\": 22, \"mean\": 0.05}, {\"values\": 0.3105316870392071, \"counts\": 14, \"mean\": 0.05}, {\"values\": 0.3237099187912079, \"counts\": 12, \"mean\": 0.05}, {\"values\": 0.33688815054320886, \"counts\": 5, \"mean\": 0.05}, {\"values\": 0.3500663822952097, \"counts\": 6, \"mean\": 0.05}, {\"values\": 0.36324461404721065, \"counts\": 2, \"mean\": 0.05}, {\"values\": 0.3764228457992115, \"counts\": 5, \"mean\": 0.05}]}}, {\"mode\": \"vega-lite\"});\n",
       "</script>"
      ]
     },
     "metadata": {},
     "output_type": "display_data"
    },
    {
     "name": "stdout",
     "output_type": "stream",
     "text": [
      "mean: 0.05\n",
      "standard deviation: 0.1\n",
      "\n",
      "\n",
      "\n",
      "\u001b[1mMutation Type\u001b[0m\n",
      "idx: m48\n",
      "dominance coefficient: 0.5\n",
      "distribution: w\n",
      "distribution parameters: (-0.01, 1.5)\n",
      "Distribution plot:\n"
     ]
    },
    {
     "data": {
      "text/html": [
       "\n",
       "<div id=\"altair-viz-95da0bc6636442e5814a6d5c6765acb8\"></div>\n",
       "<script type=\"text/javascript\">\n",
       "  (function(spec, embedOpt){\n",
       "    let outputDiv = document.currentScript.previousElementSibling;\n",
       "    if (outputDiv.id !== \"altair-viz-95da0bc6636442e5814a6d5c6765acb8\") {\n",
       "      outputDiv = document.getElementById(\"altair-viz-95da0bc6636442e5814a6d5c6765acb8\");\n",
       "    }\n",
       "    const paths = {\n",
       "      \"vega\": \"https://cdn.jsdelivr.net/npm//vega@5?noext\",\n",
       "      \"vega-lib\": \"https://cdn.jsdelivr.net/npm//vega-lib?noext\",\n",
       "      \"vega-lite\": \"https://cdn.jsdelivr.net/npm//vega-lite@4.8.1?noext\",\n",
       "      \"vega-embed\": \"https://cdn.jsdelivr.net/npm//vega-embed@6?noext\",\n",
       "    };\n",
       "\n",
       "    function loadScript(lib) {\n",
       "      return new Promise(function(resolve, reject) {\n",
       "        var s = document.createElement('script');\n",
       "        s.src = paths[lib];\n",
       "        s.async = true;\n",
       "        s.onload = () => resolve(paths[lib]);\n",
       "        s.onerror = () => reject(`Error loading script: ${paths[lib]}`);\n",
       "        document.getElementsByTagName(\"head\")[0].appendChild(s);\n",
       "      });\n",
       "    }\n",
       "\n",
       "    function showError(err) {\n",
       "      outputDiv.innerHTML = `<div class=\"error\" style=\"color:red;\">${err}</div>`;\n",
       "      throw err;\n",
       "    }\n",
       "\n",
       "    function displayChart(vegaEmbed) {\n",
       "      vegaEmbed(outputDiv, spec, embedOpt)\n",
       "        .catch(err => showError(`Javascript Error: ${err.message}<br>This usually means there's a typo in your chart specification. See the javascript console for the full traceback.`));\n",
       "    }\n",
       "\n",
       "    if(typeof define === \"function\" && define.amd) {\n",
       "      requirejs.config({paths});\n",
       "      require([\"vega-embed\"], displayChart, err => showError(`Error loading script: ${err.message}`));\n",
       "    } else if (typeof vegaEmbed === \"function\") {\n",
       "      displayChart(vegaEmbed);\n",
       "    } else {\n",
       "      loadScript(\"vega\")\n",
       "        .then(() => loadScript(\"vega-lite\"))\n",
       "        .then(() => loadScript(\"vega-embed\"))\n",
       "        .catch(showError)\n",
       "        .then(() => displayChart(vegaEmbed));\n",
       "    }\n",
       "  })({\"config\": {\"view\": {\"continuousWidth\": 400, \"continuousHeight\": 300}}, \"layer\": [{\"mark\": {\"type\": \"bar\", \"color\": \"cornflowerblue\", \"opacity\": 0.4}, \"encoding\": {\"x\": {\"type\": \"quantitative\", \"axis\": {\"title\": \"Fitness Effect\"}, \"field\": \"values\"}, \"y\": {\"type\": \"quantitative\", \"field\": \"counts\"}}}, {\"mark\": {\"type\": \"rule\", \"color\": \"mediumvioletred\"}, \"encoding\": {\"size\": {\"value\": 3}, \"tooltip\": [{\"type\": \"quantitative\", \"field\": \"mean\"}], \"x\": {\"type\": \"quantitative\", \"field\": \"mean\"}}}], \"data\": {\"name\": \"data-3d714a888caaed201aecdfbea93fca10\"}, \"$schema\": \"https://vega.github.io/schema/vega-lite/v4.8.1.json\", \"datasets\": {\"data-3d714a888caaed201aecdfbea93fca10\": [{\"values\": -0.046404134055798116, \"counts\": 1, \"mean\": -0.004807498567691361}, {\"values\": -0.04556057337799834, \"counts\": 0, \"mean\": -0.004807498567691361}, {\"values\": -0.044717012700198566, \"counts\": 0, \"mean\": -0.004807498567691361}, {\"values\": -0.0438734520223988, \"counts\": 0, \"mean\": -0.004807498567691361}, {\"values\": -0.043029891344599024, \"counts\": 0, \"mean\": -0.004807498567691361}, {\"values\": -0.04218633066679925, \"counts\": 0, \"mean\": -0.004807498567691361}, {\"values\": -0.041342769988999474, \"counts\": 0, \"mean\": -0.004807498567691361}, {\"values\": -0.040499209311199706, \"counts\": 1, \"mean\": -0.004807498567691361}, {\"values\": -0.03965564863339993, \"counts\": 0, \"mean\": -0.004807498567691361}, {\"values\": -0.03881208795560016, \"counts\": 0, \"mean\": -0.004807498567691361}, {\"values\": -0.03796852727780038, \"counts\": 3, \"mean\": -0.004807498567691361}, {\"values\": -0.037124966600000614, \"counts\": 3, \"mean\": -0.004807498567691361}, {\"values\": -0.03628140592220084, \"counts\": 1, \"mean\": -0.004807498567691361}, {\"values\": -0.035437845244401064, \"counts\": 4, \"mean\": -0.004807498567691361}, {\"values\": -0.03459428456660129, \"counts\": 7, \"mean\": -0.004807498567691361}, {\"values\": -0.033750723888801515, \"counts\": 7, \"mean\": -0.004807498567691361}, {\"values\": -0.03290716321100175, \"counts\": 4, \"mean\": -0.004807498567691361}, {\"values\": -0.03206360253320197, \"counts\": 8, \"mean\": -0.004807498567691361}, {\"values\": -0.031220041855402197, \"counts\": 13, \"mean\": -0.004807498567691361}, {\"values\": -0.030376481177602426, \"counts\": 9, \"mean\": -0.004807498567691361}, {\"values\": -0.02953292049980265, \"counts\": 18, \"mean\": -0.004807498567691361}, {\"values\": -0.02868935982200288, \"counts\": 19, \"mean\": -0.004807498567691361}, {\"values\": -0.027845799144203105, \"counts\": 28, \"mean\": -0.004807498567691361}, {\"values\": -0.027002238466403334, \"counts\": 28, \"mean\": -0.004807498567691361}, {\"values\": -0.02615867778860356, \"counts\": 42, \"mean\": -0.004807498567691361}, {\"values\": -0.025315117110803788, \"counts\": 47, \"mean\": -0.004807498567691361}, {\"values\": -0.024471556433004013, \"counts\": 38, \"mean\": -0.004807498567691361}, {\"values\": -0.023627995755204242, \"counts\": 64, \"mean\": -0.004807498567691361}, {\"values\": -0.022784435077404467, \"counts\": 58, \"mean\": -0.004807498567691361}, {\"values\": -0.021940874399604696, \"counts\": 62, \"mean\": -0.004807498567691361}, {\"values\": -0.02109731372180492, \"counts\": 99, \"mean\": -0.004807498567691361}, {\"values\": -0.02025375304400515, \"counts\": 111, \"mean\": -0.004807498567691361}, {\"values\": -0.019410192366205375, \"counts\": 125, \"mean\": -0.004807498567691361}, {\"values\": -0.0185666316884056, \"counts\": 161, \"mean\": -0.004807498567691361}, {\"values\": -0.01772307101060583, \"counts\": 188, \"mean\": -0.004807498567691361}, {\"values\": -0.016879510332806054, \"counts\": 196, \"mean\": -0.004807498567691361}, {\"values\": -0.016035949655006283, \"counts\": 213, \"mean\": -0.004807498567691361}, {\"values\": -0.015192388977206508, \"counts\": 242, \"mean\": -0.004807498567691361}, {\"values\": -0.014348828299406736, \"counts\": 263, \"mean\": -0.004807498567691361}, {\"values\": -0.013505267621606962, \"counts\": 290, \"mean\": -0.004807498567691361}, {\"values\": -0.012661706943807187, \"counts\": 315, \"mean\": -0.004807498567691361}, {\"values\": -0.011818146266007419, \"counts\": 377, \"mean\": -0.004807498567691361}, {\"values\": -0.010974585588207644, \"counts\": 445, \"mean\": -0.004807498567691361}, {\"values\": -0.01013102491040787, \"counts\": 488, \"mean\": -0.004807498567691361}, {\"values\": -0.009287464232608095, \"counts\": 494, \"mean\": -0.004807498567691361}, {\"values\": -0.008443903554808327, \"counts\": 520, \"mean\": -0.004807498567691361}, {\"values\": -0.007600342877008552, \"counts\": 602, \"mean\": -0.004807498567691361}, {\"values\": -0.006756782199208777, \"counts\": 621, \"mean\": -0.004807498567691361}, {\"values\": -0.0059132215214090025, \"counts\": 643, \"mean\": -0.004807498567691361}, {\"values\": -0.005069660843609228, \"counts\": 641, \"mean\": -0.004807498567691361}, {\"values\": -0.00422610016580946, \"counts\": 669, \"mean\": -0.004807498567691361}, {\"values\": -0.003382539488009685, \"counts\": 629, \"mean\": -0.004807498567691361}, {\"values\": -0.0025389788102099103, \"counts\": 545, \"mean\": -0.004807498567691361}, {\"values\": -0.0016954181324101356, \"counts\": 418, \"mean\": -0.004807498567691361}, {\"values\": -0.0008518574546103677, \"counts\": 240, \"mean\": -0.004807498567691361}]}}, {\"mode\": \"vega-lite\"});\n",
       "</script>"
      ]
     },
     "metadata": {},
     "output_type": "display_data"
    },
    {
     "name": "stdout",
     "output_type": "stream",
     "text": [
      "mean: -0.004807498567691361\n",
      "standard deviation: Nan\n",
      "\n",
      "\n",
      "\n",
      "\u001b[1mGenomic Element Type\u001b[0m\n",
      "name: g12\n",
      "alternate name: None\n",
      "mutations: ['m1']\n",
      "frequencies: [1]\n",
      "\n",
      "\u001b[1mMutation Type\u001b[0m\n",
      "idx: m1\n",
      "dominance coefficient: 0.5\n",
      "distribution: f\n",
      "distribution parameters: (0.0,)\n",
      "Distribution plot:\n",
      "\u001b[1mNONE: fixed fitness effect = 0.0\n",
      "\u001b[0m\n",
      "\u001b[1mGenomic Element Type\u001b[0m\n",
      "name: g13\n",
      "alternate name: None\n",
      "mutations: ['m48']\n",
      "frequencies: [1]\n",
      "\n",
      "\u001b[1mMutation Type\u001b[0m\n",
      "idx: m48\n",
      "dominance coefficient: 0.5\n",
      "distribution: w\n",
      "distribution parameters: (-0.01, 1.5)\n",
      "Distribution plot:\n"
     ]
    },
    {
     "data": {
      "text/html": [
       "\n",
       "<div id=\"altair-viz-8d124000467b4399ae9222b5f507bd7f\"></div>\n",
       "<script type=\"text/javascript\">\n",
       "  (function(spec, embedOpt){\n",
       "    let outputDiv = document.currentScript.previousElementSibling;\n",
       "    if (outputDiv.id !== \"altair-viz-8d124000467b4399ae9222b5f507bd7f\") {\n",
       "      outputDiv = document.getElementById(\"altair-viz-8d124000467b4399ae9222b5f507bd7f\");\n",
       "    }\n",
       "    const paths = {\n",
       "      \"vega\": \"https://cdn.jsdelivr.net/npm//vega@5?noext\",\n",
       "      \"vega-lib\": \"https://cdn.jsdelivr.net/npm//vega-lib?noext\",\n",
       "      \"vega-lite\": \"https://cdn.jsdelivr.net/npm//vega-lite@4.8.1?noext\",\n",
       "      \"vega-embed\": \"https://cdn.jsdelivr.net/npm//vega-embed@6?noext\",\n",
       "    };\n",
       "\n",
       "    function loadScript(lib) {\n",
       "      return new Promise(function(resolve, reject) {\n",
       "        var s = document.createElement('script');\n",
       "        s.src = paths[lib];\n",
       "        s.async = true;\n",
       "        s.onload = () => resolve(paths[lib]);\n",
       "        s.onerror = () => reject(`Error loading script: ${paths[lib]}`);\n",
       "        document.getElementsByTagName(\"head\")[0].appendChild(s);\n",
       "      });\n",
       "    }\n",
       "\n",
       "    function showError(err) {\n",
       "      outputDiv.innerHTML = `<div class=\"error\" style=\"color:red;\">${err}</div>`;\n",
       "      throw err;\n",
       "    }\n",
       "\n",
       "    function displayChart(vegaEmbed) {\n",
       "      vegaEmbed(outputDiv, spec, embedOpt)\n",
       "        .catch(err => showError(`Javascript Error: ${err.message}<br>This usually means there's a typo in your chart specification. See the javascript console for the full traceback.`));\n",
       "    }\n",
       "\n",
       "    if(typeof define === \"function\" && define.amd) {\n",
       "      requirejs.config({paths});\n",
       "      require([\"vega-embed\"], displayChart, err => showError(`Error loading script: ${err.message}`));\n",
       "    } else if (typeof vegaEmbed === \"function\") {\n",
       "      displayChart(vegaEmbed);\n",
       "    } else {\n",
       "      loadScript(\"vega\")\n",
       "        .then(() => loadScript(\"vega-lite\"))\n",
       "        .then(() => loadScript(\"vega-embed\"))\n",
       "        .catch(showError)\n",
       "        .then(() => displayChart(vegaEmbed));\n",
       "    }\n",
       "  })({\"config\": {\"view\": {\"continuousWidth\": 400, \"continuousHeight\": 300}}, \"layer\": [{\"mark\": {\"type\": \"bar\", \"color\": \"cornflowerblue\", \"opacity\": 0.4}, \"encoding\": {\"x\": {\"type\": \"quantitative\", \"axis\": {\"title\": \"Fitness Effect\"}, \"field\": \"values\"}, \"y\": {\"type\": \"quantitative\", \"field\": \"counts\"}}}, {\"mark\": {\"type\": \"rule\", \"color\": \"mediumvioletred\"}, \"encoding\": {\"size\": {\"value\": 3}, \"tooltip\": [{\"type\": \"quantitative\", \"field\": \"mean\"}], \"x\": {\"type\": \"quantitative\", \"field\": \"mean\"}}}], \"data\": {\"name\": \"data-1e9524b441d9b4c869d90789b405dda5\"}, \"$schema\": \"https://vega.github.io/schema/vega-lite/v4.8.1.json\", \"datasets\": {\"data-1e9524b441d9b4c869d90789b405dda5\": [{\"values\": -0.04293203016319486, \"counts\": 2, \"mean\": -0.004807498567691361}, {\"values\": -0.04215164104843095, \"counts\": 0, \"mean\": -0.004807498567691361}, {\"values\": -0.041371251933667044, \"counts\": 1, \"mean\": -0.004807498567691361}, {\"values\": -0.04059086281890313, \"counts\": 0, \"mean\": -0.004807498567691361}, {\"values\": -0.03981047370413922, \"counts\": 3, \"mean\": -0.004807498567691361}, {\"values\": -0.03903008458937531, \"counts\": 0, \"mean\": -0.004807498567691361}, {\"values\": -0.0382496954746114, \"counts\": 2, \"mean\": -0.004807498567691361}, {\"values\": -0.03746930635984749, \"counts\": 3, \"mean\": -0.004807498567691361}, {\"values\": -0.03668891724508358, \"counts\": 4, \"mean\": -0.004807498567691361}, {\"values\": -0.03590852813031967, \"counts\": 1, \"mean\": -0.004807498567691361}, {\"values\": -0.03512813901555576, \"counts\": 4, \"mean\": -0.004807498567691361}, {\"values\": -0.03434774990079185, \"counts\": 2, \"mean\": -0.004807498567691361}, {\"values\": -0.033567360786027935, \"counts\": 2, \"mean\": -0.004807498567691361}, {\"values\": -0.03278697167126403, \"counts\": 2, \"mean\": -0.004807498567691361}, {\"values\": -0.032006582556500116, \"counts\": 11, \"mean\": -0.004807498567691361}, {\"values\": -0.031226193441736206, \"counts\": 11, \"mean\": -0.004807498567691361}, {\"values\": -0.030445804326972296, \"counts\": 14, \"mean\": -0.004807498567691361}, {\"values\": -0.029665415212208383, \"counts\": 17, \"mean\": -0.004807498567691361}, {\"values\": -0.028885026097444474, \"counts\": 17, \"mean\": -0.004807498567691361}, {\"values\": -0.028104636982680564, \"counts\": 23, \"mean\": -0.004807498567691361}, {\"values\": -0.02732424786791665, \"counts\": 24, \"mean\": -0.004807498567691361}, {\"values\": -0.02654385875315274, \"counts\": 17, \"mean\": -0.004807498567691361}, {\"values\": -0.025763469638388832, \"counts\": 23, \"mean\": -0.004807498567691361}, {\"values\": -0.024983080523624922, \"counts\": 33, \"mean\": -0.004807498567691361}, {\"values\": -0.02420269140886101, \"counts\": 40, \"mean\": -0.004807498567691361}, {\"values\": -0.0234223022940971, \"counts\": 51, \"mean\": -0.004807498567691361}, {\"values\": -0.02264191317933319, \"counts\": 60, \"mean\": -0.004807498567691361}, {\"values\": -0.021861524064569277, \"counts\": 77, \"mean\": -0.004807498567691361}, {\"values\": -0.021081134949805368, \"counts\": 84, \"mean\": -0.004807498567691361}, {\"values\": -0.020300745835041458, \"counts\": 100, \"mean\": -0.004807498567691361}, {\"values\": -0.01952035672027755, \"counts\": 116, \"mean\": -0.004807498567691361}, {\"values\": -0.018739967605513635, \"counts\": 144, \"mean\": -0.004807498567691361}, {\"values\": -0.017959578490749726, \"counts\": 154, \"mean\": -0.004807498567691361}, {\"values\": -0.017179189375985816, \"counts\": 181, \"mean\": -0.004807498567691361}, {\"values\": -0.016398800261221903, \"counts\": 169, \"mean\": -0.004807498567691361}, {\"values\": -0.015618411146457994, \"counts\": 214, \"mean\": -0.004807498567691361}, {\"values\": -0.014838022031694084, \"counts\": 248, \"mean\": -0.004807498567691361}, {\"values\": -0.014057632916930175, \"counts\": 282, \"mean\": -0.004807498567691361}, {\"values\": -0.013277243802166262, \"counts\": 324, \"mean\": -0.004807498567691361}, {\"values\": -0.012496854687402352, \"counts\": 329, \"mean\": -0.004807498567691361}, {\"values\": -0.011716465572638442, \"counts\": 363, \"mean\": -0.004807498567691361}, {\"values\": -0.010936076457874533, \"counts\": 408, \"mean\": -0.004807498567691361}, {\"values\": -0.01015568734311062, \"counts\": 440, \"mean\": -0.004807498567691361}, {\"values\": -0.009375298228346707, \"counts\": 499, \"mean\": -0.004807498567691361}, {\"values\": -0.0085949091135828, \"counts\": 473, \"mean\": -0.004807498567691361}, {\"values\": -0.007814519998818888, \"counts\": 545, \"mean\": -0.004807498567691361}, {\"values\": -0.0070341308840549815, \"counts\": 582, \"mean\": -0.004807498567691361}, {\"values\": -0.0062537417692910685, \"counts\": 593, \"mean\": -0.004807498567691361}, {\"values\": -0.0054733526545271555, \"counts\": 616, \"mean\": -0.004807498567691361}, {\"values\": -0.004692963539763249, \"counts\": 562, \"mean\": -0.004807498567691361}, {\"values\": -0.003912574424999336, \"counts\": 539, \"mean\": -0.004807498567691361}, {\"values\": -0.0031321853102354233, \"counts\": 537, \"mean\": -0.004807498567691361}, {\"values\": -0.002351796195471517, \"counts\": 443, \"mean\": -0.004807498567691361}, {\"values\": -0.0015714070807076042, \"counts\": 406, \"mean\": -0.004807498567691361}, {\"values\": -0.0007910179659436911, \"counts\": 205, \"mean\": -0.004807498567691361}]}}, {\"mode\": \"vega-lite\"});\n",
       "</script>"
      ]
     },
     "metadata": {},
     "output_type": "display_data"
    },
    {
     "name": "stdout",
     "output_type": "stream",
     "text": [
      "mean: -0.004807498567691361\n",
      "standard deviation: Nan\n",
      "\n",
      "\n",
      "\n",
      "\u001b[1mGenomic Element Type\u001b[0m\n",
      "name: g8\n",
      "alternate name: None\n",
      "mutations: ['m1']\n",
      "frequencies: [1]\n",
      "\n",
      "\u001b[1mMutation Type\u001b[0m\n",
      "idx: m1\n",
      "dominance coefficient: 0.5\n",
      "distribution: f\n",
      "distribution parameters: (0.0,)\n",
      "Distribution plot:\n",
      "\u001b[1mNONE: fixed fitness effect = 0.0\n",
      "\u001b[0m\n"
     ]
    }
   ],
   "source": [
    "myellist.inspect()"
   ]
  },
  {
   "cell_type": "code",
   "execution_count": null,
   "metadata": {},
   "outputs": [],
   "source": []
  }
 ],
 "metadata": {
  "kernelspec": {
   "display_name": "Python 3",
   "language": "python",
   "name": "python3"
  },
  "language_info": {
   "codemirror_mode": {
    "name": "ipython",
    "version": 3
   },
   "file_extension": ".py",
   "mimetype": "text/x-python",
   "name": "python",
   "nbconvert_exporter": "python",
   "pygments_lexer": "ipython3",
   "version": "3.8.6"
  }
 },
 "nbformat": 4,
 "nbformat_minor": 4
}
